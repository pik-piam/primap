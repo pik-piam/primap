{
 "cells": [
  {
   "cell_type": "code",
   "execution_count": 1,
   "metadata": {
    "execution": {
     "iopub.execute_input": "2020-09-25T14:47:34.715311Z",
     "iopub.status.busy": "2020-09-25T14:47:34.714452Z",
     "iopub.status.idle": "2020-09-25T14:47:36.315395Z",
     "shell.execute_reply": "2020-09-25T14:47:36.314988Z",
     "shell.execute_reply.started": "2020-09-25T14:47:34.715228Z"
    }
   },
   "outputs": [
    {
     "data": {
      "application/javascript": [
       "IPython.OutputArea.prototype._should_scroll = function(lines) { return false; }"
      ],
      "text/plain": [
       "<IPython.core.display.Javascript object>"
      ]
     },
     "metadata": {},
     "output_type": "display_data"
    },
    {
     "name": "stderr",
     "output_type": "stream",
     "text": [
      "pyam - INFO: Running in a notebook, setting `pyam` logging level to `logging.INFO` and adding stderr handler\n"
     ]
    }
   ],
   "source": [
    "import pandas as pd\n",
    "import numpy as np\n",
    "import tqdm\n",
    "import scmdata\n",
    "import itertools"
   ]
  },
  {
   "cell_type": "code",
   "execution_count": 2,
   "metadata": {
    "execution": {
     "iopub.execute_input": "2020-09-25T14:47:36.316371Z",
     "iopub.status.busy": "2020-09-25T14:47:36.316167Z",
     "iopub.status.idle": "2020-09-25T14:47:37.426914Z",
     "shell.execute_reply": "2020-09-25T14:47:37.424514Z",
     "shell.execute_reply.started": "2020-09-25T14:47:36.316355Z"
    }
   },
   "outputs": [
    {
     "name": "stdout",
     "output_type": "stream",
     "text": [
      "--2020-09-25 16:47:36--  ftp://data.iac.ethz.ch/CMIP6/input4MIPs/UoM/GHGConc/CMIP/mon/atmos/UoM-CMIP-1-1-0/GHGConc/gr3-GMNHSH/v20160701/mole_fraction_of_carbon_dioxide_in_air_input4MIPs_GHGConcentrations_CMIP_UoM-CMIP-1-1-0_gr3-GMNHSH_000001-201412.csv\n",
      "           => ‘mole_fraction_of_carbon_dioxide_in_air_input4MIPs_GHGConcentrations_CMIP_UoM-CMIP-1-1-0_gr3-GMNHSH_000001-201412.csv.1’\n",
      "Resolving data.iac.ethz.ch (data.iac.ethz.ch)... 129.132.165.61\n",
      "Connecting to data.iac.ethz.ch (data.iac.ethz.ch)|129.132.165.61|:21... connected.\n",
      "Logging in as anonymous ... Logged in!\n",
      "==> SYST ... done.    ==> PWD ... done.\n",
      "==> TYPE I ... done.  ==> CWD (1) /CMIP6/input4MIPs/UoM/GHGConc/CMIP/mon/atmos/UoM-CMIP-1-1-0/GHGConc/gr3-GMNHSH/v20160701 ... done.\n",
      "==> SIZE mole_fraction_of_carbon_dioxide_in_air_input4MIPs_GHGConcentrations_CMIP_UoM-CMIP-1-1-0_gr3-GMNHSH_000001-201412.csv ... 2157163\n",
      "==> PASV ... done.    ==> RETR mole_fraction_of_carbon_dioxide_in_air_input4MIPs_GHGConcentrations_CMIP_UoM-CMIP-1-1-0_gr3-GMNHSH_000001-201412.csv ... done.\n",
      "Length: 2157163 (2,1M) (unauthoritative)\n",
      "\n",
      "mole_fraction_of_ca 100%[===================>]   2,06M  4,81MB/s    in 0,4s    \n",
      "\n",
      "2020-09-25 16:47:37 (4,81 MB/s) - ‘mole_fraction_of_carbon_dioxide_in_air_input4MIPs_GHGConcentrations_CMIP_UoM-CMIP-1-1-0_gr3-GMNHSH_000001-201412.csv.1’ saved [2157163]\n",
      "\n"
     ]
    }
   ],
   "source": [
    "!wget ftp://data.iac.ethz.ch/CMIP6/input4MIPs/UoM/GHGConc/CMIP/mon/atmos/UoM-CMIP-1-1-0/GHGConc/gr3-GMNHSH/v20160701/mole_fraction_of_carbon_dioxide_in_air_input4MIPs_GHGConcentrations_CMIP_UoM-CMIP-1-1-0_gr3-GMNHSH_000001-201412.csv"
   ]
  },
  {
   "cell_type": "code",
   "execution_count": 3,
   "metadata": {
    "execution": {
     "iopub.execute_input": "2020-09-25T14:47:38.486823Z",
     "iopub.status.busy": "2020-09-25T14:47:38.485926Z",
     "iopub.status.idle": "2020-09-25T14:47:38.625348Z",
     "shell.execute_reply": "2020-09-25T14:47:38.624714Z",
     "shell.execute_reply.started": "2020-09-25T14:47:38.486735Z"
    }
   },
   "outputs": [],
   "source": [
    "# read into pandas\n",
    "dtypes = {\n",
    "    'data_mean_global': np.float,\n",
    "    'data_mean_nh': np.float,\n",
    "    'data_mean_sh': np.float,\n",
    "}\n",
    "cmip_conc_co2 = pd.read_csv(\n",
    "    'mole_fraction_of_carbon_dioxide_in_air_input4MIPs_GHGConcentrations_CMIP_UoM-CMIP-1-1-0_gr3-GMNHSH_000001-201412.csv',\n",
    "    usecols=dtypes.keys(),\n",
    ")\n",
    "# cannot use datetime here, because the range of possible values of datetime reaches back only into the 17th century\n",
    "cmip_conc_co2.index = pd.period_range(start=pd.Period(year=0, month=1, freq='M'), end=pd.Period(year=2014, month=12, freq='M'), name='Date')\n",
    "\n",
    "cmip_conc_co2 = cmip_conc_co2.stack()\n",
    "\n",
    "cmip_conc_co2.index = (cmip_conc_co2.index\n",
    "                       .set_levels(cmip_conc_co2.index.levels[1].str[len('data_mean_'):].astype(pd.CategoricalDtype(ordered=True)), level=1)\n",
    "                       .set_names('Area', level=1)\n",
    "                      )\n",
    "\n",
    "cmip_conc_co2 = cmip_conc_co2.reorder_levels(['Area', 'Date', ])\n",
    "cmip_conc_co2.sort_index(inplace=True)\n",
    "\n",
    "cmip_conc_co2.name = 'CO2 concentration'\n",
    "\n",
    "cmip_conc_co2 = cmip_conc_co2.astype('pint[dimensionless]')\n",
    "cmip_conc_co2 *= 1e-6\n",
    "\n"
   ]
  },
  {
   "cell_type": "code",
   "execution_count": 4,
   "metadata": {
    "execution": {
     "iopub.execute_input": "2020-09-25T14:47:39.376029Z",
     "iopub.status.busy": "2020-09-25T14:47:39.375192Z",
     "iopub.status.idle": "2020-09-25T14:47:40.197783Z",
     "shell.execute_reply": "2020-09-25T14:47:40.197377Z",
     "shell.execute_reply.started": "2020-09-25T14:47:39.375953Z"
    }
   },
   "outputs": [],
   "source": [
    "# read into CustomScmRun\n",
    "cmip_conc_co2.index.set_levels(\n",
    "    [f'{year:04}-{month:02}-01' for year, month in itertools.product([-1] + list(range(1, 2015)), range(1, 13))],\n",
    "    level='Date',\n",
    "    inplace=True)\n",
    "\n",
    "class CustomScmRun(scmdata.run.BaseScmRun):\n",
    "    required_cols = ['unit']\n",
    "\n",
    "def scmrun_from_pandas(df):\n",
    "    columns = list(df.index.names)\n",
    "    columns.remove('Date')\n",
    "    columns.append('Date')\n",
    "    dfs = df.pint.magnitude.reorder_levels(columns).sort_index().unstack()\n",
    "    \n",
    "    scm_cols = {x: dfs.index.get_level_values(x) for x in dfs.index.names}\n",
    "    scm_cols['unit'] = [str(df.pint.units)]\n",
    "    \n",
    "    return CustomScmRun(dfs.values.T,\n",
    "                          columns=scm_cols,\n",
    "                          index=dfs.columns)\n",
    "\n",
    "cmip_conc_co2_scm = scmrun_from_pandas(cmip_conc_co2)"
   ]
  },
  {
   "cell_type": "code",
   "execution_count": 5,
   "metadata": {
    "execution": {
     "iopub.execute_input": "2020-09-25T14:47:40.654077Z",
     "iopub.status.busy": "2020-09-25T14:47:40.652734Z",
     "iopub.status.idle": "2020-09-25T14:47:40.815731Z",
     "shell.execute_reply": "2020-09-25T14:47:40.813847Z",
     "shell.execute_reply.started": "2020-09-25T14:47:40.653947Z"
    }
   },
   "outputs": [
    {
     "ename": "ValueError",
     "evalue": "Ambiguous time values with time_axis = 'None'",
     "output_type": "error",
     "traceback": [
      "\u001b[0;31m---------------------------------------------------------------------------\u001b[0m",
      "\u001b[0;31mValueError\u001b[0m                                Traceback (most recent call last)",
      "\u001b[0;32m<ipython-input-5-4f80b88d7444>\u001b[0m in \u001b[0;36m<module>\u001b[0;34m\u001b[0m\n\u001b[1;32m      1\u001b[0m \u001b[0;31m# try to write back as CSV\u001b[0m\u001b[0;34m\u001b[0m\u001b[0;34m\u001b[0m\u001b[0;34m\u001b[0m\u001b[0m\n\u001b[0;32m----> 2\u001b[0;31m \u001b[0mcmip_conc_co2_scm\u001b[0m\u001b[0;34m.\u001b[0m\u001b[0mto_csv\u001b[0m\u001b[0;34m(\u001b[0m\u001b[0;34m'test.csv'\u001b[0m\u001b[0;34m)\u001b[0m\u001b[0;34m\u001b[0m\u001b[0;34m\u001b[0m\u001b[0m\n\u001b[0m",
      "\u001b[0;32m~/.local/conda/envs/scmdata/lib/python3.8/site-packages/scmdata/run.py\u001b[0m in \u001b[0;36mto_csv\u001b[0;34m(self, fname, **kwargs)\u001b[0m\n\u001b[1;32m   1851\u001b[0m             \u001b[0mPath\u001b[0m \u001b[0mto\u001b[0m \u001b[0mwrite\u001b[0m \u001b[0mthe\u001b[0m \u001b[0mfile\u001b[0m \u001b[0minto\u001b[0m\u001b[0;34m\u001b[0m\u001b[0;34m\u001b[0m\u001b[0m\n\u001b[1;32m   1852\u001b[0m         \"\"\"\n\u001b[0;32m-> 1853\u001b[0;31m         \u001b[0mself\u001b[0m\u001b[0;34m.\u001b[0m\u001b[0mtimeseries\u001b[0m\u001b[0;34m(\u001b[0m\u001b[0;34m)\u001b[0m\u001b[0;34m.\u001b[0m\u001b[0mreset_index\u001b[0m\u001b[0;34m(\u001b[0m\u001b[0;34m)\u001b[0m\u001b[0;34m.\u001b[0m\u001b[0mto_csv\u001b[0m\u001b[0;34m(\u001b[0m\u001b[0mfname\u001b[0m\u001b[0;34m,\u001b[0m \u001b[0;34m**\u001b[0m\u001b[0mkwargs\u001b[0m\u001b[0;34m)\u001b[0m\u001b[0;34m\u001b[0m\u001b[0;34m\u001b[0m\u001b[0m\n\u001b[0m\u001b[1;32m   1854\u001b[0m \u001b[0;34m\u001b[0m\u001b[0m\n\u001b[1;32m   1855\u001b[0m     \u001b[0;32mdef\u001b[0m \u001b[0mreduce\u001b[0m\u001b[0;34m(\u001b[0m\u001b[0mself\u001b[0m\u001b[0;34m,\u001b[0m \u001b[0mfunc\u001b[0m\u001b[0;34m,\u001b[0m \u001b[0mdim\u001b[0m\u001b[0;34m=\u001b[0m\u001b[0;32mNone\u001b[0m\u001b[0;34m,\u001b[0m \u001b[0maxis\u001b[0m\u001b[0;34m=\u001b[0m\u001b[0;32mNone\u001b[0m\u001b[0;34m,\u001b[0m \u001b[0;34m**\u001b[0m\u001b[0mkwargs\u001b[0m\u001b[0;34m)\u001b[0m\u001b[0;34m:\u001b[0m\u001b[0;34m\u001b[0m\u001b[0;34m\u001b[0m\u001b[0m\n",
      "\u001b[0;32m~/.local/conda/envs/scmdata/lib/python3.8/site-packages/scmdata/run.py\u001b[0m in \u001b[0;36mtimeseries\u001b[0;34m(self, meta, check_duplicated, time_axis, drop_all_nan_times)\u001b[0m\n\u001b[1;32m    839\u001b[0m \u001b[0;34m\u001b[0m\u001b[0m\n\u001b[1;32m    840\u001b[0m         \u001b[0;32mif\u001b[0m \u001b[0mlen\u001b[0m\u001b[0;34m(\u001b[0m\u001b[0mnp\u001b[0m\u001b[0;34m.\u001b[0m\u001b[0munique\u001b[0m\u001b[0;34m(\u001b[0m\u001b[0mcolumns\u001b[0m\u001b[0;34m)\u001b[0m\u001b[0;34m)\u001b[0m \u001b[0;34m!=\u001b[0m \u001b[0mlen\u001b[0m\u001b[0;34m(\u001b[0m\u001b[0mcolumns\u001b[0m\u001b[0;34m)\u001b[0m\u001b[0;34m:\u001b[0m\u001b[0;34m\u001b[0m\u001b[0;34m\u001b[0m\u001b[0m\n\u001b[0;32m--> 841\u001b[0;31m             raise ValueError(\n\u001b[0m\u001b[1;32m    842\u001b[0m                 \u001b[0;34m\"Ambiguous time values with time_axis = '{}'\"\u001b[0m\u001b[0;34m.\u001b[0m\u001b[0mformat\u001b[0m\u001b[0;34m(\u001b[0m\u001b[0mtime_axis\u001b[0m\u001b[0;34m)\u001b[0m\u001b[0;34m\u001b[0m\u001b[0;34m\u001b[0m\u001b[0m\n\u001b[1;32m    843\u001b[0m             )\n",
      "\u001b[0;31mValueError\u001b[0m: Ambiguous time values with time_axis = 'None'"
     ]
    }
   ],
   "source": [
    "# try to write back as CSV\n",
    "cmip_conc_co2_scm.to_csv('test.csv')"
   ]
  },
  {
   "cell_type": "code",
   "execution_count": null,
   "metadata": {},
   "outputs": [],
   "source": []
  }
 ],
 "metadata": {
  "kernelspec": {
   "display_name": "scmdata",
   "language": "python",
   "name": "scmdata"
  },
  "language_info": {
   "codemirror_mode": {
    "name": "ipython",
    "version": 3
   },
   "file_extension": ".py",
   "mimetype": "text/x-python",
   "name": "python",
   "nbconvert_exporter": "python",
   "pygments_lexer": "ipython3",
   "version": "3.8.5"
  }
 },
 "nbformat": 4,
 "nbformat_minor": 4
}
