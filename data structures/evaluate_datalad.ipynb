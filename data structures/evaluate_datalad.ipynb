{
 "cells": [
  {
   "cell_type": "code",
   "execution_count": 1,
   "metadata": {
    "execution": {
     "iopub.execute_input": "2020-09-29T15:17:34.361875Z",
     "iopub.status.busy": "2020-09-29T15:17:34.361698Z",
     "iopub.status.idle": "2020-09-29T15:17:34.469015Z",
     "shell.execute_reply": "2020-09-29T15:17:34.468486Z",
     "shell.execute_reply.started": "2020-09-29T15:17:34.361859Z"
    }
   },
   "outputs": [
    {
     "name": "stderr",
     "output_type": "stream",
     "text": [
      "[WARNING] realpath of PWD=/home/pflueger is /home/pflueger whenever os.getcwd()=/home/pflueger/work/primap_github/data structures. From now on will be returning os.getcwd(). Directory symlinks in the paths will be resolved \n"
     ]
    }
   ],
   "source": [
    "import datalad"
   ]
  },
  {
   "cell_type": "code",
   "execution_count": 2,
   "metadata": {
    "execution": {
     "iopub.execute_input": "2020-09-29T15:18:55.500753Z",
     "iopub.status.busy": "2020-09-29T15:18:55.500433Z",
     "iopub.status.idle": "2020-09-29T15:18:56.673371Z",
     "shell.execute_reply": "2020-09-29T15:18:56.670231Z",
     "shell.execute_reply.started": "2020-09-29T15:18:55.500724Z"
    }
   },
   "outputs": [
    {
     "name": "stdout",
     "output_type": "stream",
     "text": [
      "[INFO   ] Creating a new annex repo at /home/pflueger/work/primap_github/data structures/dlt \n",
      "[INFO   ] Running procedure cfg_text2git                                        \n",
      "[INFO   ] == Command start (output follows) ===== \n",
      "[INFO   ] == Command exit (modification check follows) ===== \n",
      "create(ok): /home/pflueger/work/primap_github/data structures/dlt (dataset)\n"
     ]
    }
   ],
   "source": [
    "!rm -rf dlt\n",
    "!datalad create -c text2git dlt"
   ]
  },
  {
   "cell_type": "code",
   "execution_count": 3,
   "metadata": {
    "execution": {
     "iopub.execute_input": "2020-09-29T15:20:36.044372Z",
     "iopub.status.busy": "2020-09-29T15:20:36.043180Z",
     "iopub.status.idle": "2020-09-29T15:20:36.176297Z",
     "shell.execute_reply": "2020-09-29T15:20:36.175010Z",
     "shell.execute_reply.started": "2020-09-29T15:20:36.044265Z"
    }
   },
   "outputs": [
    {
     "name": "stdout",
     "output_type": "stream",
     "text": [
      "commit 0d3bae74518f9d6e8881ae1bcaf8f1fd918acda7 (HEAD -> main)\n",
      "Author: Mika Pflüger <mika.pflueger@pik-potsdam.de>\n",
      "Date:   Tue Sep 29 17:18:56 2020 +0200\n",
      "\n",
      "    Instruct annex to add text files to Git\n",
      "\n",
      "commit bea6702f56c769bc4973a9f15c5d5b06c4da4487\n",
      "Author: Mika Pflüger <mika.pflueger@pik-potsdam.de>\n",
      "Date:   Tue Sep 29 17:18:56 2020 +0200\n",
      "\n",
      "    [DATALAD] new dataset\n"
     ]
    }
   ],
   "source": [
    "!cd dlt; git log"
   ]
  },
  {
   "cell_type": "code",
   "execution_count": 6,
   "metadata": {
    "execution": {
     "iopub.execute_input": "2020-09-29T15:22:54.068607Z",
     "iopub.status.busy": "2020-09-29T15:22:54.068318Z",
     "iopub.status.idle": "2020-09-29T15:22:54.617489Z",
     "shell.execute_reply": "2020-09-29T15:22:54.613907Z",
     "shell.execute_reply.started": "2020-09-29T15:22:54.068578Z"
    }
   },
   "outputs": [],
   "source": [
    "!cp -r xr/nc dlt/nc"
   ]
  },
  {
   "cell_type": "code",
   "execution_count": 7,
   "metadata": {
    "execution": {
     "iopub.execute_input": "2020-09-29T15:23:01.068296Z",
     "iopub.status.busy": "2020-09-29T15:23:01.067246Z",
     "iopub.status.idle": "2020-09-29T15:23:01.471512Z",
     "shell.execute_reply": "2020-09-29T15:23:01.468973Z",
     "shell.execute_reply.started": "2020-09-29T15:23:01.068186Z"
    }
   },
   "outputs": [
    {
     "name": "stdout",
     "output_type": "stream",
     "text": [
      "untracked: nc (directory)\n"
     ]
    }
   ],
   "source": [
    "!cd dlt; datalad status"
   ]
  },
  {
   "cell_type": "code",
   "execution_count": 8,
   "metadata": {
    "execution": {
     "iopub.execute_input": "2020-09-29T15:24:29.525266Z",
     "iopub.status.busy": "2020-09-29T15:24:29.524282Z",
     "iopub.status.idle": "2020-09-29T15:24:30.652384Z",
     "shell.execute_reply": "2020-09-29T15:24:30.651472Z",
     "shell.execute_reply.started": "2020-09-29T15:24:29.525160Z"
    }
   },
   "outputs": [
    {
     "name": "stdout",
     "output_type": "stream",
     "text": [
      "add                                                                             (ok): nc/cmip_conc_co2.nc (file)\n",
      "add(ok): nc/fao_emi_total.nc (file)\n",
      "add(ok): nc/lak_emi_energy.nc (file)\n",
      "add(ok): nc/primap_sources.nc (file)\n",
      "add(ok): nc/prm_emi.nc (file)\n",
      "save(ok): . (dataset)\n",
      "action summary:\n",
      "  add (ok: 5)\n",
      "  save (ok: 1)\n"
     ]
    }
   ],
   "source": [
    "!cd dlt; datalad save -m \"add all test data in xarrays netcdf format\""
   ]
  },
  {
   "cell_type": "code",
   "execution_count": 10,
   "metadata": {
    "execution": {
     "iopub.execute_input": "2020-09-29T15:40:21.156102Z",
     "iopub.status.busy": "2020-09-29T15:40:21.155824Z",
     "iopub.status.idle": "2020-09-29T15:40:26.064847Z",
     "shell.execute_reply": "2020-09-29T15:40:26.062305Z",
     "shell.execute_reply.started": "2020-09-29T15:40:21.156073Z"
    }
   },
   "outputs": [
    {
     "name": "stdout",
     "output_type": "stream",
     "text": [
      "[INFO   ] Downloading 'http://www.tldp.org/LDP/Bash-Beginners-Guide/Bash-Beginners-Guide.pdf' into '/home/pflueger/work/primap_github/data structures/dlt/' \n",
      "download_url                                                                                             (ok): /home/pflueger/work/primap_github/data structures/dlt/Bash-Beginners-Guide.pdf (file)\n",
      "add(ok): Bash-Beginners-Guide.pdf (file)\n",
      "save(ok): . (dataset)\n",
      "action summary:\n",
      "  add (ok: 1)\n",
      "  download_url (ok: 1)\n",
      "  save (ok: 1)\n"
     ]
    }
   ],
   "source": [
    "!cd dlt; datalad download-url http://www.tldp.org/LDP/Bash-Beginners-Guide/Bash-Beginners-Guide.pdf --dataset . -m \"add example book\""
   ]
  },
  {
   "cell_type": "code",
   "execution_count": null,
   "metadata": {},
   "outputs": [],
   "source": []
  }
 ],
 "metadata": {
  "kernelspec": {
   "display_name": "Python 3",
   "language": "python",
   "name": "python3"
  },
  "language_info": {
   "codemirror_mode": {
    "name": "ipython",
    "version": 3
   },
   "file_extension": ".py",
   "mimetype": "text/x-python",
   "name": "python",
   "nbconvert_exporter": "python",
   "pygments_lexer": "ipython3",
   "version": "3.8.2"
  }
 },
 "nbformat": 4,
 "nbformat_minor": 4
}
