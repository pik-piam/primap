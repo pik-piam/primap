{
 "cells": [
  {
   "cell_type": "code",
   "execution_count": 279,
   "metadata": {
    "execution": {
     "iopub.execute_input": "2020-09-22T18:08:13.815610Z",
     "iopub.status.busy": "2020-09-22T18:08:13.815426Z",
     "iopub.status.idle": "2020-09-22T18:08:13.818372Z",
     "shell.execute_reply": "2020-09-22T18:08:13.817909Z",
     "shell.execute_reply.started": "2020-09-22T18:08:13.815594Z"
    }
   },
   "outputs": [],
   "source": [
    "import psycopg2 as pg2\n",
    "import psycopg2.extras\n",
    "import psycopg2.extensions\n",
    "import pickle\n",
    "import pandas as pd\n",
    "import numpy as np\n",
    "import pint_pandas\n",
    "import tqdm\n",
    "import os"
   ]
  },
  {
   "cell_type": "markdown",
   "metadata": {
    "execution": {
     "iopub.execute_input": "2020-09-21T14:54:10.801037Z",
     "iopub.status.busy": "2020-09-21T14:54:10.800192Z",
     "iopub.status.idle": "2020-09-21T14:54:10.812961Z",
     "shell.execute_reply": "2020-09-21T14:54:10.811263Z",
     "shell.execute_reply.started": "2020-09-21T14:54:10.800957Z"
    }
   },
   "source": [
    "# representation\n",
    "* load all example data sets into the data structure at once\n",
    "* measure memory use\n",
    "* export the data sets to CSV\n",
    "* reimport from CSV\n",
    "* export the data sets to some kind of native storage format\n",
    "* reimport from the native storage format"
   ]
  },
  {
   "cell_type": "markdown",
   "metadata": {
    "execution": {
     "iopub.execute_input": "2020-09-21T14:54:10.801037Z",
     "iopub.status.busy": "2020-09-21T14:54:10.800192Z",
     "iopub.status.idle": "2020-09-21T14:54:10.812961Z",
     "shell.execute_reply": "2020-09-21T14:54:10.811263Z",
     "shell.execute_reply.started": "2020-09-21T14:54:10.800957Z"
    }
   },
   "source": [
    "\n",
    "## read in the data"
   ]
  },
  {
   "cell_type": "code",
   "execution_count": 66,
   "metadata": {
    "execution": {
     "iopub.execute_input": "2020-09-21T14:54:10.801037Z",
     "iopub.status.busy": "2020-09-21T14:54:10.800192Z",
     "iopub.status.idle": "2020-09-21T14:54:10.812961Z",
     "shell.execute_reply": "2020-09-21T14:54:10.811263Z",
     "shell.execute_reply.started": "2020-09-21T14:54:10.800957Z"
    }
   },
   "outputs": [],
   "source": [
    "conn = pg2.connect(\"dbname=ev\", cursor_factory=pg2.extras.NamedTupleCursor)"
   ]
  },
  {
   "cell_type": "code",
   "execution_count": 67,
   "metadata": {
    "execution": {
     "iopub.execute_input": "2020-09-21T14:54:11.151885Z",
     "iopub.status.busy": "2020-09-21T14:54:11.151671Z",
     "iopub.status.idle": "2020-09-21T14:54:11.154597Z",
     "shell.execute_reply": "2020-09-21T14:54:11.153922Z",
     "shell.execute_reply.started": "2020-09-21T14:54:11.151867Z"
    }
   },
   "outputs": [],
   "source": [
    "cur = conn.cursor()"
   ]
  },
  {
   "cell_type": "code",
   "execution_count": 87,
   "metadata": {
    "execution": {
     "iopub.execute_input": "2020-09-21T15:02:17.835258Z",
     "iopub.status.busy": "2020-09-21T15:02:17.834303Z",
     "iopub.status.idle": "2020-09-21T15:02:17.845671Z",
     "shell.execute_reply": "2020-09-21T15:02:17.844359Z",
     "shell.execute_reply.started": "2020-09-21T15:02:17.835167Z"
    }
   },
   "outputs": [],
   "source": [
    "def open_dequantify(fpath, deq_col):\n",
    "    with open(fpath, 'rb') as fd:\n",
    "        df = pickle.load(fd)\n",
    "    df['Unit'] = str(df[deq_col].pint.units)\n",
    "    df[deq_col] = df[deq_col].pint.magnitude\n",
    "    return df"
   ]
  },
  {
   "cell_type": "code",
   "execution_count": 88,
   "metadata": {
    "execution": {
     "iopub.execute_input": "2020-09-21T15:02:18.145683Z",
     "iopub.status.busy": "2020-09-21T15:02:18.145232Z",
     "iopub.status.idle": "2020-09-21T15:02:18.562489Z",
     "shell.execute_reply": "2020-09-21T15:02:18.561840Z",
     "shell.execute_reply.started": "2020-09-21T15:02:18.145642Z"
    }
   },
   "outputs": [],
   "source": [
    "fao_emi_total_pd = open_dequantify('mem/fao_emi_total_wo.pck', 'Emissions')"
   ]
  },
  {
   "cell_type": "code",
   "execution_count": 59,
   "metadata": {
    "execution": {
     "iopub.execute_input": "2020-09-21T14:40:44.335356Z",
     "iopub.status.busy": "2020-09-21T14:40:44.334071Z",
     "iopub.status.idle": "2020-09-21T14:40:44.365889Z",
     "shell.execute_reply": "2020-09-21T14:40:44.365008Z",
     "shell.execute_reply.started": "2020-09-21T14:40:44.335232Z"
    }
   },
   "outputs": [],
   "source": [
    "cur.execute(\"\"\"create table fao_emi_total (\n",
    "Area text,\n",
    "Date date,\n",
    "Element text,\n",
    "Item text,\n",
    "Emissions double precision,\n",
    "Unit text,\n",
    "primary key (Area, Date, Element, Item)\n",
    ")\"\"\")"
   ]
  },
  {
   "cell_type": "code",
   "execution_count": 60,
   "metadata": {
    "execution": {
     "iopub.execute_input": "2020-09-21T14:40:48.296978Z",
     "iopub.status.busy": "2020-09-21T14:40:48.296146Z",
     "iopub.status.idle": "2020-09-21T14:41:25.273516Z",
     "shell.execute_reply": "2020-09-21T14:41:25.272875Z",
     "shell.execute_reply.started": "2020-09-21T14:40:48.296894Z"
    }
   },
   "outputs": [],
   "source": [
    "cur.executemany(\"\"\"insert into fao_emi_total (Area, Date, Element, Item, Emissions, Unit) values (%s, %s, %s, %s, %s, %s)\"\"\",\n",
    "                (fao_emi_total_pd.itertuples(index=False, name=None)))"
   ]
  },
  {
   "cell_type": "code",
   "execution_count": 89,
   "metadata": {
    "execution": {
     "iopub.execute_input": "2020-09-21T15:02:20.688923Z",
     "iopub.status.busy": "2020-09-21T15:02:20.688082Z",
     "iopub.status.idle": "2020-09-21T15:02:20.707170Z",
     "shell.execute_reply": "2020-09-21T15:02:20.706281Z",
     "shell.execute_reply.started": "2020-09-21T15:02:20.688842Z"
    }
   },
   "outputs": [],
   "source": [
    "lak_emi_energy_pd = open_dequantify('mem/lak_emi_energy_wo.pck', 'Emissions')"
   ]
  },
  {
   "cell_type": "code",
   "execution_count": 73,
   "metadata": {
    "execution": {
     "iopub.execute_input": "2020-09-21T14:56:32.028139Z",
     "iopub.status.busy": "2020-09-21T14:56:32.027302Z",
     "iopub.status.idle": "2020-09-21T14:56:32.049739Z",
     "shell.execute_reply": "2020-09-21T14:56:32.048581Z",
     "shell.execute_reply.started": "2020-09-21T14:56:32.028058Z"
    }
   },
   "outputs": [],
   "source": [
    "cur.execute(\"\"\"create table lak_emi_energy (\n",
    "Area text,\n",
    "Category text,\n",
    "Date date,\n",
    "Emissions double precision,\n",
    "Unit text,\n",
    "primary key (Area, Category, Date)\n",
    ")\"\"\")"
   ]
  },
  {
   "cell_type": "code",
   "execution_count": 75,
   "metadata": {
    "execution": {
     "iopub.execute_input": "2020-09-21T14:57:30.727330Z",
     "iopub.status.busy": "2020-09-21T14:57:30.727140Z",
     "iopub.status.idle": "2020-09-21T14:57:30.912756Z",
     "shell.execute_reply": "2020-09-21T14:57:30.912372Z",
     "shell.execute_reply.started": "2020-09-21T14:57:30.727315Z"
    }
   },
   "outputs": [],
   "source": [
    "cur.executemany(\"\"\"insert into lak_emi_energy (Area, Category, Date, Emissions, Unit) values (%s, %s, %s, %s, %s)\"\"\",\n",
    "                (lak_emi_energy_pd.itertuples(index=False, name=None)))"
   ]
  },
  {
   "cell_type": "code",
   "execution_count": 76,
   "metadata": {
    "execution": {
     "iopub.execute_input": "2020-09-21T14:57:43.798256Z",
     "iopub.status.busy": "2020-09-21T14:57:43.797065Z",
     "iopub.status.idle": "2020-09-21T14:57:43.816243Z",
     "shell.execute_reply": "2020-09-21T14:57:43.814569Z",
     "shell.execute_reply.started": "2020-09-21T14:57:43.798142Z"
    }
   },
   "outputs": [],
   "source": [
    "conn.commit()"
   ]
  },
  {
   "cell_type": "code",
   "execution_count": 90,
   "metadata": {
    "execution": {
     "iopub.execute_input": "2020-09-21T15:02:23.209362Z",
     "iopub.status.busy": "2020-09-21T15:02:23.208538Z",
     "iopub.status.idle": "2020-09-21T15:02:23.298539Z",
     "shell.execute_reply": "2020-09-21T15:02:23.297883Z",
     "shell.execute_reply.started": "2020-09-21T15:02:23.209281Z"
    }
   },
   "outputs": [],
   "source": [
    "cmip_conc_co2_pd = open_dequantify('mem/cmip_conc_co2_wo.pck', 'CO2 concentration')"
   ]
  },
  {
   "cell_type": "code",
   "execution_count": 127,
   "metadata": {
    "execution": {
     "iopub.execute_input": "2020-09-21T15:59:01.567831Z",
     "iopub.status.busy": "2020-09-21T15:59:01.566840Z",
     "iopub.status.idle": "2020-09-21T15:59:01.583300Z",
     "shell.execute_reply": "2020-09-21T15:59:01.580626Z",
     "shell.execute_reply.started": "2020-09-21T15:59:01.567723Z"
    }
   },
   "outputs": [],
   "source": [
    "def adapt_period_cmip(period):\n",
    "    if period.year < 1:\n",
    "        year = 1 - period.year\n",
    "        suffix = 'BC'\n",
    "    else:\n",
    "        year = period.year\n",
    "        suffix = ''\n",
    "    return pg2.extensions.AsIs(f\"'{year:04d}-{period.month:02d}-01{suffix}'\")\n",
    "\n",
    "pg2.extensions.register_adapter(pd._libs.tslibs.period.Period, adapt_period_cmip)"
   ]
  },
  {
   "cell_type": "code",
   "execution_count": 184,
   "metadata": {
    "execution": {
     "iopub.execute_input": "2020-09-21T19:57:44.275826Z",
     "iopub.status.busy": "2020-09-21T19:57:44.274861Z",
     "iopub.status.idle": "2020-09-21T19:57:44.289731Z",
     "shell.execute_reply": "2020-09-21T19:57:44.288397Z",
     "shell.execute_reply.started": "2020-09-21T19:57:44.275732Z"
    }
   },
   "outputs": [],
   "source": [
    "def cast_date(value, cur):\n",
    "    if value is None:\n",
    "        return None\n",
    "    \n",
    "    if value.endswith('BC'):\n",
    "        bc = True\n",
    "        value = value.split()[0]\n",
    "    else:\n",
    "        bc = False\n",
    "    \n",
    "    y, m, d = value.split('-')\n",
    "    y = int(y)\n",
    "    if bc:\n",
    "        y = 1-y  # np.datetime64 counts everything AD and has the year 0 AD\n",
    "    return np.datetime64(f'{y:04d}-{m}-{d}')\n",
    "\n",
    "extended_date = pg2.extensions.new_type((1082, ), 'date', cast_date)\n",
    "pg2.extensions.register_type(extended_date)"
   ]
  },
  {
   "cell_type": "code",
   "execution_count": 126,
   "metadata": {
    "execution": {
     "iopub.execute_input": "2020-09-21T15:58:59.838845Z",
     "iopub.status.busy": "2020-09-21T15:58:59.837955Z",
     "iopub.status.idle": "2020-09-21T15:58:59.857272Z",
     "shell.execute_reply": "2020-09-21T15:58:59.856231Z",
     "shell.execute_reply.started": "2020-09-21T15:58:59.838760Z"
    }
   },
   "outputs": [],
   "source": [
    "cur.execute(\"\"\"create table cmip_conc_co2 (\n",
    "Area text,\n",
    "Date date,\n",
    "\"CO2 concentration\" double precision,\n",
    "Unit text,\n",
    "primary key (Area, Date)\n",
    ")\"\"\")"
   ]
  },
  {
   "cell_type": "code",
   "execution_count": 128,
   "metadata": {
    "execution": {
     "iopub.execute_input": "2020-09-21T15:59:03.870044Z",
     "iopub.status.busy": "2020-09-21T15:59:03.869213Z",
     "iopub.status.idle": "2020-09-21T15:59:07.398597Z",
     "shell.execute_reply": "2020-09-21T15:59:07.398068Z",
     "shell.execute_reply.started": "2020-09-21T15:59:03.869962Z"
    }
   },
   "outputs": [],
   "source": [
    "cur.executemany(\"\"\"insert into cmip_conc_co2 (Area, Date, \"CO2 concentration\", Unit) values (%s, %s, %s, %s)\"\"\",\n",
    "                (cmip_conc_co2_pd.itertuples(index=False, name=None)))"
   ]
  },
  {
   "cell_type": "code",
   "execution_count": 129,
   "metadata": {
    "execution": {
     "iopub.execute_input": "2020-09-21T15:59:28.963963Z",
     "iopub.status.busy": "2020-09-21T15:59:28.963003Z",
     "iopub.status.idle": "2020-09-21T15:59:28.979615Z",
     "shell.execute_reply": "2020-09-21T15:59:28.978344Z",
     "shell.execute_reply.started": "2020-09-21T15:59:28.963858Z"
    }
   },
   "outputs": [],
   "source": [
    "conn.commit()"
   ]
  },
  {
   "cell_type": "code",
   "execution_count": 188,
   "metadata": {
    "execution": {
     "iopub.execute_input": "2020-09-21T19:59:27.905660Z",
     "iopub.status.busy": "2020-09-21T19:59:27.904825Z",
     "iopub.status.idle": "2020-09-21T19:59:30.737404Z",
     "shell.execute_reply": "2020-09-21T19:59:30.736716Z",
     "shell.execute_reply.started": "2020-09-21T19:59:27.905580Z"
    }
   },
   "outputs": [],
   "source": [
    "prm_emi_pd = open_dequantify('mem/prm_emi_wo.pck', 'Emissions')"
   ]
  },
  {
   "cell_type": "code",
   "execution_count": 189,
   "metadata": {
    "execution": {
     "iopub.execute_input": "2020-09-21T19:59:30.738616Z",
     "iopub.status.busy": "2020-09-21T19:59:30.738397Z",
     "iopub.status.idle": "2020-09-21T19:59:30.764333Z",
     "shell.execute_reply": "2020-09-21T19:59:30.763604Z",
     "shell.execute_reply.started": "2020-09-21T19:59:30.738586Z"
    }
   },
   "outputs": [
    {
     "data": {
      "text/html": [
       "<div>\n",
       "<style scoped>\n",
       "    .dataframe tbody tr th:only-of-type {\n",
       "        vertical-align: middle;\n",
       "    }\n",
       "\n",
       "    .dataframe tbody tr th {\n",
       "        vertical-align: top;\n",
       "    }\n",
       "\n",
       "    .dataframe thead th {\n",
       "        text-align: right;\n",
       "    }\n",
       "</style>\n",
       "<table border=\"1\" class=\"dataframe\">\n",
       "  <thead>\n",
       "    <tr style=\"text-align: right;\">\n",
       "      <th></th>\n",
       "      <th>Area</th>\n",
       "      <th>Category</th>\n",
       "      <th>Date</th>\n",
       "      <th>Entity</th>\n",
       "      <th>Scenario</th>\n",
       "      <th>Emissions</th>\n",
       "      <th>Unit</th>\n",
       "    </tr>\n",
       "  </thead>\n",
       "  <tbody>\n",
       "    <tr>\n",
       "      <th>0</th>\n",
       "      <td>ABW</td>\n",
       "      <td>IPC1</td>\n",
       "      <td>1850-01-01</td>\n",
       "      <td>CH4</td>\n",
       "      <td>HISTCR</td>\n",
       "      <td>0.000387</td>\n",
       "      <td>gigagram</td>\n",
       "    </tr>\n",
       "    <tr>\n",
       "      <th>1</th>\n",
       "      <td>ABW</td>\n",
       "      <td>IPC1</td>\n",
       "      <td>1850-01-01</td>\n",
       "      <td>CH4</td>\n",
       "      <td>HISTTP</td>\n",
       "      <td>0.000387</td>\n",
       "      <td>gigagram</td>\n",
       "    </tr>\n",
       "    <tr>\n",
       "      <th>2</th>\n",
       "      <td>ABW</td>\n",
       "      <td>IPC1</td>\n",
       "      <td>1850-01-01</td>\n",
       "      <td>CO2</td>\n",
       "      <td>HISTCR</td>\n",
       "      <td>40.300000</td>\n",
       "      <td>gigagram</td>\n",
       "    </tr>\n",
       "    <tr>\n",
       "      <th>3</th>\n",
       "      <td>ABW</td>\n",
       "      <td>IPC1</td>\n",
       "      <td>1850-01-01</td>\n",
       "      <td>CO2</td>\n",
       "      <td>HISTTP</td>\n",
       "      <td>40.300000</td>\n",
       "      <td>gigagram</td>\n",
       "    </tr>\n",
       "    <tr>\n",
       "      <th>4</th>\n",
       "      <td>ABW</td>\n",
       "      <td>IPC1</td>\n",
       "      <td>1850-01-01</td>\n",
       "      <td>KYOTOGHG (CO2eq)</td>\n",
       "      <td>HISTCR</td>\n",
       "      <td>40.300000</td>\n",
       "      <td>gigagram</td>\n",
       "    </tr>\n",
       "    <tr>\n",
       "      <th>...</th>\n",
       "      <td>...</td>\n",
       "      <td>...</td>\n",
       "      <td>...</td>\n",
       "      <td>...</td>\n",
       "      <td>...</td>\n",
       "      <td>...</td>\n",
       "      <td>...</td>\n",
       "    </tr>\n",
       "    <tr>\n",
       "      <th>4990919</th>\n",
       "      <td>ZWE</td>\n",
       "      <td>IPCMAGELV</td>\n",
       "      <td>2017-01-01</td>\n",
       "      <td>KYOTOGHG (CO2eq)</td>\n",
       "      <td>HISTTP</td>\n",
       "      <td>6630.000000</td>\n",
       "      <td>gigagram</td>\n",
       "    </tr>\n",
       "    <tr>\n",
       "      <th>4990920</th>\n",
       "      <td>ZWE</td>\n",
       "      <td>IPCMAGELV</td>\n",
       "      <td>2017-01-01</td>\n",
       "      <td>KYOTOGHGAR4 (CO2eq)</td>\n",
       "      <td>HISTCR</td>\n",
       "      <td>6040.000000</td>\n",
       "      <td>gigagram</td>\n",
       "    </tr>\n",
       "    <tr>\n",
       "      <th>4990921</th>\n",
       "      <td>ZWE</td>\n",
       "      <td>IPCMAGELV</td>\n",
       "      <td>2017-01-01</td>\n",
       "      <td>KYOTOGHGAR4 (CO2eq)</td>\n",
       "      <td>HISTTP</td>\n",
       "      <td>6640.000000</td>\n",
       "      <td>gigagram</td>\n",
       "    </tr>\n",
       "    <tr>\n",
       "      <th>4990922</th>\n",
       "      <td>ZWE</td>\n",
       "      <td>IPCMAGELV</td>\n",
       "      <td>2017-01-01</td>\n",
       "      <td>N2O</td>\n",
       "      <td>HISTCR</td>\n",
       "      <td>15.600000</td>\n",
       "      <td>gigagram</td>\n",
       "    </tr>\n",
       "    <tr>\n",
       "      <th>4990923</th>\n",
       "      <td>ZWE</td>\n",
       "      <td>IPCMAGELV</td>\n",
       "      <td>2017-01-01</td>\n",
       "      <td>N2O</td>\n",
       "      <td>HISTTP</td>\n",
       "      <td>17.600000</td>\n",
       "      <td>gigagram</td>\n",
       "    </tr>\n",
       "  </tbody>\n",
       "</table>\n",
       "<p>4990924 rows × 7 columns</p>\n",
       "</div>"
      ],
      "text/plain": [
       "        Area   Category       Date               Entity Scenario    Emissions  \\\n",
       "0        ABW       IPC1 1850-01-01                  CH4   HISTCR     0.000387   \n",
       "1        ABW       IPC1 1850-01-01                  CH4   HISTTP     0.000387   \n",
       "2        ABW       IPC1 1850-01-01                  CO2   HISTCR    40.300000   \n",
       "3        ABW       IPC1 1850-01-01                  CO2   HISTTP    40.300000   \n",
       "4        ABW       IPC1 1850-01-01     KYOTOGHG (CO2eq)   HISTCR    40.300000   \n",
       "...      ...        ...        ...                  ...      ...          ...   \n",
       "4990919  ZWE  IPCMAGELV 2017-01-01     KYOTOGHG (CO2eq)   HISTTP  6630.000000   \n",
       "4990920  ZWE  IPCMAGELV 2017-01-01  KYOTOGHGAR4 (CO2eq)   HISTCR  6040.000000   \n",
       "4990921  ZWE  IPCMAGELV 2017-01-01  KYOTOGHGAR4 (CO2eq)   HISTTP  6640.000000   \n",
       "4990922  ZWE  IPCMAGELV 2017-01-01                  N2O   HISTCR    15.600000   \n",
       "4990923  ZWE  IPCMAGELV 2017-01-01                  N2O   HISTTP    17.600000   \n",
       "\n",
       "             Unit  \n",
       "0        gigagram  \n",
       "1        gigagram  \n",
       "2        gigagram  \n",
       "3        gigagram  \n",
       "4        gigagram  \n",
       "...           ...  \n",
       "4990919  gigagram  \n",
       "4990920  gigagram  \n",
       "4990921  gigagram  \n",
       "4990922  gigagram  \n",
       "4990923  gigagram  \n",
       "\n",
       "[4990924 rows x 7 columns]"
      ]
     },
     "execution_count": 189,
     "metadata": {},
     "output_type": "execute_result"
    }
   ],
   "source": [
    "prm_emi_pd"
   ]
  },
  {
   "cell_type": "code",
   "execution_count": 190,
   "metadata": {
    "execution": {
     "iopub.execute_input": "2020-09-21T20:00:16.157806Z",
     "iopub.status.busy": "2020-09-21T20:00:16.156839Z",
     "iopub.status.idle": "2020-09-21T20:00:16.186269Z",
     "shell.execute_reply": "2020-09-21T20:00:16.185436Z",
     "shell.execute_reply.started": "2020-09-21T20:00:16.157720Z"
    }
   },
   "outputs": [],
   "source": [
    "cur.execute(\"\"\"create table prm_emi (\n",
    "Area text,\n",
    "Category text,\n",
    "Date date,\n",
    "Entity text,\n",
    "Scenario text,\n",
    "Emissions double precision,\n",
    "Unit text,\n",
    "primary key (Area, Category, Date, Entity, Scenario)\n",
    ")\"\"\")"
   ]
  },
  {
   "cell_type": "code",
   "execution_count": 192,
   "metadata": {
    "execution": {
     "iopub.execute_input": "2020-09-21T20:01:30.088219Z",
     "iopub.status.busy": "2020-09-21T20:01:30.088035Z",
     "iopub.status.idle": "2020-09-21T20:08:05.812911Z",
     "shell.execute_reply": "2020-09-21T20:08:05.812034Z",
     "shell.execute_reply.started": "2020-09-21T20:01:30.088203Z"
    }
   },
   "outputs": [],
   "source": [
    "cur.executemany(\"\"\"insert into prm_emi (Area, Category, Date, Entity, Scenario, Emissions, Unit) values (%s, %s, %s, %s, %s, %s, %s)\"\"\",\n",
    "                (prm_emi_pd.itertuples(index=False, name=None)))"
   ]
  },
  {
   "cell_type": "code",
   "execution_count": 194,
   "metadata": {
    "execution": {
     "iopub.execute_input": "2020-09-22T08:33:49.280230Z",
     "iopub.status.busy": "2020-09-22T08:33:49.279370Z",
     "iopub.status.idle": "2020-09-22T08:33:49.289463Z",
     "shell.execute_reply": "2020-09-22T08:33:49.288108Z",
     "shell.execute_reply.started": "2020-09-22T08:33:49.280147Z"
    }
   },
   "outputs": [],
   "source": [
    "conn.commit()"
   ]
  },
  {
   "cell_type": "code",
   "execution_count": 220,
   "metadata": {
    "execution": {
     "iopub.execute_input": "2020-09-22T09:03:58.525580Z",
     "iopub.status.busy": "2020-09-22T09:03:58.524460Z",
     "iopub.status.idle": "2020-09-22T09:04:01.388185Z",
     "shell.execute_reply": "2020-09-22T09:04:01.387130Z",
     "shell.execute_reply.started": "2020-09-22T09:03:58.525464Z"
    }
   },
   "outputs": [],
   "source": [
    "with open(f'mem/primap_tables_wo.pck', 'rb') as fd:\n",
    "    primap_tables_pd = pickle.load(fd)\n",
    "    "
   ]
  },
  {
   "cell_type": "code",
   "execution_count": 221,
   "metadata": {
    "execution": {
     "iopub.execute_input": "2020-09-22T09:04:03.170597Z",
     "iopub.status.busy": "2020-09-22T09:04:03.169105Z",
     "iopub.status.idle": "2020-09-22T09:04:03.201322Z",
     "shell.execute_reply": "2020-09-22T09:04:03.200404Z",
     "shell.execute_reply.started": "2020-09-22T09:04:03.170468Z"
    }
   },
   "outputs": [],
   "source": [
    "cur.execute(\"\"\"create table primap_metadata (\n",
    "primap_metadata_id serial unique,\n",
    "Category text,\n",
    "Class text,\n",
    "Description text,\n",
    "Note text,\n",
    "Scenario text,\n",
    "Source text,\n",
    "Type text,\n",
    "Entity text,\n",
    "Unit text,\n",
    "primary key (Category, Class, Scenario, Source, Type, Entity)\n",
    ")\"\"\")"
   ]
  },
  {
   "cell_type": "code",
   "execution_count": 222,
   "metadata": {
    "execution": {
     "iopub.execute_input": "2020-09-22T09:04:04.149434Z",
     "iopub.status.busy": "2020-09-22T09:04:04.148229Z",
     "iopub.status.idle": "2020-09-22T09:04:04.176566Z",
     "shell.execute_reply": "2020-09-22T09:04:04.175775Z",
     "shell.execute_reply.started": "2020-09-22T09:04:04.149325Z"
    }
   },
   "outputs": [],
   "source": [
    "cur.execute(\"\"\"create table primap_data (\n",
    "primap_metadata_id integer references primap_metadata (primap_metadata_id),\n",
    "Area text,\n",
    "Date date,\n",
    "Value double precision,\n",
    "primary key (primap_metadata_id, Area, Date)\n",
    ")\"\"\")"
   ]
  },
  {
   "cell_type": "code",
   "execution_count": 223,
   "metadata": {
    "execution": {
     "iopub.execute_input": "2020-09-22T09:04:05.185403Z",
     "iopub.status.busy": "2020-09-22T09:04:05.185052Z",
     "iopub.status.idle": "2020-09-22T09:25:36.100123Z",
     "shell.execute_reply": "2020-09-22T09:25:36.099472Z",
     "shell.execute_reply.started": "2020-09-22T09:04:05.185372Z"
    }
   },
   "outputs": [
    {
     "data": {
      "application/vnd.jupyter.widget-view+json": {
       "model_id": "01bfb3bedee24fd6b92330cd1b6c631c",
       "version_major": 2,
       "version_minor": 0
      },
      "text/plain": [
       "HBox(children=(IntProgress(value=0, max=4118), HTML(value='')))"
      ]
     },
     "metadata": {},
     "output_type": "display_data"
    },
    {
     "name": "stdout",
     "output_type": "stream",
     "text": [
      "\n"
     ]
    }
   ],
   "source": [
    "for key in tqdm.tqdm_notebook(primap_tables_pd):\n",
    "    meta, df = primap_tables_pd[key]\n",
    "    \n",
    "    entity = df.columns[-1]\n",
    "    unit = str(df[entity].pint.units)\n",
    "    df[entity] = df[entity].pint.magnitude\n",
    "    \n",
    "    cur.execute(\"\"\"insert into primap_metadata (Category, Class, Description, Note, Scenario, Source, Type, Entity, Unit)\n",
    "                   values (%s, %s, %s, %s, %s, %s, %s, %s, %s)\n",
    "                   returning primap_metadata_id\"\"\",\n",
    "                (meta['category'], meta['class'], meta['descr'], meta['note'], meta['scenario'], meta['source'], meta['type'], entity, unit))\n",
    "    metadata_id = cur.fetchone()[0]\n",
    "    \n",
    "    cur.executemany(f\"\"\"insert into primap_data (primap_metadata_id, Area, Date, Value)\n",
    "                        values ({metadata_id}, %s, %s, %s)\"\"\",\n",
    "                    df.itertuples(index=False, name=None))"
   ]
  },
  {
   "cell_type": "code",
   "execution_count": 224,
   "metadata": {
    "execution": {
     "iopub.execute_input": "2020-09-22T09:50:36.511454Z",
     "iopub.status.busy": "2020-09-22T09:50:36.511017Z",
     "iopub.status.idle": "2020-09-22T09:50:36.525436Z",
     "shell.execute_reply": "2020-09-22T09:50:36.524711Z",
     "shell.execute_reply.started": "2020-09-22T09:50:36.511413Z"
    }
   },
   "outputs": [],
   "source": [
    "conn.commit()"
   ]
  },
  {
   "cell_type": "markdown",
   "metadata": {},
   "source": [
    "## Measure memory use"
   ]
  },
  {
   "cell_type": "code",
   "execution_count": 225,
   "metadata": {
    "execution": {
     "iopub.execute_input": "2020-09-22T10:07:35.916370Z",
     "iopub.status.busy": "2020-09-22T10:07:35.916109Z",
     "iopub.status.idle": "2020-09-22T10:07:36.090668Z",
     "shell.execute_reply": "2020-09-22T10:07:36.088361Z",
     "shell.execute_reply.started": "2020-09-22T10:07:35.916347Z"
    }
   },
   "outputs": [
    {
     "name": "stdout",
     "output_type": "stream",
     "text": [
      "\u001b[0;1;32m●\u001b[0m postgresql@12-main.service - PostgreSQL Cluster 12-main\n",
      "     Loaded: loaded (\u001b]8;;file://lt874/lib/systemd/system/postgresql@.service\u0007/lib/systemd/system/postgresql@.service\u001b]8;;\u0007; enabled-runtime; vendor preset: enabled)\n",
      "     Active: \u001b[0;1;32mactive (running)\u001b[0m since Mon 2020-09-21 15:34:07 CEST; 20h ago\n",
      "   Main PID: 23721 (postgres)\n",
      "      Tasks: 16 (limit: 18915)\n",
      "     Memory: 2.3G\n",
      "     CGroup: /system.slice/system-postgresql.slice/postgresql@12-main.service\n",
      "             ├─ 23721 /usr/lib/postgresql/12/bin/postgres -D /var/lib/postgresq…\n",
      "             ├─ 23723 postgres: 12/main: checkpointer\n",
      "             ├─ 23724 postgres: 12/main: background writer\n",
      "             ├─ 23725 postgres: 12/main: walwriter\n",
      "             ├─ 23726 postgres: 12/main: autovacuum launcher\n",
      "             ├─ 23727 postgres: 12/main: stats collector\n",
      "             ├─ 23728 postgres: 12/main: logical replication launcher\n",
      "             ├─ 27206 postgres: 12/main: pflueger ev [local] idle\n",
      "             ├─ 34534 postgres: 12/main: pflueger ev [local] idle in transactio…\n",
      "             ├─ 39790 postgres: 12/main: pflueger ev 127.0.0.1(35034) idle\n",
      "             ├─ 39940 postgres: 12/main: pflueger ev [local] idle\n",
      "             ├─ 40533 postgres: 12/main: pflueger ev 127.0.0.1(35194) idle\n",
      "             ├─ 48211 postgres: 12/main: pflueger ev 127.0.0.1(36122) idle\n",
      "             ├─165518 postgres: 12/main: pflueger ev 127.0.0.1(50166) idle\n",
      "             ├─166197 postgres: 12/main: pflueger postgres 127.0.0.1(50270) idle\n",
      "             └─166433 postgres: 12/main: pflueger ev 127.0.0.1(50300) idle\n",
      "\n",
      "Sep 21 15:34:05 lt874 systemd[1]: Starting PostgreSQL Cluster 12-main...\n",
      "Sep 21 15:34:07 lt874 systemd[1]: Started PostgreSQL Cluster 12-main.\n"
     ]
    }
   ],
   "source": [
    "!systemctl status postgresql@12-main.service"
   ]
  },
  {
   "cell_type": "code",
   "execution_count": 233,
   "metadata": {
    "execution": {
     "iopub.execute_input": "2020-09-22T15:25:20.323318Z",
     "iopub.status.busy": "2020-09-22T15:25:20.322435Z",
     "iopub.status.idle": "2020-09-22T15:25:20.352549Z",
     "shell.execute_reply": "2020-09-22T15:25:20.351522Z",
     "shell.execute_reply.started": "2020-09-22T15:25:20.323237Z"
    }
   },
   "outputs": [
    {
     "data": {
      "text/html": [
       "<div>\n",
       "<style scoped>\n",
       "    .dataframe tbody tr th:only-of-type {\n",
       "        vertical-align: middle;\n",
       "    }\n",
       "\n",
       "    .dataframe tbody tr th {\n",
       "        vertical-align: top;\n",
       "    }\n",
       "\n",
       "    .dataframe thead th {\n",
       "        text-align: right;\n",
       "    }\n",
       "</style>\n",
       "<table border=\"1\" class=\"dataframe\">\n",
       "  <thead>\n",
       "    <tr style=\"text-align: right;\">\n",
       "      <th></th>\n",
       "      <th>relname</th>\n",
       "      <th>relsize_kib</th>\n",
       "    </tr>\n",
       "  </thead>\n",
       "  <tbody>\n",
       "    <tr>\n",
       "      <th>0</th>\n",
       "      <td>primap_data</td>\n",
       "      <td>681688</td>\n",
       "    </tr>\n",
       "    <tr>\n",
       "      <th>1</th>\n",
       "      <td>prm_emi</td>\n",
       "      <td>438696</td>\n",
       "    </tr>\n",
       "    <tr>\n",
       "      <th>2</th>\n",
       "      <td>primap_data_pkey</td>\n",
       "      <td>412864</td>\n",
       "    </tr>\n",
       "    <tr>\n",
       "      <th>3</th>\n",
       "      <td>prm_emi_pkey</td>\n",
       "      <td>271448</td>\n",
       "    </tr>\n",
       "    <tr>\n",
       "      <th>4</th>\n",
       "      <td>fao_emi_total</td>\n",
       "      <td>50456</td>\n",
       "    </tr>\n",
       "    <tr>\n",
       "      <th>5</th>\n",
       "      <td>fao_emi_total_pkey</td>\n",
       "      <td>39912</td>\n",
       "    </tr>\n",
       "    <tr>\n",
       "      <th>6</th>\n",
       "      <td>cmip_conc_co2</td>\n",
       "      <td>4464</td>\n",
       "    </tr>\n",
       "    <tr>\n",
       "      <th>7</th>\n",
       "      <td>cmip_conc_co2_pkey</td>\n",
       "      <td>1816</td>\n",
       "    </tr>\n",
       "    <tr>\n",
       "      <th>8</th>\n",
       "      <td>primap_metadata</td>\n",
       "      <td>1432</td>\n",
       "    </tr>\n",
       "    <tr>\n",
       "      <th>9</th>\n",
       "      <td>primap_metadata_pkey</td>\n",
       "      <td>384</td>\n",
       "    </tr>\n",
       "    <tr>\n",
       "      <th>10</th>\n",
       "      <td>lak_emi_energy</td>\n",
       "      <td>240</td>\n",
       "    </tr>\n",
       "    <tr>\n",
       "      <th>11</th>\n",
       "      <td>lak_emi_energy_pkey</td>\n",
       "      <td>160</td>\n",
       "    </tr>\n",
       "    <tr>\n",
       "      <th>12</th>\n",
       "      <td>primap_metadata_primap_metadata_id_key</td>\n",
       "      <td>112</td>\n",
       "    </tr>\n",
       "    <tr>\n",
       "      <th>13</th>\n",
       "      <td>primap_metadata_primap_metadata_id_seq</td>\n",
       "      <td>8</td>\n",
       "    </tr>\n",
       "  </tbody>\n",
       "</table>\n",
       "</div>"
      ],
      "text/plain": [
       "                                   relname  relsize_kib\n",
       "0                              primap_data       681688\n",
       "1                                  prm_emi       438696\n",
       "2                         primap_data_pkey       412864\n",
       "3                             prm_emi_pkey       271448\n",
       "4                            fao_emi_total        50456\n",
       "5                       fao_emi_total_pkey        39912\n",
       "6                            cmip_conc_co2         4464\n",
       "7                       cmip_conc_co2_pkey         1816\n",
       "8                          primap_metadata         1432\n",
       "9                     primap_metadata_pkey          384\n",
       "10                          lak_emi_energy          240\n",
       "11                     lak_emi_energy_pkey          160\n",
       "12  primap_metadata_primap_metadata_id_key          112\n",
       "13  primap_metadata_primap_metadata_id_seq            8"
      ]
     },
     "execution_count": 233,
     "metadata": {},
     "output_type": "execute_result"
    }
   ],
   "source": [
    "sizes = pd.read_sql_query(\"\"\"SELECT relname, relpages * 8 as relsize_kib\n",
    "FROM pg_class\n",
    "where relnamespace = 2200\n",
    "ORDER BY relpages DESC;\"\"\",\n",
    "                 con=\"postgres:///ev\")\n",
    "sizes"
   ]
  },
  {
   "cell_type": "code",
   "execution_count": 235,
   "metadata": {
    "execution": {
     "iopub.execute_input": "2020-09-22T15:25:47.363789Z",
     "iopub.status.busy": "2020-09-22T15:25:47.363246Z",
     "iopub.status.idle": "2020-09-22T15:25:47.372213Z",
     "shell.execute_reply": "2020-09-22T15:25:47.371050Z",
     "shell.execute_reply.started": "2020-09-22T15:25:47.363738Z"
    }
   },
   "outputs": [
    {
     "data": {
      "text/plain": [
       "1859.0625"
      ]
     },
     "execution_count": 235,
     "metadata": {},
     "output_type": "execute_result"
    }
   ],
   "source": [
    "sizes['relsize_kib'].sum() / 1024  # MiB"
   ]
  },
  {
   "cell_type": "code",
   "execution_count": 236,
   "metadata": {
    "execution": {
     "iopub.execute_input": "2020-09-22T15:26:23.239421Z",
     "iopub.status.busy": "2020-09-22T15:26:23.238879Z",
     "iopub.status.idle": "2020-09-22T15:26:23.421960Z",
     "shell.execute_reply": "2020-09-22T15:26:23.420794Z",
     "shell.execute_reply.started": "2020-09-22T15:26:23.239369Z"
    }
   },
   "outputs": [
    {
     "name": "stdout",
     "output_type": "stream",
     "text": [
      "total 674M\n",
      "drwxrwxr-x  2 pflueger pflueger 4,0K Aug 27 10:55 .\n",
      "drwxrwxr-x 10 pflueger pflueger 4,0K Sep 22 12:14 ..\n",
      "-rw-rw-r--  1 pflueger pflueger 1,2M Aug 27 18:49 cmip_conc_co2.pck\n",
      "-rw-rw-r--  1 pflueger pflueger 1,2M Aug 27 18:53 cmip_conc_co2_wo.pck\n",
      "-rw-rw-r--  1 pflueger pflueger 8,8M Aug 27 18:49 fao_emi_total.pck\n",
      "-rw-rw-r--  1 pflueger pflueger 9,7M Aug 27 18:53 fao_emi_total_wo.pck\n",
      "-rw-rw-r--  1 pflueger pflueger  40K Aug 27 18:49 lak_emi_energy.pck\n",
      "-rw-rw-r--  1 pflueger pflueger  50K Aug 27 18:53 lak_emi_energy_wo.pck\n",
      "-rw-rw-r--  1 pflueger pflueger 205M Aug 27 18:49 primap_tables.pck\n",
      "-rw-rw-r--  1 pflueger pflueger 244M Aug 27 18:53 primap_tables_wo.pck\n",
      "-rw-rw-r--  1 pflueger pflueger 105M Aug 27 18:49 prm_emi.pck\n",
      "-rw-rw-r--  1 pflueger pflueger 100M Aug 27 18:53 prm_emi_wo.pck\n"
     ]
    }
   ],
   "source": [
    "!ls -lah mem/"
   ]
  },
  {
   "cell_type": "markdown",
   "metadata": {},
   "source": [
    "## I/O\n",
    "* export the data sets to CSV\n",
    "* reimport from CSV\n",
    "* export the data sets to some kind of native storage format\n",
    "* reimport from the native storage format"
   ]
  },
  {
   "cell_type": "code",
   "execution_count": 247,
   "metadata": {
    "execution": {
     "iopub.execute_input": "2020-09-22T16:00:22.459042Z",
     "iopub.status.busy": "2020-09-22T16:00:22.458858Z",
     "iopub.status.idle": "2020-09-22T16:00:25.102878Z",
     "shell.execute_reply": "2020-09-22T16:00:25.102458Z",
     "shell.execute_reply.started": "2020-09-22T16:00:22.459027Z"
    }
   },
   "outputs": [],
   "source": [
    "for table in ('prm_emi', 'fao_emi_total', 'cmip_conc_co2', 'lak_emi_energy'):\n",
    "    with open(f'psql/{table}.csv', 'wb') as fd:\n",
    "        cur.copy_expert(f\"\"\"copy {table}\n",
    "        to stdout\n",
    "        ( format csv, header true )\n",
    "        \"\"\", fd)"
   ]
  },
  {
   "cell_type": "code",
   "execution_count": 248,
   "metadata": {
    "execution": {
     "iopub.execute_input": "2020-09-22T16:00:27.741203Z",
     "iopub.status.busy": "2020-09-22T16:00:27.740472Z",
     "iopub.status.idle": "2020-09-22T16:00:27.925531Z",
     "shell.execute_reply": "2020-09-22T16:00:27.923268Z",
     "shell.execute_reply.started": "2020-09-22T16:00:27.741133Z"
    }
   },
   "outputs": [
    {
     "name": "stdout",
     "output_type": "stream",
     "text": [
      "total 300504\n",
      "drwxrwxr-x  2 pflueger pflueger      4096 Sep 22 18:00 .\n",
      "drwxrwxr-x 11 pflueger pflueger      4096 Sep 22 18:00 ..\n",
      "-rw-rw-r--  1 pflueger pflueger   3697625 Sep 22 18:00 cmip_conc_co2.csv\n",
      "-rw-rw-r--  1 pflueger pflueger  34561578 Sep 22 18:00 fao_emi_total.csv\n",
      "-rw-rw-r--  1 pflueger pflueger    188021 Sep 22 18:00 lak_emi_energy.csv\n",
      "-rw-rw-r--  1 pflueger pflueger 269255848 Sep 22 18:00 prm_emi.csv\n"
     ]
    }
   ],
   "source": [
    "!ls -la psql/"
   ]
  },
  {
   "cell_type": "code",
   "execution_count": 251,
   "metadata": {
    "execution": {
     "iopub.execute_input": "2020-09-22T16:13:54.397659Z",
     "iopub.status.busy": "2020-09-22T16:13:54.397450Z",
     "iopub.status.idle": "2020-09-22T16:14:04.081798Z",
     "shell.execute_reply": "2020-09-22T16:14:04.080981Z",
     "shell.execute_reply.started": "2020-09-22T16:13:54.397635Z"
    }
   },
   "outputs": [
    {
     "data": {
      "application/vnd.jupyter.widget-view+json": {
       "model_id": "5f0709c96c7a4a5aa137994d452e2ecd",
       "version_major": 2,
       "version_minor": 0
      },
      "text/plain": [
       "HBox(children=(IntProgress(value=0, max=4118), HTML(value='')))"
      ]
     },
     "metadata": {},
     "output_type": "display_data"
    },
    {
     "name": "stdout",
     "output_type": "stream",
     "text": [
      "\n"
     ]
    }
   ],
   "source": [
    "cur.execute(\"\"\"select primap_metadata_id from primap_metadata\"\"\")\n",
    "for pmid, in tqdm.tqdm_notebook(cur.fetchall()):\n",
    "    with open(f'psql/primap/{pmid}.csv', 'wb') as fd:\n",
    "        cur.copy_expert(f\"\"\"copy (select * from primap_data where primap_metadata_id = {pmid})\n",
    "        to stdout\n",
    "        ( format csv, header true )\n",
    "        \"\"\", fd)\n",
    "        \n",
    "with open('psql/primap_metadata.csv', 'wb') as fd:\n",
    "    cur.copy_expert(\"\"\"copy primap_metadata to stdout ( format csv, header true)\"\"\", fd)"
   ]
  },
  {
   "cell_type": "code",
   "execution_count": 275,
   "metadata": {
    "execution": {
     "iopub.execute_input": "2020-09-22T16:34:50.881267Z",
     "iopub.status.busy": "2020-09-22T16:34:50.880440Z",
     "iopub.status.idle": "2020-09-22T16:35:06.986866Z",
     "shell.execute_reply": "2020-09-22T16:35:06.986277Z",
     "shell.execute_reply.started": "2020-09-22T16:34:50.881185Z"
    }
   },
   "outputs": [],
   "source": [
    "# reimport\n",
    "# copy from does not infer data types or create tables\n",
    "# that is annoying, so have to do some stuff to create tables\n",
    "data_types = {'date': 'date', 'emissions': 'double precision', 'CO2 concentration': 'double precision'}\n",
    "\n",
    "for table in ('prm_emi', 'fao_emi_total', 'cmip_conc_co2', 'lak_emi_energy'):\n",
    "    with open(f'psql/{table}.csv', 'rb') as fd:\n",
    "        fline = fd.readline().decode()\n",
    "        headers = fline.strip().split(',')\n",
    "        header_spec = ', '.join((f'\"{header}\" {data_types.get(header, \"text\")}' for header in headers))\n",
    "        primary_key = ', '.join((header for header in headers if header not in ['emissions', 'CO2 concentration', 'unit']))\n",
    "        \n",
    "        sql = f\"\"\"create table {table}_r ({header_spec}, primary key ({primary_key}))\"\"\"\n",
    "        cur.execute(sql)\n",
    "        \n",
    "        cur.copy_expert(f\"\"\"copy {table}_r from stdout ( format csv, header false )\"\"\", fd)"
   ]
  },
  {
   "cell_type": "code",
   "execution_count": 277,
   "metadata": {
    "execution": {
     "iopub.execute_input": "2020-09-22T18:06:53.417438Z",
     "iopub.status.busy": "2020-09-22T18:06:53.417036Z",
     "iopub.status.idle": "2020-09-22T18:06:53.476139Z",
     "shell.execute_reply": "2020-09-22T18:06:53.475471Z",
     "shell.execute_reply.started": "2020-09-22T18:06:53.417400Z"
    }
   },
   "outputs": [],
   "source": [
    "cur.execute(\"\"\"create table primap_metadata_r (\n",
    "primap_metadata_id serial unique,\n",
    "Category text,\n",
    "Class text,\n",
    "Description text,\n",
    "Note text,\n",
    "Scenario text,\n",
    "Source text,\n",
    "Type text,\n",
    "Entity text,\n",
    "Unit text,\n",
    "primary key (Category, Class, Scenario, Source, Type, Entity)\n",
    ")\"\"\")\n",
    "\n",
    "with open('psql/primap_metadata.csv', 'rb') as fd:\n",
    "    cur.copy_expert(\"\"\"copy primap_metadata_r from stdout ( format csv, header true)\"\"\", fd)\n",
    "    "
   ]
  },
  {
   "cell_type": "code",
   "execution_count": 281,
   "metadata": {
    "execution": {
     "iopub.execute_input": "2020-09-22T18:10:00.516783Z",
     "iopub.status.busy": "2020-09-22T18:10:00.516601Z",
     "iopub.status.idle": "2020-09-22T18:12:26.149967Z",
     "shell.execute_reply": "2020-09-22T18:12:26.149565Z",
     "shell.execute_reply.started": "2020-09-22T18:10:00.516766Z"
    }
   },
   "outputs": [
    {
     "data": {
      "application/vnd.jupyter.widget-view+json": {
       "model_id": "643d0ec10dad4a479c3757a7eed317b9",
       "version_major": 2,
       "version_minor": 0
      },
      "text/plain": [
       "HBox(children=(IntProgress(value=0, max=4118), HTML(value='')))"
      ]
     },
     "metadata": {},
     "output_type": "display_data"
    },
    {
     "name": "stdout",
     "output_type": "stream",
     "text": [
      "\n"
     ]
    }
   ],
   "source": [
    "cur.execute(\"\"\"create table primap_data_r (\n",
    "primap_metadata_id integer references primap_metadata (primap_metadata_id),\n",
    "Area text,\n",
    "Date date,\n",
    "Value double precision,\n",
    "primary key (primap_metadata_id, Area, Date)\n",
    ")\"\"\")\n",
    "\n",
    "for fpath in tqdm.tqdm_notebook(os.listdir('psql/primap/')):\n",
    "    with open(f'psql/primap/{fpath}', 'rb') as fd:\n",
    "        cur.copy_expert(f\"\"\"copy primap_data_r\n",
    "        from stdout\n",
    "        ( format csv, header true )\n",
    "        \"\"\", fd)\n",
    "        "
   ]
  },
  {
   "cell_type": "code",
   "execution_count": 282,
   "metadata": {
    "execution": {
     "iopub.execute_input": "2020-09-22T18:12:26.150861Z",
     "iopub.status.busy": "2020-09-22T18:12:26.150675Z",
     "iopub.status.idle": "2020-09-22T18:12:26.161947Z",
     "shell.execute_reply": "2020-09-22T18:12:26.161394Z",
     "shell.execute_reply.started": "2020-09-22T18:12:26.150845Z"
    }
   },
   "outputs": [],
   "source": [
    "conn.commit()"
   ]
  },
  {
   "cell_type": "code",
   "execution_count": null,
   "metadata": {},
   "outputs": [],
   "source": [
    "# native: use pg_dump."
   ]
  }
 ],
 "metadata": {
  "kernelspec": {
   "display_name": "Python 3",
   "language": "python",
   "name": "python3"
  },
  "language_info": {
   "codemirror_mode": {
    "name": "ipython",
    "version": 3
   },
   "file_extension": ".py",
   "mimetype": "text/x-python",
   "name": "python",
   "nbconvert_exporter": "python",
   "pygments_lexer": "ipython3",
   "version": "3.8.2"
  }
 },
 "nbformat": 4,
 "nbformat_minor": 4
}
