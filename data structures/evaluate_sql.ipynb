{
 "cells": [
  {
   "cell_type": "code",
   "execution_count": 1,
   "metadata": {
    "execution": {
     "iopub.execute_input": "2020-09-24T07:18:26.362065Z",
     "iopub.status.busy": "2020-09-24T07:18:26.361739Z",
     "iopub.status.idle": "2020-09-24T07:18:28.874010Z",
     "shell.execute_reply": "2020-09-24T07:18:28.873405Z",
     "shell.execute_reply.started": "2020-09-24T07:18:26.362023Z"
    }
   },
   "outputs": [],
   "source": [
    "import matplotlib\n",
    "%matplotlib widget\n",
    "from matplotlib import pyplot as plt\n",
    "import psycopg2 as pg2\n",
    "import psycopg2.extras\n",
    "import psycopg2.extensions\n",
    "import pickle\n",
    "import pandas as pd\n",
    "import numpy as np\n",
    "import pint_pandas\n",
    "import tqdm\n",
    "import os\n",
    "import pint\n",
    "u = pint.UnitRegistry()"
   ]
  },
  {
   "cell_type": "markdown",
   "metadata": {
    "execution": {
     "iopub.execute_input": "2020-09-21T14:54:10.801037Z",
     "iopub.status.busy": "2020-09-21T14:54:10.800192Z",
     "iopub.status.idle": "2020-09-21T14:54:10.812961Z",
     "shell.execute_reply": "2020-09-21T14:54:10.811263Z",
     "shell.execute_reply.started": "2020-09-21T14:54:10.800957Z"
    }
   },
   "source": [
    "# representation\n",
    "* load all example data sets into the data structure at once\n",
    "* measure memory use\n",
    "* export the data sets to CSV\n",
    "* reimport from CSV\n",
    "* export the data sets to some kind of native storage format\n",
    "* reimport from the native storage format"
   ]
  },
  {
   "cell_type": "markdown",
   "metadata": {
    "execution": {
     "iopub.execute_input": "2020-09-21T14:54:10.801037Z",
     "iopub.status.busy": "2020-09-21T14:54:10.800192Z",
     "iopub.status.idle": "2020-09-21T14:54:10.812961Z",
     "shell.execute_reply": "2020-09-21T14:54:10.811263Z",
     "shell.execute_reply.started": "2020-09-21T14:54:10.800957Z"
    }
   },
   "source": [
    "\n",
    "## read in the data"
   ]
  },
  {
   "cell_type": "code",
   "execution_count": 2,
   "metadata": {
    "execution": {
     "iopub.execute_input": "2020-09-23T13:12:32.479910Z",
     "iopub.status.busy": "2020-09-23T13:12:32.479098Z",
     "iopub.status.idle": "2020-09-23T13:12:32.490545Z",
     "shell.execute_reply": "2020-09-23T13:12:32.489675Z",
     "shell.execute_reply.started": "2020-09-23T13:12:32.479815Z"
    }
   },
   "outputs": [],
   "source": [
    "conn = pg2.connect(\"dbname=ev\", cursor_factory=pg2.extras.NamedTupleCursor)"
   ]
  },
  {
   "cell_type": "code",
   "execution_count": 3,
   "metadata": {
    "execution": {
     "iopub.execute_input": "2020-09-23T13:12:33.087990Z",
     "iopub.status.busy": "2020-09-23T13:12:33.086921Z",
     "iopub.status.idle": "2020-09-23T13:12:33.094227Z",
     "shell.execute_reply": "2020-09-23T13:12:33.092049Z",
     "shell.execute_reply.started": "2020-09-23T13:12:33.087866Z"
    }
   },
   "outputs": [],
   "source": [
    "cur = conn.cursor()"
   ]
  },
  {
   "cell_type": "code",
   "execution_count": 92,
   "metadata": {
    "execution": {
     "iopub.execute_input": "2020-09-23T16:05:24.456192Z",
     "iopub.status.busy": "2020-09-23T16:05:24.455326Z",
     "iopub.status.idle": "2020-09-23T16:05:24.466441Z",
     "shell.execute_reply": "2020-09-23T16:05:24.464756Z",
     "shell.execute_reply.started": "2020-09-23T16:05:24.456113Z"
    }
   },
   "outputs": [],
   "source": [
    "def open_dequantify(fpath, deq_col):\n",
    "    with open(fpath, 'rb') as fd:\n",
    "        df = pickle.load(fd)\n",
    "    df['Unit'] = str(df[deq_col].pint.units)\n",
    "    df[deq_col] = df[deq_col].pint.magnitude\n",
    "    return df"
   ]
  },
  {
   "cell_type": "code",
   "execution_count": 88,
   "metadata": {
    "execution": {
     "iopub.execute_input": "2020-09-21T15:02:18.145683Z",
     "iopub.status.busy": "2020-09-21T15:02:18.145232Z",
     "iopub.status.idle": "2020-09-21T15:02:18.562489Z",
     "shell.execute_reply": "2020-09-21T15:02:18.561840Z",
     "shell.execute_reply.started": "2020-09-21T15:02:18.145642Z"
    }
   },
   "outputs": [],
   "source": [
    "fao_emi_total_pd = open_dequantify('mem/fao_emi_total_wo.pck', 'Emissions')"
   ]
  },
  {
   "cell_type": "code",
   "execution_count": 59,
   "metadata": {
    "execution": {
     "iopub.execute_input": "2020-09-21T14:40:44.335356Z",
     "iopub.status.busy": "2020-09-21T14:40:44.334071Z",
     "iopub.status.idle": "2020-09-21T14:40:44.365889Z",
     "shell.execute_reply": "2020-09-21T14:40:44.365008Z",
     "shell.execute_reply.started": "2020-09-21T14:40:44.335232Z"
    }
   },
   "outputs": [],
   "source": [
    "cur.execute(\"\"\"create table fao_emi_total (\n",
    "Area text,\n",
    "Date date,\n",
    "Element text,\n",
    "Item text,\n",
    "Emissions double precision,\n",
    "Unit text,\n",
    "primary key (Area, Date, Element, Item)\n",
    ")\"\"\")"
   ]
  },
  {
   "cell_type": "code",
   "execution_count": 60,
   "metadata": {
    "execution": {
     "iopub.execute_input": "2020-09-21T14:40:48.296978Z",
     "iopub.status.busy": "2020-09-21T14:40:48.296146Z",
     "iopub.status.idle": "2020-09-21T14:41:25.273516Z",
     "shell.execute_reply": "2020-09-21T14:41:25.272875Z",
     "shell.execute_reply.started": "2020-09-21T14:40:48.296894Z"
    }
   },
   "outputs": [],
   "source": [
    "cur.executemany(\"\"\"insert into fao_emi_total (Area, Date, Element, Item, Emissions, Unit) values (%s, %s, %s, %s, %s, %s)\"\"\",\n",
    "                (fao_emi_total_pd.itertuples(index=False, name=None)))"
   ]
  },
  {
   "cell_type": "code",
   "execution_count": 89,
   "metadata": {
    "execution": {
     "iopub.execute_input": "2020-09-21T15:02:20.688923Z",
     "iopub.status.busy": "2020-09-21T15:02:20.688082Z",
     "iopub.status.idle": "2020-09-21T15:02:20.707170Z",
     "shell.execute_reply": "2020-09-21T15:02:20.706281Z",
     "shell.execute_reply.started": "2020-09-21T15:02:20.688842Z"
    }
   },
   "outputs": [],
   "source": [
    "lak_emi_energy_pd = open_dequantify('mem/lak_emi_energy_wo.pck', 'Emissions')"
   ]
  },
  {
   "cell_type": "code",
   "execution_count": 73,
   "metadata": {
    "execution": {
     "iopub.execute_input": "2020-09-21T14:56:32.028139Z",
     "iopub.status.busy": "2020-09-21T14:56:32.027302Z",
     "iopub.status.idle": "2020-09-21T14:56:32.049739Z",
     "shell.execute_reply": "2020-09-21T14:56:32.048581Z",
     "shell.execute_reply.started": "2020-09-21T14:56:32.028058Z"
    }
   },
   "outputs": [],
   "source": [
    "cur.execute(\"\"\"create table lak_emi_energy (\n",
    "Area text,\n",
    "Category text,\n",
    "Date date,\n",
    "Emissions double precision,\n",
    "Unit text,\n",
    "primary key (Area, Category, Date)\n",
    ")\"\"\")"
   ]
  },
  {
   "cell_type": "code",
   "execution_count": 75,
   "metadata": {
    "execution": {
     "iopub.execute_input": "2020-09-21T14:57:30.727330Z",
     "iopub.status.busy": "2020-09-21T14:57:30.727140Z",
     "iopub.status.idle": "2020-09-21T14:57:30.912756Z",
     "shell.execute_reply": "2020-09-21T14:57:30.912372Z",
     "shell.execute_reply.started": "2020-09-21T14:57:30.727315Z"
    }
   },
   "outputs": [],
   "source": [
    "cur.executemany(\"\"\"insert into lak_emi_energy (Area, Category, Date, Emissions, Unit) values (%s, %s, %s, %s, %s)\"\"\",\n",
    "                (lak_emi_energy_pd.itertuples(index=False, name=None)))"
   ]
  },
  {
   "cell_type": "code",
   "execution_count": 76,
   "metadata": {
    "execution": {
     "iopub.execute_input": "2020-09-21T14:57:43.798256Z",
     "iopub.status.busy": "2020-09-21T14:57:43.797065Z",
     "iopub.status.idle": "2020-09-21T14:57:43.816243Z",
     "shell.execute_reply": "2020-09-21T14:57:43.814569Z",
     "shell.execute_reply.started": "2020-09-21T14:57:43.798142Z"
    }
   },
   "outputs": [],
   "source": [
    "conn.commit()"
   ]
  },
  {
   "cell_type": "code",
   "execution_count": 90,
   "metadata": {
    "execution": {
     "iopub.execute_input": "2020-09-21T15:02:23.209362Z",
     "iopub.status.busy": "2020-09-21T15:02:23.208538Z",
     "iopub.status.idle": "2020-09-21T15:02:23.298539Z",
     "shell.execute_reply": "2020-09-21T15:02:23.297883Z",
     "shell.execute_reply.started": "2020-09-21T15:02:23.209281Z"
    }
   },
   "outputs": [],
   "source": [
    "cmip_conc_co2_pd = open_dequantify('mem/cmip_conc_co2_wo.pck', 'CO2 concentration')"
   ]
  },
  {
   "cell_type": "code",
   "execution_count": 50,
   "metadata": {
    "execution": {
     "iopub.execute_input": "2020-09-23T14:59:13.589418Z",
     "iopub.status.busy": "2020-09-23T14:59:13.588177Z",
     "iopub.status.idle": "2020-09-23T14:59:13.602720Z",
     "shell.execute_reply": "2020-09-23T14:59:13.601246Z",
     "shell.execute_reply.started": "2020-09-23T14:59:13.589308Z"
    }
   },
   "outputs": [],
   "source": [
    "def adapt_period_cmip(period):\n",
    "    if period.year < 1:\n",
    "        year = 1 - period.year\n",
    "        suffix = 'BC'\n",
    "    else:\n",
    "        year = period.year\n",
    "        suffix = ''\n",
    "    return pg2.extensions.AsIs(f\"'{year:04d}-{period.month:02d}-01{suffix}'\")\n",
    "\n",
    "pg2.extensions.register_adapter(pd._libs.tslibs.period.Period, adapt_period_cmip)"
   ]
  },
  {
   "cell_type": "code",
   "execution_count": 51,
   "metadata": {
    "execution": {
     "iopub.execute_input": "2020-09-23T14:59:14.251361Z",
     "iopub.status.busy": "2020-09-23T14:59:14.251175Z",
     "iopub.status.idle": "2020-09-23T14:59:14.255387Z",
     "shell.execute_reply": "2020-09-23T14:59:14.254932Z",
     "shell.execute_reply.started": "2020-09-23T14:59:14.251344Z"
    }
   },
   "outputs": [],
   "source": [
    "def cast_date(value, cur):\n",
    "    if value is None:\n",
    "        return None\n",
    "    \n",
    "    if value.endswith('BC'):\n",
    "        bc = True\n",
    "        value = value.split()[0]\n",
    "    else:\n",
    "        bc = False\n",
    "    \n",
    "    y, m, d = value.split('-')\n",
    "    y = int(y)\n",
    "    if bc:\n",
    "        y = 1-y  # np.datetime64 counts everything AD and has the year 0 AD\n",
    "    return np.datetime64(f'{y:04d}-{m}-{d}')\n",
    "\n",
    "extended_date = pg2.extensions.new_type((1082, ), 'date', cast_date)\n",
    "pg2.extensions.register_type(extended_date)"
   ]
  },
  {
   "cell_type": "code",
   "execution_count": 126,
   "metadata": {
    "execution": {
     "iopub.execute_input": "2020-09-21T15:58:59.838845Z",
     "iopub.status.busy": "2020-09-21T15:58:59.837955Z",
     "iopub.status.idle": "2020-09-21T15:58:59.857272Z",
     "shell.execute_reply": "2020-09-21T15:58:59.856231Z",
     "shell.execute_reply.started": "2020-09-21T15:58:59.838760Z"
    }
   },
   "outputs": [],
   "source": [
    "cur.execute(\"\"\"create table cmip_conc_co2 (\n",
    "Area text,\n",
    "Date date,\n",
    "\"CO2 concentration\" double precision,\n",
    "Unit text,\n",
    "primary key (Area, Date)\n",
    ")\"\"\")"
   ]
  },
  {
   "cell_type": "code",
   "execution_count": 128,
   "metadata": {
    "execution": {
     "iopub.execute_input": "2020-09-21T15:59:03.870044Z",
     "iopub.status.busy": "2020-09-21T15:59:03.869213Z",
     "iopub.status.idle": "2020-09-21T15:59:07.398597Z",
     "shell.execute_reply": "2020-09-21T15:59:07.398068Z",
     "shell.execute_reply.started": "2020-09-21T15:59:03.869962Z"
    }
   },
   "outputs": [],
   "source": [
    "cur.executemany(\"\"\"insert into cmip_conc_co2 (Area, Date, \"CO2 concentration\", Unit) values (%s, %s, %s, %s)\"\"\",\n",
    "                (cmip_conc_co2_pd.itertuples(index=False, name=None)))"
   ]
  },
  {
   "cell_type": "code",
   "execution_count": 129,
   "metadata": {
    "execution": {
     "iopub.execute_input": "2020-09-21T15:59:28.963963Z",
     "iopub.status.busy": "2020-09-21T15:59:28.963003Z",
     "iopub.status.idle": "2020-09-21T15:59:28.979615Z",
     "shell.execute_reply": "2020-09-21T15:59:28.978344Z",
     "shell.execute_reply.started": "2020-09-21T15:59:28.963858Z"
    }
   },
   "outputs": [],
   "source": [
    "conn.commit()"
   ]
  },
  {
   "cell_type": "code",
   "execution_count": 188,
   "metadata": {
    "execution": {
     "iopub.execute_input": "2020-09-21T19:59:27.905660Z",
     "iopub.status.busy": "2020-09-21T19:59:27.904825Z",
     "iopub.status.idle": "2020-09-21T19:59:30.737404Z",
     "shell.execute_reply": "2020-09-21T19:59:30.736716Z",
     "shell.execute_reply.started": "2020-09-21T19:59:27.905580Z"
    }
   },
   "outputs": [],
   "source": [
    "prm_emi_pd = open_dequantify('mem/prm_emi_wo.pck', 'Emissions')"
   ]
  },
  {
   "cell_type": "code",
   "execution_count": 189,
   "metadata": {
    "execution": {
     "iopub.execute_input": "2020-09-21T19:59:30.738616Z",
     "iopub.status.busy": "2020-09-21T19:59:30.738397Z",
     "iopub.status.idle": "2020-09-21T19:59:30.764333Z",
     "shell.execute_reply": "2020-09-21T19:59:30.763604Z",
     "shell.execute_reply.started": "2020-09-21T19:59:30.738586Z"
    }
   },
   "outputs": [
    {
     "data": {
      "text/html": [
       "<div>\n",
       "<style scoped>\n",
       "    .dataframe tbody tr th:only-of-type {\n",
       "        vertical-align: middle;\n",
       "    }\n",
       "\n",
       "    .dataframe tbody tr th {\n",
       "        vertical-align: top;\n",
       "    }\n",
       "\n",
       "    .dataframe thead th {\n",
       "        text-align: right;\n",
       "    }\n",
       "</style>\n",
       "<table border=\"1\" class=\"dataframe\">\n",
       "  <thead>\n",
       "    <tr style=\"text-align: right;\">\n",
       "      <th></th>\n",
       "      <th>Area</th>\n",
       "      <th>Category</th>\n",
       "      <th>Date</th>\n",
       "      <th>Entity</th>\n",
       "      <th>Scenario</th>\n",
       "      <th>Emissions</th>\n",
       "      <th>Unit</th>\n",
       "    </tr>\n",
       "  </thead>\n",
       "  <tbody>\n",
       "    <tr>\n",
       "      <th>0</th>\n",
       "      <td>ABW</td>\n",
       "      <td>IPC1</td>\n",
       "      <td>1850-01-01</td>\n",
       "      <td>CH4</td>\n",
       "      <td>HISTCR</td>\n",
       "      <td>0.000387</td>\n",
       "      <td>gigagram</td>\n",
       "    </tr>\n",
       "    <tr>\n",
       "      <th>1</th>\n",
       "      <td>ABW</td>\n",
       "      <td>IPC1</td>\n",
       "      <td>1850-01-01</td>\n",
       "      <td>CH4</td>\n",
       "      <td>HISTTP</td>\n",
       "      <td>0.000387</td>\n",
       "      <td>gigagram</td>\n",
       "    </tr>\n",
       "    <tr>\n",
       "      <th>2</th>\n",
       "      <td>ABW</td>\n",
       "      <td>IPC1</td>\n",
       "      <td>1850-01-01</td>\n",
       "      <td>CO2</td>\n",
       "      <td>HISTCR</td>\n",
       "      <td>40.300000</td>\n",
       "      <td>gigagram</td>\n",
       "    </tr>\n",
       "    <tr>\n",
       "      <th>3</th>\n",
       "      <td>ABW</td>\n",
       "      <td>IPC1</td>\n",
       "      <td>1850-01-01</td>\n",
       "      <td>CO2</td>\n",
       "      <td>HISTTP</td>\n",
       "      <td>40.300000</td>\n",
       "      <td>gigagram</td>\n",
       "    </tr>\n",
       "    <tr>\n",
       "      <th>4</th>\n",
       "      <td>ABW</td>\n",
       "      <td>IPC1</td>\n",
       "      <td>1850-01-01</td>\n",
       "      <td>KYOTOGHG (CO2eq)</td>\n",
       "      <td>HISTCR</td>\n",
       "      <td>40.300000</td>\n",
       "      <td>gigagram</td>\n",
       "    </tr>\n",
       "    <tr>\n",
       "      <th>...</th>\n",
       "      <td>...</td>\n",
       "      <td>...</td>\n",
       "      <td>...</td>\n",
       "      <td>...</td>\n",
       "      <td>...</td>\n",
       "      <td>...</td>\n",
       "      <td>...</td>\n",
       "    </tr>\n",
       "    <tr>\n",
       "      <th>4990919</th>\n",
       "      <td>ZWE</td>\n",
       "      <td>IPCMAGELV</td>\n",
       "      <td>2017-01-01</td>\n",
       "      <td>KYOTOGHG (CO2eq)</td>\n",
       "      <td>HISTTP</td>\n",
       "      <td>6630.000000</td>\n",
       "      <td>gigagram</td>\n",
       "    </tr>\n",
       "    <tr>\n",
       "      <th>4990920</th>\n",
       "      <td>ZWE</td>\n",
       "      <td>IPCMAGELV</td>\n",
       "      <td>2017-01-01</td>\n",
       "      <td>KYOTOGHGAR4 (CO2eq)</td>\n",
       "      <td>HISTCR</td>\n",
       "      <td>6040.000000</td>\n",
       "      <td>gigagram</td>\n",
       "    </tr>\n",
       "    <tr>\n",
       "      <th>4990921</th>\n",
       "      <td>ZWE</td>\n",
       "      <td>IPCMAGELV</td>\n",
       "      <td>2017-01-01</td>\n",
       "      <td>KYOTOGHGAR4 (CO2eq)</td>\n",
       "      <td>HISTTP</td>\n",
       "      <td>6640.000000</td>\n",
       "      <td>gigagram</td>\n",
       "    </tr>\n",
       "    <tr>\n",
       "      <th>4990922</th>\n",
       "      <td>ZWE</td>\n",
       "      <td>IPCMAGELV</td>\n",
       "      <td>2017-01-01</td>\n",
       "      <td>N2O</td>\n",
       "      <td>HISTCR</td>\n",
       "      <td>15.600000</td>\n",
       "      <td>gigagram</td>\n",
       "    </tr>\n",
       "    <tr>\n",
       "      <th>4990923</th>\n",
       "      <td>ZWE</td>\n",
       "      <td>IPCMAGELV</td>\n",
       "      <td>2017-01-01</td>\n",
       "      <td>N2O</td>\n",
       "      <td>HISTTP</td>\n",
       "      <td>17.600000</td>\n",
       "      <td>gigagram</td>\n",
       "    </tr>\n",
       "  </tbody>\n",
       "</table>\n",
       "<p>4990924 rows × 7 columns</p>\n",
       "</div>"
      ],
      "text/plain": [
       "        Area   Category       Date               Entity Scenario    Emissions  \\\n",
       "0        ABW       IPC1 1850-01-01                  CH4   HISTCR     0.000387   \n",
       "1        ABW       IPC1 1850-01-01                  CH4   HISTTP     0.000387   \n",
       "2        ABW       IPC1 1850-01-01                  CO2   HISTCR    40.300000   \n",
       "3        ABW       IPC1 1850-01-01                  CO2   HISTTP    40.300000   \n",
       "4        ABW       IPC1 1850-01-01     KYOTOGHG (CO2eq)   HISTCR    40.300000   \n",
       "...      ...        ...        ...                  ...      ...          ...   \n",
       "4990919  ZWE  IPCMAGELV 2017-01-01     KYOTOGHG (CO2eq)   HISTTP  6630.000000   \n",
       "4990920  ZWE  IPCMAGELV 2017-01-01  KYOTOGHGAR4 (CO2eq)   HISTCR  6040.000000   \n",
       "4990921  ZWE  IPCMAGELV 2017-01-01  KYOTOGHGAR4 (CO2eq)   HISTTP  6640.000000   \n",
       "4990922  ZWE  IPCMAGELV 2017-01-01                  N2O   HISTCR    15.600000   \n",
       "4990923  ZWE  IPCMAGELV 2017-01-01                  N2O   HISTTP    17.600000   \n",
       "\n",
       "             Unit  \n",
       "0        gigagram  \n",
       "1        gigagram  \n",
       "2        gigagram  \n",
       "3        gigagram  \n",
       "4        gigagram  \n",
       "...           ...  \n",
       "4990919  gigagram  \n",
       "4990920  gigagram  \n",
       "4990921  gigagram  \n",
       "4990922  gigagram  \n",
       "4990923  gigagram  \n",
       "\n",
       "[4990924 rows x 7 columns]"
      ]
     },
     "execution_count": 189,
     "metadata": {},
     "output_type": "execute_result"
    }
   ],
   "source": [
    "prm_emi_pd"
   ]
  },
  {
   "cell_type": "code",
   "execution_count": 190,
   "metadata": {
    "execution": {
     "iopub.execute_input": "2020-09-21T20:00:16.157806Z",
     "iopub.status.busy": "2020-09-21T20:00:16.156839Z",
     "iopub.status.idle": "2020-09-21T20:00:16.186269Z",
     "shell.execute_reply": "2020-09-21T20:00:16.185436Z",
     "shell.execute_reply.started": "2020-09-21T20:00:16.157720Z"
    }
   },
   "outputs": [],
   "source": [
    "cur.execute(\"\"\"create table prm_emi (\n",
    "Area text,\n",
    "Category text,\n",
    "Date date,\n",
    "Entity text,\n",
    "Scenario text,\n",
    "Emissions double precision,\n",
    "Unit text,\n",
    "primary key (Area, Category, Date, Entity, Scenario)\n",
    ")\"\"\")"
   ]
  },
  {
   "cell_type": "code",
   "execution_count": 192,
   "metadata": {
    "execution": {
     "iopub.execute_input": "2020-09-21T20:01:30.088219Z",
     "iopub.status.busy": "2020-09-21T20:01:30.088035Z",
     "iopub.status.idle": "2020-09-21T20:08:05.812911Z",
     "shell.execute_reply": "2020-09-21T20:08:05.812034Z",
     "shell.execute_reply.started": "2020-09-21T20:01:30.088203Z"
    }
   },
   "outputs": [],
   "source": [
    "cur.executemany(\"\"\"insert into prm_emi (Area, Category, Date, Entity, Scenario, Emissions, Unit) values (%s, %s, %s, %s, %s, %s, %s)\"\"\",\n",
    "                (prm_emi_pd.itertuples(index=False, name=None)))"
   ]
  },
  {
   "cell_type": "code",
   "execution_count": 194,
   "metadata": {
    "execution": {
     "iopub.execute_input": "2020-09-22T08:33:49.280230Z",
     "iopub.status.busy": "2020-09-22T08:33:49.279370Z",
     "iopub.status.idle": "2020-09-22T08:33:49.289463Z",
     "shell.execute_reply": "2020-09-22T08:33:49.288108Z",
     "shell.execute_reply.started": "2020-09-22T08:33:49.280147Z"
    }
   },
   "outputs": [],
   "source": [
    "conn.commit()"
   ]
  },
  {
   "cell_type": "code",
   "execution_count": 220,
   "metadata": {
    "execution": {
     "iopub.execute_input": "2020-09-22T09:03:58.525580Z",
     "iopub.status.busy": "2020-09-22T09:03:58.524460Z",
     "iopub.status.idle": "2020-09-22T09:04:01.388185Z",
     "shell.execute_reply": "2020-09-22T09:04:01.387130Z",
     "shell.execute_reply.started": "2020-09-22T09:03:58.525464Z"
    }
   },
   "outputs": [],
   "source": [
    "with open(f'mem/primap_tables_wo.pck', 'rb') as fd:\n",
    "    primap_tables_pd = pickle.load(fd)\n",
    "    "
   ]
  },
  {
   "cell_type": "code",
   "execution_count": 221,
   "metadata": {
    "execution": {
     "iopub.execute_input": "2020-09-22T09:04:03.170597Z",
     "iopub.status.busy": "2020-09-22T09:04:03.169105Z",
     "iopub.status.idle": "2020-09-22T09:04:03.201322Z",
     "shell.execute_reply": "2020-09-22T09:04:03.200404Z",
     "shell.execute_reply.started": "2020-09-22T09:04:03.170468Z"
    }
   },
   "outputs": [],
   "source": [
    "cur.execute(\"\"\"create table primap_metadata (\n",
    "primap_metadata_id serial unique,\n",
    "Category text,\n",
    "Class text,\n",
    "Description text,\n",
    "Note text,\n",
    "Scenario text,\n",
    "Source text,\n",
    "Type text,\n",
    "Entity text,\n",
    "Unit text,\n",
    "primary key (Category, Class, Scenario, Source, Type, Entity)\n",
    ")\"\"\")"
   ]
  },
  {
   "cell_type": "code",
   "execution_count": 222,
   "metadata": {
    "execution": {
     "iopub.execute_input": "2020-09-22T09:04:04.149434Z",
     "iopub.status.busy": "2020-09-22T09:04:04.148229Z",
     "iopub.status.idle": "2020-09-22T09:04:04.176566Z",
     "shell.execute_reply": "2020-09-22T09:04:04.175775Z",
     "shell.execute_reply.started": "2020-09-22T09:04:04.149325Z"
    }
   },
   "outputs": [],
   "source": [
    "cur.execute(\"\"\"create table primap_data (\n",
    "primap_metadata_id integer references primap_metadata (primap_metadata_id),\n",
    "Area text,\n",
    "Date date,\n",
    "Value double precision,\n",
    "primary key (primap_metadata_id, Area, Date)\n",
    ")\"\"\")"
   ]
  },
  {
   "cell_type": "code",
   "execution_count": 223,
   "metadata": {
    "execution": {
     "iopub.execute_input": "2020-09-22T09:04:05.185403Z",
     "iopub.status.busy": "2020-09-22T09:04:05.185052Z",
     "iopub.status.idle": "2020-09-22T09:25:36.100123Z",
     "shell.execute_reply": "2020-09-22T09:25:36.099472Z",
     "shell.execute_reply.started": "2020-09-22T09:04:05.185372Z"
    }
   },
   "outputs": [
    {
     "data": {
      "application/vnd.jupyter.widget-view+json": {
       "model_id": "01bfb3bedee24fd6b92330cd1b6c631c",
       "version_major": 2,
       "version_minor": 0
      },
      "text/plain": [
       "HBox(children=(IntProgress(value=0, max=4118), HTML(value='')))"
      ]
     },
     "metadata": {},
     "output_type": "display_data"
    },
    {
     "name": "stdout",
     "output_type": "stream",
     "text": [
      "\n"
     ]
    }
   ],
   "source": [
    "for key in tqdm.tqdm_notebook(primap_tables_pd):\n",
    "    meta, df = primap_tables_pd[key]\n",
    "    \n",
    "    entity = df.columns[-1]\n",
    "    unit = str(df[entity].pint.units)\n",
    "    df[entity] = df[entity].pint.magnitude\n",
    "    \n",
    "    cur.execute(\"\"\"insert into primap_metadata (Category, Class, Description, Note, Scenario, Source, Type, Entity, Unit)\n",
    "                   values (%s, %s, %s, %s, %s, %s, %s, %s, %s)\n",
    "                   returning primap_metadata_id\"\"\",\n",
    "                (meta['category'], meta['class'], meta['descr'], meta['note'], meta['scenario'], meta['source'], meta['type'], entity, unit))\n",
    "    metadata_id = cur.fetchone()[0]\n",
    "    \n",
    "    cur.executemany(f\"\"\"insert into primap_data (primap_metadata_id, Area, Date, Value)\n",
    "                        values ({metadata_id}, %s, %s, %s)\"\"\",\n",
    "                    df.itertuples(index=False, name=None))"
   ]
  },
  {
   "cell_type": "code",
   "execution_count": 224,
   "metadata": {
    "execution": {
     "iopub.execute_input": "2020-09-22T09:50:36.511454Z",
     "iopub.status.busy": "2020-09-22T09:50:36.511017Z",
     "iopub.status.idle": "2020-09-22T09:50:36.525436Z",
     "shell.execute_reply": "2020-09-22T09:50:36.524711Z",
     "shell.execute_reply.started": "2020-09-22T09:50:36.511413Z"
    }
   },
   "outputs": [],
   "source": [
    "conn.commit()"
   ]
  },
  {
   "cell_type": "markdown",
   "metadata": {},
   "source": [
    "## Measure memory use"
   ]
  },
  {
   "cell_type": "code",
   "execution_count": 225,
   "metadata": {
    "execution": {
     "iopub.execute_input": "2020-09-22T10:07:35.916370Z",
     "iopub.status.busy": "2020-09-22T10:07:35.916109Z",
     "iopub.status.idle": "2020-09-22T10:07:36.090668Z",
     "shell.execute_reply": "2020-09-22T10:07:36.088361Z",
     "shell.execute_reply.started": "2020-09-22T10:07:35.916347Z"
    }
   },
   "outputs": [
    {
     "name": "stdout",
     "output_type": "stream",
     "text": [
      "\u001b[0;1;32m●\u001b[0m postgresql@12-main.service - PostgreSQL Cluster 12-main\n",
      "     Loaded: loaded (\u001b]8;;file://lt874/lib/systemd/system/postgresql@.service\u0007/lib/systemd/system/postgresql@.service\u001b]8;;\u0007; enabled-runtime; vendor preset: enabled)\n",
      "     Active: \u001b[0;1;32mactive (running)\u001b[0m since Mon 2020-09-21 15:34:07 CEST; 20h ago\n",
      "   Main PID: 23721 (postgres)\n",
      "      Tasks: 16 (limit: 18915)\n",
      "     Memory: 2.3G\n",
      "     CGroup: /system.slice/system-postgresql.slice/postgresql@12-main.service\n",
      "             ├─ 23721 /usr/lib/postgresql/12/bin/postgres -D /var/lib/postgresq…\n",
      "             ├─ 23723 postgres: 12/main: checkpointer\n",
      "             ├─ 23724 postgres: 12/main: background writer\n",
      "             ├─ 23725 postgres: 12/main: walwriter\n",
      "             ├─ 23726 postgres: 12/main: autovacuum launcher\n",
      "             ├─ 23727 postgres: 12/main: stats collector\n",
      "             ├─ 23728 postgres: 12/main: logical replication launcher\n",
      "             ├─ 27206 postgres: 12/main: pflueger ev [local] idle\n",
      "             ├─ 34534 postgres: 12/main: pflueger ev [local] idle in transactio…\n",
      "             ├─ 39790 postgres: 12/main: pflueger ev 127.0.0.1(35034) idle\n",
      "             ├─ 39940 postgres: 12/main: pflueger ev [local] idle\n",
      "             ├─ 40533 postgres: 12/main: pflueger ev 127.0.0.1(35194) idle\n",
      "             ├─ 48211 postgres: 12/main: pflueger ev 127.0.0.1(36122) idle\n",
      "             ├─165518 postgres: 12/main: pflueger ev 127.0.0.1(50166) idle\n",
      "             ├─166197 postgres: 12/main: pflueger postgres 127.0.0.1(50270) idle\n",
      "             └─166433 postgres: 12/main: pflueger ev 127.0.0.1(50300) idle\n",
      "\n",
      "Sep 21 15:34:05 lt874 systemd[1]: Starting PostgreSQL Cluster 12-main...\n",
      "Sep 21 15:34:07 lt874 systemd[1]: Started PostgreSQL Cluster 12-main.\n"
     ]
    }
   ],
   "source": [
    "!systemctl status postgresql@12-main.service"
   ]
  },
  {
   "cell_type": "code",
   "execution_count": 233,
   "metadata": {
    "execution": {
     "iopub.execute_input": "2020-09-22T15:25:20.323318Z",
     "iopub.status.busy": "2020-09-22T15:25:20.322435Z",
     "iopub.status.idle": "2020-09-22T15:25:20.352549Z",
     "shell.execute_reply": "2020-09-22T15:25:20.351522Z",
     "shell.execute_reply.started": "2020-09-22T15:25:20.323237Z"
    }
   },
   "outputs": [
    {
     "data": {
      "text/html": [
       "<div>\n",
       "<style scoped>\n",
       "    .dataframe tbody tr th:only-of-type {\n",
       "        vertical-align: middle;\n",
       "    }\n",
       "\n",
       "    .dataframe tbody tr th {\n",
       "        vertical-align: top;\n",
       "    }\n",
       "\n",
       "    .dataframe thead th {\n",
       "        text-align: right;\n",
       "    }\n",
       "</style>\n",
       "<table border=\"1\" class=\"dataframe\">\n",
       "  <thead>\n",
       "    <tr style=\"text-align: right;\">\n",
       "      <th></th>\n",
       "      <th>relname</th>\n",
       "      <th>relsize_kib</th>\n",
       "    </tr>\n",
       "  </thead>\n",
       "  <tbody>\n",
       "    <tr>\n",
       "      <th>0</th>\n",
       "      <td>primap_data</td>\n",
       "      <td>681688</td>\n",
       "    </tr>\n",
       "    <tr>\n",
       "      <th>1</th>\n",
       "      <td>prm_emi</td>\n",
       "      <td>438696</td>\n",
       "    </tr>\n",
       "    <tr>\n",
       "      <th>2</th>\n",
       "      <td>primap_data_pkey</td>\n",
       "      <td>412864</td>\n",
       "    </tr>\n",
       "    <tr>\n",
       "      <th>3</th>\n",
       "      <td>prm_emi_pkey</td>\n",
       "      <td>271448</td>\n",
       "    </tr>\n",
       "    <tr>\n",
       "      <th>4</th>\n",
       "      <td>fao_emi_total</td>\n",
       "      <td>50456</td>\n",
       "    </tr>\n",
       "    <tr>\n",
       "      <th>5</th>\n",
       "      <td>fao_emi_total_pkey</td>\n",
       "      <td>39912</td>\n",
       "    </tr>\n",
       "    <tr>\n",
       "      <th>6</th>\n",
       "      <td>cmip_conc_co2</td>\n",
       "      <td>4464</td>\n",
       "    </tr>\n",
       "    <tr>\n",
       "      <th>7</th>\n",
       "      <td>cmip_conc_co2_pkey</td>\n",
       "      <td>1816</td>\n",
       "    </tr>\n",
       "    <tr>\n",
       "      <th>8</th>\n",
       "      <td>primap_metadata</td>\n",
       "      <td>1432</td>\n",
       "    </tr>\n",
       "    <tr>\n",
       "      <th>9</th>\n",
       "      <td>primap_metadata_pkey</td>\n",
       "      <td>384</td>\n",
       "    </tr>\n",
       "    <tr>\n",
       "      <th>10</th>\n",
       "      <td>lak_emi_energy</td>\n",
       "      <td>240</td>\n",
       "    </tr>\n",
       "    <tr>\n",
       "      <th>11</th>\n",
       "      <td>lak_emi_energy_pkey</td>\n",
       "      <td>160</td>\n",
       "    </tr>\n",
       "    <tr>\n",
       "      <th>12</th>\n",
       "      <td>primap_metadata_primap_metadata_id_key</td>\n",
       "      <td>112</td>\n",
       "    </tr>\n",
       "    <tr>\n",
       "      <th>13</th>\n",
       "      <td>primap_metadata_primap_metadata_id_seq</td>\n",
       "      <td>8</td>\n",
       "    </tr>\n",
       "  </tbody>\n",
       "</table>\n",
       "</div>"
      ],
      "text/plain": [
       "                                   relname  relsize_kib\n",
       "0                              primap_data       681688\n",
       "1                                  prm_emi       438696\n",
       "2                         primap_data_pkey       412864\n",
       "3                             prm_emi_pkey       271448\n",
       "4                            fao_emi_total        50456\n",
       "5                       fao_emi_total_pkey        39912\n",
       "6                            cmip_conc_co2         4464\n",
       "7                       cmip_conc_co2_pkey         1816\n",
       "8                          primap_metadata         1432\n",
       "9                     primap_metadata_pkey          384\n",
       "10                          lak_emi_energy          240\n",
       "11                     lak_emi_energy_pkey          160\n",
       "12  primap_metadata_primap_metadata_id_key          112\n",
       "13  primap_metadata_primap_metadata_id_seq            8"
      ]
     },
     "execution_count": 233,
     "metadata": {},
     "output_type": "execute_result"
    }
   ],
   "source": [
    "sizes = pd.read_sql_query(\"\"\"SELECT relname, relpages * 8 as relsize_kib\n",
    "FROM pg_class\n",
    "where relnamespace = 2200\n",
    "ORDER BY relpages DESC;\"\"\",\n",
    "                 con=\"postgres:///ev\")\n",
    "sizes"
   ]
  },
  {
   "cell_type": "code",
   "execution_count": 235,
   "metadata": {
    "execution": {
     "iopub.execute_input": "2020-09-22T15:25:47.363789Z",
     "iopub.status.busy": "2020-09-22T15:25:47.363246Z",
     "iopub.status.idle": "2020-09-22T15:25:47.372213Z",
     "shell.execute_reply": "2020-09-22T15:25:47.371050Z",
     "shell.execute_reply.started": "2020-09-22T15:25:47.363738Z"
    }
   },
   "outputs": [
    {
     "data": {
      "text/plain": [
       "1859.0625"
      ]
     },
     "execution_count": 235,
     "metadata": {},
     "output_type": "execute_result"
    }
   ],
   "source": [
    "sizes['relsize_kib'].sum() / 1024  # MiB"
   ]
  },
  {
   "cell_type": "code",
   "execution_count": 236,
   "metadata": {
    "execution": {
     "iopub.execute_input": "2020-09-22T15:26:23.239421Z",
     "iopub.status.busy": "2020-09-22T15:26:23.238879Z",
     "iopub.status.idle": "2020-09-22T15:26:23.421960Z",
     "shell.execute_reply": "2020-09-22T15:26:23.420794Z",
     "shell.execute_reply.started": "2020-09-22T15:26:23.239369Z"
    }
   },
   "outputs": [
    {
     "name": "stdout",
     "output_type": "stream",
     "text": [
      "total 674M\n",
      "drwxrwxr-x  2 pflueger pflueger 4,0K Aug 27 10:55 .\n",
      "drwxrwxr-x 10 pflueger pflueger 4,0K Sep 22 12:14 ..\n",
      "-rw-rw-r--  1 pflueger pflueger 1,2M Aug 27 18:49 cmip_conc_co2.pck\n",
      "-rw-rw-r--  1 pflueger pflueger 1,2M Aug 27 18:53 cmip_conc_co2_wo.pck\n",
      "-rw-rw-r--  1 pflueger pflueger 8,8M Aug 27 18:49 fao_emi_total.pck\n",
      "-rw-rw-r--  1 pflueger pflueger 9,7M Aug 27 18:53 fao_emi_total_wo.pck\n",
      "-rw-rw-r--  1 pflueger pflueger  40K Aug 27 18:49 lak_emi_energy.pck\n",
      "-rw-rw-r--  1 pflueger pflueger  50K Aug 27 18:53 lak_emi_energy_wo.pck\n",
      "-rw-rw-r--  1 pflueger pflueger 205M Aug 27 18:49 primap_tables.pck\n",
      "-rw-rw-r--  1 pflueger pflueger 244M Aug 27 18:53 primap_tables_wo.pck\n",
      "-rw-rw-r--  1 pflueger pflueger 105M Aug 27 18:49 prm_emi.pck\n",
      "-rw-rw-r--  1 pflueger pflueger 100M Aug 27 18:53 prm_emi_wo.pck\n"
     ]
    }
   ],
   "source": [
    "!ls -lah mem/"
   ]
  },
  {
   "cell_type": "markdown",
   "metadata": {},
   "source": [
    "## I/O\n",
    "* export the data sets to CSV\n",
    "* reimport from CSV\n",
    "* export the data sets to some kind of native storage format\n",
    "* reimport from the native storage format"
   ]
  },
  {
   "cell_type": "code",
   "execution_count": 247,
   "metadata": {
    "execution": {
     "iopub.execute_input": "2020-09-22T16:00:22.459042Z",
     "iopub.status.busy": "2020-09-22T16:00:22.458858Z",
     "iopub.status.idle": "2020-09-22T16:00:25.102878Z",
     "shell.execute_reply": "2020-09-22T16:00:25.102458Z",
     "shell.execute_reply.started": "2020-09-22T16:00:22.459027Z"
    }
   },
   "outputs": [],
   "source": [
    "for table in ('prm_emi', 'fao_emi_total', 'cmip_conc_co2', 'lak_emi_energy'):\n",
    "    with open(f'psql/{table}.csv', 'wb') as fd:\n",
    "        cur.copy_expert(f\"\"\"copy {table}\n",
    "        to stdout\n",
    "        ( format csv, header true )\n",
    "        \"\"\", fd)"
   ]
  },
  {
   "cell_type": "code",
   "execution_count": 248,
   "metadata": {
    "execution": {
     "iopub.execute_input": "2020-09-22T16:00:27.741203Z",
     "iopub.status.busy": "2020-09-22T16:00:27.740472Z",
     "iopub.status.idle": "2020-09-22T16:00:27.925531Z",
     "shell.execute_reply": "2020-09-22T16:00:27.923268Z",
     "shell.execute_reply.started": "2020-09-22T16:00:27.741133Z"
    }
   },
   "outputs": [
    {
     "name": "stdout",
     "output_type": "stream",
     "text": [
      "total 300504\n",
      "drwxrwxr-x  2 pflueger pflueger      4096 Sep 22 18:00 .\n",
      "drwxrwxr-x 11 pflueger pflueger      4096 Sep 22 18:00 ..\n",
      "-rw-rw-r--  1 pflueger pflueger   3697625 Sep 22 18:00 cmip_conc_co2.csv\n",
      "-rw-rw-r--  1 pflueger pflueger  34561578 Sep 22 18:00 fao_emi_total.csv\n",
      "-rw-rw-r--  1 pflueger pflueger    188021 Sep 22 18:00 lak_emi_energy.csv\n",
      "-rw-rw-r--  1 pflueger pflueger 269255848 Sep 22 18:00 prm_emi.csv\n"
     ]
    }
   ],
   "source": [
    "!ls -la psql/"
   ]
  },
  {
   "cell_type": "code",
   "execution_count": 251,
   "metadata": {
    "execution": {
     "iopub.execute_input": "2020-09-22T16:13:54.397659Z",
     "iopub.status.busy": "2020-09-22T16:13:54.397450Z",
     "iopub.status.idle": "2020-09-22T16:14:04.081798Z",
     "shell.execute_reply": "2020-09-22T16:14:04.080981Z",
     "shell.execute_reply.started": "2020-09-22T16:13:54.397635Z"
    }
   },
   "outputs": [
    {
     "data": {
      "application/vnd.jupyter.widget-view+json": {
       "model_id": "5f0709c96c7a4a5aa137994d452e2ecd",
       "version_major": 2,
       "version_minor": 0
      },
      "text/plain": [
       "HBox(children=(IntProgress(value=0, max=4118), HTML(value='')))"
      ]
     },
     "metadata": {},
     "output_type": "display_data"
    },
    {
     "name": "stdout",
     "output_type": "stream",
     "text": [
      "\n"
     ]
    }
   ],
   "source": [
    "cur.execute(\"\"\"select primap_metadata_id from primap_metadata\"\"\")\n",
    "for pmid, in tqdm.tqdm_notebook(cur.fetchall()):\n",
    "    with open(f'psql/primap/{pmid}.csv', 'wb') as fd:\n",
    "        cur.copy_expert(f\"\"\"copy (select * from primap_data where primap_metadata_id = {pmid})\n",
    "        to stdout\n",
    "        ( format csv, header true )\n",
    "        \"\"\", fd)\n",
    "        \n",
    "with open('psql/primap_metadata.csv', 'wb') as fd:\n",
    "    cur.copy_expert(\"\"\"copy primap_metadata to stdout ( format csv, header true)\"\"\", fd)"
   ]
  },
  {
   "cell_type": "code",
   "execution_count": 275,
   "metadata": {
    "execution": {
     "iopub.execute_input": "2020-09-22T16:34:50.881267Z",
     "iopub.status.busy": "2020-09-22T16:34:50.880440Z",
     "iopub.status.idle": "2020-09-22T16:35:06.986866Z",
     "shell.execute_reply": "2020-09-22T16:35:06.986277Z",
     "shell.execute_reply.started": "2020-09-22T16:34:50.881185Z"
    }
   },
   "outputs": [],
   "source": [
    "# reimport\n",
    "# copy from does not infer data types or create tables\n",
    "# that is annoying, so have to do some stuff to create tables\n",
    "data_types = {'date': 'date', 'emissions': 'double precision', 'CO2 concentration': 'double precision'}\n",
    "\n",
    "for table in ('prm_emi', 'fao_emi_total', 'cmip_conc_co2', 'lak_emi_energy'):\n",
    "    with open(f'psql/{table}.csv', 'rb') as fd:\n",
    "        fline = fd.readline().decode()\n",
    "        headers = fline.strip().split(',')\n",
    "        header_spec = ', '.join((f'\"{header}\" {data_types.get(header, \"text\")}' for header in headers))\n",
    "        primary_key = ', '.join((header for header in headers if header not in ['emissions', 'CO2 concentration', 'unit']))\n",
    "        \n",
    "        sql = f\"\"\"create table {table}_r ({header_spec}, primary key ({primary_key}))\"\"\"\n",
    "        cur.execute(sql)\n",
    "        \n",
    "        cur.copy_expert(f\"\"\"copy {table}_r from stdout ( format csv, header false )\"\"\", fd)"
   ]
  },
  {
   "cell_type": "code",
   "execution_count": 277,
   "metadata": {
    "execution": {
     "iopub.execute_input": "2020-09-22T18:06:53.417438Z",
     "iopub.status.busy": "2020-09-22T18:06:53.417036Z",
     "iopub.status.idle": "2020-09-22T18:06:53.476139Z",
     "shell.execute_reply": "2020-09-22T18:06:53.475471Z",
     "shell.execute_reply.started": "2020-09-22T18:06:53.417400Z"
    }
   },
   "outputs": [],
   "source": [
    "cur.execute(\"\"\"create table primap_metadata_r (\n",
    "primap_metadata_id serial unique,\n",
    "Category text,\n",
    "Class text,\n",
    "Description text,\n",
    "Note text,\n",
    "Scenario text,\n",
    "Source text,\n",
    "Type text,\n",
    "Entity text,\n",
    "Unit text,\n",
    "primary key (Category, Class, Scenario, Source, Type, Entity)\n",
    ")\"\"\")\n",
    "\n",
    "with open('psql/primap_metadata.csv', 'rb') as fd:\n",
    "    cur.copy_expert(\"\"\"copy primap_metadata_r from stdout ( format csv, header true)\"\"\", fd)\n",
    "    "
   ]
  },
  {
   "cell_type": "code",
   "execution_count": 281,
   "metadata": {
    "execution": {
     "iopub.execute_input": "2020-09-22T18:10:00.516783Z",
     "iopub.status.busy": "2020-09-22T18:10:00.516601Z",
     "iopub.status.idle": "2020-09-22T18:12:26.149967Z",
     "shell.execute_reply": "2020-09-22T18:12:26.149565Z",
     "shell.execute_reply.started": "2020-09-22T18:10:00.516766Z"
    }
   },
   "outputs": [
    {
     "data": {
      "application/vnd.jupyter.widget-view+json": {
       "model_id": "643d0ec10dad4a479c3757a7eed317b9",
       "version_major": 2,
       "version_minor": 0
      },
      "text/plain": [
       "HBox(children=(IntProgress(value=0, max=4118), HTML(value='')))"
      ]
     },
     "metadata": {},
     "output_type": "display_data"
    },
    {
     "name": "stdout",
     "output_type": "stream",
     "text": [
      "\n"
     ]
    }
   ],
   "source": [
    "cur.execute(\"\"\"create table primap_data_r (\n",
    "primap_metadata_id integer references primap_metadata (primap_metadata_id),\n",
    "Area text,\n",
    "Date date,\n",
    "Value double precision,\n",
    "primary key (primap_metadata_id, Area, Date)\n",
    ")\"\"\")\n",
    "\n",
    "for fpath in tqdm.tqdm_notebook(os.listdir('psql/primap/')):\n",
    "    with open(f'psql/primap/{fpath}', 'rb') as fd:\n",
    "        cur.copy_expert(f\"\"\"copy primap_data_r\n",
    "        from stdout\n",
    "        ( format csv, header true )\n",
    "        \"\"\", fd)\n",
    "        "
   ]
  },
  {
   "cell_type": "code",
   "execution_count": 282,
   "metadata": {
    "execution": {
     "iopub.execute_input": "2020-09-22T18:12:26.150861Z",
     "iopub.status.busy": "2020-09-22T18:12:26.150675Z",
     "iopub.status.idle": "2020-09-22T18:12:26.161947Z",
     "shell.execute_reply": "2020-09-22T18:12:26.161394Z",
     "shell.execute_reply.started": "2020-09-22T18:12:26.150845Z"
    }
   },
   "outputs": [],
   "source": [
    "conn.commit()"
   ]
  },
  {
   "cell_type": "code",
   "execution_count": 8,
   "metadata": {
    "collapsed": true,
    "execution": {
     "iopub.execute_input": "2020-09-23T08:11:10.971407Z",
     "iopub.status.busy": "2020-09-23T08:11:10.971219Z",
     "iopub.status.idle": "2020-09-23T08:11:27.487536Z",
     "shell.execute_reply": "2020-09-23T08:11:27.485605Z",
     "shell.execute_reply.started": "2020-09-23T08:11:10.971390Z"
    },
    "jupyter": {
     "outputs_hidden": true
    }
   },
   "outputs": [
    {
     "name": "stdout",
     "output_type": "stream",
     "text": [
      "mkdir: cannot create directory ‘psql/dump/’: File exists\n",
      "pg_dump: last built-in OID is 16383\n",
      "pg_dump: reading extensions\n",
      "pg_dump: identifying extension members\n",
      "pg_dump: reading schemas\n",
      "pg_dump: reading user-defined tables\n",
      "pg_dump: reading user-defined functions\n",
      "pg_dump: reading user-defined types\n",
      "pg_dump: reading procedural languages\n",
      "pg_dump: reading user-defined aggregate functions\n",
      "pg_dump: reading user-defined operators\n",
      "pg_dump: reading user-defined access methods\n",
      "pg_dump: reading user-defined operator classes\n",
      "pg_dump: reading user-defined operator families\n",
      "pg_dump: reading user-defined text search parsers\n",
      "pg_dump: reading user-defined text search templates\n",
      "pg_dump: reading user-defined text search dictionaries\n",
      "pg_dump: reading user-defined text search configurations\n",
      "pg_dump: reading user-defined foreign-data wrappers\n",
      "pg_dump: reading user-defined foreign servers\n",
      "pg_dump: reading default privileges\n",
      "pg_dump: reading user-defined collations\n",
      "pg_dump: reading user-defined conversions\n",
      "pg_dump: reading type casts\n",
      "pg_dump: reading transforms\n",
      "pg_dump: reading table inheritance information\n",
      "pg_dump: reading event triggers\n",
      "pg_dump: finding extension tables\n",
      "pg_dump: finding inheritance relationships\n",
      "pg_dump: reading column info for interesting tables\n",
      "pg_dump: finding the columns and types of table \"public.fao_emi_total\"\n",
      "pg_dump: finding the columns and types of table \"public.lak_emi_energy\"\n",
      "pg_dump: finding the columns and types of table \"public.cmip_conc_co2\"\n",
      "pg_dump: finding the columns and types of table \"public.prm_emi\"\n",
      "pg_dump: finding the columns and types of table \"public.primap_metadata\"\n",
      "pg_dump: finding default expressions of table \"public.primap_metadata\"\n",
      "pg_dump: finding the columns and types of table \"public.primap_data\"\n",
      "pg_dump: flagging inherited columns in subtables\n",
      "pg_dump: reading indexes\n",
      "pg_dump: reading indexes for table \"public.fao_emi_total\"\n",
      "pg_dump: reading indexes for table \"public.lak_emi_energy\"\n",
      "pg_dump: reading indexes for table \"public.cmip_conc_co2\"\n",
      "pg_dump: reading indexes for table \"public.prm_emi\"\n",
      "pg_dump: reading indexes for table \"public.primap_metadata\"\n",
      "pg_dump: reading indexes for table \"public.primap_data\"\n",
      "pg_dump: flagging indexes in partitioned tables\n",
      "pg_dump: reading extended statistics\n",
      "pg_dump: reading constraints\n",
      "pg_dump: reading foreign key constraints for table \"public.primap_metadata\"\n",
      "pg_dump: reading foreign key constraints for table \"public.primap_data\"\n",
      "pg_dump: reading triggers\n",
      "pg_dump: reading triggers for table \"public.primap_metadata\"\n",
      "pg_dump: reading triggers for table \"public.primap_data\"\n",
      "pg_dump: reading rewrite rules\n",
      "pg_dump: reading policies\n",
      "pg_dump: reading row security enabled for table \"public.fao_emi_total\"\n",
      "pg_dump: reading policies for table \"public.fao_emi_total\"\n",
      "pg_dump: reading row security enabled for table \"public.lak_emi_energy\"\n",
      "pg_dump: reading policies for table \"public.lak_emi_energy\"\n",
      "pg_dump: reading row security enabled for table \"public.cmip_conc_co2\"\n",
      "pg_dump: reading policies for table \"public.cmip_conc_co2\"\n",
      "pg_dump: reading row security enabled for table \"public.prm_emi\"\n",
      "pg_dump: reading policies for table \"public.prm_emi\"\n",
      "pg_dump: reading row security enabled for table \"public.primap_metadata_primap_metadata_id_seq\"\n",
      "pg_dump: reading policies for table \"public.primap_metadata_primap_metadata_id_seq\"\n",
      "pg_dump: reading row security enabled for table \"public.primap_metadata\"\n",
      "pg_dump: reading policies for table \"public.primap_metadata\"\n",
      "pg_dump: reading row security enabled for table \"public.primap_data\"\n",
      "pg_dump: reading policies for table \"public.primap_data\"\n",
      "pg_dump: reading publications\n",
      "pg_dump: reading publication membership\n",
      "pg_dump: reading publication membership for table \"public.fao_emi_total\"\n",
      "pg_dump: reading publication membership for table \"public.lak_emi_energy\"\n",
      "pg_dump: reading publication membership for table \"public.cmip_conc_co2\"\n",
      "pg_dump: reading publication membership for table \"public.prm_emi\"\n",
      "pg_dump: reading publication membership for table \"public.primap_metadata\"\n",
      "pg_dump: reading publication membership for table \"public.primap_data\"\n",
      "pg_dump: reading subscriptions\n",
      "pg_dump: reading dependency data\n",
      "pg_dump: saving encoding = UTF8\n",
      "pg_dump: saving standard_conforming_strings = on\n",
      "pg_dump: saving search_path = \n",
      "pg_dump: saving database definition\n",
      "pg_dump: dumping contents of table \"public.prm_emi\"\n",
      "pg_dump: dumping contents of table \"public.fao_emi_total\"\n",
      "pg_dump: dumping contents of table \"public.primap_data\"\n",
      "pg_dump: dumping contents of table \"public.cmip_conc_co2\"\n",
      "pg_dump: finished item 3022 TABLE DATA cmip_conc_co2\n",
      "pg_dump: dumping contents of table \"public.primap_metadata\"\n",
      "pg_dump: finished item 3025 TABLE DATA primap_metadata\n",
      "pg_dump: dumping contents of table \"public.lak_emi_energy\"\n",
      "pg_dump: finished item 3021 TABLE DATA lak_emi_energy\n",
      "pg_dump: finished item 3020 TABLE DATA fao_emi_total\n",
      "pg_dump: finished item 3023 TABLE DATA prm_emi\n",
      "pg_dump: finished item 3026 TABLE DATA primap_data\n"
     ]
    }
   ],
   "source": [
    "# native format: pg_dump\n",
    "!mkdir psql/dump/\n",
    "!pg_dump --format=directory -j4 -t prm_emi -t fao_emi_total -t cmip_conc_co2 -t lak_emi_energy -t primap_metadata -t primap_data -v ev -f psql/dump/"
   ]
  },
  {
   "cell_type": "code",
   "execution_count": 9,
   "metadata": {
    "execution": {
     "iopub.execute_input": "2020-09-23T08:13:14.559387Z",
     "iopub.status.busy": "2020-09-23T08:13:14.559213Z",
     "iopub.status.idle": "2020-09-23T08:13:14.670261Z",
     "shell.execute_reply": "2020-09-23T08:13:14.669439Z",
     "shell.execute_reply.started": "2020-09-23T08:13:14.559372Z"
    }
   },
   "outputs": [
    {
     "name": "stdout",
     "output_type": "stream",
     "text": [
      "3,5M\tpsql/dump/3020.dat.gz\n",
      "36K\tpsql/dump/3021.dat.gz\n",
      "776K\tpsql/dump/3022.dat.gz\n",
      "25M\tpsql/dump/3023.dat.gz\n",
      "96K\tpsql/dump/3025.dat.gz\n",
      "124M\tpsql/dump/3026.dat.gz\n",
      "12K\tpsql/dump/toc.dat\n"
     ]
    }
   ],
   "source": [
    "!du -sh psql/dump/*"
   ]
  },
  {
   "cell_type": "code",
   "execution_count": 10,
   "metadata": {
    "collapsed": true,
    "execution": {
     "iopub.execute_input": "2020-09-23T08:20:47.134529Z",
     "iopub.status.busy": "2020-09-23T08:20:47.133474Z",
     "iopub.status.idle": "2020-09-23T08:21:10.534900Z",
     "shell.execute_reply": "2020-09-23T08:21:10.534155Z",
     "shell.execute_reply.started": "2020-09-23T08:20:47.134429Z"
    },
    "jupyter": {
     "outputs_hidden": true
    }
   },
   "outputs": [
    {
     "name": "stdout",
     "output_type": "stream",
     "text": [
      "pg_restore: connecting to database for restore\n",
      "pg_restore: dropping FK CONSTRAINT primap_data primap_data_primap_metadata_id_fkey\n",
      "pg_restore: dropping CONSTRAINT prm_emi prm_emi_pkey\n",
      "pg_restore: dropping CONSTRAINT primap_metadata primap_metadata_primap_metadata_id_key\n",
      "pg_restore: while PROCESSING TOC:\n",
      "pg_restore: from TOC entry 2890; 2606 16533 CONSTRAINT primap_metadata primap_metadata_primap_metadata_id_key pflueger\n",
      "pg_restore: error: could not execute query: ERROR:  cannot drop constraint primap_metadata_primap_metadata_id_key on table public.primap_metadata because other objects depend on it\n",
      "DETAIL:  constraint primap_data_r_primap_metadata_id_fkey on table public.primap_data_r depends on index public.primap_metadata_primap_metadata_id_key\n",
      "HINT:  Use DROP ... CASCADE to drop the dependent objects too.\n",
      "Command was: ALTER TABLE ONLY public.primap_metadata DROP CONSTRAINT primap_metadata_primap_metadata_id_key;\n",
      "pg_restore: dropping CONSTRAINT primap_metadata primap_metadata_pkey\n",
      "pg_restore: dropping CONSTRAINT primap_data primap_data_pkey\n",
      "pg_restore: dropping CONSTRAINT lak_emi_energy lak_emi_energy_pkey\n",
      "pg_restore: dropping CONSTRAINT fao_emi_total fao_emi_total_pkey\n",
      "pg_restore: dropping CONSTRAINT cmip_conc_co2 cmip_conc_co2_pkey\n",
      "pg_restore: dropping DEFAULT primap_metadata primap_metadata_id\n",
      "pg_restore: dropping TABLE prm_emi\n",
      "pg_restore: dropping SEQUENCE primap_metadata_primap_metadata_id_seq\n",
      "pg_restore: dropping TABLE primap_metadata\n",
      "pg_restore: from TOC entry 207; 1259 16523 TABLE primap_metadata pflueger\n",
      "pg_restore: error: could not execute query: ERROR:  cannot drop table public.primap_metadata because other objects depend on it\n",
      "DETAIL:  constraint primap_data_r_primap_metadata_id_fkey on table public.primap_data_r depends on table public.primap_metadata\n",
      "HINT:  Use DROP ... CASCADE to drop the dependent objects too.\n",
      "Command was: DROP TABLE public.primap_metadata;\n",
      "pg_restore: dropping TABLE primap_data\n",
      "pg_restore: dropping TABLE lak_emi_energy\n",
      "pg_restore: dropping TABLE fao_emi_total\n",
      "pg_restore: dropping TABLE cmip_conc_co2\n",
      "pg_restore: processing item 3029 ENCODING ENCODING\n",
      "pg_restore: processing item 3030 STDSTRINGS STDSTRINGS\n",
      "pg_restore: processing item 3031 SEARCHPATH SEARCHPATH\n",
      "pg_restore: processing item 3032 DATABASE ev\n",
      "pg_restore: processing item 204 TABLE cmip_conc_co2\n",
      "pg_restore: creating TABLE \"public.cmip_conc_co2\"\n",
      "pg_restore: processing item 202 TABLE fao_emi_total\n",
      "pg_restore: creating TABLE \"public.fao_emi_total\"\n",
      "pg_restore: processing item 203 TABLE lak_emi_energy\n",
      "pg_restore: creating TABLE \"public.lak_emi_energy\"\n",
      "pg_restore: processing item 208 TABLE primap_data\n",
      "pg_restore: creating TABLE \"public.primap_data\"\n",
      "pg_restore: processing item 207 TABLE primap_metadata\n",
      "pg_restore: creating TABLE \"public.primap_metadata\"\n",
      "pg_restore: error: could not execute query: ERROR:  relation \"primap_metadata\" already exists\n",
      "Command was: CREATE TABLE public.primap_metadata (\n",
      "    primap_metadata_id integer NOT NULL,\n",
      "    category text NOT NULL,\n",
      "    class text NOT NULL,\n",
      "    description text,\n",
      "    note text,\n",
      "    scenario text NOT NULL,\n",
      "    source text NOT NULL,\n",
      "    type text NOT NULL,\n",
      "    entity text NOT NULL,\n",
      "    unit text\n",
      ");\n",
      "\n",
      "\n",
      "pg_restore: processing item 206 SEQUENCE primap_metadata_primap_metadata_id_seq\n",
      "pg_restore: creating SEQUENCE \"public.primap_metadata_primap_metadata_id_seq\"\n",
      "pg_restore: processing item 3033 SEQUENCE OWNED BY primap_metadata_primap_metadata_id_seq\n",
      "pg_restore: creating SEQUENCE OWNED BY \"public.primap_metadata_primap_metadata_id_seq\"\n",
      "pg_restore: processing item 205 TABLE prm_emi\n",
      "pg_restore: creating TABLE \"public.prm_emi\"\n",
      "pg_restore: processing item 2878 DEFAULT primap_metadata primap_metadata_id\n",
      "pg_restore: creating DEFAULT \"public.primap_metadata primap_metadata_id\"\n",
      "pg_restore: entering main parallel loop\n",
      "pg_restore: launching item 3026 TABLE DATA primap_data\n",
      "pg_restore: launching item 3023 TABLE DATA prm_emi\n",
      "pg_restore: launching item 3020 TABLE DATA fao_emi_total\n",
      "pg_restore: launching item 3022 TABLE DATA cmip_conc_co2\n",
      "pg_restore: processing data for table \"public.primap_data\"\n",
      "pg_restore: processing data for table \"public.prm_emi\"\n",
      "pg_restore: processing data for table \"public.fao_emi_total\"\n",
      "pg_restore: processing data for table \"public.cmip_conc_co2\"\n",
      "pg_restore: finished item 3022 TABLE DATA cmip_conc_co2\n",
      "pg_restore: launching item 2884 CONSTRAINT cmip_conc_co2 cmip_conc_co2_pkey\n",
      "pg_restore: creating CONSTRAINT \"public.cmip_conc_co2 cmip_conc_co2_pkey\"\n",
      "pg_restore: finished item 2884 CONSTRAINT cmip_conc_co2 cmip_conc_co2_pkey\n",
      "pg_restore: launching item 3025 TABLE DATA primap_metadata\n",
      "pg_restore: processing data for table \"public.primap_metadata\"\n",
      "pg_restore: from TOC entry 3025; 0 16523 TABLE DATA primap_metadata pflueger\n",
      "pg_restore: error: COPY failed for table \"primap_metadata\": ERROR:  duplicate key value violates unique constraint \"primap_metadata_primap_metadata_id_key\"\n",
      "DETAIL:  Key (primap_metadata_id)=(1) already exists.\n",
      "CONTEXT:  COPY primap_metadata, line 1\n",
      "pg_restore: finished item 3025 TABLE DATA primap_metadata\n",
      "pg_restore: launching item 2888 CONSTRAINT primap_metadata primap_metadata_pkey\n",
      "pg_restore: creating CONSTRAINT \"public.primap_metadata primap_metadata_pkey\"\n",
      "pg_restore: finished item 2888 CONSTRAINT primap_metadata primap_metadata_pkey\n",
      "pg_restore: launching item 2890 CONSTRAINT primap_metadata primap_metadata_primap_metadata_id_key\n",
      "pg_restore: creating CONSTRAINT \"public.primap_metadata primap_metadata_primap_metadata_id_key\"\n",
      "pg_restore: from TOC entry 2890; 2606 16533 CONSTRAINT primap_metadata primap_metadata_primap_metadata_id_key pflueger\n",
      "pg_restore: error: could not execute query: ERROR:  relation \"primap_metadata_primap_metadata_id_key\" already exists\n",
      "Command was: ALTER TABLE ONLY public.primap_metadata\n",
      "    ADD CONSTRAINT primap_metadata_primap_metadata_id_key UNIQUE (primap_metadata_id);\n",
      "\n",
      "\n",
      "pg_restore: finished item 2890 CONSTRAINT primap_metadata primap_metadata_primap_metadata_id_key\n",
      "pg_restore: launching item 3021 TABLE DATA lak_emi_energy\n",
      "pg_restore: processing data for table \"public.lak_emi_energy\"\n",
      "pg_restore: finished item 3021 TABLE DATA lak_emi_energy\n",
      "pg_restore: launching item 2882 CONSTRAINT lak_emi_energy lak_emi_energy_pkey\n",
      "pg_restore: creating CONSTRAINT \"public.lak_emi_energy lak_emi_energy_pkey\"\n",
      "pg_restore: finished item 2882 CONSTRAINT lak_emi_energy lak_emi_energy_pkey\n",
      "pg_restore: launching item 3034 SEQUENCE SET primap_metadata_primap_metadata_id_seq\n",
      "pg_restore: executing SEQUENCE SET primap_metadata_primap_metadata_id_seq\n",
      "pg_restore: finished item 3034 SEQUENCE SET primap_metadata_primap_metadata_id_seq\n",
      "pg_restore: finished item 3020 TABLE DATA fao_emi_total\n",
      "pg_restore: launching item 2880 CONSTRAINT fao_emi_total fao_emi_total_pkey\n",
      "pg_restore: creating CONSTRAINT \"public.fao_emi_total fao_emi_total_pkey\"\n",
      "pg_restore: finished item 2880 CONSTRAINT fao_emi_total fao_emi_total_pkey\n",
      "pg_restore: finished item 3023 TABLE DATA prm_emi\n",
      "pg_restore: launching item 2886 CONSTRAINT prm_emi prm_emi_pkey\n",
      "pg_restore: creating CONSTRAINT \"public.prm_emi prm_emi_pkey\"\n",
      "pg_restore: finished item 3026 TABLE DATA primap_data\n",
      "pg_restore: launching item 2892 CONSTRAINT primap_data primap_data_pkey\n",
      "pg_restore: creating CONSTRAINT \"public.primap_data primap_data_pkey\"\n",
      "pg_restore: finished item 2886 CONSTRAINT prm_emi prm_emi_pkey\n",
      "pg_restore: finished item 2892 CONSTRAINT primap_data primap_data_pkey\n",
      "pg_restore: launching item 2893 FK CONSTRAINT primap_data primap_data_primap_metadata_id_fkey\n",
      "pg_restore: creating FK CONSTRAINT \"public.primap_data primap_data_primap_metadata_id_fkey\"\n",
      "pg_restore: finished item 2893 FK CONSTRAINT primap_data primap_data_primap_metadata_id_fkey\n",
      "pg_restore: finished main parallel loop\n",
      "pg_restore: warning: errors ignored on restore: 7\n"
     ]
    }
   ],
   "source": [
    "!pg_restore --format=directory -j4 --clean -d ev -v psql/dump"
   ]
  },
  {
   "cell_type": "markdown",
   "metadata": {},
   "source": [
    "# interactive analysis and plotting\n",
    "* add / subtract / divide / multiply compatible, overlapping data sets\n",
    "* timeit\n",
    "* plot a historical time series, and something akin to gapminder (countries on a gdp vs emissions plot)\n",
    "* select datasets which contain data on the N2O emissions of Finland\n",
    "* in a selected dataset, select years in which the N2O emissions of Finland were above the 1950-2000 average\n",
    "* resample non-yearly dataset to yearly dataset\n",
    "* convert a dataset to tidy format"
   ]
  },
  {
   "cell_type": "code",
   "execution_count": 25,
   "metadata": {
    "execution": {
     "iopub.execute_input": "2020-09-23T10:52:19.129003Z",
     "iopub.status.busy": "2020-09-23T10:52:19.128170Z",
     "iopub.status.idle": "2020-09-23T10:52:19.137416Z",
     "shell.execute_reply": "2020-09-23T10:52:19.134894Z",
     "shell.execute_reply.started": "2020-09-23T10:52:19.128924Z"
    }
   },
   "outputs": [],
   "source": [
    "# extract two compatible, partly overlapping data sets from primap-hist"
   ]
  },
  {
   "cell_type": "code",
   "execution_count": 7,
   "metadata": {
    "execution": {
     "iopub.execute_input": "2020-09-23T10:56:41.599559Z",
     "iopub.status.busy": "2020-09-23T10:56:41.598278Z",
     "iopub.status.idle": "2020-09-23T10:56:41.617285Z",
     "shell.execute_reply": "2020-09-23T10:56:41.616057Z",
     "shell.execute_reply.started": "2020-09-23T10:56:41.599433Z"
    }
   },
   "outputs": [],
   "source": [
    "cur.execute('drop view if exists a')\n",
    "cur.execute(\"\"\"\n",
    "create view a as \n",
    "    select prm_emi.*, emissions * unit::unit as emissions_q from prm_emi\n",
    "    where Category = 'IPC1' and\n",
    "          date < '1991-01-01'::date and\n",
    "          date >= '1900-01-01'::date and\n",
    "          Entity = 'CO2' and\n",
    "          Scenario = 'HISTCR' \"\"\")"
   ]
  },
  {
   "cell_type": "code",
   "execution_count": 8,
   "metadata": {
    "execution": {
     "iopub.execute_input": "2020-09-23T10:56:42.779938Z",
     "iopub.status.busy": "2020-09-23T10:56:42.779603Z",
     "iopub.status.idle": "2020-09-23T10:56:42.784963Z",
     "shell.execute_reply": "2020-09-23T10:56:42.784056Z",
     "shell.execute_reply.started": "2020-09-23T10:56:42.779908Z"
    }
   },
   "outputs": [],
   "source": [
    "cur.execute('drop view if exists ar')\n",
    "cur.execute(\"\"\"\n",
    "create view ar as \n",
    "    select prm_emi_r.*, emissions * unit::unit as emissions_q from prm_emi_r\n",
    "    where Category = 'IPC1' and date < '1991-01-01'::date and date >= '1900-01-01'::date and Entity = 'CO2' and Scenario = 'HISTCR' \"\"\")"
   ]
  },
  {
   "cell_type": "code",
   "execution_count": 9,
   "metadata": {
    "execution": {
     "iopub.execute_input": "2020-09-23T10:56:43.734834Z",
     "iopub.status.busy": "2020-09-23T10:56:43.733610Z",
     "iopub.status.idle": "2020-09-23T10:56:43.753049Z",
     "shell.execute_reply": "2020-09-23T10:56:43.751736Z",
     "shell.execute_reply.started": "2020-09-23T10:56:43.734714Z"
    }
   },
   "outputs": [],
   "source": [
    "cur.execute('drop view if exists b')\n",
    "cur.execute(\"\"\"create view b as \n",
    "                  select prm_emi.*, emissions * unit::unit as emissions_q from prm_emi\n",
    "                  where area in ('DEU', 'FIN', 'ZWE') \"\"\")"
   ]
  },
  {
   "cell_type": "code",
   "execution_count": 10,
   "metadata": {
    "execution": {
     "iopub.execute_input": "2020-09-23T10:56:44.394714Z",
     "iopub.status.busy": "2020-09-23T10:56:44.394375Z",
     "iopub.status.idle": "2020-09-23T10:56:44.401809Z",
     "shell.execute_reply": "2020-09-23T10:56:44.400522Z",
     "shell.execute_reply.started": "2020-09-23T10:56:44.394676Z"
    }
   },
   "outputs": [],
   "source": [
    "conn.commit()"
   ]
  },
  {
   "cell_type": "code",
   "execution_count": 5,
   "metadata": {
    "execution": {
     "iopub.execute_input": "2020-09-23T13:12:44.362259Z",
     "iopub.status.busy": "2020-09-23T13:12:44.361965Z",
     "iopub.status.idle": "2020-09-23T13:12:44.367152Z",
     "shell.execute_reply": "2020-09-23T13:12:44.365151Z",
     "shell.execute_reply.started": "2020-09-23T13:12:44.362231Z"
    }
   },
   "outputs": [],
   "source": [
    "def pdq(query):\n",
    "    return pd.read_sql_query(query, 'postgres:///ev')"
   ]
  },
  {
   "cell_type": "code",
   "execution_count": 12,
   "metadata": {
    "execution": {
     "iopub.execute_input": "2020-09-23T10:56:51.445625Z",
     "iopub.status.busy": "2020-09-23T10:56:51.445294Z",
     "iopub.status.idle": "2020-09-23T10:56:51.566402Z",
     "shell.execute_reply": "2020-09-23T10:56:51.564680Z",
     "shell.execute_reply.started": "2020-09-23T10:56:51.445593Z"
    }
   },
   "outputs": [
    {
     "data": {
      "text/html": [
       "<div>\n",
       "<style scoped>\n",
       "    .dataframe tbody tr th:only-of-type {\n",
       "        vertical-align: middle;\n",
       "    }\n",
       "\n",
       "    .dataframe tbody tr th {\n",
       "        vertical-align: top;\n",
       "    }\n",
       "\n",
       "    .dataframe thead th {\n",
       "        text-align: right;\n",
       "    }\n",
       "</style>\n",
       "<table border=\"1\" class=\"dataframe\">\n",
       "  <thead>\n",
       "    <tr style=\"text-align: right;\">\n",
       "      <th></th>\n",
       "      <th>results</th>\n",
       "    </tr>\n",
       "  </thead>\n",
       "  <tbody>\n",
       "    <tr>\n",
       "      <th>0</th>\n",
       "      <td>640000.0</td>\n",
       "    </tr>\n",
       "    <tr>\n",
       "      <th>1</th>\n",
       "      <td>638000.0</td>\n",
       "    </tr>\n",
       "    <tr>\n",
       "      <th>2</th>\n",
       "      <td>626000.0</td>\n",
       "    </tr>\n",
       "    <tr>\n",
       "      <th>3</th>\n",
       "      <td>674000.0</td>\n",
       "    </tr>\n",
       "    <tr>\n",
       "      <th>4</th>\n",
       "      <td>698000.0</td>\n",
       "    </tr>\n",
       "    <tr>\n",
       "      <th>...</th>\n",
       "      <td>...</td>\n",
       "    </tr>\n",
       "    <tr>\n",
       "      <th>268</th>\n",
       "      <td>22800.0</td>\n",
       "    </tr>\n",
       "    <tr>\n",
       "      <th>269</th>\n",
       "      <td>26000.0</td>\n",
       "    </tr>\n",
       "    <tr>\n",
       "      <th>270</th>\n",
       "      <td>27200.0</td>\n",
       "    </tr>\n",
       "    <tr>\n",
       "      <th>271</th>\n",
       "      <td>27400.0</td>\n",
       "    </tr>\n",
       "    <tr>\n",
       "      <th>272</th>\n",
       "      <td>26400.0</td>\n",
       "    </tr>\n",
       "  </tbody>\n",
       "</table>\n",
       "<p>273 rows × 1 columns</p>\n",
       "</div>"
      ],
      "text/plain": [
       "      results\n",
       "0    640000.0\n",
       "1    638000.0\n",
       "2    626000.0\n",
       "3    674000.0\n",
       "4    698000.0\n",
       "..        ...\n",
       "268   22800.0\n",
       "269   26000.0\n",
       "270   27200.0\n",
       "271   27400.0\n",
       "272   26400.0\n",
       "\n",
       "[273 rows x 1 columns]"
      ]
     },
     "execution_count": 12,
     "metadata": {},
     "output_type": "execute_result"
    }
   ],
   "source": [
    "pdq(\"\"\"select a.emissions + b.emissions as results\n",
    "       from a join b using (area, category, date, entity, scenario)\"\"\")\n",
    "# note the timing includes conversion into a pandas dataframe, the actual query is on the order of 3 ms"
   ]
  },
  {
   "cell_type": "code",
   "execution_count": 13,
   "metadata": {
    "execution": {
     "iopub.execute_input": "2020-09-23T10:56:52.441677Z",
     "iopub.status.busy": "2020-09-23T10:56:52.441374Z",
     "iopub.status.idle": "2020-09-23T10:56:52.466587Z",
     "shell.execute_reply": "2020-09-23T10:56:52.465651Z",
     "shell.execute_reply.started": "2020-09-23T10:56:52.441649Z"
    }
   },
   "outputs": [
    {
     "data": {
      "text/html": [
       "<div>\n",
       "<style scoped>\n",
       "    .dataframe tbody tr th:only-of-type {\n",
       "        vertical-align: middle;\n",
       "    }\n",
       "\n",
       "    .dataframe tbody tr th {\n",
       "        vertical-align: top;\n",
       "    }\n",
       "\n",
       "    .dataframe thead th {\n",
       "        text-align: right;\n",
       "    }\n",
       "</style>\n",
       "<table border=\"1\" class=\"dataframe\">\n",
       "  <thead>\n",
       "    <tr style=\"text-align: right;\">\n",
       "      <th></th>\n",
       "      <th>results</th>\n",
       "    </tr>\n",
       "  </thead>\n",
       "  <tbody>\n",
       "    <tr>\n",
       "      <th>0</th>\n",
       "      <td>640000.0</td>\n",
       "    </tr>\n",
       "    <tr>\n",
       "      <th>1</th>\n",
       "      <td>638000.0</td>\n",
       "    </tr>\n",
       "    <tr>\n",
       "      <th>2</th>\n",
       "      <td>626000.0</td>\n",
       "    </tr>\n",
       "    <tr>\n",
       "      <th>3</th>\n",
       "      <td>674000.0</td>\n",
       "    </tr>\n",
       "    <tr>\n",
       "      <th>4</th>\n",
       "      <td>698000.0</td>\n",
       "    </tr>\n",
       "    <tr>\n",
       "      <th>...</th>\n",
       "      <td>...</td>\n",
       "    </tr>\n",
       "    <tr>\n",
       "      <th>268</th>\n",
       "      <td>22800.0</td>\n",
       "    </tr>\n",
       "    <tr>\n",
       "      <th>269</th>\n",
       "      <td>26000.0</td>\n",
       "    </tr>\n",
       "    <tr>\n",
       "      <th>270</th>\n",
       "      <td>27200.0</td>\n",
       "    </tr>\n",
       "    <tr>\n",
       "      <th>271</th>\n",
       "      <td>27400.0</td>\n",
       "    </tr>\n",
       "    <tr>\n",
       "      <th>272</th>\n",
       "      <td>26400.0</td>\n",
       "    </tr>\n",
       "  </tbody>\n",
       "</table>\n",
       "<p>273 rows × 1 columns</p>\n",
       "</div>"
      ],
      "text/plain": [
       "      results\n",
       "0    640000.0\n",
       "1    638000.0\n",
       "2    626000.0\n",
       "3    674000.0\n",
       "4    698000.0\n",
       "..        ...\n",
       "268   22800.0\n",
       "269   26000.0\n",
       "270   27200.0\n",
       "271   27400.0\n",
       "272   26400.0\n",
       "\n",
       "[273 rows x 1 columns]"
      ]
     },
     "execution_count": 13,
     "metadata": {},
     "output_type": "execute_result"
    }
   ],
   "source": [
    "pdq(\"\"\"select ar.emissions + b.emissions as results\n",
    "       from ar join b using (area, category, date, entity, scenario)\"\"\")"
   ]
  },
  {
   "cell_type": "code",
   "execution_count": 14,
   "metadata": {
    "execution": {
     "iopub.execute_input": "2020-09-23T10:56:55.028313Z",
     "iopub.status.busy": "2020-09-23T10:56:55.027698Z",
     "iopub.status.idle": "2020-09-23T10:56:55.052091Z",
     "shell.execute_reply": "2020-09-23T10:56:55.051426Z",
     "shell.execute_reply.started": "2020-09-23T10:56:55.028242Z"
    }
   },
   "outputs": [
    {
     "data": {
      "text/html": [
       "<div>\n",
       "<style scoped>\n",
       "    .dataframe tbody tr th:only-of-type {\n",
       "        vertical-align: middle;\n",
       "    }\n",
       "\n",
       "    .dataframe tbody tr th {\n",
       "        vertical-align: top;\n",
       "    }\n",
       "\n",
       "    .dataframe thead th {\n",
       "        text-align: right;\n",
       "    }\n",
       "</style>\n",
       "<table border=\"1\" class=\"dataframe\">\n",
       "  <thead>\n",
       "    <tr style=\"text-align: right;\">\n",
       "      <th></th>\n",
       "      <th>results</th>\n",
       "    </tr>\n",
       "  </thead>\n",
       "  <tbody>\n",
       "    <tr>\n",
       "      <th>0</th>\n",
       "      <td>0.0</td>\n",
       "    </tr>\n",
       "    <tr>\n",
       "      <th>1</th>\n",
       "      <td>0.0</td>\n",
       "    </tr>\n",
       "    <tr>\n",
       "      <th>2</th>\n",
       "      <td>0.0</td>\n",
       "    </tr>\n",
       "    <tr>\n",
       "      <th>3</th>\n",
       "      <td>0.0</td>\n",
       "    </tr>\n",
       "    <tr>\n",
       "      <th>4</th>\n",
       "      <td>0.0</td>\n",
       "    </tr>\n",
       "    <tr>\n",
       "      <th>...</th>\n",
       "      <td>...</td>\n",
       "    </tr>\n",
       "    <tr>\n",
       "      <th>268</th>\n",
       "      <td>0.0</td>\n",
       "    </tr>\n",
       "    <tr>\n",
       "      <th>269</th>\n",
       "      <td>0.0</td>\n",
       "    </tr>\n",
       "    <tr>\n",
       "      <th>270</th>\n",
       "      <td>0.0</td>\n",
       "    </tr>\n",
       "    <tr>\n",
       "      <th>271</th>\n",
       "      <td>0.0</td>\n",
       "    </tr>\n",
       "    <tr>\n",
       "      <th>272</th>\n",
       "      <td>0.0</td>\n",
       "    </tr>\n",
       "  </tbody>\n",
       "</table>\n",
       "<p>273 rows × 1 columns</p>\n",
       "</div>"
      ],
      "text/plain": [
       "     results\n",
       "0        0.0\n",
       "1        0.0\n",
       "2        0.0\n",
       "3        0.0\n",
       "4        0.0\n",
       "..       ...\n",
       "268      0.0\n",
       "269      0.0\n",
       "270      0.0\n",
       "271      0.0\n",
       "272      0.0\n",
       "\n",
       "[273 rows x 1 columns]"
      ]
     },
     "execution_count": 14,
     "metadata": {},
     "output_type": "execute_result"
    }
   ],
   "source": [
    "pdq(\"\"\"select a.emissions - b.emissions as results\n",
    "       from a join b using (area, category, date, entity, scenario)\"\"\")"
   ]
  },
  {
   "cell_type": "code",
   "execution_count": 15,
   "metadata": {
    "execution": {
     "iopub.execute_input": "2020-09-23T10:56:55.537295Z",
     "iopub.status.busy": "2020-09-23T10:56:55.536986Z",
     "iopub.status.idle": "2020-09-23T10:56:55.561599Z",
     "shell.execute_reply": "2020-09-23T10:56:55.560840Z",
     "shell.execute_reply.started": "2020-09-23T10:56:55.537261Z"
    }
   },
   "outputs": [
    {
     "data": {
      "text/html": [
       "<div>\n",
       "<style scoped>\n",
       "    .dataframe tbody tr th:only-of-type {\n",
       "        vertical-align: middle;\n",
       "    }\n",
       "\n",
       "    .dataframe tbody tr th {\n",
       "        vertical-align: top;\n",
       "    }\n",
       "\n",
       "    .dataframe thead th {\n",
       "        text-align: right;\n",
       "    }\n",
       "</style>\n",
       "<table border=\"1\" class=\"dataframe\">\n",
       "  <thead>\n",
       "    <tr style=\"text-align: right;\">\n",
       "      <th></th>\n",
       "      <th>results</th>\n",
       "    </tr>\n",
       "  </thead>\n",
       "  <tbody>\n",
       "    <tr>\n",
       "      <th>0</th>\n",
       "      <td>1.024000e+11</td>\n",
       "    </tr>\n",
       "    <tr>\n",
       "      <th>1</th>\n",
       "      <td>1.017610e+11</td>\n",
       "    </tr>\n",
       "    <tr>\n",
       "      <th>2</th>\n",
       "      <td>9.796900e+10</td>\n",
       "    </tr>\n",
       "    <tr>\n",
       "      <th>3</th>\n",
       "      <td>1.135690e+11</td>\n",
       "    </tr>\n",
       "    <tr>\n",
       "      <th>4</th>\n",
       "      <td>1.218010e+11</td>\n",
       "    </tr>\n",
       "    <tr>\n",
       "      <th>...</th>\n",
       "      <td>...</td>\n",
       "    </tr>\n",
       "    <tr>\n",
       "      <th>268</th>\n",
       "      <td>1.299600e+08</td>\n",
       "    </tr>\n",
       "    <tr>\n",
       "      <th>269</th>\n",
       "      <td>1.690000e+08</td>\n",
       "    </tr>\n",
       "    <tr>\n",
       "      <th>270</th>\n",
       "      <td>1.849600e+08</td>\n",
       "    </tr>\n",
       "    <tr>\n",
       "      <th>271</th>\n",
       "      <td>1.876900e+08</td>\n",
       "    </tr>\n",
       "    <tr>\n",
       "      <th>272</th>\n",
       "      <td>1.742400e+08</td>\n",
       "    </tr>\n",
       "  </tbody>\n",
       "</table>\n",
       "<p>273 rows × 1 columns</p>\n",
       "</div>"
      ],
      "text/plain": [
       "          results\n",
       "0    1.024000e+11\n",
       "1    1.017610e+11\n",
       "2    9.796900e+10\n",
       "3    1.135690e+11\n",
       "4    1.218010e+11\n",
       "..            ...\n",
       "268  1.299600e+08\n",
       "269  1.690000e+08\n",
       "270  1.849600e+08\n",
       "271  1.876900e+08\n",
       "272  1.742400e+08\n",
       "\n",
       "[273 rows x 1 columns]"
      ]
     },
     "execution_count": 15,
     "metadata": {},
     "output_type": "execute_result"
    }
   ],
   "source": [
    "pdq(\"\"\"select a.emissions * b.emissions as results\n",
    "       from a join b using (area, category, date, entity, scenario)\"\"\")"
   ]
  },
  {
   "cell_type": "code",
   "execution_count": 16,
   "metadata": {
    "execution": {
     "iopub.execute_input": "2020-09-23T10:56:58.134749Z",
     "iopub.status.busy": "2020-09-23T10:56:58.134278Z",
     "iopub.status.idle": "2020-09-23T10:56:58.160151Z",
     "shell.execute_reply": "2020-09-23T10:56:58.159550Z",
     "shell.execute_reply.started": "2020-09-23T10:56:58.134712Z"
    }
   },
   "outputs": [
    {
     "data": {
      "text/html": [
       "<div>\n",
       "<style scoped>\n",
       "    .dataframe tbody tr th:only-of-type {\n",
       "        vertical-align: middle;\n",
       "    }\n",
       "\n",
       "    .dataframe tbody tr th {\n",
       "        vertical-align: top;\n",
       "    }\n",
       "\n",
       "    .dataframe thead th {\n",
       "        text-align: right;\n",
       "    }\n",
       "</style>\n",
       "<table border=\"1\" class=\"dataframe\">\n",
       "  <thead>\n",
       "    <tr style=\"text-align: right;\">\n",
       "      <th></th>\n",
       "      <th>results</th>\n",
       "    </tr>\n",
       "  </thead>\n",
       "  <tbody>\n",
       "    <tr>\n",
       "      <th>0</th>\n",
       "      <td>1.0</td>\n",
       "    </tr>\n",
       "    <tr>\n",
       "      <th>1</th>\n",
       "      <td>1.0</td>\n",
       "    </tr>\n",
       "    <tr>\n",
       "      <th>2</th>\n",
       "      <td>1.0</td>\n",
       "    </tr>\n",
       "    <tr>\n",
       "      <th>3</th>\n",
       "      <td>1.0</td>\n",
       "    </tr>\n",
       "    <tr>\n",
       "      <th>4</th>\n",
       "      <td>1.0</td>\n",
       "    </tr>\n",
       "    <tr>\n",
       "      <th>...</th>\n",
       "      <td>...</td>\n",
       "    </tr>\n",
       "    <tr>\n",
       "      <th>268</th>\n",
       "      <td>1.0</td>\n",
       "    </tr>\n",
       "    <tr>\n",
       "      <th>269</th>\n",
       "      <td>1.0</td>\n",
       "    </tr>\n",
       "    <tr>\n",
       "      <th>270</th>\n",
       "      <td>1.0</td>\n",
       "    </tr>\n",
       "    <tr>\n",
       "      <th>271</th>\n",
       "      <td>1.0</td>\n",
       "    </tr>\n",
       "    <tr>\n",
       "      <th>272</th>\n",
       "      <td>1.0</td>\n",
       "    </tr>\n",
       "  </tbody>\n",
       "</table>\n",
       "<p>273 rows × 1 columns</p>\n",
       "</div>"
      ],
      "text/plain": [
       "     results\n",
       "0        1.0\n",
       "1        1.0\n",
       "2        1.0\n",
       "3        1.0\n",
       "4        1.0\n",
       "..       ...\n",
       "268      1.0\n",
       "269      1.0\n",
       "270      1.0\n",
       "271      1.0\n",
       "272      1.0\n",
       "\n",
       "[273 rows x 1 columns]"
      ]
     },
     "execution_count": 16,
     "metadata": {},
     "output_type": "execute_result"
    }
   ],
   "source": [
    "pdq(\"\"\"select a.emissions / b.emissions as results\n",
    "       from a join b using (area, category, date, entity, scenario)\"\"\")"
   ]
  },
  {
   "cell_type": "code",
   "execution_count": 27,
   "metadata": {
    "execution": {
     "iopub.execute_input": "2020-09-23T11:02:16.171861Z",
     "iopub.status.busy": "2020-09-23T11:02:16.171520Z",
     "iopub.status.idle": "2020-09-23T11:02:16.202498Z",
     "shell.execute_reply": "2020-09-23T11:02:16.201922Z",
     "shell.execute_reply.started": "2020-09-23T11:02:16.171829Z"
    }
   },
   "outputs": [
    {
     "data": {
      "text/html": [
       "<div>\n",
       "<style scoped>\n",
       "    .dataframe tbody tr th:only-of-type {\n",
       "        vertical-align: middle;\n",
       "    }\n",
       "\n",
       "    .dataframe tbody tr th {\n",
       "        vertical-align: top;\n",
       "    }\n",
       "\n",
       "    .dataframe thead th {\n",
       "        text-align: right;\n",
       "    }\n",
       "</style>\n",
       "<table border=\"1\" class=\"dataframe\">\n",
       "  <thead>\n",
       "    <tr style=\"text-align: right;\">\n",
       "      <th></th>\n",
       "      <th>results</th>\n",
       "    </tr>\n",
       "  </thead>\n",
       "  <tbody>\n",
       "    <tr>\n",
       "      <th>0</th>\n",
       "      <td>640 Tg</td>\n",
       "    </tr>\n",
       "    <tr>\n",
       "      <th>1</th>\n",
       "      <td>638 Tg</td>\n",
       "    </tr>\n",
       "    <tr>\n",
       "      <th>2</th>\n",
       "      <td>626 Tg</td>\n",
       "    </tr>\n",
       "    <tr>\n",
       "      <th>3</th>\n",
       "      <td>674 Tg</td>\n",
       "    </tr>\n",
       "    <tr>\n",
       "      <th>4</th>\n",
       "      <td>698 Tg</td>\n",
       "    </tr>\n",
       "    <tr>\n",
       "      <th>...</th>\n",
       "      <td>...</td>\n",
       "    </tr>\n",
       "    <tr>\n",
       "      <th>268</th>\n",
       "      <td>22.8 Tg</td>\n",
       "    </tr>\n",
       "    <tr>\n",
       "      <th>269</th>\n",
       "      <td>26 Tg</td>\n",
       "    </tr>\n",
       "    <tr>\n",
       "      <th>270</th>\n",
       "      <td>27.2 Tg</td>\n",
       "    </tr>\n",
       "    <tr>\n",
       "      <th>271</th>\n",
       "      <td>27.4 Tg</td>\n",
       "    </tr>\n",
       "    <tr>\n",
       "      <th>272</th>\n",
       "      <td>26.4 Tg</td>\n",
       "    </tr>\n",
       "  </tbody>\n",
       "</table>\n",
       "<p>273 rows × 1 columns</p>\n",
       "</div>"
      ],
      "text/plain": [
       "     results\n",
       "0     640 Tg\n",
       "1     638 Tg\n",
       "2     626 Tg\n",
       "3     674 Tg\n",
       "4     698 Tg\n",
       "..       ...\n",
       "268  22.8 Tg\n",
       "269    26 Tg\n",
       "270  27.2 Tg\n",
       "271  27.4 Tg\n",
       "272  26.4 Tg\n",
       "\n",
       "[273 rows x 1 columns]"
      ]
     },
     "execution_count": 27,
     "metadata": {},
     "output_type": "execute_result"
    }
   ],
   "source": [
    "# with units\n",
    "pdq(\"\"\"select a.emissions_q + b.emissions_q as results\n",
    "       from a join b using (area, category, date, entity, scenario)\"\"\")"
   ]
  },
  {
   "cell_type": "code",
   "execution_count": 34,
   "metadata": {
    "execution": {
     "iopub.execute_input": "2020-09-23T11:08:08.091166Z",
     "iopub.status.busy": "2020-09-23T11:08:08.090981Z",
     "iopub.status.idle": "2020-09-23T11:08:08.094598Z",
     "shell.execute_reply": "2020-09-23T11:08:08.094080Z",
     "shell.execute_reply.started": "2020-09-23T11:08:08.091149Z"
    }
   },
   "outputs": [],
   "source": [
    "## needed for straight-up cur.fetchall to work on quantities with units\n",
    "def cast_unit(value, cur):\n",
    "    if value is None:\n",
    "        return None\n",
    "    \n",
    "    return u(value)\n",
    "\n",
    "cur.execute(\"SELECT '12 m'::unit\")\n",
    "oid = cur.description[0][1]\n",
    "\n",
    "unit = pg2.extensions.new_type((oid, ), 'unit', cast_unit)\n",
    "pg2.extensions.register_type(unit)"
   ]
  },
  {
   "cell_type": "markdown",
   "metadata": {},
   "source": [
    "## plotting\n",
    "* plot a historical time series, and something akin to gapminder (countries on a gdp vs emissions plot)\n",
    "* resample non-yearly dataset to yearly dataset"
   ]
  },
  {
   "cell_type": "code",
   "execution_count": null,
   "metadata": {},
   "outputs": [],
   "source": [
    "plt.figure()\n",
    "sel = prm_emi.xs(('DEU', 'IPCM0EL', 'KYOTOGHG (CO2eq)', 'HISTCR'), level=('Area', 'Category', 'Entity', 'Scenario'))\n",
    "#sel = prm_emi.loc['DEU', 'IPCM0EL', :, 'KYOTOGHG (CO2eq)', 'HISTCR']\n",
    "sel.pint.magnitude.plot()"
   ]
  },
  {
   "cell_type": "code",
   "execution_count": 10,
   "metadata": {
    "execution": {
     "iopub.execute_input": "2020-09-23T13:13:55.328699Z",
     "iopub.status.busy": "2020-09-23T13:13:55.328420Z",
     "iopub.status.idle": "2020-09-23T13:13:55.390855Z",
     "shell.execute_reply": "2020-09-23T13:13:55.389799Z",
     "shell.execute_reply.started": "2020-09-23T13:13:55.328671Z"
    }
   },
   "outputs": [
    {
     "data": {
      "application/vnd.jupyter.widget-view+json": {
       "model_id": "e9cce1dd33b24931bc2c0ace9f72ff4a",
       "version_major": 2,
       "version_minor": 0
      },
      "text/plain": [
       "Canvas(toolbar=Toolbar(toolitems=[('Home', 'Reset original view', 'home', 'home'), ('Back', 'Back to previous …"
      ]
     },
     "metadata": {},
     "output_type": "display_data"
    },
    {
     "data": {
      "text/plain": [
       "<matplotlib.axes._subplots.AxesSubplot at 0x7f547c39b670>"
      ]
     },
     "execution_count": 10,
     "metadata": {},
     "output_type": "execute_result"
    }
   ],
   "source": [
    "pdq(\"\"\"select prm_emi.emissions from prm_emi where\n",
    "       Area = 'DEU' and Category = 'IPCM0EL' and Entity = 'KYOTOGHG (CO2eq)' and Scenario = 'HISTCR'\"\"\")\\\n",
    ".plot()"
   ]
  },
  {
   "cell_type": "code",
   "execution_count": 15,
   "metadata": {
    "execution": {
     "iopub.execute_input": "2020-09-23T14:10:40.943145Z",
     "iopub.status.busy": "2020-09-23T14:10:40.942815Z",
     "iopub.status.idle": "2020-09-23T14:10:40.964016Z",
     "shell.execute_reply": "2020-09-23T14:10:40.963414Z",
     "shell.execute_reply.started": "2020-09-23T14:10:40.943113Z"
    }
   },
   "outputs": [
    {
     "data": {
      "text/html": [
       "<div>\n",
       "<style scoped>\n",
       "    .dataframe tbody tr th:only-of-type {\n",
       "        vertical-align: middle;\n",
       "    }\n",
       "\n",
       "    .dataframe tbody tr th {\n",
       "        vertical-align: top;\n",
       "    }\n",
       "\n",
       "    .dataframe thead th {\n",
       "        text-align: right;\n",
       "    }\n",
       "</style>\n",
       "<table border=\"1\" class=\"dataframe\">\n",
       "  <thead>\n",
       "    <tr style=\"text-align: right;\">\n",
       "      <th></th>\n",
       "      <th>primap_metadata_id</th>\n",
       "      <th>category</th>\n",
       "      <th>class</th>\n",
       "      <th>description</th>\n",
       "      <th>note</th>\n",
       "      <th>scenario</th>\n",
       "      <th>source</th>\n",
       "      <th>type</th>\n",
       "      <th>entity</th>\n",
       "      <th>unit</th>\n",
       "    </tr>\n",
       "  </thead>\n",
       "  <tbody>\n",
       "    <tr>\n",
       "      <th>0</th>\n",
       "      <td>3933</td>\n",
       "      <td>DEMOGR</td>\n",
       "      <td>TOTAL</td>\n",
       "      <td>Medium-fertility variant</td>\n",
       "      <td>Read in by JG</td>\n",
       "      <td>HISTORY</td>\n",
       "      <td>UN2019P</td>\n",
       "      <td>NET</td>\n",
       "      <td>POP</td>\n",
       "      <td>dimensionless</td>\n",
       "    </tr>\n",
       "  </tbody>\n",
       "</table>\n",
       "</div>"
      ],
      "text/plain": [
       "   primap_metadata_id category  class               description  \\\n",
       "0                3933   DEMOGR  TOTAL  Medium-fertility variant   \n",
       "\n",
       "            note scenario   source type entity           unit  \n",
       "0  Read in by JG  HISTORY  UN2019P  NET    POP  dimensionless  "
      ]
     },
     "execution_count": 15,
     "metadata": {},
     "output_type": "execute_result"
    }
   ],
   "source": [
    "pdq(\"select * from primap_metadata where entity = 'POP' and source = 'UN2019P' and scenario = 'HISTORY'\")"
   ]
  },
  {
   "cell_type": "code",
   "execution_count": 33,
   "metadata": {
    "execution": {
     "iopub.execute_input": "2020-09-23T14:30:15.578692Z",
     "iopub.status.busy": "2020-09-23T14:30:15.577484Z",
     "iopub.status.idle": "2020-09-23T14:30:15.601934Z",
     "shell.execute_reply": "2020-09-23T14:30:15.601150Z",
     "shell.execute_reply.started": "2020-09-23T14:30:15.578573Z"
    }
   },
   "outputs": [],
   "source": [
    "cur.execute(\"drop view if exists emi_pop_2000\")\n",
    "cur.execute(\"drop view if exists pop_2000\")\n",
    "cur.execute(\"create view pop_2000 as select * from primap_data where primap_metadata_id = 3933 and date = '2000-01-01'\")\n",
    "cur.execute(\"drop view if exists emi_2000\")\n",
    "cur.execute(\"\"\"\n",
    "create view emi_2000 as \n",
    "    select * from prm_emi \n",
    "    where category = 'IPCM0EL'\n",
    "    and entity = 'KYOTOGHG (CO2eq)'\n",
    "    and scenario = 'HISTCR'\n",
    "    and date = '2000-01-01'\"\"\")\n",
    "cur.execute(\"\"\"\n",
    "create view emi_pop_2000 as\n",
    "    select pop_2000.value as pop, emi_2000.emissions as emi, area\n",
    "    from pop_2000 join emi_2000 using (area, date)\"\"\")\n",
    "conn.commit()"
   ]
  },
  {
   "cell_type": "code",
   "execution_count": 35,
   "metadata": {
    "execution": {
     "iopub.execute_input": "2020-09-23T14:30:30.563821Z",
     "iopub.status.busy": "2020-09-23T14:30:30.563408Z",
     "iopub.status.idle": "2020-09-23T14:30:30.694275Z",
     "shell.execute_reply": "2020-09-23T14:30:30.693743Z",
     "shell.execute_reply.started": "2020-09-23T14:30:30.563775Z"
    }
   },
   "outputs": [
    {
     "data": {
      "application/vnd.jupyter.widget-view+json": {
       "model_id": "c19f80c0e2db450eaf5daac78dc11dcf",
       "version_major": 2,
       "version_minor": 0
      },
      "text/plain": [
       "Canvas(toolbar=Toolbar(toolitems=[('Home', 'Reset original view', 'home', 'home'), ('Back', 'Back to previous …"
      ]
     },
     "metadata": {},
     "output_type": "display_data"
    },
    {
     "data": {
      "text/plain": [
       "<matplotlib.axes._subplots.AxesSubplot at 0x7f547c1172e0>"
      ]
     },
     "execution_count": 35,
     "metadata": {},
     "output_type": "execute_result"
    }
   ],
   "source": [
    "df = pdq(\"select * from emi_pop_2000\")\n",
    "df.plot.scatter(x='pop', y='emi', label='area')"
   ]
  },
  {
   "cell_type": "markdown",
   "metadata": {
    "execution": {
     "iopub.execute_input": "2020-09-23T14:30:49.403254Z",
     "iopub.status.busy": "2020-09-23T14:30:49.402637Z",
     "iopub.status.idle": "2020-09-23T14:30:49.411219Z",
     "shell.execute_reply": "2020-09-23T14:30:49.410453Z",
     "shell.execute_reply.started": "2020-09-23T14:30:49.403196Z"
    }
   },
   "source": [
    "## Selecting datasets and data\n",
    "* select datasets which contain data on the N2O emissions of Finland\n",
    "* in a selected dataset, select years in which the N2O emissions of Finland were above the 1950-2000 average"
   ]
  },
  {
   "cell_type": "code",
   "execution_count": 37,
   "metadata": {
    "execution": {
     "iopub.execute_input": "2020-09-23T14:42:46.443570Z",
     "iopub.status.busy": "2020-09-23T14:42:46.442752Z",
     "iopub.status.idle": "2020-09-23T14:42:46.471929Z",
     "shell.execute_reply": "2020-09-23T14:42:46.471271Z",
     "shell.execute_reply.started": "2020-09-23T14:42:46.443491Z"
    }
   },
   "outputs": [
    {
     "data": {
      "text/html": [
       "<div>\n",
       "<style scoped>\n",
       "    .dataframe tbody tr th:only-of-type {\n",
       "        vertical-align: middle;\n",
       "    }\n",
       "\n",
       "    .dataframe tbody tr th {\n",
       "        vertical-align: top;\n",
       "    }\n",
       "\n",
       "    .dataframe thead th {\n",
       "        text-align: right;\n",
       "    }\n",
       "</style>\n",
       "<table border=\"1\" class=\"dataframe\">\n",
       "  <thead>\n",
       "    <tr style=\"text-align: right;\">\n",
       "      <th></th>\n",
       "      <th>primap_metadata_id</th>\n",
       "      <th>description</th>\n",
       "      <th>scenario</th>\n",
       "      <th>source</th>\n",
       "    </tr>\n",
       "  </thead>\n",
       "  <tbody>\n",
       "    <tr>\n",
       "      <th>0</th>\n",
       "      <td>2996</td>\n",
       "      <td>Result of N2O_IPC5_TOTAL_NET_HISTCR_PRIMAPHIST...</td>\n",
       "      <td>HISTCR</td>\n",
       "      <td>PRIMAPHIST20</td>\n",
       "    </tr>\n",
       "    <tr>\n",
       "      <th>1</th>\n",
       "      <td>3000</td>\n",
       "      <td>Result of N2O_IPC5+IPC4+IPC3+IPC2_TOTAL_NET_HI...</td>\n",
       "      <td>HISTORY</td>\n",
       "      <td>CRF2019</td>\n",
       "    </tr>\n",
       "    <tr>\n",
       "      <th>2</th>\n",
       "      <td>3001</td>\n",
       "      <td>Result of N2O_IPC5+IPC4+IPC3+IPC2_TOTAL_NET_HI...</td>\n",
       "      <td>HISTORY</td>\n",
       "      <td>CRF2020</td>\n",
       "    </tr>\n",
       "    <tr>\n",
       "      <th>3</th>\n",
       "      <td>3002</td>\n",
       "      <td>Result of N2O_CAT7+CAT6+CAT5+CAT4+CAT3+CAT2_TO...</td>\n",
       "      <td>HISTORY</td>\n",
       "      <td>EDGAR42COMPI</td>\n",
       "    </tr>\n",
       "    <tr>\n",
       "      <th>4</th>\n",
       "      <td>3003</td>\n",
       "      <td>Result of N2O_CAT7+CAT6+CAT4+CAT3+CAT2_TOTAL_N...</td>\n",
       "      <td>HISTORY</td>\n",
       "      <td>EDGAR432I</td>\n",
       "    </tr>\n",
       "    <tr>\n",
       "      <th>5</th>\n",
       "      <td>3004</td>\n",
       "      <td>Result of N2O_IPC5+IPC4+IPC3+IPC2_TOTAL_NET_HI...</td>\n",
       "      <td>HISTORY</td>\n",
       "      <td>EDGAR50I</td>\n",
       "    </tr>\n",
       "    <tr>\n",
       "      <th>6</th>\n",
       "      <td>3007</td>\n",
       "      <td>Result of N2O_IPC5_TOTAL_NET_HISTTP_PRIMAPHIST...</td>\n",
       "      <td>HISTTP</td>\n",
       "      <td>PRIMAPHIST20</td>\n",
       "    </tr>\n",
       "  </tbody>\n",
       "</table>\n",
       "</div>"
      ],
      "text/plain": [
       "   primap_metadata_id                                        description  \\\n",
       "0                2996  Result of N2O_IPC5_TOTAL_NET_HISTCR_PRIMAPHIST...   \n",
       "1                3000  Result of N2O_IPC5+IPC4+IPC3+IPC2_TOTAL_NET_HI...   \n",
       "2                3001  Result of N2O_IPC5+IPC4+IPC3+IPC2_TOTAL_NET_HI...   \n",
       "3                3002  Result of N2O_CAT7+CAT6+CAT5+CAT4+CAT3+CAT2_TO...   \n",
       "4                3003  Result of N2O_CAT7+CAT6+CAT4+CAT3+CAT2_TOTAL_N...   \n",
       "5                3004  Result of N2O_IPC5+IPC4+IPC3+IPC2_TOTAL_NET_HI...   \n",
       "6                3007  Result of N2O_IPC5_TOTAL_NET_HISTTP_PRIMAPHIST...   \n",
       "\n",
       "  scenario        source  \n",
       "0   HISTCR  PRIMAPHIST20  \n",
       "1  HISTORY       CRF2019  \n",
       "2  HISTORY       CRF2020  \n",
       "3  HISTORY  EDGAR42COMPI  \n",
       "4  HISTORY     EDGAR432I  \n",
       "5  HISTORY      EDGAR50I  \n",
       "6   HISTTP  PRIMAPHIST20  "
      ]
     },
     "execution_count": 37,
     "metadata": {},
     "output_type": "execute_result"
    }
   ],
   "source": [
    "pdq(\"\"\"\n",
    "select distinct primap_metadata_id, description, scenario, source\n",
    "from primap_metadata join primap_data using (primap_metadata_id)\n",
    "where primap_metadata.entity = 'N2O'\n",
    "  and primap_data.area = 'FIN'\n",
    "  and primap_metadata.category = 'IPC0'\n",
    "order by primap_metadata_id\n",
    "\"\"\")"
   ]
  },
  {
   "cell_type": "code",
   "execution_count": 46,
   "metadata": {
    "execution": {
     "iopub.execute_input": "2020-09-23T14:54:12.033113Z",
     "iopub.status.busy": "2020-09-23T14:54:12.032828Z",
     "iopub.status.idle": "2020-09-23T14:54:12.057127Z",
     "shell.execute_reply": "2020-09-23T14:54:12.056656Z",
     "shell.execute_reply.started": "2020-09-23T14:54:12.033086Z"
    }
   },
   "outputs": [
    {
     "data": {
      "text/html": [
       "<div>\n",
       "<style scoped>\n",
       "    .dataframe tbody tr th:only-of-type {\n",
       "        vertical-align: middle;\n",
       "    }\n",
       "\n",
       "    .dataframe tbody tr th {\n",
       "        vertical-align: top;\n",
       "    }\n",
       "\n",
       "    .dataframe thead th {\n",
       "        text-align: right;\n",
       "    }\n",
       "</style>\n",
       "<table border=\"1\" class=\"dataframe\">\n",
       "  <thead>\n",
       "    <tr style=\"text-align: right;\">\n",
       "      <th></th>\n",
       "      <th>date</th>\n",
       "      <th>value</th>\n",
       "    </tr>\n",
       "  </thead>\n",
       "  <tbody>\n",
       "    <tr>\n",
       "      <th>0</th>\n",
       "      <td>1968-01-01</td>\n",
       "      <td>23.505047</td>\n",
       "    </tr>\n",
       "    <tr>\n",
       "      <th>1</th>\n",
       "      <td>1969-01-01</td>\n",
       "      <td>23.722403</td>\n",
       "    </tr>\n",
       "    <tr>\n",
       "      <th>2</th>\n",
       "      <td>1970-01-01</td>\n",
       "      <td>23.886290</td>\n",
       "    </tr>\n",
       "    <tr>\n",
       "      <th>3</th>\n",
       "      <td>1971-01-01</td>\n",
       "      <td>24.266094</td>\n",
       "    </tr>\n",
       "    <tr>\n",
       "      <th>4</th>\n",
       "      <td>1972-01-01</td>\n",
       "      <td>25.070313</td>\n",
       "    </tr>\n",
       "    <tr>\n",
       "      <th>5</th>\n",
       "      <td>1973-01-01</td>\n",
       "      <td>26.521749</td>\n",
       "    </tr>\n",
       "    <tr>\n",
       "      <th>6</th>\n",
       "      <td>1974-01-01</td>\n",
       "      <td>27.165970</td>\n",
       "    </tr>\n",
       "    <tr>\n",
       "      <th>7</th>\n",
       "      <td>1975-01-01</td>\n",
       "      <td>26.874863</td>\n",
       "    </tr>\n",
       "    <tr>\n",
       "      <th>8</th>\n",
       "      <td>1976-01-01</td>\n",
       "      <td>24.481267</td>\n",
       "    </tr>\n",
       "    <tr>\n",
       "      <th>9</th>\n",
       "      <td>1977-01-01</td>\n",
       "      <td>23.781692</td>\n",
       "    </tr>\n",
       "    <tr>\n",
       "      <th>10</th>\n",
       "      <td>1978-01-01</td>\n",
       "      <td>25.340659</td>\n",
       "    </tr>\n",
       "    <tr>\n",
       "      <th>11</th>\n",
       "      <td>1979-01-01</td>\n",
       "      <td>26.242610</td>\n",
       "    </tr>\n",
       "    <tr>\n",
       "      <th>12</th>\n",
       "      <td>1980-01-01</td>\n",
       "      <td>26.636445</td>\n",
       "    </tr>\n",
       "    <tr>\n",
       "      <th>13</th>\n",
       "      <td>1981-01-01</td>\n",
       "      <td>25.215840</td>\n",
       "    </tr>\n",
       "    <tr>\n",
       "      <th>14</th>\n",
       "      <td>1982-01-01</td>\n",
       "      <td>25.507800</td>\n",
       "    </tr>\n",
       "    <tr>\n",
       "      <th>15</th>\n",
       "      <td>1983-01-01</td>\n",
       "      <td>26.811532</td>\n",
       "    </tr>\n",
       "    <tr>\n",
       "      <th>16</th>\n",
       "      <td>1984-01-01</td>\n",
       "      <td>26.363238</td>\n",
       "    </tr>\n",
       "    <tr>\n",
       "      <th>17</th>\n",
       "      <td>1985-01-01</td>\n",
       "      <td>25.435556</td>\n",
       "    </tr>\n",
       "    <tr>\n",
       "      <th>18</th>\n",
       "      <td>1986-01-01</td>\n",
       "      <td>25.649390</td>\n",
       "    </tr>\n",
       "    <tr>\n",
       "      <th>19</th>\n",
       "      <td>1987-01-01</td>\n",
       "      <td>25.231176</td>\n",
       "    </tr>\n",
       "    <tr>\n",
       "      <th>20</th>\n",
       "      <td>1988-01-01</td>\n",
       "      <td>24.966333</td>\n",
       "    </tr>\n",
       "    <tr>\n",
       "      <th>21</th>\n",
       "      <td>1989-01-01</td>\n",
       "      <td>26.255160</td>\n",
       "    </tr>\n",
       "    <tr>\n",
       "      <th>22</th>\n",
       "      <td>1990-01-01</td>\n",
       "      <td>26.255160</td>\n",
       "    </tr>\n",
       "    <tr>\n",
       "      <th>23</th>\n",
       "      <td>1991-01-01</td>\n",
       "      <td>26.255160</td>\n",
       "    </tr>\n",
       "    <tr>\n",
       "      <th>24</th>\n",
       "      <td>1992-01-01</td>\n",
       "      <td>26.255160</td>\n",
       "    </tr>\n",
       "    <tr>\n",
       "      <th>25</th>\n",
       "      <td>1993-01-01</td>\n",
       "      <td>26.255160</td>\n",
       "    </tr>\n",
       "    <tr>\n",
       "      <th>26</th>\n",
       "      <td>1994-01-01</td>\n",
       "      <td>26.255160</td>\n",
       "    </tr>\n",
       "    <tr>\n",
       "      <th>27</th>\n",
       "      <td>1995-01-01</td>\n",
       "      <td>24.602356</td>\n",
       "    </tr>\n",
       "    <tr>\n",
       "      <th>28</th>\n",
       "      <td>1996-01-01</td>\n",
       "      <td>24.829969</td>\n",
       "    </tr>\n",
       "    <tr>\n",
       "      <th>29</th>\n",
       "      <td>1997-01-01</td>\n",
       "      <td>25.083729</td>\n",
       "    </tr>\n",
       "    <tr>\n",
       "      <th>30</th>\n",
       "      <td>1998-01-01</td>\n",
       "      <td>23.941817</td>\n",
       "    </tr>\n",
       "    <tr>\n",
       "      <th>31</th>\n",
       "      <td>1999-01-01</td>\n",
       "      <td>23.687438</td>\n",
       "    </tr>\n",
       "    <tr>\n",
       "      <th>32</th>\n",
       "      <td>2000-01-01</td>\n",
       "      <td>24.308151</td>\n",
       "    </tr>\n",
       "    <tr>\n",
       "      <th>33</th>\n",
       "      <td>2001-01-01</td>\n",
       "      <td>25.426886</td>\n",
       "    </tr>\n",
       "    <tr>\n",
       "      <th>34</th>\n",
       "      <td>2002-01-01</td>\n",
       "      <td>26.437402</td>\n",
       "    </tr>\n",
       "    <tr>\n",
       "      <th>35</th>\n",
       "      <td>2003-01-01</td>\n",
       "      <td>27.025178</td>\n",
       "    </tr>\n",
       "    <tr>\n",
       "      <th>36</th>\n",
       "      <td>2004-01-01</td>\n",
       "      <td>26.816781</td>\n",
       "    </tr>\n",
       "    <tr>\n",
       "      <th>37</th>\n",
       "      <td>2005-01-01</td>\n",
       "      <td>26.369284</td>\n",
       "    </tr>\n",
       "    <tr>\n",
       "      <th>38</th>\n",
       "      <td>2006-01-01</td>\n",
       "      <td>26.585846</td>\n",
       "    </tr>\n",
       "    <tr>\n",
       "      <th>39</th>\n",
       "      <td>2007-01-01</td>\n",
       "      <td>27.629536</td>\n",
       "    </tr>\n",
       "    <tr>\n",
       "      <th>40</th>\n",
       "      <td>2008-01-01</td>\n",
       "      <td>27.207363</td>\n",
       "    </tr>\n",
       "    <tr>\n",
       "      <th>41</th>\n",
       "      <td>2009-01-01</td>\n",
       "      <td>24.211946</td>\n",
       "    </tr>\n",
       "    <tr>\n",
       "      <th>42</th>\n",
       "      <td>2010-01-01</td>\n",
       "      <td>27.022941</td>\n",
       "    </tr>\n",
       "    <tr>\n",
       "      <th>43</th>\n",
       "      <td>2011-01-01</td>\n",
       "      <td>24.711519</td>\n",
       "    </tr>\n",
       "    <tr>\n",
       "      <th>44</th>\n",
       "      <td>2012-01-01</td>\n",
       "      <td>25.191643</td>\n",
       "    </tr>\n",
       "    <tr>\n",
       "      <th>45</th>\n",
       "      <td>2013-01-01</td>\n",
       "      <td>26.698377</td>\n",
       "    </tr>\n",
       "    <tr>\n",
       "      <th>46</th>\n",
       "      <td>2014-01-01</td>\n",
       "      <td>26.450066</td>\n",
       "    </tr>\n",
       "    <tr>\n",
       "      <th>47</th>\n",
       "      <td>2015-01-01</td>\n",
       "      <td>27.569375</td>\n",
       "    </tr>\n",
       "    <tr>\n",
       "      <th>48</th>\n",
       "      <td>2016-01-01</td>\n",
       "      <td>26.675050</td>\n",
       "    </tr>\n",
       "  </tbody>\n",
       "</table>\n",
       "</div>"
      ],
      "text/plain": [
       "          date      value\n",
       "0   1968-01-01  23.505047\n",
       "1   1969-01-01  23.722403\n",
       "2   1970-01-01  23.886290\n",
       "3   1971-01-01  24.266094\n",
       "4   1972-01-01  25.070313\n",
       "5   1973-01-01  26.521749\n",
       "6   1974-01-01  27.165970\n",
       "7   1975-01-01  26.874863\n",
       "8   1976-01-01  24.481267\n",
       "9   1977-01-01  23.781692\n",
       "10  1978-01-01  25.340659\n",
       "11  1979-01-01  26.242610\n",
       "12  1980-01-01  26.636445\n",
       "13  1981-01-01  25.215840\n",
       "14  1982-01-01  25.507800\n",
       "15  1983-01-01  26.811532\n",
       "16  1984-01-01  26.363238\n",
       "17  1985-01-01  25.435556\n",
       "18  1986-01-01  25.649390\n",
       "19  1987-01-01  25.231176\n",
       "20  1988-01-01  24.966333\n",
       "21  1989-01-01  26.255160\n",
       "22  1990-01-01  26.255160\n",
       "23  1991-01-01  26.255160\n",
       "24  1992-01-01  26.255160\n",
       "25  1993-01-01  26.255160\n",
       "26  1994-01-01  26.255160\n",
       "27  1995-01-01  24.602356\n",
       "28  1996-01-01  24.829969\n",
       "29  1997-01-01  25.083729\n",
       "30  1998-01-01  23.941817\n",
       "31  1999-01-01  23.687438\n",
       "32  2000-01-01  24.308151\n",
       "33  2001-01-01  25.426886\n",
       "34  2002-01-01  26.437402\n",
       "35  2003-01-01  27.025178\n",
       "36  2004-01-01  26.816781\n",
       "37  2005-01-01  26.369284\n",
       "38  2006-01-01  26.585846\n",
       "39  2007-01-01  27.629536\n",
       "40  2008-01-01  27.207363\n",
       "41  2009-01-01  24.211946\n",
       "42  2010-01-01  27.022941\n",
       "43  2011-01-01  24.711519\n",
       "44  2012-01-01  25.191643\n",
       "45  2013-01-01  26.698377\n",
       "46  2014-01-01  26.450066\n",
       "47  2015-01-01  27.569375\n",
       "48  2016-01-01  26.675050"
      ]
     },
     "execution_count": 46,
     "metadata": {},
     "output_type": "execute_result"
    }
   ],
   "source": [
    "cur.execute(\"drop view if exists fin_emi\")\n",
    "cur.execute(\"create view fin_emi as select date, value from primap_data where primap_metadata_id = 3007 and area = 'FIN'\")\n",
    "conn.commit()\n",
    "pdq(\"\"\"\n",
    "select * from fin_emi\n",
    "where value > (select avg(value) from fin_emi where date >= '1950-01-01' and date <= '2000-01-01')\n",
    "\"\"\")"
   ]
  },
  {
   "cell_type": "markdown",
   "metadata": {},
   "source": [
    "## Resampling\n",
    "* resample non-yearly dataset to yearly dataset"
   ]
  },
  {
   "cell_type": "code",
   "execution_count": 71,
   "metadata": {
    "execution": {
     "iopub.execute_input": "2020-09-23T15:07:59.377874Z",
     "iopub.status.busy": "2020-09-23T15:07:59.377591Z",
     "iopub.status.idle": "2020-09-23T15:07:59.440734Z",
     "shell.execute_reply": "2020-09-23T15:07:59.439363Z",
     "shell.execute_reply.started": "2020-09-23T15:07:59.377848Z"
    }
   },
   "outputs": [
    {
     "data": {
      "text/html": [
       "<div>\n",
       "<style scoped>\n",
       "    .dataframe tbody tr th:only-of-type {\n",
       "        vertical-align: middle;\n",
       "    }\n",
       "\n",
       "    .dataframe tbody tr th {\n",
       "        vertical-align: top;\n",
       "    }\n",
       "\n",
       "    .dataframe thead th {\n",
       "        text-align: right;\n",
       "    }\n",
       "</style>\n",
       "<table border=\"1\" class=\"dataframe\">\n",
       "  <thead>\n",
       "    <tr style=\"text-align: right;\">\n",
       "      <th></th>\n",
       "      <th>year</th>\n",
       "      <th>area</th>\n",
       "      <th>avg</th>\n",
       "    </tr>\n",
       "  </thead>\n",
       "  <tbody>\n",
       "    <tr>\n",
       "      <th>0</th>\n",
       "      <td>-1.0</td>\n",
       "      <td>global</td>\n",
       "      <td>0.000277</td>\n",
       "    </tr>\n",
       "    <tr>\n",
       "      <th>1</th>\n",
       "      <td>-1.0</td>\n",
       "      <td>nh</td>\n",
       "      <td>0.000277</td>\n",
       "    </tr>\n",
       "    <tr>\n",
       "      <th>2</th>\n",
       "      <td>-1.0</td>\n",
       "      <td>sh</td>\n",
       "      <td>0.000277</td>\n",
       "    </tr>\n",
       "    <tr>\n",
       "      <th>3</th>\n",
       "      <td>1.0</td>\n",
       "      <td>global</td>\n",
       "      <td>0.000277</td>\n",
       "    </tr>\n",
       "    <tr>\n",
       "      <th>4</th>\n",
       "      <td>1.0</td>\n",
       "      <td>nh</td>\n",
       "      <td>0.000277</td>\n",
       "    </tr>\n",
       "    <tr>\n",
       "      <th>...</th>\n",
       "      <td>...</td>\n",
       "      <td>...</td>\n",
       "      <td>...</td>\n",
       "    </tr>\n",
       "    <tr>\n",
       "      <th>6040</th>\n",
       "      <td>2013.0</td>\n",
       "      <td>nh</td>\n",
       "      <td>0.000398</td>\n",
       "    </tr>\n",
       "    <tr>\n",
       "      <th>6041</th>\n",
       "      <td>2013.0</td>\n",
       "      <td>sh</td>\n",
       "      <td>0.000394</td>\n",
       "    </tr>\n",
       "    <tr>\n",
       "      <th>6042</th>\n",
       "      <td>2014.0</td>\n",
       "      <td>global</td>\n",
       "      <td>0.000398</td>\n",
       "    </tr>\n",
       "    <tr>\n",
       "      <th>6043</th>\n",
       "      <td>2014.0</td>\n",
       "      <td>nh</td>\n",
       "      <td>0.000400</td>\n",
       "    </tr>\n",
       "    <tr>\n",
       "      <th>6044</th>\n",
       "      <td>2014.0</td>\n",
       "      <td>sh</td>\n",
       "      <td>0.000396</td>\n",
       "    </tr>\n",
       "  </tbody>\n",
       "</table>\n",
       "<p>6045 rows × 3 columns</p>\n",
       "</div>"
      ],
      "text/plain": [
       "        year    area       avg\n",
       "0       -1.0  global  0.000277\n",
       "1       -1.0      nh  0.000277\n",
       "2       -1.0      sh  0.000277\n",
       "3        1.0  global  0.000277\n",
       "4        1.0      nh  0.000277\n",
       "...      ...     ...       ...\n",
       "6040  2013.0      nh  0.000398\n",
       "6041  2013.0      sh  0.000394\n",
       "6042  2014.0  global  0.000398\n",
       "6043  2014.0      nh  0.000400\n",
       "6044  2014.0      sh  0.000396\n",
       "\n",
       "[6045 rows x 3 columns]"
      ]
     },
     "execution_count": 71,
     "metadata": {},
     "output_type": "execute_result"
    }
   ],
   "source": [
    "pdq(\"\"\"\n",
    "select extract(year from date) as year, area, avg(\"CO2 concentration\")\n",
    "from cmip_conc_co2 \n",
    "group by extract(year from date), area\n",
    "order by year, area\n",
    "\"\"\")"
   ]
  },
  {
   "cell_type": "markdown",
   "metadata": {},
   "source": [
    "# Interpolate\n",
    "* delete some data points from a data set and fill them in using linear interpolation"
   ]
  },
  {
   "cell_type": "code",
   "execution_count": 80,
   "metadata": {
    "execution": {
     "iopub.execute_input": "2020-09-23T15:16:40.493709Z",
     "iopub.status.busy": "2020-09-23T15:16:40.493166Z",
     "iopub.status.idle": "2020-09-23T15:16:40.514315Z",
     "shell.execute_reply": "2020-09-23T15:16:40.513556Z",
     "shell.execute_reply.started": "2020-09-23T15:16:40.493644Z"
    }
   },
   "outputs": [],
   "source": [
    "#cur.execute(\"drop view if exists fin_emi\")\n",
    "cur.execute(\"drop table if exists fin_emi\")\n",
    "cur.execute(\"create table fin_emi as select date, value from primap_data where primap_metadata_id = 3007 and area = 'FIN'\")\n",
    "conn.commit()"
   ]
  },
  {
   "cell_type": "code",
   "execution_count": 88,
   "metadata": {
    "execution": {
     "iopub.execute_input": "2020-09-23T15:19:49.884825Z",
     "iopub.status.busy": "2020-09-23T15:19:49.883993Z",
     "iopub.status.idle": "2020-09-23T15:19:49.889701Z",
     "shell.execute_reply": "2020-09-23T15:19:49.889070Z",
     "shell.execute_reply.started": "2020-09-23T15:19:49.884740Z"
    }
   },
   "outputs": [],
   "source": [
    "cur.execute(\"update fin_emi set value = NULL where date >= '1990-01-01' and date < '1995-01-01'\")"
   ]
  },
  {
   "cell_type": "code",
   "execution_count": 90,
   "metadata": {
    "execution": {
     "iopub.execute_input": "2020-09-23T15:25:13.147245Z",
     "iopub.status.busy": "2020-09-23T15:25:13.146970Z",
     "iopub.status.idle": "2020-09-23T15:25:13.175842Z",
     "shell.execute_reply": "2020-09-23T15:25:13.175225Z",
     "shell.execute_reply.started": "2020-09-23T15:25:13.147220Z"
    }
   },
   "outputs": [
    {
     "data": {
      "text/html": [
       "<div>\n",
       "<style scoped>\n",
       "    .dataframe tbody tr th:only-of-type {\n",
       "        vertical-align: middle;\n",
       "    }\n",
       "\n",
       "    .dataframe tbody tr th {\n",
       "        vertical-align: top;\n",
       "    }\n",
       "\n",
       "    .dataframe thead th {\n",
       "        text-align: right;\n",
       "    }\n",
       "</style>\n",
       "<table border=\"1\" class=\"dataframe\">\n",
       "  <thead>\n",
       "    <tr style=\"text-align: right;\">\n",
       "      <th></th>\n",
       "      <th>date</th>\n",
       "      <th>value</th>\n",
       "    </tr>\n",
       "  </thead>\n",
       "  <tbody>\n",
       "    <tr>\n",
       "      <th>0</th>\n",
       "      <td>1850-01-01</td>\n",
       "      <td>1.149008</td>\n",
       "    </tr>\n",
       "    <tr>\n",
       "      <th>1</th>\n",
       "      <td>1851-01-01</td>\n",
       "      <td>1.192368</td>\n",
       "    </tr>\n",
       "    <tr>\n",
       "      <th>2</th>\n",
       "      <td>1852-01-01</td>\n",
       "      <td>1.235104</td>\n",
       "    </tr>\n",
       "    <tr>\n",
       "      <th>3</th>\n",
       "      <td>1853-01-01</td>\n",
       "      <td>1.276830</td>\n",
       "    </tr>\n",
       "    <tr>\n",
       "      <th>4</th>\n",
       "      <td>1854-01-01</td>\n",
       "      <td>1.317161</td>\n",
       "    </tr>\n",
       "    <tr>\n",
       "      <th>...</th>\n",
       "      <td>...</td>\n",
       "      <td>...</td>\n",
       "    </tr>\n",
       "    <tr>\n",
       "      <th>162</th>\n",
       "      <td>2012-01-01</td>\n",
       "      <td>25.191643</td>\n",
       "    </tr>\n",
       "    <tr>\n",
       "      <th>163</th>\n",
       "      <td>2013-01-01</td>\n",
       "      <td>26.698377</td>\n",
       "    </tr>\n",
       "    <tr>\n",
       "      <th>164</th>\n",
       "      <td>2014-01-01</td>\n",
       "      <td>26.450066</td>\n",
       "    </tr>\n",
       "    <tr>\n",
       "      <th>165</th>\n",
       "      <td>2015-01-01</td>\n",
       "      <td>27.569375</td>\n",
       "    </tr>\n",
       "    <tr>\n",
       "      <th>166</th>\n",
       "      <td>2016-01-01</td>\n",
       "      <td>26.675050</td>\n",
       "    </tr>\n",
       "  </tbody>\n",
       "</table>\n",
       "<p>167 rows × 2 columns</p>\n",
       "</div>"
      ],
      "text/plain": [
       "          date      value\n",
       "0   1850-01-01   1.149008\n",
       "1   1851-01-01   1.192368\n",
       "2   1852-01-01   1.235104\n",
       "3   1853-01-01   1.276830\n",
       "4   1854-01-01   1.317161\n",
       "..         ...        ...\n",
       "162 2012-01-01  25.191643\n",
       "163 2013-01-01  26.698377\n",
       "164 2014-01-01  26.450066\n",
       "165 2015-01-01  27.569375\n",
       "166 2016-01-01  26.675050\n",
       "\n",
       "[167 rows x 2 columns]"
      ]
     },
     "execution_count": 90,
     "metadata": {},
     "output_type": "execute_result"
    }
   ],
   "source": [
    "# has to be done via pandas\n",
    "pdq(\"select * from fin_emi\").interpolate()"
   ]
  },
  {
   "cell_type": "markdown",
   "metadata": {},
   "source": [
    "# alternative: sqlite"
   ]
  },
  {
   "cell_type": "code",
   "execution_count": 3,
   "metadata": {
    "execution": {
     "iopub.execute_input": "2020-09-24T07:18:42.071334Z",
     "iopub.status.busy": "2020-09-24T07:18:42.070945Z",
     "iopub.status.idle": "2020-09-24T07:18:42.197378Z",
     "shell.execute_reply": "2020-09-24T07:18:42.195929Z",
     "shell.execute_reply.started": "2020-09-24T07:18:42.071290Z"
    }
   },
   "outputs": [],
   "source": [
    "!mkdir -p sqlite/\n",
    "\n",
    "import sqlite3\n",
    "conn = sqlite3.connect(#':memory:', # could also be somewhere instead of in memory\n",
    "                       'sqlite/data.sqlite3',\n",
    "                       detect_types=sqlite3.PARSE_DECLTYPES | sqlite3.PARSE_COLNAMES)\n",
    "cur = conn.cursor()\n",
    "import datetime"
   ]
  },
  {
   "cell_type": "code",
   "execution_count": 176,
   "metadata": {
    "execution": {
     "iopub.execute_input": "2020-09-23T17:38:27.489450Z",
     "iopub.status.busy": "2020-09-23T17:38:27.489100Z",
     "iopub.status.idle": "2020-09-23T17:38:30.349953Z",
     "shell.execute_reply": "2020-09-23T17:38:30.349605Z",
     "shell.execute_reply.started": "2020-09-23T17:38:27.489416Z"
    }
   },
   "outputs": [
    {
     "data": {
      "text/plain": [
       "<sqlite3.Cursor at 0x7f54436afce0>"
      ]
     },
     "execution_count": 176,
     "metadata": {},
     "output_type": "execute_result"
    }
   ],
   "source": [
    "fao_emi_total_pd = open_dequantify('mem/fao_emi_total_wo.pck', 'Emissions')\n",
    "fao_emi_total_pd['Date'] = [x.date() for x in pd.to_datetime(fao_emi_total_pd['Date'])]\n",
    "\n",
    "cur.execute(\"\"\"create table fao_emi_total (\n",
    "Area text,\n",
    "Date date,\n",
    "Element text,\n",
    "Item text,\n",
    "Emissions double precision,\n",
    "Unit text,\n",
    "primary key (Area, Date, Element, Item)\n",
    ")\"\"\")\n",
    "cur.executemany(\"\"\"insert into fao_emi_total (Area, Date, Element, Item, Emissions, Unit) values (?, ?, ?, ?, ?, ?)\"\"\",\n",
    "                (fao_emi_total_pd.itertuples(index=False, name=None)))"
   ]
  },
  {
   "cell_type": "code",
   "execution_count": 177,
   "metadata": {
    "execution": {
     "iopub.execute_input": "2020-09-23T17:38:30.350970Z",
     "iopub.status.busy": "2020-09-23T17:38:30.350826Z",
     "iopub.status.idle": "2020-09-23T17:38:30.371767Z",
     "shell.execute_reply": "2020-09-23T17:38:30.371349Z",
     "shell.execute_reply.started": "2020-09-23T17:38:30.350956Z"
    }
   },
   "outputs": [
    {
     "data": {
      "text/plain": [
       "<sqlite3.Cursor at 0x7f54436afce0>"
      ]
     },
     "execution_count": 177,
     "metadata": {},
     "output_type": "execute_result"
    }
   ],
   "source": [
    "lak_emi_energy_pd = open_dequantify('mem/lak_emi_energy_wo.pck', 'Emissions')\n",
    "lak_emi_energy_pd['Date'] = [x.date() for x in pd.to_datetime(lak_emi_energy_pd['Date'])]\n",
    "\n",
    "cur.execute(\"\"\"create table lak_emi_energy (\n",
    "Area text,\n",
    "Category text,\n",
    "Date date,\n",
    "Emissions double precision,\n",
    "Unit text,\n",
    "primary key (Area, Category, Date)\n",
    ")\"\"\")\n",
    "cur.executemany(\"\"\"insert into lak_emi_energy (Area, Category, Date, Emissions, Unit) values (?, ?, ?, ?, ?)\"\"\",\n",
    "                (lak_emi_energy_pd.itertuples(index=False, name=None)))"
   ]
  },
  {
   "cell_type": "code",
   "execution_count": 178,
   "metadata": {
    "execution": {
     "iopub.execute_input": "2020-09-23T17:38:30.372440Z",
     "iopub.status.busy": "2020-09-23T17:38:30.372303Z",
     "iopub.status.idle": "2020-09-23T17:38:30.849316Z",
     "shell.execute_reply": "2020-09-23T17:38:30.848704Z",
     "shell.execute_reply.started": "2020-09-23T17:38:30.372426Z"
    }
   },
   "outputs": [],
   "source": [
    "cmip_conc_co2_pd = open_dequantify('mem/cmip_conc_co2_wo.pck', 'CO2 concentration')\n",
    "cmip_conc_co2_pd['year'] = [x.year for x in cmip_conc_co2_pd['Date']]\n",
    "cmip_conc_co2_pd['month'] = [x.month for x in cmip_conc_co2_pd['Date']]"
   ]
  },
  {
   "cell_type": "code",
   "execution_count": 179,
   "metadata": {
    "execution": {
     "iopub.execute_input": "2020-09-23T17:38:30.850189Z",
     "iopub.status.busy": "2020-09-23T17:38:30.850015Z",
     "iopub.status.idle": "2020-09-23T17:38:30.852846Z",
     "shell.execute_reply": "2020-09-23T17:38:30.852331Z",
     "shell.execute_reply.started": "2020-09-23T17:38:30.850173Z"
    }
   },
   "outputs": [],
   "source": [
    "del cmip_conc_co2_pd['Date']"
   ]
  },
  {
   "cell_type": "code",
   "execution_count": 180,
   "metadata": {
    "execution": {
     "iopub.execute_input": "2020-09-23T17:38:30.854084Z",
     "iopub.status.busy": "2020-09-23T17:38:30.853885Z",
     "iopub.status.idle": "2020-09-23T17:38:30.872035Z",
     "shell.execute_reply": "2020-09-23T17:38:30.871623Z",
     "shell.execute_reply.started": "2020-09-23T17:38:30.854065Z"
    }
   },
   "outputs": [
    {
     "data": {
      "text/html": [
       "<div>\n",
       "<style scoped>\n",
       "    .dataframe tbody tr th:only-of-type {\n",
       "        vertical-align: middle;\n",
       "    }\n",
       "\n",
       "    .dataframe tbody tr th {\n",
       "        vertical-align: top;\n",
       "    }\n",
       "\n",
       "    .dataframe thead th {\n",
       "        text-align: right;\n",
       "    }\n",
       "</style>\n",
       "<table border=\"1\" class=\"dataframe\">\n",
       "  <thead>\n",
       "    <tr style=\"text-align: right;\">\n",
       "      <th></th>\n",
       "      <th>Area</th>\n",
       "      <th>CO2 concentration</th>\n",
       "      <th>Unit</th>\n",
       "      <th>year</th>\n",
       "      <th>month</th>\n",
       "    </tr>\n",
       "  </thead>\n",
       "  <tbody>\n",
       "    <tr>\n",
       "      <th>0</th>\n",
       "      <td>global</td>\n",
       "      <td>0.000278</td>\n",
       "      <td>dimensionless</td>\n",
       "      <td>0</td>\n",
       "      <td>1</td>\n",
       "    </tr>\n",
       "    <tr>\n",
       "      <th>1</th>\n",
       "      <td>global</td>\n",
       "      <td>0.000279</td>\n",
       "      <td>dimensionless</td>\n",
       "      <td>0</td>\n",
       "      <td>2</td>\n",
       "    </tr>\n",
       "    <tr>\n",
       "      <th>2</th>\n",
       "      <td>global</td>\n",
       "      <td>0.000279</td>\n",
       "      <td>dimensionless</td>\n",
       "      <td>0</td>\n",
       "      <td>3</td>\n",
       "    </tr>\n",
       "    <tr>\n",
       "      <th>3</th>\n",
       "      <td>global</td>\n",
       "      <td>0.000279</td>\n",
       "      <td>dimensionless</td>\n",
       "      <td>0</td>\n",
       "      <td>4</td>\n",
       "    </tr>\n",
       "    <tr>\n",
       "      <th>4</th>\n",
       "      <td>global</td>\n",
       "      <td>0.000279</td>\n",
       "      <td>dimensionless</td>\n",
       "      <td>0</td>\n",
       "      <td>5</td>\n",
       "    </tr>\n",
       "    <tr>\n",
       "      <th>...</th>\n",
       "      <td>...</td>\n",
       "      <td>...</td>\n",
       "      <td>...</td>\n",
       "      <td>...</td>\n",
       "      <td>...</td>\n",
       "    </tr>\n",
       "    <tr>\n",
       "      <th>72535</th>\n",
       "      <td>sh</td>\n",
       "      <td>0.000396</td>\n",
       "      <td>dimensionless</td>\n",
       "      <td>2014</td>\n",
       "      <td>8</td>\n",
       "    </tr>\n",
       "    <tr>\n",
       "      <th>72536</th>\n",
       "      <td>sh</td>\n",
       "      <td>0.000396</td>\n",
       "      <td>dimensionless</td>\n",
       "      <td>2014</td>\n",
       "      <td>9</td>\n",
       "    </tr>\n",
       "    <tr>\n",
       "      <th>72537</th>\n",
       "      <td>sh</td>\n",
       "      <td>0.000396</td>\n",
       "      <td>dimensionless</td>\n",
       "      <td>2014</td>\n",
       "      <td>10</td>\n",
       "    </tr>\n",
       "    <tr>\n",
       "      <th>72538</th>\n",
       "      <td>sh</td>\n",
       "      <td>0.000396</td>\n",
       "      <td>dimensionless</td>\n",
       "      <td>2014</td>\n",
       "      <td>11</td>\n",
       "    </tr>\n",
       "    <tr>\n",
       "      <th>72539</th>\n",
       "      <td>sh</td>\n",
       "      <td>0.000396</td>\n",
       "      <td>dimensionless</td>\n",
       "      <td>2014</td>\n",
       "      <td>12</td>\n",
       "    </tr>\n",
       "  </tbody>\n",
       "</table>\n",
       "<p>72540 rows × 5 columns</p>\n",
       "</div>"
      ],
      "text/plain": [
       "         Area  CO2 concentration           Unit  year  month\n",
       "0      global           0.000278  dimensionless     0      1\n",
       "1      global           0.000279  dimensionless     0      2\n",
       "2      global           0.000279  dimensionless     0      3\n",
       "3      global           0.000279  dimensionless     0      4\n",
       "4      global           0.000279  dimensionless     0      5\n",
       "...       ...                ...            ...   ...    ...\n",
       "72535      sh           0.000396  dimensionless  2014      8\n",
       "72536      sh           0.000396  dimensionless  2014      9\n",
       "72537      sh           0.000396  dimensionless  2014     10\n",
       "72538      sh           0.000396  dimensionless  2014     11\n",
       "72539      sh           0.000396  dimensionless  2014     12\n",
       "\n",
       "[72540 rows x 5 columns]"
      ]
     },
     "execution_count": 180,
     "metadata": {},
     "output_type": "execute_result"
    }
   ],
   "source": [
    "cmip_conc_co2_pd"
   ]
  },
  {
   "cell_type": "code",
   "execution_count": 181,
   "metadata": {
    "execution": {
     "iopub.execute_input": "2020-09-23T17:38:30.872995Z",
     "iopub.status.busy": "2020-09-23T17:38:30.872814Z",
     "iopub.status.idle": "2020-09-23T17:38:31.101032Z",
     "shell.execute_reply": "2020-09-23T17:38:31.100147Z",
     "shell.execute_reply.started": "2020-09-23T17:38:30.872972Z"
    }
   },
   "outputs": [
    {
     "data": {
      "text/plain": [
       "<sqlite3.Cursor at 0x7f54436afce0>"
      ]
     },
     "execution_count": 181,
     "metadata": {},
     "output_type": "execute_result"
    }
   ],
   "source": [
    "cur.execute(\"\"\"create table cmip_conc_co2 (\n",
    "Area text,\n",
    "\"CO2 concentration\" double precision,\n",
    "Unit text,\n",
    "year int,\n",
    "month int,\n",
    "primary key (Area, year, month)\n",
    ")\"\"\")\n",
    "cur.executemany(\"\"\"insert into cmip_conc_co2 (Area, \"CO2 concentration\", Unit, year, month) values (?, ?, ?, ?, ?)\"\"\",\n",
    "                (cmip_conc_co2_pd.itertuples(index=False, name=None)))"
   ]
  },
  {
   "cell_type": "code",
   "execution_count": 182,
   "metadata": {
    "execution": {
     "iopub.execute_input": "2020-09-23T17:38:31.102500Z",
     "iopub.status.busy": "2020-09-23T17:38:31.102133Z",
     "iopub.status.idle": "2020-09-23T17:39:09.274730Z",
     "shell.execute_reply": "2020-09-23T17:39:09.273995Z",
     "shell.execute_reply.started": "2020-09-23T17:38:31.102467Z"
    }
   },
   "outputs": [
    {
     "data": {
      "text/plain": [
       "<sqlite3.Cursor at 0x7f54436afce0>"
      ]
     },
     "execution_count": 182,
     "metadata": {},
     "output_type": "execute_result"
    }
   ],
   "source": [
    "prm_emi_pd = open_dequantify('mem/prm_emi_wo.pck', 'Emissions')\n",
    "prm_emi_pd['Date'] = [x.date() for x in pd.to_datetime(prm_emi_pd['Date'])]\n",
    "\n",
    "cur.execute(\"\"\"create table prm_emi (\n",
    "Area text,\n",
    "Category text,\n",
    "Date date,\n",
    "Entity text,\n",
    "Scenario text,\n",
    "Emissions double precision,\n",
    "Unit text,\n",
    "primary key (Area, Category, Date, Entity, Scenario)\n",
    ")\"\"\")\n",
    "cur.executemany(\"\"\"insert into prm_emi (Area, Category, Date, Entity, Scenario, Emissions, Unit) values (?, ?, ?, ?, ?, ?, ?)\"\"\",\n",
    "                (prm_emi_pd.itertuples(index=False, name=None)))"
   ]
  },
  {
   "cell_type": "code",
   "execution_count": 183,
   "metadata": {
    "execution": {
     "iopub.execute_input": "2020-09-23T17:39:09.276332Z",
     "iopub.status.busy": "2020-09-23T17:39:09.276077Z",
     "iopub.status.idle": "2020-09-23T17:41:07.877511Z",
     "shell.execute_reply": "2020-09-23T17:41:07.876153Z",
     "shell.execute_reply.started": "2020-09-23T17:39:09.276308Z"
    }
   },
   "outputs": [
    {
     "data": {
      "application/vnd.jupyter.widget-view+json": {
       "model_id": "dcad13694afb4027ac5e5defe7f4f147",
       "version_major": 2,
       "version_minor": 0
      },
      "text/plain": [
       "HBox(children=(IntProgress(value=0, max=4118), HTML(value='')))"
      ]
     },
     "metadata": {},
     "output_type": "display_data"
    }
   ],
   "source": [
    "with open(f'mem/primap_tables_wo.pck', 'rb') as fd:\n",
    "    primap_tables_pd = pickle.load(fd)\n",
    "    \n",
    "cur.execute(\"\"\"create table primap_metadata (\n",
    "primap_metadata_id integer primary key,\n",
    "Category text,\n",
    "Class text,\n",
    "Description text,\n",
    "Note text,\n",
    "Scenario text,\n",
    "Source text,\n",
    "Type text,\n",
    "Entity text,\n",
    "Unit text,\n",
    "unique (Category, Class, Scenario, Source, Type, Entity)\n",
    ")\"\"\")\n",
    "\n",
    "cur.execute(\"\"\"create table primap_data (\n",
    "primap_metadata_id integer references primap_metadata (primap_metadata_id),\n",
    "Area text,\n",
    "Date date,\n",
    "Value double precision,\n",
    "primary key (primap_metadata_id, Area, Date)\n",
    ")\"\"\")\n",
    "\n",
    "for key in tqdm.tqdm_notebook(primap_tables_pd):\n",
    "    meta, df = primap_tables_pd[key]\n",
    "    \n",
    "    entity = df.columns[-1]\n",
    "    unit = str(df[entity].pint.units)\n",
    "    df[entity] = df[entity].pint.magnitude\n",
    "    try:\n",
    "        df['Date'] = [x.date() for x in pd.to_datetime(df['Date'])]\n",
    "    except:\n",
    "        continue\n",
    "    \n",
    "    cur.execute(\"\"\"insert into primap_metadata (Category, Class, Description, Note, Scenario, Source, Type, Entity, Unit)\n",
    "                   values (?, ?, ?, ?, ?, ?, ?, ?, ?)\"\"\",\n",
    "                (meta['category'], meta['class'], meta['descr'], meta['note'], meta['scenario'], meta['source'], meta['type'], entity, unit))\n",
    "    cur.execute(\"\"\"select last_insert_rowid()\"\"\")\n",
    "    metadata_id = cur.fetchone()[0]\n",
    "    \n",
    "    \n",
    "    cur.executemany(f\"\"\"insert into primap_data (primap_metadata_id, Area, Date, Value)\n",
    "                        values ({metadata_id}, ?, ?, ?)\"\"\",\n",
    "                    df.itertuples(index=False, name=None))\n",
    "conn.commit()"
   ]
  },
  {
   "cell_type": "code",
   "execution_count": 189,
   "metadata": {
    "execution": {
     "iopub.execute_input": "2020-09-23T17:44:46.368579Z",
     "iopub.status.busy": "2020-09-23T17:44:46.367765Z",
     "iopub.status.idle": "2020-09-23T17:44:46.647224Z",
     "shell.execute_reply": "2020-09-23T17:44:46.646313Z",
     "shell.execute_reply.started": "2020-09-23T17:44:46.368520Z"
    }
   },
   "outputs": [
    {
     "name": "stdout",
     "output_type": "stream",
     "text": [
      "total 1,4G\n",
      "drwxrwxr-x  2 pflueger pflueger 4,0K Sep 23 19:43 .\n",
      "drwxrwxr-x 12 pflueger pflueger 4,0K Sep 23 19:43 ..\n",
      "-rw-r--r--  1 pflueger pflueger 1,4G Sep 23 19:43 data.sqlite3\n"
     ]
    }
   ],
   "source": [
    "!ls -lah sqlite/\n",
    "# this is the native i/o format"
   ]
  },
  {
   "cell_type": "code",
   "execution_count": 190,
   "metadata": {
    "execution": {
     "iopub.execute_input": "2020-09-23T17:45:21.500883Z",
     "iopub.status.busy": "2020-09-23T17:45:21.500700Z",
     "iopub.status.idle": "2020-09-23T17:45:21.503145Z",
     "shell.execute_reply": "2020-09-23T17:45:21.502601Z",
     "shell.execute_reply.started": "2020-09-23T17:45:21.500866Z"
    }
   },
   "outputs": [],
   "source": [
    "# do aligned arithmetic to get a feeling for performance and features"
   ]
  },
  {
   "cell_type": "code",
   "execution_count": 13,
   "metadata": {
    "execution": {
     "iopub.execute_input": "2020-09-24T07:33:34.778045Z",
     "iopub.status.busy": "2020-09-24T07:33:34.777593Z",
     "iopub.status.idle": "2020-09-24T07:33:34.788931Z",
     "shell.execute_reply": "2020-09-24T07:33:34.787039Z",
     "shell.execute_reply.started": "2020-09-24T07:33:34.778001Z"
    }
   },
   "outputs": [
    {
     "data": {
      "text/plain": [
       "<sqlite3.Cursor at 0x7f5a726a0b90>"
      ]
     },
     "execution_count": 13,
     "metadata": {},
     "output_type": "execute_result"
    }
   ],
   "source": [
    "cur.execute('drop view if exists a')\n",
    "cur.execute(\"\"\"\n",
    "create temporary view a as \n",
    "    select * from prm_emi\n",
    "    where Category = 'IPC1' and\n",
    "          date <= '1990-12-31' and\n",
    "          date >= '1900-01-01' and\n",
    "          Entity = 'CO2' and\n",
    "          Scenario = 'HISTCR' \"\"\")"
   ]
  },
  {
   "cell_type": "code",
   "execution_count": 14,
   "metadata": {
    "execution": {
     "iopub.execute_input": "2020-09-24T07:33:38.698766Z",
     "iopub.status.busy": "2020-09-24T07:33:38.698163Z",
     "iopub.status.idle": "2020-09-24T07:33:38.708267Z",
     "shell.execute_reply": "2020-09-24T07:33:38.705895Z",
     "shell.execute_reply.started": "2020-09-24T07:33:38.698724Z"
    }
   },
   "outputs": [
    {
     "data": {
      "text/plain": [
       "<sqlite3.Cursor at 0x7f5a726a0b90>"
      ]
     },
     "execution_count": 14,
     "metadata": {},
     "output_type": "execute_result"
    }
   ],
   "source": [
    "cur.execute('drop view if exists b')\n",
    "cur.execute(\"\"\"create temporary view b as \n",
    "                  select * from prm_emi\n",
    "                  where area in ('DEU', 'FIN', 'ZWE') \"\"\")"
   ]
  },
  {
   "cell_type": "code",
   "execution_count": 15,
   "metadata": {
    "execution": {
     "iopub.execute_input": "2020-09-24T07:33:42.378437Z",
     "iopub.status.busy": "2020-09-24T07:33:42.378011Z",
     "iopub.status.idle": "2020-09-24T07:33:42.385832Z",
     "shell.execute_reply": "2020-09-24T07:33:42.382535Z",
     "shell.execute_reply.started": "2020-09-24T07:33:42.378402Z"
    }
   },
   "outputs": [],
   "source": [
    "def pdq(query):\n",
    "    return pd.read_sql_query(query, conn)"
   ]
  },
  {
   "cell_type": "code",
   "execution_count": 17,
   "metadata": {
    "execution": {
     "iopub.execute_input": "2020-09-24T07:34:03.027465Z",
     "iopub.status.busy": "2020-09-24T07:34:03.027155Z",
     "iopub.status.idle": "2020-09-24T07:34:03.042834Z",
     "shell.execute_reply": "2020-09-24T07:34:03.042235Z",
     "shell.execute_reply.started": "2020-09-24T07:34:03.027439Z"
    }
   },
   "outputs": [
    {
     "data": {
      "text/html": [
       "<div>\n",
       "<style scoped>\n",
       "    .dataframe tbody tr th:only-of-type {\n",
       "        vertical-align: middle;\n",
       "    }\n",
       "\n",
       "    .dataframe tbody tr th {\n",
       "        vertical-align: top;\n",
       "    }\n",
       "\n",
       "    .dataframe thead th {\n",
       "        text-align: right;\n",
       "    }\n",
       "</style>\n",
       "<table border=\"1\" class=\"dataframe\">\n",
       "  <thead>\n",
       "    <tr style=\"text-align: right;\">\n",
       "      <th></th>\n",
       "      <th>results</th>\n",
       "    </tr>\n",
       "  </thead>\n",
       "  <tbody>\n",
       "    <tr>\n",
       "      <th>0</th>\n",
       "      <td>640000.0</td>\n",
       "    </tr>\n",
       "    <tr>\n",
       "      <th>1</th>\n",
       "      <td>638000.0</td>\n",
       "    </tr>\n",
       "    <tr>\n",
       "      <th>2</th>\n",
       "      <td>626000.0</td>\n",
       "    </tr>\n",
       "    <tr>\n",
       "      <th>3</th>\n",
       "      <td>674000.0</td>\n",
       "    </tr>\n",
       "    <tr>\n",
       "      <th>4</th>\n",
       "      <td>698000.0</td>\n",
       "    </tr>\n",
       "    <tr>\n",
       "      <th>...</th>\n",
       "      <td>...</td>\n",
       "    </tr>\n",
       "    <tr>\n",
       "      <th>268</th>\n",
       "      <td>22800.0</td>\n",
       "    </tr>\n",
       "    <tr>\n",
       "      <th>269</th>\n",
       "      <td>26000.0</td>\n",
       "    </tr>\n",
       "    <tr>\n",
       "      <th>270</th>\n",
       "      <td>27200.0</td>\n",
       "    </tr>\n",
       "    <tr>\n",
       "      <th>271</th>\n",
       "      <td>27400.0</td>\n",
       "    </tr>\n",
       "    <tr>\n",
       "      <th>272</th>\n",
       "      <td>26400.0</td>\n",
       "    </tr>\n",
       "  </tbody>\n",
       "</table>\n",
       "<p>273 rows × 1 columns</p>\n",
       "</div>"
      ],
      "text/plain": [
       "      results\n",
       "0    640000.0\n",
       "1    638000.0\n",
       "2    626000.0\n",
       "3    674000.0\n",
       "4    698000.0\n",
       "..        ...\n",
       "268   22800.0\n",
       "269   26000.0\n",
       "270   27200.0\n",
       "271   27400.0\n",
       "272   26400.0\n",
       "\n",
       "[273 rows x 1 columns]"
      ]
     },
     "execution_count": 17,
     "metadata": {},
     "output_type": "execute_result"
    }
   ],
   "source": [
    "pdq(\"\"\"select a.emissions + b.emissions as results\n",
    "       from a join b using (area, category, date, entity, scenario)\"\"\")\n",
    "# note the timing includes conversion into a pandas dataframe"
   ]
  },
  {
   "cell_type": "code",
   "execution_count": 18,
   "metadata": {
    "execution": {
     "iopub.execute_input": "2020-09-24T07:35:48.804178Z",
     "iopub.status.busy": "2020-09-24T07:35:48.803922Z",
     "iopub.status.idle": "2020-09-24T07:35:48.833844Z",
     "shell.execute_reply": "2020-09-24T07:35:48.832147Z",
     "shell.execute_reply.started": "2020-09-24T07:35:48.804157Z"
    }
   },
   "outputs": [
    {
     "data": {
      "text/html": [
       "<div>\n",
       "<style scoped>\n",
       "    .dataframe tbody tr th:only-of-type {\n",
       "        vertical-align: middle;\n",
       "    }\n",
       "\n",
       "    .dataframe tbody tr th {\n",
       "        vertical-align: top;\n",
       "    }\n",
       "\n",
       "    .dataframe thead th {\n",
       "        text-align: right;\n",
       "    }\n",
       "</style>\n",
       "<table border=\"1\" class=\"dataframe\">\n",
       "  <thead>\n",
       "    <tr style=\"text-align: right;\">\n",
       "      <th></th>\n",
       "      <th>primap_metadata_id</th>\n",
       "      <th>Description</th>\n",
       "      <th>Scenario</th>\n",
       "      <th>Source</th>\n",
       "    </tr>\n",
       "  </thead>\n",
       "  <tbody>\n",
       "    <tr>\n",
       "      <th>0</th>\n",
       "      <td>2993</td>\n",
       "      <td>Result of N2O_IPC5_TOTAL_NET_HISTCR_PRIMAPHIST...</td>\n",
       "      <td>HISTCR</td>\n",
       "      <td>PRIMAPHIST20</td>\n",
       "    </tr>\n",
       "    <tr>\n",
       "      <th>1</th>\n",
       "      <td>2997</td>\n",
       "      <td>Result of N2O_IPC5+IPC4+IPC3+IPC2_TOTAL_NET_HI...</td>\n",
       "      <td>HISTORY</td>\n",
       "      <td>CRF2019</td>\n",
       "    </tr>\n",
       "    <tr>\n",
       "      <th>2</th>\n",
       "      <td>2998</td>\n",
       "      <td>Result of N2O_IPC5+IPC4+IPC3+IPC2_TOTAL_NET_HI...</td>\n",
       "      <td>HISTORY</td>\n",
       "      <td>CRF2020</td>\n",
       "    </tr>\n",
       "    <tr>\n",
       "      <th>3</th>\n",
       "      <td>2999</td>\n",
       "      <td>Result of N2O_CAT7+CAT6+CAT5+CAT4+CAT3+CAT2_TO...</td>\n",
       "      <td>HISTORY</td>\n",
       "      <td>EDGAR42COMPI</td>\n",
       "    </tr>\n",
       "    <tr>\n",
       "      <th>4</th>\n",
       "      <td>3000</td>\n",
       "      <td>Result of N2O_CAT7+CAT6+CAT4+CAT3+CAT2_TOTAL_N...</td>\n",
       "      <td>HISTORY</td>\n",
       "      <td>EDGAR432I</td>\n",
       "    </tr>\n",
       "    <tr>\n",
       "      <th>5</th>\n",
       "      <td>3001</td>\n",
       "      <td>Result of N2O_IPC5+IPC4+IPC3+IPC2_TOTAL_NET_HI...</td>\n",
       "      <td>HISTORY</td>\n",
       "      <td>EDGAR50I</td>\n",
       "    </tr>\n",
       "    <tr>\n",
       "      <th>6</th>\n",
       "      <td>3004</td>\n",
       "      <td>Result of N2O_IPC5_TOTAL_NET_HISTTP_PRIMAPHIST...</td>\n",
       "      <td>HISTTP</td>\n",
       "      <td>PRIMAPHIST20</td>\n",
       "    </tr>\n",
       "  </tbody>\n",
       "</table>\n",
       "</div>"
      ],
      "text/plain": [
       "   primap_metadata_id                                        Description  \\\n",
       "0                2993  Result of N2O_IPC5_TOTAL_NET_HISTCR_PRIMAPHIST...   \n",
       "1                2997  Result of N2O_IPC5+IPC4+IPC3+IPC2_TOTAL_NET_HI...   \n",
       "2                2998  Result of N2O_IPC5+IPC4+IPC3+IPC2_TOTAL_NET_HI...   \n",
       "3                2999  Result of N2O_CAT7+CAT6+CAT5+CAT4+CAT3+CAT2_TO...   \n",
       "4                3000  Result of N2O_CAT7+CAT6+CAT4+CAT3+CAT2_TOTAL_N...   \n",
       "5                3001  Result of N2O_IPC5+IPC4+IPC3+IPC2_TOTAL_NET_HI...   \n",
       "6                3004  Result of N2O_IPC5_TOTAL_NET_HISTTP_PRIMAPHIST...   \n",
       "\n",
       "  Scenario        Source  \n",
       "0   HISTCR  PRIMAPHIST20  \n",
       "1  HISTORY       CRF2019  \n",
       "2  HISTORY       CRF2020  \n",
       "3  HISTORY  EDGAR42COMPI  \n",
       "4  HISTORY     EDGAR432I  \n",
       "5  HISTORY      EDGAR50I  \n",
       "6   HISTTP  PRIMAPHIST20  "
      ]
     },
     "execution_count": 18,
     "metadata": {},
     "output_type": "execute_result"
    }
   ],
   "source": [
    "pdq(\"\"\"\n",
    "select distinct primap_metadata_id, description, scenario, source\n",
    "from primap_metadata join primap_data using (primap_metadata_id)\n",
    "where primap_metadata.entity = 'N2O'\n",
    "  and primap_data.area = 'FIN'\n",
    "  and primap_metadata.category = 'IPC0'\n",
    "order by primap_metadata_id\n",
    "\"\"\")"
   ]
  },
  {
   "cell_type": "code",
   "execution_count": null,
   "metadata": {},
   "outputs": [],
   "source": []
  }
 ],
 "metadata": {
  "kernelspec": {
   "display_name": "Python 3",
   "language": "python",
   "name": "python3"
  },
  "language_info": {
   "codemirror_mode": {
    "name": "ipython",
    "version": 3
   },
   "file_extension": ".py",
   "mimetype": "text/x-python",
   "name": "python",
   "nbconvert_exporter": "python",
   "pygments_lexer": "ipython3",
   "version": "3.8.2"
  }
 },
 "nbformat": 4,
 "nbformat_minor": 4
}
