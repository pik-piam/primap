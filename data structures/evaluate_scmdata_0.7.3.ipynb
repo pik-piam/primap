{
 "cells": [
  {
   "cell_type": "code",
   "execution_count": 25,
   "metadata": {
    "execution": {
     "iopub.execute_input": "2020-09-25T14:10:48.030102Z",
     "iopub.status.busy": "2020-09-25T14:10:48.029072Z",
     "iopub.status.idle": "2020-09-25T14:10:48.058522Z",
     "shell.execute_reply": "2020-09-25T14:10:48.057884Z",
     "shell.execute_reply.started": "2020-09-25T14:10:48.030009Z"
    }
   },
   "outputs": [],
   "source": [
    "import sys\n",
    "# prefer conda env over .local\n",
    "sys.path.insert(1, '/home/pflueger/.local/conda/envs/scmdata/lib/python3.8/site-packages')\n",
    "\n",
    "import matplotlib\n",
    "%matplotlib widget\n",
    "from matplotlib import pyplot as plt\n",
    "import pandas as pd\n",
    "import scmdata\n",
    "import pickle\n",
    "import numpy as np\n",
    "import pathlib\n",
    "import itertools\n",
    "import tqdm\n",
    "import pint_xarray"
   ]
  },
  {
   "cell_type": "code",
   "execution_count": 2,
   "metadata": {
    "execution": {
     "iopub.execute_input": "2020-09-25T14:03:45.037061Z",
     "iopub.status.busy": "2020-09-25T14:03:45.036900Z",
     "iopub.status.idle": "2020-09-25T14:03:45.040398Z",
     "shell.execute_reply": "2020-09-25T14:03:45.039654Z",
     "shell.execute_reply.started": "2020-09-25T14:03:45.037046Z"
    }
   },
   "outputs": [
    {
     "data": {
      "text/plain": [
       "'0.7.3'"
      ]
     },
     "execution_count": 2,
     "metadata": {},
     "output_type": "execute_result"
    }
   ],
   "source": [
    "scmdata.__version__"
   ]
  },
  {
   "cell_type": "code",
   "execution_count": 3,
   "metadata": {
    "execution": {
     "iopub.execute_input": "2020-09-25T14:03:45.894068Z",
     "iopub.status.busy": "2020-09-25T14:03:45.893157Z",
     "iopub.status.idle": "2020-09-25T14:03:45.901948Z",
     "shell.execute_reply": "2020-09-25T14:03:45.899909Z",
     "shell.execute_reply.started": "2020-09-25T14:03:45.893987Z"
    }
   },
   "outputs": [],
   "source": [
    "class CustomScmRun(scmdata.run.BaseScmRun):\n",
    "    required_cols = ['unit']"
   ]
  },
  {
   "cell_type": "code",
   "execution_count": 4,
   "metadata": {
    "execution": {
     "iopub.execute_input": "2020-09-25T14:03:47.031397Z",
     "iopub.status.busy": "2020-09-25T14:03:47.030543Z",
     "iopub.status.idle": "2020-09-25T14:03:47.043536Z",
     "shell.execute_reply": "2020-09-25T14:03:47.042697Z",
     "shell.execute_reply.started": "2020-09-25T14:03:47.031318Z"
    }
   },
   "outputs": [],
   "source": [
    "def scmrun_from_pandas(df):\n",
    "    columns = list(df.index.names)\n",
    "    columns.remove('Date')\n",
    "    columns.append('Date')\n",
    "    dfs = df.pint.magnitude.reorder_levels(columns).sort_index().unstack()\n",
    "    \n",
    "    scm_cols = {x: dfs.index.get_level_values(x) for x in dfs.index.names}\n",
    "    scm_cols['unit'] = [str(df.pint.units)]\n",
    "    \n",
    "    return CustomScmRun(dfs.values.T,\n",
    "                          columns=scm_cols,\n",
    "                          index=dfs.columns)"
   ]
  },
  {
   "cell_type": "code",
   "execution_count": 5,
   "metadata": {
    "execution": {
     "iopub.execute_input": "2020-09-25T14:03:48.999515Z",
     "iopub.status.busy": "2020-09-25T14:03:48.998532Z",
     "iopub.status.idle": "2020-09-25T14:03:49.484768Z",
     "shell.execute_reply": "2020-09-25T14:03:49.484167Z",
     "shell.execute_reply.started": "2020-09-25T14:03:48.999418Z"
    }
   },
   "outputs": [],
   "source": [
    "with open(f'mem/fao_emi_total.pck', 'rb') as fd:\n",
    "    fao_emi_total_pd = pickle.load(fd)\n",
    "    \n",
    "fao_emi_total = scmrun_from_pandas(fao_emi_total_pd)\n",
    "del fao_emi_total_pd"
   ]
  },
  {
   "cell_type": "code",
   "execution_count": 6,
   "metadata": {
    "execution": {
     "iopub.execute_input": "2020-09-25T14:03:50.007213Z",
     "iopub.status.busy": "2020-09-25T14:03:50.006021Z",
     "iopub.status.idle": "2020-09-25T14:03:50.455057Z",
     "shell.execute_reply": "2020-09-25T14:03:50.454601Z",
     "shell.execute_reply.started": "2020-09-25T14:03:50.007096Z"
    }
   },
   "outputs": [],
   "source": [
    "with open(f'mem/fao_emi_total.pck', 'rb') as fd:\n",
    "    fao_emi_total_pd = pickle.load(fd)\n",
    "\n",
    "fao_emi_total = scmrun_from_pandas(fao_emi_total_pd)\n",
    "del fao_emi_total_pd"
   ]
  },
  {
   "cell_type": "code",
   "execution_count": 7,
   "metadata": {
    "execution": {
     "iopub.execute_input": "2020-09-25T14:04:09.094270Z",
     "iopub.status.busy": "2020-09-25T14:04:09.093295Z",
     "iopub.status.idle": "2020-09-25T14:04:09.125520Z",
     "shell.execute_reply": "2020-09-25T14:04:09.124607Z",
     "shell.execute_reply.started": "2020-09-25T14:04:09.094179Z"
    }
   },
   "outputs": [],
   "source": [
    "with open(f'mem/lak_emi_energy.pck', 'rb') as fd:\n",
    "    lak_emi_energy_pd = pickle.load(fd)\n",
    "\n",
    "lak_emi_energy = scmrun_from_pandas(lak_emi_energy_pd)\n",
    "del lak_emi_energy_pd"
   ]
  },
  {
   "cell_type": "code",
   "execution_count": 14,
   "metadata": {
    "execution": {
     "iopub.execute_input": "2020-09-25T14:06:52.463864Z",
     "iopub.status.busy": "2020-09-25T14:06:52.463029Z",
     "iopub.status.idle": "2020-09-25T14:06:52.590458Z",
     "shell.execute_reply": "2020-09-25T14:06:52.589854Z",
     "shell.execute_reply.started": "2020-09-25T14:06:52.463785Z"
    }
   },
   "outputs": [],
   "source": [
    "p = pathlib.Path('../../primap-requirements/example_data_sets/')\n",
    "dtypes = {\n",
    "    'data_mean_global': np.float,\n",
    "    'data_mean_nh': np.float,\n",
    "    'data_mean_sh': np.float,\n",
    "}\n",
    "cmip_conc_co2 = pd.read_csv(\n",
    "    p / 'mole_fraction_of_carbon_dioxide_in_air_input4MIPs_GHGConcentrations_CMIP_UoM-CMIP-1-1-0_gr3-GMNHSH_000001-201412.csv',\n",
    "    usecols=dtypes.keys(),\n",
    "    #index_col=[0, 1],\n",
    ")\n",
    "# cannot use datetime here, because the range of possible values reaches back only into the 17th century\n",
    "cmip_conc_co2.index = pd.period_range(start=pd.Period(year=0, month=1, freq='M'), end=pd.Period(year=2014, month=12, freq='M'), name='Date')\n",
    "\n",
    "cmip_conc_co2 = cmip_conc_co2.stack()\n",
    "\n",
    "cmip_conc_co2.index = (cmip_conc_co2.index\n",
    "                       .set_levels(cmip_conc_co2.index.levels[1].str[len('data_mean_'):].astype(pd.CategoricalDtype(ordered=True)), level=1)\n",
    "                       .set_names('Area', level=1)\n",
    "                      )\n",
    "\n",
    "cmip_conc_co2 = cmip_conc_co2.reorder_levels(['Area', 'Date', ])\n",
    "cmip_conc_co2.sort_index(inplace=True)\n",
    "\n",
    "cmip_conc_co2.name = 'CO2 concentration'\n",
    "\n",
    "cmip_conc_co2 = cmip_conc_co2.astype('pint[dimensionless]')\n",
    "cmip_conc_co2 *= 1e-6"
   ]
  },
  {
   "cell_type": "code",
   "execution_count": 17,
   "metadata": {
    "execution": {
     "iopub.execute_input": "2020-09-25T14:07:21.000515Z",
     "iopub.status.busy": "2020-09-25T14:07:20.999481Z",
     "iopub.status.idle": "2020-09-25T14:07:21.797473Z",
     "shell.execute_reply": "2020-09-25T14:07:21.796991Z",
     "shell.execute_reply.started": "2020-09-25T14:07:21.000419Z"
    }
   },
   "outputs": [],
   "source": [
    "cmip_conc_co2.index.set_levels(\n",
    "    [f'{year:04}-{month:02}-01' for year, month in itertools.product([-1] + list(range(1, 2015)), range(1, 13))],\n",
    "    level='Date',\n",
    "    inplace=True)    \n",
    "\n",
    "cmip_conc_co2 = scmrun_from_pandas(cmip_conc_co2)"
   ]
  },
  {
   "cell_type": "code",
   "execution_count": 18,
   "metadata": {
    "execution": {
     "iopub.execute_input": "2020-09-25T14:07:43.257087Z",
     "iopub.status.busy": "2020-09-25T14:07:43.256636Z",
     "iopub.status.idle": "2020-09-25T14:07:47.613740Z",
     "shell.execute_reply": "2020-09-25T14:07:47.613173Z",
     "shell.execute_reply.started": "2020-09-25T14:07:43.257047Z"
    }
   },
   "outputs": [],
   "source": [
    "with open(f'mem/prm_emi.pck', 'rb') as fd:\n",
    "    prm_emi_pd = pickle.load(fd)\n",
    "    \n",
    "prm_emi = scmrun_from_pandas(prm_emi_pd)\n",
    "\n",
    "del prm_emi_pd"
   ]
  },
  {
   "cell_type": "code",
   "execution_count": 19,
   "metadata": {
    "execution": {
     "iopub.execute_input": "2020-09-25T14:07:56.069876Z",
     "iopub.status.busy": "2020-09-25T14:07:56.068894Z",
     "iopub.status.idle": "2020-09-25T14:07:57.047776Z",
     "shell.execute_reply": "2020-09-25T14:07:57.047071Z",
     "shell.execute_reply.started": "2020-09-25T14:07:56.069786Z"
    }
   },
   "outputs": [],
   "source": [
    "with open(f'xr/mem/primap_sources.pck', 'rb') as fd:\n",
    "    primap_xr = pickle.load(fd)"
   ]
  },
  {
   "cell_type": "code",
   "execution_count": 29,
   "metadata": {
    "execution": {
     "iopub.execute_input": "2020-09-25T14:11:14.211462Z",
     "iopub.status.busy": "2020-09-25T14:11:14.210919Z",
     "iopub.status.idle": "2020-09-25T14:11:14.221091Z",
     "shell.execute_reply": "2020-09-25T14:11:14.219901Z",
     "shell.execute_reply.started": "2020-09-25T14:11:14.211406Z"
    }
   },
   "outputs": [],
   "source": [
    "def scmrun_from_xarray(da, model):\n",
    "    das = da.pint.quantify().to_array('Element').stack({'index': ['Area', 'Category', 'Class', 'Scenario', 'Type', 'Element']})\n",
    "    return CustomScmRun(das.pint.magnitude,\n",
    "                          columns={'region': das['Area'],\n",
    "                                   'Type': das['Type'],\n",
    "                                   'Class': das['Class'],\n",
    "                                   'element': das['Element'],\n",
    "                                   'category': das['Category'],\n",
    "                                   'unit': [str(das.pint.units)],\n",
    "                                   'scenario': das['Scenario'],\n",
    "                                   'model': [model]},\n",
    "                          index=das['Date'].values)"
   ]
  },
  {
   "cell_type": "code",
   "execution_count": 31,
   "metadata": {
    "execution": {
     "iopub.execute_input": "2020-09-25T14:11:44.094821Z",
     "iopub.status.busy": "2020-09-25T14:11:44.094249Z",
     "iopub.status.idle": "2020-09-25T14:11:51.279256Z",
     "shell.execute_reply": "2020-09-25T14:11:51.278221Z",
     "shell.execute_reply.started": "2020-09-25T14:11:44.094770Z"
    }
   },
   "outputs": [
    {
     "data": {
      "application/vnd.jupyter.widget-view+json": {
       "model_id": "43fcec5a83e8479ea0d3b411a133bf68",
       "version_major": 2,
       "version_minor": 0
      },
      "text/plain": [
       "HBox(children=(IntProgress(value=0, max=17), HTML(value='')))"
      ]
     },
     "metadata": {},
     "output_type": "display_data"
    },
    {
     "name": "stdout",
     "output_type": "stream",
     "text": [
      "CRF2020\n",
      "BUR2IPCC2006I\n",
      "BUR3IPCC2006I\n",
      "ANDREW2018V4I\n",
      "UNFCCC2019BI\n",
      "CDIAC2017I\n",
      "UN2017P\n",
      "UN2019P\n",
      "EDGAR42COMPI\n",
      "EDGAR50I\n",
      "CRF2019\n",
      "MPD2018P\n",
      "BUR1IPCC2006I\n",
      "PMHSOCIOECO12\n",
      "PRIMAPHIST20\n",
      "EDGAR432I\n",
      "UNFCCC2020AI\n",
      "\n"
     ]
    }
   ],
   "source": [
    "primap = {}\n",
    "for key in tqdm.tqdm_notebook(primap_xr):\n",
    "    print(key)\n",
    "    da = primap_xr[key]\n",
    "    primap[key] = scmrun_from_xarray(da, key)\n",
    "\n",
    "del primap_xr"
   ]
  },
  {
   "cell_type": "markdown",
   "metadata": {
    "execution": {
     "iopub.execute_input": "2020-09-25T14:10:39.102914Z",
     "iopub.status.busy": "2020-09-25T14:10:39.101899Z",
     "iopub.status.idle": "2020-09-25T14:10:39.208414Z",
     "shell.execute_reply": "2020-09-25T14:10:39.207119Z",
     "shell.execute_reply.started": "2020-09-25T14:10:39.102819Z"
    }
   },
   "source": [
    "## Measure memory use"
   ]
  },
  {
   "cell_type": "code",
   "execution_count": 33,
   "metadata": {
    "execution": {
     "iopub.execute_input": "2020-09-25T14:14:25.742998Z",
     "iopub.status.busy": "2020-09-25T14:14:25.742800Z",
     "iopub.status.idle": "2020-09-25T14:14:26.946241Z",
     "shell.execute_reply": "2020-09-25T14:14:26.943360Z",
     "shell.execute_reply.started": "2020-09-25T14:14:25.742981Z"
    }
   },
   "outputs": [
    {
     "name": "stdout",
     "output_type": "stream",
     "text": [
      "total 952M\n",
      "drwxrwxr-x 2 pflueger pflueger 4,0K Sep 25 16:14 .\n",
      "drwxrwxr-x 3 pflueger pflueger 4,0K Sep 25 16:14 ..\n",
      "-rw-rw-r-- 1 pflueger pflueger 1,2M Sep 25 16:14 cmip_conc_co2.pck\n",
      "-rw-rw-r-- 1 pflueger pflueger 4,8M Sep 25 16:14 fao_emi_total.pck\n",
      "-rw-rw-r-- 1 pflueger pflueger  29K Sep 25 16:14 lak_emi_energy.pck\n",
      "-rw-rw-r-- 1 pflueger pflueger 908M Sep 25 16:14 primap.pck\n",
      "-rw-rw-r-- 1 pflueger pflueger  39M Sep 25 16:14 prm_emi.pck\n",
      "total 674M\n",
      "drwxrwxr-x  2 pflueger pflueger 4,0K Aug 27 10:55 .\n",
      "drwxrwxr-x 13 pflueger pflueger 4,0K Sep 25 16:13 ..\n",
      "-rw-rw-r--  1 pflueger pflueger 1,2M Aug 27 18:49 cmip_conc_co2.pck\n",
      "-rw-rw-r--  1 pflueger pflueger 1,2M Aug 27 18:53 cmip_conc_co2_wo.pck\n",
      "-rw-rw-r--  1 pflueger pflueger 8,8M Aug 27 18:49 fao_emi_total.pck\n",
      "-rw-rw-r--  1 pflueger pflueger 9,7M Aug 27 18:53 fao_emi_total_wo.pck\n",
      "-rw-rw-r--  1 pflueger pflueger  40K Aug 27 18:49 lak_emi_energy.pck\n",
      "-rw-rw-r--  1 pflueger pflueger  50K Aug 27 18:53 lak_emi_energy_wo.pck\n",
      "-rw-rw-r--  1 pflueger pflueger 205M Aug 27 18:49 primap_tables.pck\n",
      "-rw-rw-r--  1 pflueger pflueger 244M Aug 27 18:53 primap_tables_wo.pck\n",
      "-rw-rw-r--  1 pflueger pflueger 105M Aug 27 18:49 prm_emi.pck\n",
      "-rw-rw-r--  1 pflueger pflueger 100M Aug 27 18:53 prm_emi_wo.pck\n"
     ]
    }
   ],
   "source": [
    "!rm -rf sd7/mem/\n",
    "!mkdir -p sd7/mem/\n",
    "\n",
    "import pickle\n",
    "\n",
    "for fpath, obj in (\n",
    "    ('fao_emi_total', fao_emi_total),\n",
    "    ('lak_emi_energy', lak_emi_energy),\n",
    "    ('cmip_conc_co2', cmip_conc_co2),\n",
    "    ('prm_emi', prm_emi),\n",
    "    ('primap', primap)\n",
    "):\n",
    "    with open(f'sd7/mem/{fpath}.pck', 'wb') as fd:\n",
    "        pickle.dump(obj, fd, -1)\n",
    "\n",
    "!ls -lah sd7/mem/\n",
    "!ls -lah mem/"
   ]
  },
  {
   "cell_type": "markdown",
   "metadata": {},
   "source": [
    "## I/O\n",
    "* export the data sets to CSV\n",
    "* reimport from CSV\n",
    "* export the data sets to some kind of native storage format\n",
    "* reimport from the native storage format"
   ]
  },
  {
   "cell_type": "code",
   "execution_count": 36,
   "metadata": {
    "execution": {
     "iopub.execute_input": "2020-09-25T14:35:30.110144Z",
     "iopub.status.busy": "2020-09-25T14:35:30.109286Z",
     "iopub.status.idle": "2020-09-25T14:37:04.756165Z",
     "shell.execute_reply": "2020-09-25T14:37:04.754661Z",
     "shell.execute_reply.started": "2020-09-25T14:35:30.110065Z"
    }
   },
   "outputs": [
    {
     "data": {
      "application/vnd.jupyter.widget-view+json": {
       "model_id": "9fcebcabe5c4416c944e700b355ad0d6",
       "version_major": 2,
       "version_minor": 0
      },
      "text/plain": [
       "HBox(children=(IntProgress(value=0, max=17), HTML(value='')))"
      ]
     },
     "metadata": {},
     "output_type": "display_data"
    },
    {
     "name": "stdout",
     "output_type": "stream",
     "text": [
      "\n",
      "total 40M\n",
      "drwxrwxr-x 3 pflueger pflueger 4,0K Sep 25 16:35 .\n",
      "drwxrwxr-x 4 pflueger pflueger 4,0K Sep 25 16:34 ..\n",
      "-rw-rw-r-- 1 pflueger pflueger 4,7M Sep 25 16:35 fao_emi_total.csv\n",
      "-rw-rw-r-- 1 pflueger pflueger  45K Sep 25 16:35 lak_emi_energy.csv\n",
      "drwxrwxr-x 2 pflueger pflueger 4,0K Sep 25 16:37 primap\n",
      "-rw-rw-r-- 1 pflueger pflueger  36M Sep 25 16:35 prm_emi.csv\n",
      "total 250M\n",
      "drwxrwxr-x  3 pflueger pflueger 4,0K Aug 25 18:14 .\n",
      "drwxrwxr-x 13 pflueger pflueger 4,0K Sep 25 16:35 ..\n",
      "-rw-rw-r--  1 pflueger pflueger 2,4M Aug 27 18:49 cmip_conc_co2.csv\n",
      "-rw-rw-r--  1 pflueger pflueger  29M Aug 27 18:49 fao_emi_total.csv\n",
      "-rw-rw-r--  1 pflueger pflueger 145K Aug 27 18:49 lak_emi_energy.csv\n",
      "drwxrwxr-x  2 pflueger pflueger 692K Aug 25 18:13 primap_tables\n",
      "-rw-rw-r--  1 pflueger pflueger 218M Aug 27 18:50 prm_emi.csv\n"
     ]
    }
   ],
   "source": [
    "!mkdir -p sd7/csv/primap\n",
    "\n",
    "fao_emi_total.to_csv('sd7/csv/fao_emi_total.csv')\n",
    "lak_emi_energy.to_csv('sd7/csv/lak_emi_energy.csv')\n",
    "#cmip_conc_co2.to_csv('sd/csv/cmip_conc_co2.csv')\n",
    "prm_emi.to_csv('sd7/csv/prm_emi.csv')\n",
    "\n",
    "for key, da in tqdm.tqdm_notebook(primap.items()):\n",
    "    da.to_csv(f'sd7/csv/primap/{key}.csv')\n",
    "\n",
    "# CSV does not work with crftime axis\n",
    "\n",
    "!ls -lah sd7/csv\n",
    "!ls -lah csv/"
   ]
  },
  {
   "cell_type": "code",
   "execution_count": 38,
   "metadata": {
    "execution": {
     "iopub.execute_input": "2020-09-25T15:03:25.218121Z",
     "iopub.status.busy": "2020-09-25T15:03:25.217267Z",
     "iopub.status.idle": "2020-09-25T15:03:25.226226Z",
     "shell.execute_reply": "2020-09-25T15:03:25.224175Z",
     "shell.execute_reply.started": "2020-09-25T15:03:25.218041Z"
    }
   },
   "outputs": [],
   "source": [
    "# no more \"native\" storage format"
   ]
  },
  {
   "cell_type": "markdown",
   "metadata": {},
   "source": [
    "# interactive analysis and plotting\n",
    "* add / subtract / divide / multiply compatible, overlapping data sets\n",
    "* timeit\n",
    "* plot a historical time series, and something akin to gapminder (countries on a gdp vs emissions plot)\n",
    "* select datasets which contain data on the N2O emissions of Finland\n",
    "* in a selected dataset, select years in which the N2O emissions of Finland were above the 1950-2000 average\n",
    "* resample non-yearly dataset to yearly dataset\n",
    "* convert a dataset to tidy format"
   ]
  },
  {
   "cell_type": "code",
   "execution_count": null,
   "metadata": {},
   "outputs": [],
   "source": [
    "# extract two compatible, partly overlapping data sets from primap-hist\n",
    "a = (prm_emif.xs('IPC1', level='Category')\n",
    "             .xs(slice('1900', '1990'), level='Date')\n",
    "             .xs('CO2', level='Entity')\n",
    "             .xs('HISTCR', level='Scenario')\n",
    ")"
   ]
  },
  {
   "cell_type": "code",
   "execution_count": 49,
   "metadata": {
    "execution": {
     "iopub.execute_input": "2020-09-25T15:09:54.562602Z",
     "iopub.status.busy": "2020-09-25T15:09:54.561735Z",
     "iopub.status.idle": "2020-09-25T15:09:54.595377Z",
     "shell.execute_reply": "2020-09-25T15:09:54.594598Z",
     "shell.execute_reply.started": "2020-09-25T15:09:54.562521Z"
    }
   },
   "outputs": [],
   "source": [
    "a = prm_emi.filter(Category='IPC1', Entity='CO2', Scenario='HISTCR', year=range(1900, 1991))"
   ]
  },
  {
   "cell_type": "code",
   "execution_count": 54,
   "metadata": {
    "execution": {
     "iopub.execute_input": "2020-09-25T15:10:46.596562Z",
     "iopub.status.busy": "2020-09-25T15:10:46.595631Z",
     "iopub.status.idle": "2020-09-25T15:10:46.622634Z",
     "shell.execute_reply": "2020-09-25T15:10:46.621513Z",
     "shell.execute_reply.started": "2020-09-25T15:10:46.596466Z"
    }
   },
   "outputs": [],
   "source": [
    "b = prm_emi.filter(Area=['DEU', 'FIN', 'ZWE'])"
   ]
  },
  {
   "cell_type": "code",
   "execution_count": 71,
   "metadata": {
    "execution": {
     "iopub.execute_input": "2020-09-25T15:17:14.995151Z",
     "iopub.status.busy": "2020-09-25T15:17:14.994249Z",
     "iopub.status.idle": "2020-09-25T15:17:15.081533Z",
     "shell.execute_reply": "2020-09-25T15:17:15.080139Z",
     "shell.execute_reply.started": "2020-09-25T15:17:14.995069Z"
    }
   },
   "outputs": [
    {
     "data": {
      "text/html": [
       "<div>\n",
       "<style scoped>\n",
       "    .dataframe tbody tr th:only-of-type {\n",
       "        vertical-align: middle;\n",
       "    }\n",
       "\n",
       "    .dataframe tbody tr th {\n",
       "        vertical-align: top;\n",
       "    }\n",
       "\n",
       "    .dataframe thead th {\n",
       "        text-align: right;\n",
       "    }\n",
       "</style>\n",
       "<table border=\"1\" class=\"dataframe\">\n",
       "  <thead>\n",
       "    <tr style=\"text-align: right;\">\n",
       "      <th></th>\n",
       "      <th></th>\n",
       "      <th></th>\n",
       "      <th></th>\n",
       "      <th>time</th>\n",
       "      <th>1900-01-01</th>\n",
       "      <th>1901-01-01</th>\n",
       "      <th>1902-01-01</th>\n",
       "      <th>1903-01-01</th>\n",
       "      <th>1904-01-01</th>\n",
       "      <th>1905-01-01</th>\n",
       "      <th>1906-01-01</th>\n",
       "      <th>1907-01-01</th>\n",
       "      <th>1908-01-01</th>\n",
       "      <th>1909-01-01</th>\n",
       "      <th>...</th>\n",
       "      <th>1981-01-01</th>\n",
       "      <th>1982-01-01</th>\n",
       "      <th>1983-01-01</th>\n",
       "      <th>1984-01-01</th>\n",
       "      <th>1985-01-01</th>\n",
       "      <th>1986-01-01</th>\n",
       "      <th>1987-01-01</th>\n",
       "      <th>1988-01-01</th>\n",
       "      <th>1989-01-01</th>\n",
       "      <th>1990-01-01</th>\n",
       "    </tr>\n",
       "    <tr>\n",
       "      <th>Area</th>\n",
       "      <th>Category</th>\n",
       "      <th>Entity</th>\n",
       "      <th>Scenario</th>\n",
       "      <th>unit</th>\n",
       "      <th></th>\n",
       "      <th></th>\n",
       "      <th></th>\n",
       "      <th></th>\n",
       "      <th></th>\n",
       "      <th></th>\n",
       "      <th></th>\n",
       "      <th></th>\n",
       "      <th></th>\n",
       "      <th></th>\n",
       "      <th></th>\n",
       "      <th></th>\n",
       "      <th></th>\n",
       "      <th></th>\n",
       "      <th></th>\n",
       "      <th></th>\n",
       "      <th></th>\n",
       "      <th></th>\n",
       "      <th></th>\n",
       "      <th></th>\n",
       "      <th></th>\n",
       "    </tr>\n",
       "  </thead>\n",
       "  <tbody>\n",
       "    <tr>\n",
       "      <th>DEU</th>\n",
       "      <th>IPC1</th>\n",
       "      <th>CO2</th>\n",
       "      <th>HISTCR</th>\n",
       "      <th>gigagram</th>\n",
       "      <td>640000.0</td>\n",
       "      <td>638000.0</td>\n",
       "      <td>626000.0</td>\n",
       "      <td>674000.0</td>\n",
       "      <td>698000.0</td>\n",
       "      <td>750000.0</td>\n",
       "      <td>710000.0</td>\n",
       "      <td>866000.0</td>\n",
       "      <td>876000.0</td>\n",
       "      <td>874000.0</td>\n",
       "      <td>...</td>\n",
       "      <td>2020000.0</td>\n",
       "      <td>1958000.0</td>\n",
       "      <td>1950000.0</td>\n",
       "      <td>1994000.0</td>\n",
       "      <td>2020000.0</td>\n",
       "      <td>2020000.0</td>\n",
       "      <td>2000000.0</td>\n",
       "      <td>1996000.0</td>\n",
       "      <td>1958000.0</td>\n",
       "      <td>1980000.0</td>\n",
       "    </tr>\n",
       "    <tr>\n",
       "      <th>FIN</th>\n",
       "      <th>IPC1</th>\n",
       "      <th>CO2</th>\n",
       "      <th>HISTCR</th>\n",
       "      <th>gigagram</th>\n",
       "      <td>1242.0</td>\n",
       "      <td>872.0</td>\n",
       "      <td>826.0</td>\n",
       "      <td>1062.0</td>\n",
       "      <td>1092.0</td>\n",
       "      <td>1214.0</td>\n",
       "      <td>1274.0</td>\n",
       "      <td>1834.0</td>\n",
       "      <td>2900.0</td>\n",
       "      <td>2660.0</td>\n",
       "      <td>...</td>\n",
       "      <td>104600.0</td>\n",
       "      <td>87200.0</td>\n",
       "      <td>84000.0</td>\n",
       "      <td>85800.0</td>\n",
       "      <td>101000.0</td>\n",
       "      <td>108800.0</td>\n",
       "      <td>119400.0</td>\n",
       "      <td>106600.0</td>\n",
       "      <td>107400.0</td>\n",
       "      <td>105400.0</td>\n",
       "    </tr>\n",
       "    <tr>\n",
       "      <th>ZWE</th>\n",
       "      <th>IPC1</th>\n",
       "      <th>CO2</th>\n",
       "      <th>HISTCR</th>\n",
       "      <th>gigagram</th>\n",
       "      <td>92.4</td>\n",
       "      <td>96.4</td>\n",
       "      <td>95.0</td>\n",
       "      <td>194.6</td>\n",
       "      <td>244.0</td>\n",
       "      <td>402.0</td>\n",
       "      <td>434.0</td>\n",
       "      <td>478.0</td>\n",
       "      <td>678.0</td>\n",
       "      <td>702.0</td>\n",
       "      <td>...</td>\n",
       "      <td>15700.0</td>\n",
       "      <td>14840.0</td>\n",
       "      <td>17660.0</td>\n",
       "      <td>16560.0</td>\n",
       "      <td>17000.0</td>\n",
       "      <td>22800.0</td>\n",
       "      <td>26000.0</td>\n",
       "      <td>27200.0</td>\n",
       "      <td>27400.0</td>\n",
       "      <td>26400.0</td>\n",
       "    </tr>\n",
       "  </tbody>\n",
       "</table>\n",
       "<p>3 rows × 91 columns</p>\n",
       "</div>"
      ],
      "text/plain": [
       "time                                    1900-01-01  1901-01-01  1902-01-01  \\\n",
       "Area Category Entity Scenario unit                                           \n",
       "DEU  IPC1     CO2    HISTCR   gigagram    640000.0    638000.0    626000.0   \n",
       "FIN  IPC1     CO2    HISTCR   gigagram      1242.0       872.0       826.0   \n",
       "ZWE  IPC1     CO2    HISTCR   gigagram        92.4        96.4        95.0   \n",
       "\n",
       "time                                    1903-01-01  1904-01-01  1905-01-01  \\\n",
       "Area Category Entity Scenario unit                                           \n",
       "DEU  IPC1     CO2    HISTCR   gigagram    674000.0    698000.0    750000.0   \n",
       "FIN  IPC1     CO2    HISTCR   gigagram      1062.0      1092.0      1214.0   \n",
       "ZWE  IPC1     CO2    HISTCR   gigagram       194.6       244.0       402.0   \n",
       "\n",
       "time                                    1906-01-01  1907-01-01  1908-01-01  \\\n",
       "Area Category Entity Scenario unit                                           \n",
       "DEU  IPC1     CO2    HISTCR   gigagram    710000.0    866000.0    876000.0   \n",
       "FIN  IPC1     CO2    HISTCR   gigagram      1274.0      1834.0      2900.0   \n",
       "ZWE  IPC1     CO2    HISTCR   gigagram       434.0       478.0       678.0   \n",
       "\n",
       "time                                    1909-01-01  ...  1981-01-01  \\\n",
       "Area Category Entity Scenario unit                  ...               \n",
       "DEU  IPC1     CO2    HISTCR   gigagram    874000.0  ...   2020000.0   \n",
       "FIN  IPC1     CO2    HISTCR   gigagram      2660.0  ...    104600.0   \n",
       "ZWE  IPC1     CO2    HISTCR   gigagram       702.0  ...     15700.0   \n",
       "\n",
       "time                                    1982-01-01  1983-01-01  1984-01-01  \\\n",
       "Area Category Entity Scenario unit                                           \n",
       "DEU  IPC1     CO2    HISTCR   gigagram   1958000.0   1950000.0   1994000.0   \n",
       "FIN  IPC1     CO2    HISTCR   gigagram     87200.0     84000.0     85800.0   \n",
       "ZWE  IPC1     CO2    HISTCR   gigagram     14840.0     17660.0     16560.0   \n",
       "\n",
       "time                                    1985-01-01  1986-01-01  1987-01-01  \\\n",
       "Area Category Entity Scenario unit                                           \n",
       "DEU  IPC1     CO2    HISTCR   gigagram   2020000.0   2020000.0   2000000.0   \n",
       "FIN  IPC1     CO2    HISTCR   gigagram    101000.0    108800.0    119400.0   \n",
       "ZWE  IPC1     CO2    HISTCR   gigagram     17000.0     22800.0     26000.0   \n",
       "\n",
       "time                                    1988-01-01  1989-01-01  1990-01-01  \n",
       "Area Category Entity Scenario unit                                          \n",
       "DEU  IPC1     CO2    HISTCR   gigagram   1996000.0   1958000.0   1980000.0  \n",
       "FIN  IPC1     CO2    HISTCR   gigagram    106600.0    107400.0    105400.0  \n",
       "ZWE  IPC1     CO2    HISTCR   gigagram     27200.0     27400.0     26400.0  \n",
       "\n",
       "[3 rows x 91 columns]"
      ]
     },
     "execution_count": 71,
     "metadata": {},
     "output_type": "execute_result"
    }
   ],
   "source": [
    "c = a.timeseries() + b.timeseries()\n",
    "cc = CustomScmRun(c.dropna('index', how='all').dropna('columns', how='all'))\n",
    "cc.timeseries()"
   ]
  },
  {
   "cell_type": "code",
   "execution_count": 69,
   "metadata": {
    "execution": {
     "iopub.execute_input": "2020-09-25T15:16:39.383487Z",
     "iopub.status.busy": "2020-09-25T15:16:39.382635Z",
     "iopub.status.idle": "2020-09-25T15:16:39.464007Z",
     "shell.execute_reply": "2020-09-25T15:16:39.462565Z",
     "shell.execute_reply.started": "2020-09-25T15:16:39.383407Z"
    }
   },
   "outputs": [],
   "source": [
    "bt = b.convert_unit('kilometric_ton')"
   ]
  },
  {
   "cell_type": "code",
   "execution_count": 75,
   "metadata": {
    "execution": {
     "iopub.execute_input": "2020-09-25T15:18:13.677943Z",
     "iopub.status.busy": "2020-09-25T15:18:13.677638Z",
     "iopub.status.idle": "2020-09-25T15:18:13.722037Z",
     "shell.execute_reply": "2020-09-25T15:18:13.720192Z",
     "shell.execute_reply.started": "2020-09-25T15:18:13.677916Z"
    }
   },
   "outputs": [
    {
     "ename": "ValueError",
     "evalue": "invalid column format, must contain some time (int, float or datetime) columns!",
     "output_type": "error",
     "traceback": [
      "\u001b[0;31m---------------------------------------------------------------------------\u001b[0m",
      "\u001b[0;31mValueError\u001b[0m                                Traceback (most recent call last)",
      "\u001b[0;32m<ipython-input-75-732199bb88f6>\u001b[0m in \u001b[0;36m<module>\u001b[0;34m\u001b[0m\n\u001b[1;32m      1\u001b[0m \u001b[0;31m# doesn't work, have to convert units to same units before aligned arithmetic\u001b[0m\u001b[0;34m\u001b[0m\u001b[0;34m\u001b[0m\u001b[0;34m\u001b[0m\u001b[0m\n\u001b[1;32m      2\u001b[0m \u001b[0mct\u001b[0m \u001b[0;34m=\u001b[0m \u001b[0ma\u001b[0m\u001b[0;34m.\u001b[0m\u001b[0mtimeseries\u001b[0m\u001b[0;34m(\u001b[0m\u001b[0;34m)\u001b[0m \u001b[0;34m+\u001b[0m \u001b[0mbt\u001b[0m\u001b[0;34m.\u001b[0m\u001b[0mtimeseries\u001b[0m\u001b[0;34m(\u001b[0m\u001b[0;34m)\u001b[0m\u001b[0;34m\u001b[0m\u001b[0;34m\u001b[0m\u001b[0m\n\u001b[0;32m----> 3\u001b[0;31m \u001b[0mcct\u001b[0m \u001b[0;34m=\u001b[0m \u001b[0mCustomScmRun\u001b[0m\u001b[0;34m(\u001b[0m\u001b[0mct\u001b[0m\u001b[0;34m.\u001b[0m\u001b[0mdropna\u001b[0m\u001b[0;34m(\u001b[0m\u001b[0;34m'index'\u001b[0m\u001b[0;34m,\u001b[0m \u001b[0mhow\u001b[0m\u001b[0;34m=\u001b[0m\u001b[0;34m'all'\u001b[0m\u001b[0;34m)\u001b[0m\u001b[0;34m.\u001b[0m\u001b[0mdropna\u001b[0m\u001b[0;34m(\u001b[0m\u001b[0;34m'columns'\u001b[0m\u001b[0;34m,\u001b[0m \u001b[0mhow\u001b[0m\u001b[0;34m=\u001b[0m\u001b[0;34m'all'\u001b[0m\u001b[0;34m)\u001b[0m\u001b[0;34m)\u001b[0m\u001b[0;34m\u001b[0m\u001b[0;34m\u001b[0m\u001b[0m\n\u001b[0m\u001b[1;32m      4\u001b[0m \u001b[0mcct\u001b[0m\u001b[0;34m.\u001b[0m\u001b[0mtimeseries\u001b[0m\u001b[0;34m(\u001b[0m\u001b[0;34m)\u001b[0m\u001b[0;34m\u001b[0m\u001b[0;34m\u001b[0m\u001b[0m\n",
      "\u001b[0;32m~/.local/conda/envs/scmdata/lib/python3.8/site-packages/scmdata/run.py\u001b[0m in \u001b[0;36m__init__\u001b[0;34m(self, data, index, columns, metadata, copy_data, **kwargs)\u001b[0m\n\u001b[1;32m    430\u001b[0m             \u001b[0;32mif\u001b[0m \u001b[0mcopy_data\u001b[0m \u001b[0;32mand\u001b[0m \u001b[0mhasattr\u001b[0m\u001b[0;34m(\u001b[0m\u001b[0mdata\u001b[0m\u001b[0;34m,\u001b[0m \u001b[0;34m\"copy\"\u001b[0m\u001b[0;34m)\u001b[0m\u001b[0;34m:\u001b[0m\u001b[0;34m\u001b[0m\u001b[0;34m\u001b[0m\u001b[0m\n\u001b[1;32m    431\u001b[0m                 \u001b[0mdata\u001b[0m \u001b[0;34m=\u001b[0m \u001b[0mdata\u001b[0m\u001b[0;34m.\u001b[0m\u001b[0mcopy\u001b[0m\u001b[0;34m(\u001b[0m\u001b[0;34m)\u001b[0m\u001b[0;34m\u001b[0m\u001b[0;34m\u001b[0m\u001b[0m\n\u001b[0;32m--> 432\u001b[0;31m             \u001b[0mself\u001b[0m\u001b[0;34m.\u001b[0m\u001b[0m_init_timeseries\u001b[0m\u001b[0;34m(\u001b[0m\u001b[0mdata\u001b[0m\u001b[0;34m,\u001b[0m \u001b[0mindex\u001b[0m\u001b[0;34m,\u001b[0m \u001b[0mcolumns\u001b[0m\u001b[0;34m,\u001b[0m \u001b[0mcopy_data\u001b[0m\u001b[0;34m=\u001b[0m\u001b[0mcopy_data\u001b[0m\u001b[0;34m,\u001b[0m \u001b[0;34m**\u001b[0m\u001b[0mkwargs\u001b[0m\u001b[0;34m)\u001b[0m\u001b[0;34m\u001b[0m\u001b[0;34m\u001b[0m\u001b[0m\n\u001b[0m\u001b[1;32m    433\u001b[0m \u001b[0;34m\u001b[0m\u001b[0m\n\u001b[1;32m    434\u001b[0m         \u001b[0;32mif\u001b[0m \u001b[0mself\u001b[0m\u001b[0;34m.\u001b[0m\u001b[0m_duplicated_meta\u001b[0m\u001b[0;34m(\u001b[0m\u001b[0;34m)\u001b[0m\u001b[0;34m:\u001b[0m\u001b[0;34m\u001b[0m\u001b[0;34m\u001b[0m\u001b[0m\n",
      "\u001b[0;32m~/.local/conda/envs/scmdata/lib/python3.8/site-packages/scmdata/run.py\u001b[0m in \u001b[0;36m_init_timeseries\u001b[0;34m(self, data, index, columns, copy_data, **kwargs)\u001b[0m\n\u001b[1;32m    456\u001b[0m             )\n\u001b[1;32m    457\u001b[0m         \u001b[0;32melif\u001b[0m \u001b[0misinstance\u001b[0m\u001b[0;34m(\u001b[0m\u001b[0mdata\u001b[0m\u001b[0;34m,\u001b[0m \u001b[0;34m(\u001b[0m\u001b[0mpd\u001b[0m\u001b[0;34m.\u001b[0m\u001b[0mDataFrame\u001b[0m\u001b[0;34m,\u001b[0m \u001b[0mpd\u001b[0m\u001b[0;34m.\u001b[0m\u001b[0mSeries\u001b[0m\u001b[0;34m)\u001b[0m\u001b[0;34m)\u001b[0m\u001b[0;34m:\u001b[0m\u001b[0;34m\u001b[0m\u001b[0;34m\u001b[0m\u001b[0m\n\u001b[0;32m--> 458\u001b[0;31m             \u001b[0;34m(\u001b[0m\u001b[0m_df\u001b[0m\u001b[0;34m,\u001b[0m \u001b[0m_meta\u001b[0m\u001b[0;34m)\u001b[0m \u001b[0;34m=\u001b[0m \u001b[0m_format_data\u001b[0m\u001b[0;34m(\u001b[0m\u001b[0mdata\u001b[0m\u001b[0;34m,\u001b[0m \u001b[0mself\u001b[0m\u001b[0;34m.\u001b[0m\u001b[0mrequired_cols\u001b[0m\u001b[0;34m)\u001b[0m\u001b[0;34m\u001b[0m\u001b[0;34m\u001b[0m\u001b[0m\n\u001b[0m\u001b[1;32m    459\u001b[0m         \u001b[0;32melif\u001b[0m \u001b[0;34m(\u001b[0m\u001b[0mIamDataFrame\u001b[0m \u001b[0;32mis\u001b[0m \u001b[0;32mnot\u001b[0m \u001b[0;32mNone\u001b[0m\u001b[0;34m)\u001b[0m \u001b[0;32mand\u001b[0m \u001b[0misinstance\u001b[0m\u001b[0;34m(\u001b[0m\u001b[0mdata\u001b[0m\u001b[0;34m,\u001b[0m \u001b[0mIamDataFrame\u001b[0m\u001b[0;34m)\u001b[0m\u001b[0;34m:\u001b[0m\u001b[0;34m\u001b[0m\u001b[0;34m\u001b[0m\u001b[0m\n\u001b[1;32m    460\u001b[0m             (_df, _meta) = _format_data(\n",
      "\u001b[0;32m~/.local/conda/envs/scmdata/lib/python3.8/site-packages/scmdata/run.py\u001b[0m in \u001b[0;36m_format_data\u001b[0;34m(df, required_cols)\u001b[0m\n\u001b[1;32m    170\u001b[0m         \u001b[0mdf\u001b[0m\u001b[0;34m,\u001b[0m \u001b[0mmeta\u001b[0m \u001b[0;34m=\u001b[0m \u001b[0m_format_long_data\u001b[0m\u001b[0;34m(\u001b[0m\u001b[0mdf\u001b[0m\u001b[0;34m,\u001b[0m \u001b[0mrequired_cols\u001b[0m\u001b[0;34m)\u001b[0m\u001b[0;34m\u001b[0m\u001b[0;34m\u001b[0m\u001b[0m\n\u001b[1;32m    171\u001b[0m     \u001b[0;32melse\u001b[0m\u001b[0;34m:\u001b[0m\u001b[0;34m\u001b[0m\u001b[0;34m\u001b[0m\u001b[0m\n\u001b[0;32m--> 172\u001b[0;31m         \u001b[0mdf\u001b[0m\u001b[0;34m,\u001b[0m \u001b[0mmeta\u001b[0m \u001b[0;34m=\u001b[0m \u001b[0m_format_wide_data\u001b[0m\u001b[0;34m(\u001b[0m\u001b[0mdf\u001b[0m\u001b[0;34m,\u001b[0m \u001b[0mrequired_cols\u001b[0m\u001b[0;34m)\u001b[0m\u001b[0;34m\u001b[0m\u001b[0;34m\u001b[0m\u001b[0m\n\u001b[0m\u001b[1;32m    173\u001b[0m \u001b[0;34m\u001b[0m\u001b[0m\n\u001b[1;32m    174\u001b[0m     \u001b[0;31m# sort data\u001b[0m\u001b[0;34m\u001b[0m\u001b[0;34m\u001b[0m\u001b[0;34m\u001b[0m\u001b[0m\n",
      "\u001b[0;32m~/.local/conda/envs/scmdata/lib/python3.8/site-packages/scmdata/run.py\u001b[0m in \u001b[0;36m_format_wide_data\u001b[0;34m(df, required_cols)\u001b[0m\n\u001b[1;32m    223\u001b[0m     \u001b[0;32mif\u001b[0m \u001b[0;32mnot\u001b[0m \u001b[0mtime_cols\u001b[0m\u001b[0;34m:\u001b[0m\u001b[0;34m\u001b[0m\u001b[0;34m\u001b[0m\u001b[0m\n\u001b[1;32m    224\u001b[0m         \u001b[0mmsg\u001b[0m \u001b[0;34m=\u001b[0m \u001b[0;34m\"invalid column format, must contain some time (int, float or datetime) columns!\"\u001b[0m\u001b[0;34m\u001b[0m\u001b[0;34m\u001b[0m\u001b[0m\n\u001b[0;32m--> 225\u001b[0;31m         \u001b[0;32mraise\u001b[0m \u001b[0mValueError\u001b[0m\u001b[0;34m(\u001b[0m\u001b[0mmsg\u001b[0m\u001b[0;34m)\u001b[0m\u001b[0;34m\u001b[0m\u001b[0;34m\u001b[0m\u001b[0m\n\u001b[0m\u001b[1;32m    226\u001b[0m \u001b[0;34m\u001b[0m\u001b[0m\n\u001b[1;32m    227\u001b[0m     \u001b[0mall_cols\u001b[0m \u001b[0;34m=\u001b[0m \u001b[0mset\u001b[0m\u001b[0;34m(\u001b[0m\u001b[0mtuple\u001b[0m\u001b[0;34m(\u001b[0m\u001b[0mrequired_cols\u001b[0m\u001b[0;34m)\u001b[0m \u001b[0;34m+\u001b[0m \u001b[0mtuple\u001b[0m\u001b[0;34m(\u001b[0m\u001b[0mextra_cols\u001b[0m\u001b[0;34m)\u001b[0m\u001b[0;34m)\u001b[0m\u001b[0;34m\u001b[0m\u001b[0;34m\u001b[0m\u001b[0m\n",
      "\u001b[0;31mValueError\u001b[0m: invalid column format, must contain some time (int, float or datetime) columns!"
     ]
    }
   ],
   "source": [
    "# doesn't work, have to convert units to same units before aligned arithmetic\n",
    "ct = a.timeseries() + bt.timeseries()\n",
    "cct = CustomScmRun(ct.dropna('index', how='all').dropna('columns', how='all'))\n",
    "cct.timeseries()"
   ]
  },
  {
   "cell_type": "code",
   "execution_count": 77,
   "metadata": {
    "execution": {
     "iopub.execute_input": "2020-09-25T15:20:25.065498Z",
     "iopub.status.busy": "2020-09-25T15:20:25.064902Z",
     "iopub.status.idle": "2020-09-25T15:20:25.071803Z",
     "shell.execute_reply": "2020-09-25T15:20:25.069962Z",
     "shell.execute_reply.started": "2020-09-25T15:20:25.065444Z"
    }
   },
   "outputs": [],
   "source": [
    "# 2d aligned arithmetic not really supported"
   ]
  },
  {
   "cell_type": "code",
   "execution_count": null,
   "metadata": {},
   "outputs": [],
   "source": []
  }
 ],
 "metadata": {
  "kernelspec": {
   "display_name": "scmdata",
   "language": "python",
   "name": "scmdata"
  },
  "language_info": {
   "codemirror_mode": {
    "name": "ipython",
    "version": 3
   },
   "file_extension": ".py",
   "mimetype": "text/x-python",
   "name": "python",
   "nbconvert_exporter": "python",
   "pygments_lexer": "ipython3",
   "version": "3.8.5"
  }
 },
 "nbformat": 4,
 "nbformat_minor": 4
}
