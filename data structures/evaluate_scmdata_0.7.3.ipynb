{
 "cells": [
  {
   "cell_type": "code",
   "execution_count": 11,
   "metadata": {
    "execution": {
     "iopub.execute_input": "2020-09-24T17:39:47.607068Z",
     "iopub.status.busy": "2020-09-24T17:39:47.606072Z",
     "iopub.status.idle": "2020-09-24T17:39:47.621834Z",
     "shell.execute_reply": "2020-09-24T17:39:47.620422Z",
     "shell.execute_reply.started": "2020-09-24T17:39:47.606976Z"
    }
   },
   "outputs": [],
   "source": [
    "import sys\n",
    "# prefer conda env over .local\n",
    "sys.path.insert(1, '/home/pflueger/.local/conda/envs/scmdata/lib/python3.8/site-packages')\n",
    "\n",
    "import matplotlib\n",
    "%matplotlib widget\n",
    "from matplotlib import pyplot as plt\n",
    "import pandas as pd\n",
    "import scmdata\n",
    "import pickle"
   ]
  },
  {
   "cell_type": "code",
   "execution_count": 2,
   "metadata": {
    "execution": {
     "iopub.execute_input": "2020-09-24T08:13:57.218999Z",
     "iopub.status.busy": "2020-09-24T08:13:57.218683Z",
     "iopub.status.idle": "2020-09-24T08:13:57.223332Z",
     "shell.execute_reply": "2020-09-24T08:13:57.222683Z",
     "shell.execute_reply.started": "2020-09-24T08:13:57.218966Z"
    }
   },
   "outputs": [
    {
     "data": {
      "text/plain": [
       "'0.7.3'"
      ]
     },
     "execution_count": 2,
     "metadata": {},
     "output_type": "execute_result"
    }
   ],
   "source": [
    "scmdata.__version__"
   ]
  },
  {
   "cell_type": "code",
   "execution_count": 31,
   "metadata": {
    "execution": {
     "iopub.execute_input": "2020-09-24T17:48:29.085054Z",
     "iopub.status.busy": "2020-09-24T17:48:29.084454Z",
     "iopub.status.idle": "2020-09-24T17:48:29.091834Z",
     "shell.execute_reply": "2020-09-24T17:48:29.090332Z",
     "shell.execute_reply.started": "2020-09-24T17:48:29.084999Z"
    }
   },
   "outputs": [],
   "source": [
    "class CustomScmRun(scmdata.run.BaseScmRun):\n",
    "    required_cols = ['unit']"
   ]
  },
  {
   "cell_type": "code",
   "execution_count": 32,
   "metadata": {
    "execution": {
     "iopub.execute_input": "2020-09-24T17:48:36.214651Z",
     "iopub.status.busy": "2020-09-24T17:48:36.213622Z",
     "iopub.status.idle": "2020-09-24T17:48:36.221310Z",
     "shell.execute_reply": "2020-09-24T17:48:36.220611Z",
     "shell.execute_reply.started": "2020-09-24T17:48:36.214523Z"
    }
   },
   "outputs": [],
   "source": [
    "def scmrun_from_pandas(df):\n",
    "    columns = list(df.index.names)\n",
    "    columns.remove('Date')\n",
    "    columns.append('Date')\n",
    "    dfs = df.pint.magnitude.reorder_levels(columns).sort_index().unstack()\n",
    "    \n",
    "    scm_cols = {x: dfs.index.get_level_values(x) for x in dfs.index.names}\n",
    "    scm_cols['unit'] = [str(df.pint.units)]\n",
    "    \n",
    "    return CustomScmRun(dfs.values.T,\n",
    "                          columns=scm_cols,\n",
    "                          index=dfs.columns)"
   ]
  },
  {
   "cell_type": "code",
   "execution_count": 34,
   "metadata": {
    "execution": {
     "iopub.execute_input": "2020-09-24T17:48:38.599502Z",
     "iopub.status.busy": "2020-09-24T17:48:38.598524Z",
     "iopub.status.idle": "2020-09-24T17:48:38.973109Z",
     "shell.execute_reply": "2020-09-24T17:48:38.972513Z",
     "shell.execute_reply.started": "2020-09-24T17:48:38.599410Z"
    }
   },
   "outputs": [],
   "source": [
    "with open(f'mem/fao_emi_total.pck', 'rb') as fd:\n",
    "    fao_emi_total_pd = pickle.load(fd)\n",
    "    \n",
    "\n",
    "fao_emi_total = scmrun_from_pandas(fao_emi_total_pd)\n",
    "del fao_emi_total_pd"
   ]
  },
  {
   "cell_type": "code",
   "execution_count": 38,
   "metadata": {
    "execution": {
     "iopub.execute_input": "2020-09-24T17:50:00.424833Z",
     "iopub.status.busy": "2020-09-24T17:50:00.424529Z",
     "iopub.status.idle": "2020-09-24T17:50:00.428287Z",
     "shell.execute_reply": "2020-09-24T17:50:00.427253Z",
     "shell.execute_reply.started": "2020-09-24T17:50:00.424805Z"
    }
   },
   "outputs": [],
   "source": [
    "# etc"
   ]
  },
  {
   "cell_type": "code",
   "execution_count": null,
   "metadata": {},
   "outputs": [],
   "source": []
  }
 ],
 "metadata": {
  "kernelspec": {
   "display_name": "scmdata",
   "language": "python",
   "name": "scmdata"
  },
  "language_info": {
   "codemirror_mode": {
    "name": "ipython",
    "version": 3
   },
   "file_extension": ".py",
   "mimetype": "text/x-python",
   "name": "python",
   "nbconvert_exporter": "python",
   "pygments_lexer": "ipython3",
   "version": "3.8.5"
  }
 },
 "nbformat": 4,
 "nbformat_minor": 4
}
