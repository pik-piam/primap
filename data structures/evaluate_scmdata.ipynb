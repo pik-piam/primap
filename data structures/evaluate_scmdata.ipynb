{
 "cells": [
  {
   "cell_type": "code",
   "execution_count": 1,
   "metadata": {
    "execution": {
     "iopub.execute_input": "2020-09-04T10:23:33.126086Z",
     "iopub.status.busy": "2020-09-04T10:23:33.125813Z",
     "iopub.status.idle": "2020-09-04T10:23:35.043352Z",
     "shell.execute_reply": "2020-09-04T10:23:35.042874Z",
     "shell.execute_reply.started": "2020-09-04T10:23:33.126060Z"
    }
   },
   "outputs": [
    {
     "data": {
      "application/javascript": [
       "IPython.OutputArea.prototype._should_scroll = function(lines) { return false; }"
      ],
      "text/plain": [
       "<IPython.core.display.Javascript object>"
      ]
     },
     "metadata": {},
     "output_type": "display_data"
    },
    {
     "name": "stderr",
     "output_type": "stream",
     "text": [
      "pyam - INFO: Running in a notebook, setting `pyam` logging level to `logging.INFO` and adding stderr handler\n"
     ]
    }
   ],
   "source": [
    "%matplotlib widget\n",
    "import matplotlib\n",
    "from matplotlib import pyplot as plt\n",
    "import pandas as pd\n",
    "import numpy as np\n",
    "import tqdm\n",
    "import pickle\n",
    "import scmdata\n",
    "import xarray as xr\n",
    "import pint_xarray\n",
    "from itertools import product\n",
    "from cftime import DatetimeGregorian"
   ]
  },
  {
   "cell_type": "code",
   "execution_count": 2,
   "metadata": {
    "execution": {
     "iopub.execute_input": "2020-09-04T10:23:35.044183Z",
     "iopub.status.busy": "2020-09-04T10:23:35.044046Z",
     "iopub.status.idle": "2020-09-04T10:23:35.048140Z",
     "shell.execute_reply": "2020-09-04T10:23:35.047752Z",
     "shell.execute_reply.started": "2020-09-04T10:23:35.044169Z"
    }
   },
   "outputs": [],
   "source": [
    "def scmrun_from_pandas(df, region, variable, scenario, model):\n",
    "    columns = list(df.index.names)\n",
    "    columns.remove('Date')\n",
    "    columns.append('Date')\n",
    "    dfs = df.pint.magnitude.reorder_levels(columns).sort_index().unstack()\n",
    "    \n",
    "    def get_level_values_from_spec(spec):\n",
    "        if isinstance(spec, str):\n",
    "            return dfs.index.get_level_values(spec)\n",
    "        elif callable(spec):\n",
    "            return spec(dfs)\n",
    "        else:\n",
    "            return spec\n",
    "    \n",
    "    return scmdata.ScmRun(dfs.values.T,\n",
    "                          columns={'region': get_level_values_from_spec(region),\n",
    "                                   'variable': get_level_values_from_spec(variable),\n",
    "                                   'unit': [str(df.pint.units)],\n",
    "                                   'scenario': get_level_values_from_spec(scenario),\n",
    "                                   'model': get_level_values_from_spec(model)},\n",
    "                          index=dfs.columns)"
   ]
  },
  {
   "cell_type": "code",
   "execution_count": 3,
   "metadata": {
    "execution": {
     "iopub.execute_input": "2020-09-04T10:23:35.049006Z",
     "iopub.status.busy": "2020-09-04T10:23:35.048835Z",
     "iopub.status.idle": "2020-09-04T10:23:40.370943Z",
     "shell.execute_reply": "2020-09-04T10:23:40.370345Z",
     "shell.execute_reply.started": "2020-09-04T10:23:35.048991Z"
    }
   },
   "outputs": [],
   "source": [
    "with open(f'mem/fao_emi_total.pck', 'rb') as fd:\n",
    "    fao_emi_total_pd = pickle.load(fd)\n",
    "\n",
    "def variable(dfs):\n",
    "    elements = pd.Series(dfs.index.get_level_values('Element')).astype(pd.StringDtype())\n",
    "    items = pd.Series(dfs.index.get_level_values('Item')).astype(pd.StringDtype())\n",
    "    return elements + ' - ' + items\n",
    "\n",
    "fao_emi_total = scmrun_from_pandas(fao_emi_total_pd,\n",
    "                                   region='Area',\n",
    "                                   variable=variable,\n",
    "                                   scenario=['history'],\n",
    "                                   model=['FAO'])\n",
    "\n",
    "del fao_emi_total_pd"
   ]
  },
  {
   "cell_type": "code",
   "execution_count": 4,
   "metadata": {
    "execution": {
     "iopub.execute_input": "2020-09-04T10:23:40.371930Z",
     "iopub.status.busy": "2020-09-04T10:23:40.371779Z",
     "iopub.status.idle": "2020-09-04T10:23:40.465083Z",
     "shell.execute_reply": "2020-09-04T10:23:40.464545Z",
     "shell.execute_reply.started": "2020-09-04T10:23:40.371915Z"
    }
   },
   "outputs": [],
   "source": [
    "with open(f'mem/lak_emi_energy.pck', 'rb') as fd:\n",
    "    lak_emi_energy_pd = pickle.load(fd)\n",
    "\n",
    "lak_emi_energy = scmrun_from_pandas(lak_emi_energy_pd,\n",
    "                                    region='Area',\n",
    "                                    variable='Category',\n",
    "                                    scenario=['history'],\n",
    "                                    model=['LAK'])\n",
    "\n",
    "del lak_emi_energy_pd"
   ]
  },
  {
   "cell_type": "code",
   "execution_count": 5,
   "metadata": {
    "execution": {
     "iopub.execute_input": "2020-09-04T10:23:40.465937Z",
     "iopub.status.busy": "2020-09-04T10:23:40.465777Z",
     "iopub.status.idle": "2020-09-04T10:23:41.301500Z",
     "shell.execute_reply": "2020-09-04T10:23:41.301102Z",
     "shell.execute_reply.started": "2020-09-04T10:23:40.465921Z"
    }
   },
   "outputs": [],
   "source": [
    "with open(f'mem/cmip_conc_co2.pck', 'rb') as fd:\n",
    "    cmip_conc_co2_pd = pickle.load(fd)\n",
    "\n",
    "cmip_conc_co2_pd.index.set_levels(\n",
    "    [f'{year:04}-{month:02}-01' for year, month in product([-1] + list(range(1, 2015)), range(1, 13))],\n",
    "    level='Date',\n",
    "    inplace=True)    \n",
    "\n",
    "cmip_conc_co2 = scmrun_from_pandas(cmip_conc_co2_pd,\n",
    "                                   region='Area',\n",
    "                                   variable=['CO2 concentration'],\n",
    "                                   scenario=['history'],\n",
    "                                   model=['CMIP'])\n",
    "\n",
    "del cmip_conc_co2_pd"
   ]
  },
  {
   "cell_type": "code",
   "execution_count": 6,
   "metadata": {
    "execution": {
     "iopub.execute_input": "2020-09-04T10:23:41.302386Z",
     "iopub.status.busy": "2020-09-04T10:23:41.302233Z",
     "iopub.status.idle": "2020-09-04T10:23:58.780040Z",
     "shell.execute_reply": "2020-09-04T10:23:58.779399Z",
     "shell.execute_reply.started": "2020-09-04T10:23:41.302371Z"
    }
   },
   "outputs": [],
   "source": [
    "with open(f'mem/prm_emi.pck', 'rb') as fd:\n",
    "    prm_emi_pd = pickle.load(fd)   \n",
    "\n",
    "def variable(dfs):\n",
    "    elements = pd.Series(dfs.index.get_level_values('Entity')).astype(pd.StringDtype())\n",
    "    items = pd.Series(dfs.index.get_level_values('Category')).astype(pd.StringDtype())\n",
    "    return elements + ' - ' + items\n",
    "    \n",
    "prm_emi = scmrun_from_pandas(prm_emi_pd,\n",
    "                             region='Area',\n",
    "                             variable=variable,\n",
    "                             scenario='Scenario',\n",
    "                             model=['PRIMAP-hist']\n",
    "                             )\n",
    "\n",
    "del prm_emi_pd"
   ]
  },
  {
   "cell_type": "code",
   "execution_count": 7,
   "metadata": {
    "execution": {
     "iopub.execute_input": "2020-09-04T10:23:58.781285Z",
     "iopub.status.busy": "2020-09-04T10:23:58.781100Z",
     "iopub.status.idle": "2020-09-04T10:23:59.654545Z",
     "shell.execute_reply": "2020-09-04T10:23:59.653868Z",
     "shell.execute_reply.started": "2020-09-04T10:23:58.781266Z"
    }
   },
   "outputs": [],
   "source": [
    "with open(f'xr/mem/primap_sources.pck', 'rb') as fd:\n",
    "    primap_xr = pickle.load(fd)"
   ]
  },
  {
   "cell_type": "code",
   "execution_count": 8,
   "metadata": {
    "execution": {
     "iopub.execute_input": "2020-09-04T10:23:59.655621Z",
     "iopub.status.busy": "2020-09-04T10:23:59.655421Z",
     "iopub.status.idle": "2020-09-04T10:23:59.660429Z",
     "shell.execute_reply": "2020-09-04T10:23:59.659845Z",
     "shell.execute_reply.started": "2020-09-04T10:23:59.655602Z"
    }
   },
   "outputs": [],
   "source": [
    "def scmrun_from_xarray(da, model):\n",
    "    das = da.pint.quantify().to_array('Element').stack({'index': ['Area', 'Category', 'Class', 'Scenario', 'Type', 'Element']})\n",
    "    variable = das['Type'] + ' - ' + das['Class'] + ' - ' + das['Element'] + ' - ' + das['Category']\n",
    "    return scmdata.ScmRun(das.pint.magnitude,\n",
    "                          columns={'region': das['Area'],\n",
    "                                   'variable': variable,\n",
    "                                   'unit': [str(das.pint.units)],\n",
    "                                   'scenario': das['Scenario'],\n",
    "                                   'model': [model]},\n",
    "                          index=das['Date'].values)"
   ]
  },
  {
   "cell_type": "code",
   "execution_count": 9,
   "metadata": {
    "execution": {
     "iopub.execute_input": "2020-09-04T10:25:00.427790Z",
     "iopub.status.busy": "2020-09-04T10:25:00.427613Z",
     "iopub.status.idle": "2020-09-04T10:25:16.195556Z",
     "shell.execute_reply": "2020-09-04T10:25:16.194862Z",
     "shell.execute_reply.started": "2020-09-04T10:25:00.427775Z"
    }
   },
   "outputs": [],
   "source": [
    "# not enough memory to read all of it in, so just read in one example\n",
    "crf2020 = scmrun_from_xarray(primap_xr['CRF2020'], 'CRF2020')\n",
    "\n",
    "\n",
    "#primap = {}\n",
    "#for key in tqdm.tqdm_notebook(primap_xr):\n",
    "#    print(key)\n",
    "#    da = primap_xr[key]\n",
    "#    primap[key] = scmrun_from_xarray(da, key)\n",
    "#\n",
    "del primap_xr"
   ]
  },
  {
   "cell_type": "markdown",
   "metadata": {},
   "source": [
    "## Measure memory use"
   ]
  },
  {
   "cell_type": "code",
   "execution_count": 10,
   "metadata": {
    "execution": {
     "iopub.execute_input": "2020-09-04T10:25:39.161248Z",
     "iopub.status.busy": "2020-09-04T10:25:39.160837Z",
     "iopub.status.idle": "2020-09-04T10:25:49.500018Z",
     "shell.execute_reply": "2020-09-04T10:25:49.499562Z",
     "shell.execute_reply.started": "2020-09-04T10:25:39.161206Z"
    }
   },
   "outputs": [
    {
     "name": "stdout",
     "output_type": "stream",
     "text": [
      "total 116M\n",
      "drwxrwxr-x 2 pflueger pflueger 4,0K Sep  4 12:25 .\n",
      "drwxrwxr-x 3 pflueger pflueger 4,0K Sep  4 12:25 ..\n",
      "-rw-rw-r-- 1 pflueger pflueger 2,0M Sep  4 12:25 cmip_conc_co2.pck\n",
      "-rw-rw-r-- 1 pflueger pflueger  11M Sep  4 12:25 fao_emi_total.pck\n",
      "-rw-rw-r-- 1 pflueger pflueger  70K Sep  4 12:25 lak_emi_energy.pck\n",
      "-rw-rw-r-- 1 pflueger pflueger  22M Sep  4 12:25 primap_crf2020.pck\n",
      "-rw-rw-r-- 1 pflueger pflueger  82M Sep  4 12:25 prm_emi.pck\n",
      "total 674M\n",
      "drwxrwxr-x 2 pflueger pflueger 4,0K Aug 27 10:55 .\n",
      "drwxrwxr-x 9 pflueger pflueger 4,0K Sep  4 12:23 ..\n",
      "-rw-rw-r-- 1 pflueger pflueger 1,2M Aug 27 18:49 cmip_conc_co2.pck\n",
      "-rw-rw-r-- 1 pflueger pflueger 1,2M Aug 27 18:53 cmip_conc_co2_wo.pck\n",
      "-rw-rw-r-- 1 pflueger pflueger 8,8M Aug 27 18:49 fao_emi_total.pck\n",
      "-rw-rw-r-- 1 pflueger pflueger 9,7M Aug 27 18:53 fao_emi_total_wo.pck\n",
      "-rw-rw-r-- 1 pflueger pflueger  40K Aug 27 18:49 lak_emi_energy.pck\n",
      "-rw-rw-r-- 1 pflueger pflueger  50K Aug 27 18:53 lak_emi_energy_wo.pck\n",
      "-rw-rw-r-- 1 pflueger pflueger 205M Aug 27 18:49 primap_tables.pck\n",
      "-rw-rw-r-- 1 pflueger pflueger 244M Aug 27 18:53 primap_tables_wo.pck\n",
      "-rw-rw-r-- 1 pflueger pflueger 105M Aug 27 18:49 prm_emi.pck\n",
      "-rw-rw-r-- 1 pflueger pflueger 100M Aug 27 18:53 prm_emi_wo.pck\n"
     ]
    }
   ],
   "source": [
    "!rm -rf sd/mem/\n",
    "!mkdir -p sd/mem/\n",
    "\n",
    "import pickle\n",
    "\n",
    "for fpath, obj in (\n",
    "    ('fao_emi_total', fao_emi_total),\n",
    "    ('lak_emi_energy', lak_emi_energy),\n",
    "    ('cmip_conc_co2', cmip_conc_co2),\n",
    "    ('prm_emi', prm_emi), \n",
    "    ('primap_crf2020', crf2020),\n",
    "):\n",
    "    with open(f'sd/mem/{fpath}.pck', 'wb') as fd:\n",
    "        pickle.dump(obj, fd, -1)\n",
    "\n",
    "!ls -lah sd/mem/\n",
    "!ls -lah mem/"
   ]
  },
  {
   "cell_type": "markdown",
   "metadata": {
    "execution": {
     "iopub.execute_input": "2020-09-04T10:26:31.912658Z",
     "iopub.status.busy": "2020-09-04T10:26:31.912284Z",
     "iopub.status.idle": "2020-09-04T10:26:32.055207Z",
     "shell.execute_reply": "2020-09-04T10:26:32.054353Z",
     "shell.execute_reply.started": "2020-09-04T10:26:31.912627Z"
    }
   },
   "source": [
    "## I/O\n",
    "* export the data sets to CSV\n",
    "* reimport from CSV\n",
    "* export the data sets to some kind of native storage format\n",
    "* reimport from the native storage format"
   ]
  },
  {
   "cell_type": "code",
   "execution_count": 19,
   "metadata": {
    "execution": {
     "iopub.execute_input": "2020-09-04T13:27:13.759940Z",
     "iopub.status.busy": "2020-09-04T13:27:13.759071Z",
     "iopub.status.idle": "2020-09-04T13:27:18.931172Z",
     "shell.execute_reply": "2020-09-04T13:27:18.929419Z",
     "shell.execute_reply.started": "2020-09-04T13:27:13.759856Z"
    }
   },
   "outputs": [
    {
     "name": "stdout",
     "output_type": "stream",
     "text": [
      "total 47M\n",
      "drwxrwxr-x 2 pflueger pflueger 4,0K Sep  4 15:25 .\n",
      "drwxrwxr-x 4 pflueger pflueger 4,0K Sep  4 15:23 ..\n",
      "-rw-rw-r-- 1 pflueger pflueger 6,4M Sep  4 15:27 crf2020.csv\n",
      "-rw-rw-r-- 1 pflueger pflueger 4,8M Sep  4 15:27 fao_emi_total.csv\n",
      "-rw-rw-r-- 1 pflueger pflueger  46K Sep  4 15:27 lak_emi_energy.csv\n",
      "-rw-rw-r-- 1 pflueger pflueger  36M Sep  4 15:27 prm_emi.csv\n",
      "total 250M\n",
      "drwxrwxr-x 3 pflueger pflueger 4,0K Aug 25 18:14 .\n",
      "drwxrwxr-x 9 pflueger pflueger 4,0K Sep  4 15:25 ..\n",
      "-rw-rw-r-- 1 pflueger pflueger 2,4M Aug 27 18:49 cmip_conc_co2.csv\n",
      "-rw-rw-r-- 1 pflueger pflueger  29M Aug 27 18:49 fao_emi_total.csv\n",
      "-rw-rw-r-- 1 pflueger pflueger 145K Aug 27 18:49 lak_emi_energy.csv\n",
      "drwxrwxr-x 2 pflueger pflueger 692K Aug 25 18:13 primap_tables\n",
      "-rw-rw-r-- 1 pflueger pflueger 218M Aug 27 18:50 prm_emi.csv\n"
     ]
    }
   ],
   "source": [
    "!mkdir -p sd/csv\n",
    "\n",
    "fao_emi_total.to_csv('sd/csv/fao_emi_total.csv')\n",
    "lak_emi_energy.to_csv('sd/csv/lak_emi_energy.csv')\n",
    "#cmip_conc_co2.to_csv('sd/csv/cmip_conc_co2.csv')\n",
    "prm_emi.to_csv('sd/csv/prm_emi.csv')\n",
    "crf2020.to_csv('sd/csv/crf2020.csv')\n",
    "\n",
    "# CSV does not work with crftime axis\n",
    "\n",
    "!ls -lah sd/csv\n",
    "!ls -lah csv/"
   ]
  },
  {
   "cell_type": "code",
   "execution_count": 22,
   "metadata": {
    "execution": {
     "iopub.execute_input": "2020-09-04T13:30:25.639627Z",
     "iopub.status.busy": "2020-09-04T13:30:25.639277Z",
     "iopub.status.idle": "2020-09-04T13:30:58.630440Z",
     "shell.execute_reply": "2020-09-04T13:30:58.629858Z",
     "shell.execute_reply.started": "2020-09-04T13:30:25.639598Z"
    }
   },
   "outputs": [],
   "source": [
    "fao_emi_total_r = scmdata.ScmRun('sd/csv/fao_emi_total.csv')\n",
    "lak_emi_energy_r = scmdata.ScmRun('sd/csv/lak_emi_energy.csv')\n",
    "prm_emi_r = scmdata.ScmRun('sd/csv/prm_emi.csv')\n",
    "crf2020_r = scmdata.ScmRun('sd/csv/crf2020.csv')"
   ]
  },
  {
   "cell_type": "code",
   "execution_count": 23,
   "metadata": {
    "execution": {
     "iopub.execute_input": "2020-09-04T13:33:08.207973Z",
     "iopub.status.busy": "2020-09-04T13:33:08.207784Z",
     "iopub.status.idle": "2020-09-04T13:33:08.210041Z",
     "shell.execute_reply": "2020-09-04T13:33:08.209549Z",
     "shell.execute_reply.started": "2020-09-04T13:33:08.207958Z"
    }
   },
   "outputs": [],
   "source": [
    "# no native storage format"
   ]
  },
  {
   "cell_type": "markdown",
   "metadata": {
    "execution": {
     "iopub.execute_input": "2020-09-04T13:33:30.486632Z",
     "iopub.status.busy": "2020-09-04T13:33:30.485423Z",
     "iopub.status.idle": "2020-09-04T13:33:30.505288Z",
     "shell.execute_reply": "2020-09-04T13:33:30.503904Z",
     "shell.execute_reply.started": "2020-09-04T13:33:30.486543Z"
    }
   },
   "source": [
    "# interactive analysis and plotting\n",
    "* add / subtract / divide / multiply compatible, overlapping data sets\n",
    "* timeit\n",
    "* plot a historical time series, and something akin to gapminder (countries on a gdp vs emissions plot)\n",
    "* select datasets which contain data on the N2O emissions of Finland\n",
    "* in a selected dataset, select years in which the N2O emissions of Finland were above the 1950-2000 average\n",
    "* resample non-yearly dataset to yearly dataset\n",
    "* convert a dataset to tidy format"
   ]
  },
  {
   "cell_type": "markdown",
   "metadata": {},
   "source": [
    "## aligned arithmetic"
   ]
  },
  {
   "cell_type": "code",
   "execution_count": 41,
   "metadata": {
    "execution": {
     "iopub.execute_input": "2020-09-04T13:44:10.190869Z",
     "iopub.status.busy": "2020-09-04T13:44:10.189911Z",
     "iopub.status.idle": "2020-09-04T13:44:10.198435Z",
     "shell.execute_reply": "2020-09-04T13:44:10.196735Z",
     "shell.execute_reply.started": "2020-09-04T13:44:10.190755Z"
    }
   },
   "outputs": [],
   "source": [
    "# no way to filter for time without conversion into long format\n",
    "# string mangling necessary to filter for parts of variable\n",
    "# no convenience functions for string mangling\n",
    "# easiest way to do aligned arithmetic is via pandas."
   ]
  },
  {
   "cell_type": "markdown",
   "metadata": {},
   "source": [
    "## plotting"
   ]
  },
  {
   "cell_type": "code",
   "execution_count": 48,
   "metadata": {
    "execution": {
     "iopub.execute_input": "2020-09-04T13:46:47.084622Z",
     "iopub.status.busy": "2020-09-04T13:46:47.084319Z",
     "iopub.status.idle": "2020-09-04T13:46:53.251015Z",
     "shell.execute_reply": "2020-09-04T13:46:53.250636Z",
     "shell.execute_reply.started": "2020-09-04T13:46:47.084595Z"
    }
   },
   "outputs": [
    {
     "data": {
      "application/vnd.jupyter.widget-view+json": {
       "model_id": "26587ef267164dd0bbba7ef40eac2649",
       "version_major": 2,
       "version_minor": 0
      },
      "text/plain": [
       "Canvas(toolbar=Toolbar(toolitems=[('Home', 'Reset original view', 'home', 'home'), ('Back', 'Back to previous …"
      ]
     },
     "metadata": {},
     "output_type": "display_data"
    },
    {
     "data": {
      "text/plain": [
       "<matplotlib.axes._subplots.AxesSubplot at 0x7f6d3c476970>"
      ]
     },
     "execution_count": 48,
     "metadata": {},
     "output_type": "execute_result"
    }
   ],
   "source": [
    "plt.figure()\n",
    "prm_emi.lineplot()"
   ]
  },
  {
   "cell_type": "code",
   "execution_count": 49,
   "metadata": {
    "execution": {
     "iopub.execute_input": "2020-09-04T13:46:57.022407Z",
     "iopub.status.busy": "2020-09-04T13:46:57.022223Z",
     "iopub.status.idle": "2020-09-04T13:46:57.024445Z",
     "shell.execute_reply": "2020-09-04T13:46:57.024015Z",
     "shell.execute_reply.started": "2020-09-04T13:46:57.022392Z"
    }
   },
   "outputs": [],
   "source": [
    "# what?"
   ]
  },
  {
   "cell_type": "code",
   "execution_count": 50,
   "metadata": {
    "execution": {
     "iopub.execute_input": "2020-09-04T13:47:09.166212Z",
     "iopub.status.busy": "2020-09-04T13:47:09.165154Z",
     "iopub.status.idle": "2020-09-04T13:47:09.178208Z",
     "shell.execute_reply": "2020-09-04T13:47:09.175421Z",
     "shell.execute_reply.started": "2020-09-04T13:47:09.166098Z"
    }
   },
   "outputs": [],
   "source": [
    "# again, easiest way is via pandas"
   ]
  },
  {
   "cell_type": "code",
   "execution_count": 52,
   "metadata": {
    "execution": {
     "iopub.execute_input": "2020-09-04T13:48:48.013269Z",
     "iopub.status.busy": "2020-09-04T13:48:48.012735Z",
     "iopub.status.idle": "2020-09-04T13:48:48.018977Z",
     "shell.execute_reply": "2020-09-04T13:48:48.017616Z",
     "shell.execute_reply.started": "2020-09-04T13:48:48.013212Z"
    }
   },
   "outputs": [],
   "source": [
    "# honestly, give up. Any data which does not conform to the meta data format of scmdata (region, variable, unit, scenario, model) can not be handled at all with scmdata."
   ]
  },
  {
   "cell_type": "code",
   "execution_count": null,
   "metadata": {},
   "outputs": [],
   "source": []
  }
 ],
 "metadata": {
  "kernelspec": {
   "display_name": "Python 3",
   "language": "python",
   "name": "python3"
  },
  "language_info": {
   "codemirror_mode": {
    "name": "ipython",
    "version": 3
   },
   "file_extension": ".py",
   "mimetype": "text/x-python",
   "name": "python",
   "nbconvert_exporter": "python",
   "pygments_lexer": "ipython3",
   "version": "3.8.2"
  }
 },
 "nbformat": 4,
 "nbformat_minor": 4
}
