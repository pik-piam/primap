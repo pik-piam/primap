{
 "cells": [
  {
   "cell_type": "code",
   "execution_count": 126,
   "metadata": {
    "execution": {
     "iopub.execute_input": "2020-09-02T15:46:31.044692Z",
     "iopub.status.busy": "2020-09-02T15:46:31.043665Z",
     "iopub.status.idle": "2020-09-02T15:46:31.055833Z",
     "shell.execute_reply": "2020-09-02T15:46:31.055064Z",
     "shell.execute_reply.started": "2020-09-02T15:46:31.044612Z"
    }
   },
   "outputs": [],
   "source": [
    "%matplotlib widget\n",
    "import matplotlib\n",
    "from matplotlib import pyplot as plt\n",
    "import pandas as pd\n",
    "import numpy as np\n",
    "import tqdm\n",
    "import pickle\n",
    "import scmdata\n",
    "import xarray as xr\n",
    "from itertools import product\n",
    "from cftime import DatetimeGregorian"
   ]
  },
  {
   "cell_type": "code",
   "execution_count": 108,
   "metadata": {
    "execution": {
     "iopub.execute_input": "2020-09-02T15:39:38.416629Z",
     "iopub.status.busy": "2020-09-02T15:39:38.415768Z",
     "iopub.status.idle": "2020-09-02T15:39:38.430342Z",
     "shell.execute_reply": "2020-09-02T15:39:38.429129Z",
     "shell.execute_reply.started": "2020-09-02T15:39:38.416547Z"
    }
   },
   "outputs": [],
   "source": [
    "def scmrun_from_pandas(df, region, variable, scenario, model):\n",
    "    columns = list(df.index.names)\n",
    "    columns.remove('Date')\n",
    "    columns.append('Date')\n",
    "    dfs = df.pint.magnitude.reorder_levels(columns).sort_index().unstack()\n",
    "    \n",
    "    def get_level_values_from_spec(spec):\n",
    "        if isinstance(spec, str):\n",
    "            return dfs.index.get_level_values(spec)\n",
    "        elif callable(spec):\n",
    "            return spec(dfs)\n",
    "        else:\n",
    "            return spec\n",
    "    \n",
    "    return scmdata.ScmRun(dfs.values.T,\n",
    "                          columns={'region': get_level_values_from_spec(region),\n",
    "                                   'variable': get_level_values_from_spec(variable),\n",
    "                                   'unit': [str(df.pint.units)],\n",
    "                                   'scenario': get_level_values_from_spec(scenario),\n",
    "                                   'model': get_level_values_from_spec(model)},\n",
    "                          index=dfs.columns)"
   ]
  },
  {
   "cell_type": "code",
   "execution_count": 109,
   "metadata": {
    "execution": {
     "iopub.execute_input": "2020-09-02T15:39:38.691860Z",
     "iopub.status.busy": "2020-09-02T15:39:38.691301Z",
     "iopub.status.idle": "2020-09-02T15:39:44.075367Z",
     "shell.execute_reply": "2020-09-02T15:39:44.074723Z",
     "shell.execute_reply.started": "2020-09-02T15:39:38.691813Z"
    }
   },
   "outputs": [],
   "source": [
    "with open(f'mem/fao_emi_total.pck', 'rb') as fd:\n",
    "    fao_emi_total_pd = pickle.load(fd)\n",
    "\n",
    "def variable(dfs):\n",
    "    elements = pd.Series(dfs.index.get_level_values('Element')).astype(pd.StringDtype())\n",
    "    items = pd.Series(dfs.index.get_level_values('Item')).astype(pd.StringDtype())\n",
    "    return elements + ' - ' + items\n",
    "\n",
    "fao_emi_total = scmrun_from_pandas(fao_emi_total_pd,\n",
    "                                   region='Area',\n",
    "                                   variable=variable,\n",
    "                                   scenario=['history'],\n",
    "                                   model=['FAO'])"
   ]
  },
  {
   "cell_type": "code",
   "execution_count": 112,
   "metadata": {
    "execution": {
     "iopub.execute_input": "2020-09-02T15:41:31.322499Z",
     "iopub.status.busy": "2020-09-02T15:41:31.321239Z",
     "iopub.status.idle": "2020-09-02T15:41:31.425914Z",
     "shell.execute_reply": "2020-09-02T15:41:31.425294Z",
     "shell.execute_reply.started": "2020-09-02T15:41:31.322378Z"
    }
   },
   "outputs": [],
   "source": [
    "with open(f'mem/lak_emi_energy.pck', 'rb') as fd:\n",
    "    lak_emi_energy_pd = pickle.load(fd)\n",
    "\n",
    "lak_emi_energy = scmrun_from_pandas(lak_emi_energy_pd,\n",
    "                                    region='Area',\n",
    "                                    variable='Category',\n",
    "                                    scenario=['history'],\n",
    "                                    model=['LAK'])"
   ]
  },
  {
   "cell_type": "code",
   "execution_count": 157,
   "metadata": {
    "execution": {
     "iopub.execute_input": "2020-09-02T15:56:02.978457Z",
     "iopub.status.busy": "2020-09-02T15:56:02.977138Z",
     "iopub.status.idle": "2020-09-02T15:56:03.800314Z",
     "shell.execute_reply": "2020-09-02T15:56:03.799841Z",
     "shell.execute_reply.started": "2020-09-02T15:56:02.978336Z"
    }
   },
   "outputs": [],
   "source": [
    "with open(f'mem/cmip_conc_co2.pck', 'rb') as fd:\n",
    "    cmip_conc_co2_pd = pickle.load(fd)\n",
    "\n",
    "cmip_conc_co2_pd.index.set_levels(\n",
    "    [f'{year:04}-{month:02}-01' for year, month in product([-1] + list(range(1, 2015)), range(1, 13))],\n",
    "    level='Date',\n",
    "    inplace=True)    \n",
    "\n",
    "cmip_conc_co2 = scmrun_from_pandas(cmip_conc_co2_pd,\n",
    "                                   region='Area',\n",
    "                                   variable=['CO2 concentration'],\n",
    "                                   scenario=['history'],\n",
    "                                   model=['CMIP'])"
   ]
  },
  {
   "cell_type": "code",
   "execution_count": 161,
   "metadata": {
    "execution": {
     "iopub.execute_input": "2020-09-02T15:56:43.460066Z",
     "iopub.status.busy": "2020-09-02T15:56:43.458861Z",
     "iopub.status.idle": "2020-09-02T15:56:43.478102Z",
     "shell.execute_reply": "2020-09-02T15:56:43.477369Z",
     "shell.execute_reply.started": "2020-09-02T15:56:43.459958Z"
    }
   },
   "outputs": [
    {
     "data": {
      "text/plain": [
       "<scmdata.ScmRun (timeseries: 112, timepoints: 29)>\n",
       "Time:\n",
       "\tStart: 1990-01-01T00:00:00\n",
       "\tEnd: 2018-01-01T00:00:00\n",
       "Meta:\n",
       "\t                  region                           variable            unit  \\\n",
       "\t63628  Baden-Württemberg             Abfälle (nicht biogen)  kilometric_ton   \n",
       "\t63629  Baden-Württemberg               Andere Energieträger  kilometric_ton   \n",
       "\t63630  Baden-Württemberg                         Braunkohle  kilometric_ton   \n",
       "\t63631  Baden-Württemberg                               Gase  kilometric_ton   \n",
       "\t63632  Baden-Württemberg                          Insgesamt  kilometric_ton   \n",
       "\t...                  ...                                ...             ...   \n",
       "\t63735          Thüringen                         Braunkohle  kilometric_ton   \n",
       "\t63736          Thüringen                               Gase  kilometric_ton   \n",
       "\t63737          Thüringen                          Insgesamt  kilometric_ton   \n",
       "\t63738          Thüringen  Mineralöle und Mineralöl produkte  kilometric_ton   \n",
       "\t63739          Thüringen                         Steinkohle  kilometric_ton   \n",
       "\t\n",
       "\t      scenario model  \n",
       "\t63628  history   LAK  \n",
       "\t63629  history   LAK  \n",
       "\t63630  history   LAK  \n",
       "\t63631  history   LAK  \n",
       "\t63632  history   LAK  \n",
       "\t...        ...   ...  \n",
       "\t63735  history   LAK  \n",
       "\t63736  history   LAK  \n",
       "\t63737  history   LAK  \n",
       "\t63738  history   LAK  \n",
       "\t63739  history   LAK  \n",
       "\t\n",
       "\t[112 rows x 5 columns]"
      ]
     },
     "execution_count": 161,
     "metadata": {},
     "output_type": "execute_result"
    }
   ],
   "source": [
    "lak_emi_energy"
   ]
  },
  {
   "cell_type": "code",
   "execution_count": null,
   "metadata": {},
   "outputs": [],
   "source": []
  },
  {
   "cell_type": "code",
   "execution_count": null,
   "metadata": {},
   "outputs": [],
   "source": []
  }
 ],
 "metadata": {
  "kernelspec": {
   "display_name": "Python 3",
   "language": "python",
   "name": "python3"
  },
  "language_info": {
   "codemirror_mode": {
    "name": "ipython",
    "version": 3
   },
   "file_extension": ".py",
   "mimetype": "text/x-python",
   "name": "python",
   "nbconvert_exporter": "python",
   "pygments_lexer": "ipython3",
   "version": "3.8.2"
  }
 },
 "nbformat": 4,
 "nbformat_minor": 4
}
