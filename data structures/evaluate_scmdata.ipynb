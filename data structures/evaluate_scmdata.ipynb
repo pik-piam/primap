{
 "cells": [
  {
   "cell_type": "code",
   "execution_count": 1,
   "metadata": {
    "execution": {
     "iopub.execute_input": "2020-09-03T17:36:10.841364Z",
     "iopub.status.busy": "2020-09-03T17:36:10.841025Z",
     "iopub.status.idle": "2020-09-03T17:36:12.334633Z",
     "shell.execute_reply": "2020-09-03T17:36:12.334222Z",
     "shell.execute_reply.started": "2020-09-03T17:36:10.841329Z"
    }
   },
   "outputs": [
    {
     "data": {
      "application/javascript": [
       "IPython.OutputArea.prototype._should_scroll = function(lines) { return false; }"
      ],
      "text/plain": [
       "<IPython.core.display.Javascript object>"
      ]
     },
     "metadata": {},
     "output_type": "display_data"
    },
    {
     "name": "stderr",
     "output_type": "stream",
     "text": [
      "pyam - INFO: Running in a notebook, setting `pyam` logging level to `logging.INFO` and adding stderr handler\n"
     ]
    }
   ],
   "source": [
    "%matplotlib widget\n",
    "import matplotlib\n",
    "from matplotlib import pyplot as plt\n",
    "import pandas as pd\n",
    "import numpy as np\n",
    "import tqdm\n",
    "import pickle\n",
    "import scmdata\n",
    "import xarray as xr\n",
    "import pint_xarray\n",
    "from itertools import product\n",
    "from cftime import DatetimeGregorian"
   ]
  },
  {
   "cell_type": "code",
   "execution_count": 2,
   "metadata": {
    "execution": {
     "iopub.execute_input": "2020-09-03T17:36:12.335699Z",
     "iopub.status.busy": "2020-09-03T17:36:12.335558Z",
     "iopub.status.idle": "2020-09-03T17:36:12.340193Z",
     "shell.execute_reply": "2020-09-03T17:36:12.339568Z",
     "shell.execute_reply.started": "2020-09-03T17:36:12.335684Z"
    }
   },
   "outputs": [],
   "source": [
    "def scmrun_from_pandas(df, region, variable, scenario, model):\n",
    "    columns = list(df.index.names)\n",
    "    columns.remove('Date')\n",
    "    columns.append('Date')\n",
    "    dfs = df.pint.magnitude.reorder_levels(columns).sort_index().unstack()\n",
    "    \n",
    "    def get_level_values_from_spec(spec):\n",
    "        if isinstance(spec, str):\n",
    "            return dfs.index.get_level_values(spec)\n",
    "        elif callable(spec):\n",
    "            return spec(dfs)\n",
    "        else:\n",
    "            return spec\n",
    "    \n",
    "    return scmdata.ScmRun(dfs.values.T,\n",
    "                          columns={'region': get_level_values_from_spec(region),\n",
    "                                   'variable': get_level_values_from_spec(variable),\n",
    "                                   'unit': [str(df.pint.units)],\n",
    "                                   'scenario': get_level_values_from_spec(scenario),\n",
    "                                   'model': get_level_values_from_spec(model)},\n",
    "                          index=dfs.columns)"
   ]
  },
  {
   "cell_type": "code",
   "execution_count": 3,
   "metadata": {
    "execution": {
     "iopub.execute_input": "2020-09-03T17:36:12.341211Z",
     "iopub.status.busy": "2020-09-03T17:36:12.340987Z",
     "iopub.status.idle": "2020-09-03T17:36:17.556196Z",
     "shell.execute_reply": "2020-09-03T17:36:17.555730Z",
     "shell.execute_reply.started": "2020-09-03T17:36:12.341189Z"
    }
   },
   "outputs": [],
   "source": [
    "with open(f'mem/fao_emi_total.pck', 'rb') as fd:\n",
    "    fao_emi_total_pd = pickle.load(fd)\n",
    "\n",
    "def variable(dfs):\n",
    "    elements = pd.Series(dfs.index.get_level_values('Element')).astype(pd.StringDtype())\n",
    "    items = pd.Series(dfs.index.get_level_values('Item')).astype(pd.StringDtype())\n",
    "    return elements + ' - ' + items\n",
    "\n",
    "fao_emi_total = scmrun_from_pandas(fao_emi_total_pd,\n",
    "                                   region='Area',\n",
    "                                   variable=variable,\n",
    "                                   scenario=['history'],\n",
    "                                   model=['FAO'])\n",
    "\n",
    "del fao_emi_total_pd"
   ]
  },
  {
   "cell_type": "code",
   "execution_count": 4,
   "metadata": {
    "execution": {
     "iopub.execute_input": "2020-09-03T17:36:17.557059Z",
     "iopub.status.busy": "2020-09-03T17:36:17.556891Z",
     "iopub.status.idle": "2020-09-03T17:36:17.647879Z",
     "shell.execute_reply": "2020-09-03T17:36:17.646977Z",
     "shell.execute_reply.started": "2020-09-03T17:36:17.557041Z"
    }
   },
   "outputs": [],
   "source": [
    "with open(f'mem/lak_emi_energy.pck', 'rb') as fd:\n",
    "    lak_emi_energy_pd = pickle.load(fd)\n",
    "\n",
    "lak_emi_energy = scmrun_from_pandas(lak_emi_energy_pd,\n",
    "                                    region='Area',\n",
    "                                    variable='Category',\n",
    "                                    scenario=['history'],\n",
    "                                    model=['LAK'])\n",
    "\n",
    "del lak_emi_energy_pd"
   ]
  },
  {
   "cell_type": "code",
   "execution_count": 5,
   "metadata": {
    "execution": {
     "iopub.execute_input": "2020-09-03T17:36:17.649125Z",
     "iopub.status.busy": "2020-09-03T17:36:17.648893Z",
     "iopub.status.idle": "2020-09-03T17:36:18.598741Z",
     "shell.execute_reply": "2020-09-03T17:36:18.598272Z",
     "shell.execute_reply.started": "2020-09-03T17:36:17.649102Z"
    }
   },
   "outputs": [],
   "source": [
    "with open(f'mem/cmip_conc_co2.pck', 'rb') as fd:\n",
    "    cmip_conc_co2_pd = pickle.load(fd)\n",
    "\n",
    "cmip_conc_co2_pd.index.set_levels(\n",
    "    [f'{year:04}-{month:02}-01' for year, month in product([-1] + list(range(1, 2015)), range(1, 13))],\n",
    "    level='Date',\n",
    "    inplace=True)    \n",
    "\n",
    "cmip_conc_co2 = scmrun_from_pandas(cmip_conc_co2_pd,\n",
    "                                   region='Area',\n",
    "                                   variable=['CO2 concentration'],\n",
    "                                   scenario=['history'],\n",
    "                                   model=['CMIP'])\n",
    "\n",
    "del cmip_conc_co2_pd"
   ]
  },
  {
   "cell_type": "code",
   "execution_count": 6,
   "metadata": {
    "execution": {
     "iopub.execute_input": "2020-09-03T17:36:18.599539Z",
     "iopub.status.busy": "2020-09-03T17:36:18.599379Z",
     "iopub.status.idle": "2020-09-03T17:36:41.023333Z",
     "shell.execute_reply": "2020-09-03T17:36:41.022604Z",
     "shell.execute_reply.started": "2020-09-03T17:36:18.599521Z"
    }
   },
   "outputs": [],
   "source": [
    "with open(f'mem/prm_emi.pck', 'rb') as fd:\n",
    "    prm_emi_pd = pickle.load(fd)   \n",
    "\n",
    "def variable(dfs):\n",
    "    elements = pd.Series(dfs.index.get_level_values('Entity')).astype(pd.StringDtype())\n",
    "    items = pd.Series(dfs.index.get_level_values('Category')).astype(pd.StringDtype())\n",
    "    return elements + ' - ' + items\n",
    "    \n",
    "prm_emi = scmrun_from_pandas(prm_emi_pd,\n",
    "                             region='Area',\n",
    "                             variable=variable,\n",
    "                             scenario='Scenario',\n",
    "                             model=['PRIMAP-hist']\n",
    "                             )\n",
    "\n",
    "del prm_emi_pd"
   ]
  },
  {
   "cell_type": "code",
   "execution_count": 7,
   "metadata": {
    "execution": {
     "iopub.execute_input": "2020-09-03T17:36:41.025364Z",
     "iopub.status.busy": "2020-09-03T17:36:41.025123Z",
     "iopub.status.idle": "2020-09-03T17:36:42.076724Z",
     "shell.execute_reply": "2020-09-03T17:36:42.075836Z",
     "shell.execute_reply.started": "2020-09-03T17:36:41.025340Z"
    }
   },
   "outputs": [],
   "source": [
    "with open(f'xr/mem/primap_sources.pck', 'rb') as fd:\n",
    "    primap_xr = pickle.load(fd)"
   ]
  },
  {
   "cell_type": "code",
   "execution_count": 8,
   "metadata": {
    "execution": {
     "iopub.execute_input": "2020-09-03T17:36:42.078146Z",
     "iopub.status.busy": "2020-09-03T17:36:42.077826Z",
     "iopub.status.idle": "2020-09-03T17:36:42.085082Z",
     "shell.execute_reply": "2020-09-03T17:36:42.084198Z",
     "shell.execute_reply.started": "2020-09-03T17:36:42.078096Z"
    }
   },
   "outputs": [],
   "source": [
    "def scmrun_from_xarray(da, model):\n",
    "    das = da.pint.quantify().to_array('Element').stack({'index': ['Area', 'Category', 'Class', 'Scenario', 'Type', 'Element']})\n",
    "    variable = das['Type'] + ' - ' + das['Class'] + ' - ' + das['Element'] + ' - ' + das['Category']\n",
    "    return scmdata.ScmRun(das.pint.magnitude,\n",
    "                          columns={'region': das['Area'],\n",
    "                                   'variable': variable,\n",
    "                                   'unit': [str(das.pint.units)],\n",
    "                                   'scenario': das['Scenario'],\n",
    "                                   'model': [model]},\n",
    "                          index=das['Date'].values)"
   ]
  },
  {
   "cell_type": "code",
   "execution_count": 9,
   "metadata": {
    "execution": {
     "iopub.execute_input": "2020-09-03T17:36:42.086884Z",
     "iopub.status.busy": "2020-09-03T17:36:42.086457Z",
     "iopub.status.idle": "2020-09-03T18:02:59.441839Z",
     "shell.execute_reply": "2020-09-03T18:02:59.441102Z",
     "shell.execute_reply.started": "2020-09-03T17:36:42.086842Z"
    }
   },
   "outputs": [
    {
     "data": {
      "application/vnd.jupyter.widget-view+json": {
       "model_id": "f4e41147a18a4543b4c728210ad00e38",
       "version_major": 2,
       "version_minor": 0
      },
      "text/plain": [
       "HBox(children=(IntProgress(value=0, max=17), HTML(value='')))"
      ]
     },
     "metadata": {},
     "output_type": "display_data"
    },
    {
     "name": "stdout",
     "output_type": "stream",
     "text": [
      "CRF2020\n",
      "BUR2IPCC2006I\n",
      "BUR3IPCC2006I\n",
      "ANDREW2018V4I\n",
      "UNFCCC2019BI\n",
      "CDIAC2017I\n",
      "UN2017P\n",
      "UN2019P\n",
      "EDGAR42COMPI\n",
      "EDGAR50I\n",
      "CRF2019\n",
      "MPD2018P\n",
      "BUR1IPCC2006I\n",
      "PMHSOCIOECO12\n",
      "PRIMAPHIST20\n",
      "EDGAR432I\n",
      "UNFCCC2020AI\n",
      "\n"
     ]
    }
   ],
   "source": [
    "primap = {}\n",
    "for key in tqdm.tqdm_notebook(primap_xr):\n",
    "    print(key)\n",
    "    da = primap_xr[key]\n",
    "    primap[key] = scmrun_from_xarray(da, key)\n",
    "\n",
    "del primap_xr"
   ]
  },
  {
   "cell_type": "markdown",
   "metadata": {},
   "source": [
    "## Measure memory use"
   ]
  },
  {
   "cell_type": "code",
   "execution_count": null,
   "metadata": {
    "execution": {
     "iopub.execute_input": "2020-09-03T18:02:59.443148Z",
     "iopub.status.busy": "2020-09-03T18:02:59.442884Z"
    }
   },
   "outputs": [],
   "source": [
    "!mkdir -p sd/mem/\n",
    "\n",
    "import pickle\n",
    "\n",
    "for fpath, obj in (\n",
    "    ('fao_emi_total', fao_emi_total),\n",
    "    ('lak_emi_energy', lak_emi_energy),\n",
    "    ('cmip_conc_co2', cmip_conc_co2),\n",
    "    ('prm_emi', prm_emi), \n",
    "    ('primap', primap),\n",
    "):\n",
    "    with open(f'sd/mem/{fpath}.pck', 'wb') as fd:\n",
    "        pickle.dump(obj, fd, -1)\n",
    "\n",
    "!ls -lah sd/mem/\n",
    "!ls -lah mem/"
   ]
  },
  {
   "cell_type": "code",
   "execution_count": 2,
   "metadata": {
    "execution": {
     "iopub.execute_input": "2020-09-03T19:12:12.899424Z",
     "iopub.status.busy": "2020-09-03T19:12:12.899225Z",
     "iopub.status.idle": "2020-09-03T19:12:12.901419Z",
     "shell.execute_reply": "2020-09-03T19:12:12.901003Z",
     "shell.execute_reply.started": "2020-09-03T19:12:12.899394Z"
    }
   },
   "outputs": [],
   "source": [
    "# oom @ more than 15 GB memory -> can not test whole primap data set"
   ]
  },
  {
   "cell_type": "code",
   "execution_count": null,
   "metadata": {},
   "outputs": [],
   "source": []
  }
 ],
 "metadata": {
  "kernelspec": {
   "display_name": "Python 3",
   "language": "python",
   "name": "python3"
  },
  "language_info": {
   "codemirror_mode": {
    "name": "ipython",
    "version": 3
   },
   "file_extension": ".py",
   "mimetype": "text/x-python",
   "name": "python",
   "nbconvert_exporter": "python",
   "pygments_lexer": "ipython3",
   "version": "3.8.2"
  }
 },
 "nbformat": 4,
 "nbformat_minor": 4
}
