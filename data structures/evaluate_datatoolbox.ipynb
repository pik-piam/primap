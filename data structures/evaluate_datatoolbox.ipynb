{
 "cells": [
  {
   "cell_type": "code",
   "execution_count": 1,
   "metadata": {
    "execution": {
     "iopub.execute_input": "2020-09-28T11:21:29.670113Z",
     "iopub.status.busy": "2020-09-28T11:21:29.669291Z",
     "iopub.status.idle": "2020-09-28T11:21:32.117833Z",
     "shell.execute_reply": "2020-09-28T11:21:32.116764Z",
     "shell.execute_reply.started": "2020-09-28T11:21:29.669996Z"
    }
   },
   "outputs": [
    {
     "name": "stdout",
     "output_type": "stream",
     "text": [
      "0 source reader found and added into \"datatoolbox.sources\".\n",
      "\n",
      "          ################################################################\n",
      "          You are using datatoolbox with a testing database as a SANDBOX.\n",
      "          This allows for testing and initial tutorial use.\n",
      "          \n",
      "\n",
      "          For creating an empty dataase please use:\n",
      "              \"datatoolbox.admin.create_empty_datashelf(pathToDatabase)\"\n",
      "\n",
      "          For switching to a existing database use: \n",
      "              \"datatoolbox.admin.change_personal_config()\"\n",
      "              \n",
      "              \n",
      "          ################################################################\n",
      "          \n"
     ]
    }
   ],
   "source": [
    "import matplotlib\n",
    "%matplotlib widget\n",
    "from matplotlib import pyplot as plt\n",
    "import datatoolbox as dt\n",
    "import numpy as np\n",
    "import pickle\n",
    "import pandas as pd"
   ]
  },
  {
   "cell_type": "code",
   "execution_count": 2,
   "metadata": {
    "execution": {
     "iopub.execute_input": "2020-09-28T11:23:12.699120Z",
     "iopub.status.busy": "2020-09-28T11:23:12.698970Z",
     "iopub.status.idle": "2020-09-28T11:23:12.713956Z",
     "shell.execute_reply": "2020-09-28T11:23:12.713317Z",
     "shell.execute_reply.started": "2020-09-28T11:23:12.699105Z"
    }
   },
   "outputs": [],
   "source": [
    "!rm -rf dt/\n",
    "!mkdir \n",
    "dt.admin.create_empty_datashelf('dt/')"
   ]
  },
  {
   "cell_type": "code",
   "execution_count": null,
   "metadata": {},
   "outputs": [],
   "source": []
  }
 ],
 "metadata": {
  "kernelspec": {
   "display_name": "datatoolbox",
   "language": "python",
   "name": "datatoolbox"
  },
  "language_info": {
   "codemirror_mode": {
    "name": "ipython",
    "version": 3
   },
   "file_extension": ".py",
   "mimetype": "text/x-python",
   "name": "python",
   "nbconvert_exporter": "python",
   "pygments_lexer": "ipython3",
   "version": "3.8.2"
  }
 },
 "nbformat": 4,
 "nbformat_minor": 4
}
