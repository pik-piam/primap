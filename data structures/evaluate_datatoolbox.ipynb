{
 "cells": [
  {
   "cell_type": "code",
   "execution_count": 1,
   "metadata": {
    "execution": {
     "iopub.execute_input": "2020-09-28T16:21:14.868033Z",
     "iopub.status.busy": "2020-09-28T16:21:14.867165Z",
     "iopub.status.idle": "2020-09-28T16:21:16.050151Z",
     "shell.execute_reply": "2020-09-28T16:21:16.049506Z",
     "shell.execute_reply.started": "2020-09-28T16:21:14.867783Z"
    }
   },
   "outputs": [
    {
     "name": "stdout",
     "output_type": "stream",
     "text": [
      "0 source reader found and added into \"datatoolbox.sources\".\n",
      "\n",
      "          ################################################################\n",
      "          You are using datatoolbox with a testing database as a SANDBOX.\n",
      "          This allows for testing and initial tutorial use.\n",
      "          \n",
      "\n",
      "          For creating an empty dataase please use:\n",
      "              \"datatoolbox.admin.create_empty_datashelf(pathToDatabase)\"\n",
      "\n",
      "          For switching to a existing database use: \n",
      "              \"datatoolbox.admin.change_personal_config()\"\n",
      "              \n",
      "              \n",
      "          ################################################################\n",
      "          \n"
     ]
    }
   ],
   "source": [
    "import matplotlib\n",
    "%matplotlib widget\n",
    "from matplotlib import pyplot as plt\n",
    "import datatoolbox as dt\n",
    "import numpy as np\n",
    "import pickle\n",
    "import pandas as pd"
   ]
  },
  {
   "cell_type": "code",
   "execution_count": 2,
   "metadata": {
    "execution": {
     "iopub.execute_input": "2020-09-28T16:21:16.308252Z",
     "iopub.status.busy": "2020-09-28T16:21:16.307620Z",
     "iopub.status.idle": "2020-09-28T16:21:16.860469Z",
     "shell.execute_reply": "2020-09-28T16:21:16.859401Z",
     "shell.execute_reply.started": "2020-09-28T16:21:16.308189Z"
    }
   },
   "outputs": [
    {
     "name": "stdout",
     "output_type": "stream",
     "text": [
      "removed 'dt/shelf/mappings/regions.csv'\n",
      "removed 'dt/shelf/mappings/continent.csv'\n",
      "removed 'dt/shelf/mappings/country_codes.csv'\n",
      "removed directory 'dt/shelf/mappings'\n",
      "removed 'dt/shelf/sources.csv'\n",
      "removed 'dt/shelf/.git/HEAD'\n",
      "removed directory 'dt/shelf/.git/refs/tags'\n",
      "removed directory 'dt/shelf/.git/refs/heads'\n",
      "removed directory 'dt/shelf/.git/refs'\n",
      "removed directory 'dt/shelf/.git/objects/pack'\n",
      "removed directory 'dt/shelf/.git/objects/info'\n",
      "removed directory 'dt/shelf/.git/objects'\n",
      "removed 'dt/shelf/.git/config'\n",
      "removed directory 'dt/shelf/.git'\n",
      "removed 'dt/shelf/inventory.csv'\n",
      "removed directory 'dt/shelf'\n",
      "removed directory 'dt/'\n"
     ]
    }
   ],
   "source": [
    "!rm -rf dt/\n",
    "!mkdir dt/\n",
    "dt.admin.create_empty_datashelf('dt/shelf/')"
   ]
  },
  {
   "cell_type": "markdown",
   "metadata": {
    "execution": {
     "iopub.execute_input": "2020-09-28T16:14:44.569704Z",
     "iopub.status.busy": "2020-09-28T16:14:44.568987Z",
     "iopub.status.idle": "2020-09-28T16:14:44.623193Z",
     "shell.execute_reply": "2020-09-28T16:14:44.622633Z",
     "shell.execute_reply.started": "2020-09-28T16:14:44.569619Z"
    }
   },
   "source": [
    "# representation\n",
    "* load all example data sets into the data structure at once\n",
    "* measure memory use\n",
    "* export the data sets to CSV\n",
    "* reimport from CSV\n",
    "* export the data sets to some kind of native storage format\n",
    "* reimport from the native storage format"
   ]
  },
  {
   "cell_type": "markdown",
   "metadata": {},
   "source": [
    "## Read in the data"
   ]
  },
  {
   "cell_type": "code",
   "execution_count": 3,
   "metadata": {
    "execution": {
     "iopub.execute_input": "2020-09-28T16:21:19.382312Z",
     "iopub.status.busy": "2020-09-28T16:21:19.382051Z",
     "iopub.status.idle": "2020-09-28T16:21:19.812295Z",
     "shell.execute_reply": "2020-09-28T16:21:19.811824Z",
     "shell.execute_reply.started": "2020-09-28T16:21:19.382286Z"
    }
   },
   "outputs": [],
   "source": [
    "def csv_to_series(fpath):\n",
    "    with open(fpath) as fd:\n",
    "        ncol = len(fd.readline().split(','))\n",
    "    ser = pd.read_csv(fpath, parse_dates=['Date'], index_col=list(range(0, ncol-1)), squeeze=True)\n",
    "    name, unit = ser.name.rsplit('/', 1)\n",
    "    ser.name = name\n",
    "    ser = ser.astype(f'pint[{unit}]')\n",
    "    return ser\n",
    "\n",
    "fao_emi_total_pd = csv_to_series('csv/fao_emi_total.csv')"
   ]
  },
  {
   "cell_type": "code",
   "execution_count": 10,
   "metadata": {
    "execution": {
     "iopub.execute_input": "2020-09-28T16:24:32.587825Z",
     "iopub.status.busy": "2020-09-28T16:24:32.587069Z",
     "iopub.status.idle": "2020-09-28T16:24:32.763622Z",
     "shell.execute_reply": "2020-09-28T16:24:32.763230Z",
     "shell.execute_reply.started": "2020-09-28T16:24:32.587771Z"
    }
   },
   "outputs": [],
   "source": [
    "fao_emi_total = dt.Datatable(fao_emi_total_pd.pint.magnitude, meta={'unit': 'gigagram'})"
   ]
  },
  {
   "cell_type": "code",
   "execution_count": 11,
   "metadata": {
    "execution": {
     "iopub.execute_input": "2020-09-28T16:24:33.454270Z",
     "iopub.status.busy": "2020-09-28T16:24:33.453886Z",
     "iopub.status.idle": "2020-09-28T16:24:33.475379Z",
     "shell.execute_reply": "2020-09-28T16:24:33.474768Z",
     "shell.execute_reply.started": "2020-09-28T16:24:33.454231Z"
    }
   },
   "outputs": [
    {
     "data": {
      "text/html": [
       "=== Datatable ===<br/>\n",
       "unit: gigagram <br/>\n",
       "<div>\n",
       "<style scoped>\n",
       "    .dataframe tbody tr th:only-of-type {\n",
       "        vertical-align: middle;\n",
       "    }\n",
       "\n",
       "    .dataframe tbody tr th {\n",
       "        vertical-align: top;\n",
       "    }\n",
       "\n",
       "    .dataframe thead th {\n",
       "        text-align: right;\n",
       "    }\n",
       "</style>\n",
       "<table border=\"1\" class=\"dataframe\">\n",
       "  <thead>\n",
       "    <tr style=\"text-align: right;\">\n",
       "      <th></th>\n",
       "      <th></th>\n",
       "      <th></th>\n",
       "      <th></th>\n",
       "      <th>Emissions</th>\n",
       "    </tr>\n",
       "    <tr>\n",
       "      <th>Area</th>\n",
       "      <th>Date</th>\n",
       "      <th>Element</th>\n",
       "      <th>Item</th>\n",
       "      <th></th>\n",
       "    </tr>\n",
       "  </thead>\n",
       "  <tbody>\n",
       "    <tr>\n",
       "      <th rowspan=\"5\" valign=\"top\">Afghanistan</th>\n",
       "      <th rowspan=\"5\" valign=\"top\">1961-01-01</th>\n",
       "      <th rowspan=\"5\" valign=\"top\">CH4</th>\n",
       "      <th>Agriculture total</th>\n",
       "      <td>285.7793</td>\n",
       "    </tr>\n",
       "    <tr>\n",
       "      <th>Burning - Crop residues</th>\n",
       "      <td>4.0734</td>\n",
       "    </tr>\n",
       "    <tr>\n",
       "      <th>Enteric Fermentation</th>\n",
       "      <td>240.6831</td>\n",
       "    </tr>\n",
       "    <tr>\n",
       "      <th>Manure Management</th>\n",
       "      <td>11.6228</td>\n",
       "    </tr>\n",
       "    <tr>\n",
       "      <th>Rice Cultivation</th>\n",
       "      <td>29.4000</td>\n",
       "    </tr>\n",
       "    <tr>\n",
       "      <th>...</th>\n",
       "      <th>...</th>\n",
       "      <th>...</th>\n",
       "      <th>...</th>\n",
       "      <td>...</td>\n",
       "    </tr>\n",
       "    <tr>\n",
       "      <th rowspan=\"5\" valign=\"top\">Zimbabwe</th>\n",
       "      <th rowspan=\"5\" valign=\"top\">2050-01-01</th>\n",
       "      <th rowspan=\"5\" valign=\"top\">N2O (CO2eq)</th>\n",
       "      <th>Crop Residues</th>\n",
       "      <td>371.3072</td>\n",
       "    </tr>\n",
       "    <tr>\n",
       "      <th>Manure Management</th>\n",
       "      <td>119.9969</td>\n",
       "    </tr>\n",
       "    <tr>\n",
       "      <th>Manure applied to Soils</th>\n",
       "      <td>196.7940</td>\n",
       "    </tr>\n",
       "    <tr>\n",
       "      <th>Manure left on Pasture</th>\n",
       "      <td>6473.5458</td>\n",
       "    </tr>\n",
       "    <tr>\n",
       "      <th>Synthetic Fertilizers</th>\n",
       "      <td>1151.9231</td>\n",
       "    </tr>\n",
       "  </tbody>\n",
       "</table>\n",
       "<p>507542 rows × 1 columns</p>\n",
       "</div>"
      ],
      "text/plain": [
       "=== Datatable ===\n",
       "unit: gigagram \n",
       "                                                            Emissions\n",
       "Area        Date       Element     Item                              \n",
       "Afghanistan 1961-01-01 CH4         Agriculture total         285.7793\n",
       "                                   Burning - Crop residues     4.0734\n",
       "                                   Enteric Fermentation      240.6831\n",
       "                                   Manure Management          11.6228\n",
       "                                   Rice Cultivation           29.4000\n",
       "...                                                               ...\n",
       "Zimbabwe    2050-01-01 N2O (CO2eq) Crop Residues             371.3072\n",
       "                                   Manure Management         119.9969\n",
       "                                   Manure applied to Soils   196.7940\n",
       "                                   Manure left on Pasture   6473.5458\n",
       "                                   Synthetic Fertilizers    1151.9231\n",
       "\n",
       "[507542 rows x 1 columns]"
      ]
     },
     "execution_count": 11,
     "metadata": {},
     "output_type": "execute_result"
    }
   ],
   "source": [
    "fao_emi_total"
   ]
  },
  {
   "cell_type": "code",
   "execution_count": 12,
   "metadata": {
    "execution": {
     "iopub.execute_input": "2020-09-28T16:24:38.211752Z",
     "iopub.status.busy": "2020-09-28T16:24:38.210880Z",
     "iopub.status.idle": "2020-09-28T16:24:38.249775Z",
     "shell.execute_reply": "2020-09-28T16:24:38.248654Z",
     "shell.execute_reply.started": "2020-09-28T16:24:38.211627Z"
    }
   },
   "outputs": [
    {
     "data": {
      "text/html": [
       "=== Datatable ===<br/>\n",
       "unit: kg <br/>\n",
       "modified: 2020/09/28-06:24:38 <br/>\n",
       "<div>\n",
       "<style scoped>\n",
       "    .dataframe tbody tr th:only-of-type {\n",
       "        vertical-align: middle;\n",
       "    }\n",
       "\n",
       "    .dataframe tbody tr th {\n",
       "        vertical-align: top;\n",
       "    }\n",
       "\n",
       "    .dataframe thead th {\n",
       "        text-align: right;\n",
       "    }\n",
       "</style>\n",
       "<table border=\"1\" class=\"dataframe\">\n",
       "  <thead>\n",
       "    <tr style=\"text-align: right;\">\n",
       "      <th></th>\n",
       "      <th></th>\n",
       "      <th></th>\n",
       "      <th></th>\n",
       "      <th>Emissions</th>\n",
       "    </tr>\n",
       "    <tr>\n",
       "      <th>Area</th>\n",
       "      <th>Date</th>\n",
       "      <th>Element</th>\n",
       "      <th>Item</th>\n",
       "      <th></th>\n",
       "    </tr>\n",
       "  </thead>\n",
       "  <tbody>\n",
       "    <tr>\n",
       "      <th rowspan=\"5\" valign=\"top\">Afghanistan</th>\n",
       "      <th rowspan=\"5\" valign=\"top\">1961-01-01</th>\n",
       "      <th rowspan=\"5\" valign=\"top\">CH4</th>\n",
       "      <th>Agriculture total</th>\n",
       "      <td>2.857793e+08</td>\n",
       "    </tr>\n",
       "    <tr>\n",
       "      <th>Burning - Crop residues</th>\n",
       "      <td>4.073400e+06</td>\n",
       "    </tr>\n",
       "    <tr>\n",
       "      <th>Enteric Fermentation</th>\n",
       "      <td>2.406831e+08</td>\n",
       "    </tr>\n",
       "    <tr>\n",
       "      <th>Manure Management</th>\n",
       "      <td>1.162280e+07</td>\n",
       "    </tr>\n",
       "    <tr>\n",
       "      <th>Rice Cultivation</th>\n",
       "      <td>2.940000e+07</td>\n",
       "    </tr>\n",
       "    <tr>\n",
       "      <th>...</th>\n",
       "      <th>...</th>\n",
       "      <th>...</th>\n",
       "      <th>...</th>\n",
       "      <td>...</td>\n",
       "    </tr>\n",
       "    <tr>\n",
       "      <th rowspan=\"5\" valign=\"top\">Zimbabwe</th>\n",
       "      <th rowspan=\"5\" valign=\"top\">2050-01-01</th>\n",
       "      <th rowspan=\"5\" valign=\"top\">N2O (CO2eq)</th>\n",
       "      <th>Crop Residues</th>\n",
       "      <td>3.713072e+08</td>\n",
       "    </tr>\n",
       "    <tr>\n",
       "      <th>Manure Management</th>\n",
       "      <td>1.199969e+08</td>\n",
       "    </tr>\n",
       "    <tr>\n",
       "      <th>Manure applied to Soils</th>\n",
       "      <td>1.967940e+08</td>\n",
       "    </tr>\n",
       "    <tr>\n",
       "      <th>Manure left on Pasture</th>\n",
       "      <td>6.473546e+09</td>\n",
       "    </tr>\n",
       "    <tr>\n",
       "      <th>Synthetic Fertilizers</th>\n",
       "      <td>1.151923e+09</td>\n",
       "    </tr>\n",
       "  </tbody>\n",
       "</table>\n",
       "<p>507542 rows × 1 columns</p>\n",
       "</div>"
      ],
      "text/plain": [
       "=== Datatable ===\n",
       "unit: kg \n",
       "modified: 2020/09/28-06:24:38 \n",
       "                                                               Emissions\n",
       "Area        Date       Element     Item                                 \n",
       "Afghanistan 1961-01-01 CH4         Agriculture total        2.857793e+08\n",
       "                                   Burning - Crop residues  4.073400e+06\n",
       "                                   Enteric Fermentation     2.406831e+08\n",
       "                                   Manure Management        1.162280e+07\n",
       "                                   Rice Cultivation         2.940000e+07\n",
       "...                                                                  ...\n",
       "Zimbabwe    2050-01-01 N2O (CO2eq) Crop Residues            3.713072e+08\n",
       "                                   Manure Management        1.199969e+08\n",
       "                                   Manure applied to Soils  1.967940e+08\n",
       "                                   Manure left on Pasture   6.473546e+09\n",
       "                                   Synthetic Fertilizers    1.151923e+09\n",
       "\n",
       "[507542 rows x 1 columns]"
      ]
     },
     "execution_count": 12,
     "metadata": {},
     "output_type": "execute_result"
    }
   ],
   "source": [
    "fao_emi_total.convert('kg')"
   ]
  },
  {
   "cell_type": "code",
   "execution_count": 14,
   "metadata": {
    "execution": {
     "iopub.execute_input": "2020-09-28T16:26:46.970356Z",
     "iopub.status.busy": "2020-09-28T16:26:46.970094Z",
     "iopub.status.idle": "2020-09-28T16:26:46.974995Z",
     "shell.execute_reply": "2020-09-28T16:26:46.974365Z",
     "shell.execute_reply.started": "2020-09-28T16:26:46.970323Z"
    }
   },
   "outputs": [
    {
     "data": {
      "text/plain": [
       "{'entity', 'scenario', 'source_name', 'source_year', 'unit'}"
      ]
     },
     "execution_count": 14,
     "metadata": {},
     "output_type": "execute_result"
    }
   ],
   "source": [
    "dt.config.REQUIRED_META_FIELDS"
   ]
  },
  {
   "cell_type": "code",
   "execution_count": 17,
   "metadata": {
    "execution": {
     "iopub.execute_input": "2020-09-28T16:29:03.817351Z",
     "iopub.status.busy": "2020-09-28T16:29:03.816930Z",
     "iopub.status.idle": "2020-09-28T16:29:03.831511Z",
     "shell.execute_reply": "2020-09-28T16:29:03.830701Z",
     "shell.execute_reply.started": "2020-09-28T16:29:03.817305Z"
    }
   },
   "outputs": [
    {
     "data": {
      "text/plain": [
       "\u001b[0;31mSignature:\u001b[0m \u001b[0mfao_emi_total\u001b[0m\u001b[0;34m.\u001b[0m\u001b[0mcopy\u001b[0m\u001b[0;34m(\u001b[0m\u001b[0mdeep\u001b[0m\u001b[0;34m=\u001b[0m\u001b[0;32mTrue\u001b[0m\u001b[0;34m)\u001b[0m\u001b[0;34m\u001b[0m\u001b[0;34m\u001b[0m\u001b[0m\n",
       "\u001b[0;31mDocstring:\u001b[0m\n",
       "Make a copy of this ClimateFrame object\n",
       "Parameters\n",
       "----------\n",
       "deep : boolean, default True\n",
       "    Make a deep copy, i.e. also copy data\n",
       "Returns\n",
       "-------\n",
       "copy : ClimateFrame\n",
       "\u001b[0;31mFile:\u001b[0m      ~/work/climateanalytics/datatoolbox/venv/lib/python3.8/site-packages/datatoolbox/data_structures.py\n",
       "\u001b[0;31mType:\u001b[0m      method\n"
      ]
     },
     "metadata": {},
     "output_type": "display_data"
    }
   ],
   "source": [
    "fao_emi_total.copy?"
   ]
  },
  {
   "cell_type": "code",
   "execution_count": null,
   "metadata": {},
   "outputs": [],
   "source": []
  }
 ],
 "metadata": {
  "kernelspec": {
   "display_name": "datatoolbox",
   "language": "python",
   "name": "datatoolbox"
  },
  "language_info": {
   "codemirror_mode": {
    "name": "ipython",
    "version": 3
   },
   "file_extension": ".py",
   "mimetype": "text/x-python",
   "name": "python",
   "nbconvert_exporter": "python",
   "pygments_lexer": "ipython3",
   "version": "3.8.2"
  }
 },
 "nbformat": 4,
 "nbformat_minor": 4
}
