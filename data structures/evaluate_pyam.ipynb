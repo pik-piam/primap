{
 "cells": [
  {
   "cell_type": "code",
   "execution_count": 59,
   "metadata": {
    "execution": {
     "iopub.execute_input": "2020-09-15T12:51:06.561711Z",
     "iopub.status.busy": "2020-09-15T12:51:06.561512Z",
     "iopub.status.idle": "2020-09-15T12:51:06.571458Z",
     "shell.execute_reply": "2020-09-15T12:51:06.570814Z",
     "shell.execute_reply.started": "2020-09-15T12:51:06.561683Z"
    }
   },
   "outputs": [],
   "source": [
    "%matplotlib widget\n",
    "import matplotlib\n",
    "from matplotlib import pyplot as plt\n",
    "import pandas as pd\n",
    "import numpy as np\n",
    "import tqdm\n",
    "import pickle\n",
    "import pyam\n",
    "import pint_xarray\n",
    "import pint\n",
    "import xarray as xr\n",
    "from itertools import product"
   ]
  },
  {
   "cell_type": "markdown",
   "metadata": {
    "execution": {
     "iopub.execute_input": "2020-09-15T12:19:02.532817Z",
     "iopub.status.busy": "2020-09-15T12:19:02.531490Z",
     "iopub.status.idle": "2020-09-15T12:19:02.547241Z",
     "shell.execute_reply": "2020-09-15T12:19:02.546255Z",
     "shell.execute_reply.started": "2020-09-15T12:19:02.532694Z"
    }
   },
   "source": [
    "# representation"
   ]
  },
  {
   "cell_type": "code",
   "execution_count": 42,
   "metadata": {
    "execution": {
     "iopub.execute_input": "2020-09-15T12:19:02.532817Z",
     "iopub.status.busy": "2020-09-15T12:19:02.531490Z",
     "iopub.status.idle": "2020-09-15T12:19:02.547241Z",
     "shell.execute_reply": "2020-09-15T12:19:02.546255Z",
     "shell.execute_reply.started": "2020-09-15T12:19:02.532694Z"
    }
   },
   "outputs": [],
   "source": [
    "def iamdf_from_pandas(df, region, variable, scenario, model):\n",
    "    columns = list(df.index.names)\n",
    "    columns.remove('Date')\n",
    "    columns.append('Date')\n",
    "    rename = {}\n",
    "    kwargs = {}\n",
    "    for key, spec in ('region', region), ('variable', variable), ('scenario', scenario), ('model', model):\n",
    "        if isinstance(spec, list) and len(spec) == 1:\n",
    "            rename[spec[0]] = key\n",
    "        else:\n",
    "            kwargs[key] = spec\n",
    "            \n",
    "    dfs = df.pint.magnitude.reorder_levels(columns).sort_index().unstack().reset_index().rename(columns=rename)\n",
    "    \n",
    "    return pyam.IamDataFrame(dfs,\n",
    "                             unit=str(df.pint.units),\n",
    "                             **kwargs)"
   ]
  },
  {
   "cell_type": "code",
   "execution_count": 43,
   "metadata": {
    "execution": {
     "iopub.execute_input": "2020-09-15T12:19:03.879728Z",
     "iopub.status.busy": "2020-09-15T12:19:03.878483Z",
     "iopub.status.idle": "2020-09-15T12:19:05.843352Z",
     "shell.execute_reply": "2020-09-15T12:19:05.842882Z",
     "shell.execute_reply.started": "2020-09-15T12:19:03.879612Z"
    }
   },
   "outputs": [],
   "source": [
    "with open(f'mem/fao_emi_total.pck', 'rb') as fd:\n",
    "    fao_emi_total_pd = pickle.load(fd)\n",
    "\n",
    "fao_emi_total = iamdf_from_pandas(fao_emi_total_pd,\n",
    "                                  region=['Area'],\n",
    "                                  variable=['Element', 'Item'],\n",
    "                                  scenario='history',\n",
    "                                  model='FAO')\n",
    "\n",
    "del fao_emi_total_pd"
   ]
  },
  {
   "cell_type": "code",
   "execution_count": 46,
   "metadata": {
    "execution": {
     "iopub.execute_input": "2020-09-15T12:21:08.147576Z",
     "iopub.status.busy": "2020-09-15T12:21:08.147402Z",
     "iopub.status.idle": "2020-09-15T12:21:08.215434Z",
     "shell.execute_reply": "2020-09-15T12:21:08.214437Z",
     "shell.execute_reply.started": "2020-09-15T12:21:08.147561Z"
    }
   },
   "outputs": [],
   "source": [
    "with open(f'mem/lak_emi_energy.pck', 'rb') as fd:\n",
    "    lak_emi_energy_pd = pickle.load(fd)\n",
    "\n",
    "lak_emi_energy = iamdf_from_pandas(lak_emi_energy_pd,\n",
    "                                   region=['Area'],\n",
    "                                   variable=['Category'],\n",
    "                                   scenario='history',\n",
    "                                   model='LAK')\n",
    "\n",
    "del lak_emi_energy_pd"
   ]
  },
  {
   "cell_type": "code",
   "execution_count": 51,
   "metadata": {
    "execution": {
     "iopub.execute_input": "2020-09-15T12:24:04.085162Z",
     "iopub.status.busy": "2020-09-15T12:24:04.084175Z",
     "iopub.status.idle": "2020-09-15T12:24:04.095442Z",
     "shell.execute_reply": "2020-09-15T12:24:04.094482Z",
     "shell.execute_reply.started": "2020-09-15T12:24:04.085079Z"
    }
   },
   "outputs": [],
   "source": [
    "if False:  # can't work with out-of-bounds dates\n",
    "    with open(f'mem/cmip_conc_co2.pck', 'rb') as fd:\n",
    "        cmip_conc_co2_pd = pickle.load(fd)\n",
    "\n",
    "    cmip_conc_co2_pd.index.set_levels(\n",
    "        [f'{year:04}-{month:02}-01' for year, month in product([-1] + list(range(1, 2015)), range(1, 13))],\n",
    "        level='Date',\n",
    "        inplace=True)    \n",
    "\n",
    "    cmip_conc_co2 = iamdf_from_pandas(cmip_conc_co2_pd,\n",
    "                                      region=['Area'],\n",
    "                                      variable='CO2 concentration',\n",
    "                                      scenario='history',\n",
    "                                      model='CMIP')\n",
    "\n",
    "    del cmip_conc_co2_pd"
   ]
  },
  {
   "cell_type": "code",
   "execution_count": 52,
   "metadata": {
    "execution": {
     "iopub.execute_input": "2020-09-15T12:24:43.485120Z",
     "iopub.status.busy": "2020-09-15T12:24:43.484015Z",
     "iopub.status.idle": "2020-09-15T12:24:56.509914Z",
     "shell.execute_reply": "2020-09-15T12:24:56.509376Z",
     "shell.execute_reply.started": "2020-09-15T12:24:43.485014Z"
    }
   },
   "outputs": [],
   "source": [
    "with open(f'mem/prm_emi.pck', 'rb') as fd:\n",
    "    prm_emi_pd = pickle.load(fd)   \n",
    "\n",
    "    \n",
    "prm_emi = iamdf_from_pandas(prm_emi_pd,\n",
    "                            region=['Area'],\n",
    "                            variable=['Entity', 'Category'],\n",
    "                            scenario=['Scenario'],\n",
    "                            model='PRIMAP-hist'\n",
    "                            )\n",
    "\n",
    "del prm_emi_pd"
   ]
  },
  {
   "cell_type": "code",
   "execution_count": 87,
   "metadata": {
    "execution": {
     "iopub.execute_input": "2020-09-15T13:00:47.206212Z",
     "iopub.status.busy": "2020-09-15T13:00:47.205401Z",
     "iopub.status.idle": "2020-09-15T13:00:47.629558Z",
     "shell.execute_reply": "2020-09-15T13:00:47.628930Z",
     "shell.execute_reply.started": "2020-09-15T13:00:47.206139Z"
    }
   },
   "outputs": [],
   "source": [
    "with open(f'xr/mem/primap_sources.pck', 'rb') as fd:\n",
    "    primap_xr = pickle.load(fd)"
   ]
  },
  {
   "cell_type": "code",
   "execution_count": 101,
   "metadata": {
    "execution": {
     "iopub.execute_input": "2020-09-15T13:04:09.850108Z",
     "iopub.status.busy": "2020-09-15T13:04:09.849683Z",
     "iopub.status.idle": "2020-09-15T13:04:09.855555Z",
     "shell.execute_reply": "2020-09-15T13:04:09.854766Z",
     "shell.execute_reply.started": "2020-09-15T13:04:09.850077Z"
    }
   },
   "outputs": [],
   "source": [
    "def iamdf_from_xarray(da, model):\n",
    "    dq = da.pint.quantify().to_array('Element').pint.dequantify()\n",
    "    dfs = dq.to_dataset('Date').to_dataframe().reset_index().rename(columns={'Area': 'region', 'Scenario': 'scenario'})\n",
    "    \n",
    "    return pyam.IamDataFrame(dfs,\n",
    "                             unit=dq.attrs['units'],\n",
    "                             variable=['Type', 'Class', 'Category', 'Element'],\n",
    "                             model=model)\n"
   ]
  },
  {
   "cell_type": "code",
   "execution_count": 105,
   "metadata": {
    "execution": {
     "iopub.execute_input": "2020-09-15T13:09:56.696456Z",
     "iopub.status.busy": "2020-09-15T13:09:56.696264Z",
     "iopub.status.idle": "2020-09-15T13:14:11.140234Z",
     "shell.execute_reply": "2020-09-15T13:14:11.139525Z",
     "shell.execute_reply.started": "2020-09-15T13:09:56.696440Z"
    }
   },
   "outputs": [
    {
     "data": {
      "application/vnd.jupyter.widget-view+json": {
       "model_id": "6584f45727c74205a3c85d9a453153fc",
       "version_major": 2,
       "version_minor": 0
      },
      "text/plain": [
       "HBox(children=(IntProgress(value=0, max=17), HTML(value='')))"
      ]
     },
     "metadata": {},
     "output_type": "display_data"
    },
    {
     "name": "stdout",
     "output_type": "stream",
     "text": [
      "CRF2020\n",
      "BUR2IPCC2006I\n",
      "BUR3IPCC2006I\n",
      "ANDREW2018V4I\n",
      "UNFCCC2019BI\n",
      "CDIAC2017I\n",
      "UN2017P\n",
      "UN2019P\n",
      "EDGAR42COMPI\n",
      "EDGAR50I\n",
      "CRF2019\n",
      "BUR1IPCC2006I\n",
      "PMHSOCIOECO12\n",
      "PRIMAPHIST20\n",
      "EDGAR432I\n",
      "UNFCCC2020AI\n"
     ]
    }
   ],
   "source": [
    "crf2020 = iamdf_from_xarray(primap_xr['CRF2020'], 'CRF2020')\n",
    "\n",
    "\n",
    "primap = {}\n",
    "for key in tqdm.tqdm_notebook(primap_xr):\n",
    "    if key == 'MPD2018P':  # can't handle out-of-bounds times\n",
    "        continue\n",
    "    print(key)\n",
    "    da = primap_xr[key]\n",
    "    primap[key] = iamdf_from_xarray(da, key)\n",
    "\n",
    "del primap_xr"
   ]
  },
  {
   "cell_type": "markdown",
   "metadata": {
    "execution": {
     "iopub.execute_input": "2020-09-15T13:43:33.850737Z",
     "iopub.status.busy": "2020-09-15T13:43:33.849523Z",
     "iopub.status.idle": "2020-09-15T13:43:33.862842Z",
     "shell.execute_reply": "2020-09-15T13:43:33.861880Z",
     "shell.execute_reply.started": "2020-09-15T13:43:33.850622Z"
    }
   },
   "source": [
    "## Measure memory use"
   ]
  },
  {
   "cell_type": "code",
   "execution_count": 116,
   "metadata": {
    "execution": {
     "iopub.execute_input": "2020-09-15T13:51:21.117273Z",
     "iopub.status.busy": "2020-09-15T13:51:21.117082Z",
     "iopub.status.idle": "2020-09-15T13:51:24.173501Z",
     "shell.execute_reply": "2020-09-15T13:51:24.170887Z",
     "shell.execute_reply.started": "2020-09-15T13:51:21.117258Z"
    }
   },
   "outputs": [
    {
     "name": "stdout",
     "output_type": "stream",
     "text": [
      "total 684M\n",
      "drwxrwxr-x 2 pflueger pflueger 4,0K Sep 15 15:51 .\n",
      "drwxrwxr-x 4 pflueger pflueger 4,0K Sep 15 15:51 ..\n",
      "-rw-rw-r-- 1 pflueger pflueger  16M Sep 15 15:51 fao_emi_total.pck\n",
      "-rw-rw-r-- 1 pflueger pflueger  67K Sep 15 15:51 lak_emi_energy.pck\n",
      "-rw-rw-r-- 1 pflueger pflueger 513M Sep 15 15:51 primap.pck\n",
      "-rw-rw-r-- 1 pflueger pflueger 155M Sep 15 15:51 prm_emi.pck\n",
      "total 674M\n",
      "drwxrwxr-x  2 pflueger pflueger 4,0K Aug 27 10:55 .\n",
      "drwxrwxr-x 10 pflueger pflueger 4,0K Sep 15 15:49 ..\n",
      "-rw-rw-r--  1 pflueger pflueger 1,2M Aug 27 18:49 cmip_conc_co2.pck\n",
      "-rw-rw-r--  1 pflueger pflueger 1,2M Aug 27 18:53 cmip_conc_co2_wo.pck\n",
      "-rw-rw-r--  1 pflueger pflueger 8,8M Aug 27 18:49 fao_emi_total.pck\n",
      "-rw-rw-r--  1 pflueger pflueger 9,7M Aug 27 18:53 fao_emi_total_wo.pck\n",
      "-rw-rw-r--  1 pflueger pflueger  40K Aug 27 18:49 lak_emi_energy.pck\n",
      "-rw-rw-r--  1 pflueger pflueger  50K Aug 27 18:53 lak_emi_energy_wo.pck\n",
      "-rw-rw-r--  1 pflueger pflueger 205M Aug 27 18:49 primap_tables.pck\n",
      "-rw-rw-r--  1 pflueger pflueger 244M Aug 27 18:53 primap_tables_wo.pck\n",
      "-rw-rw-r--  1 pflueger pflueger 105M Aug 27 18:49 prm_emi.pck\n",
      "-rw-rw-r--  1 pflueger pflueger 100M Aug 27 18:53 prm_emi_wo.pck\n"
     ]
    }
   ],
   "source": [
    "!rm -rf pm/mem/\n",
    "!mkdir -p pm/mem/\n",
    "\n",
    "import pickle\n",
    "\n",
    "for fpath, obj in (\n",
    "    ('fao_emi_total', fao_emi_total),\n",
    "    ('lak_emi_energy', lak_emi_energy),\n",
    "    ('prm_emi', prm_emi), \n",
    "    ('primap', primap),\n",
    "):\n",
    "    with open(f'pm/mem/{fpath}.pck', 'wb') as fd:\n",
    "        pickle.dump(obj, fd, -1)\n",
    "\n",
    "!ls -lah pm/mem/\n",
    "!ls -lah mem/"
   ]
  },
  {
   "cell_type": "markdown",
   "metadata": {},
   "source": [
    "## I/O\n",
    "* export the data sets to CSV\n",
    "* reimport from CSV\n",
    "* export the data sets to some kind of native storage format\n",
    "* reimport from the native storage format"
   ]
  },
  {
   "cell_type": "markdown",
   "metadata": {
    "execution": {
     "iopub.execute_input": "2020-09-15T13:46:38.763108Z",
     "iopub.status.busy": "2020-09-15T13:46:38.762228Z",
     "iopub.status.idle": "2020-09-15T13:46:38.769422Z",
     "shell.execute_reply": "2020-09-15T13:46:38.768130Z",
     "shell.execute_reply.started": "2020-09-15T13:46:38.763030Z"
    }
   },
   "source": [
    "### export to CSV"
   ]
  },
  {
   "cell_type": "code",
   "execution_count": 120,
   "metadata": {
    "execution": {
     "iopub.execute_input": "2020-09-15T14:04:11.450294Z",
     "iopub.status.busy": "2020-09-15T14:04:11.449865Z",
     "iopub.status.idle": "2020-09-15T14:05:04.537547Z",
     "shell.execute_reply": "2020-09-15T14:05:04.535198Z",
     "shell.execute_reply.started": "2020-09-15T14:04:11.450256Z"
    }
   },
   "outputs": [
    {
     "name": "stdout",
     "output_type": "stream",
     "text": [
      "total 45M\n",
      "drwxrwxr-x 4 pflueger pflueger 4,0K Sep 15 16:04 .\n",
      "drwxrwxr-x 4 pflueger pflueger 4,0K Sep 15 15:51 ..\n",
      "-rw-rw-r-- 1 pflueger pflueger 4,7M Sep 15 16:04 fao_emi_total.csv\n",
      "-rw-rw-r-- 1 pflueger pflueger  46K Sep 15 16:04 lak_emi_energy.csv\n",
      "drwxrwxr-x 2 pflueger pflueger 4,0K Sep 15 16:05 primap\n",
      "-rw-rw-r-- 1 pflueger pflueger 4,0M Sep 15 16:04 primap_crf2020.csv\n",
      "drwxrwxr-x 2 pflueger pflueger 4,0K Sep 15 15:52 prm_emi\n",
      "-rw-rw-r-- 1 pflueger pflueger  36M Sep 15 16:04 prm_emi.csv\n",
      "194M\tpm/csv/primap\n"
     ]
    }
   ],
   "source": [
    "!mkdir -p pm/csv/primap\n",
    "\n",
    "for fpath, obj in (\n",
    "    ('fao_emi_total', fao_emi_total),\n",
    "    ('lak_emi_energy', lak_emi_energy),\n",
    "    ('prm_emi', prm_emi),\n",
    "    ('primap_crf2020', crf2020),\n",
    "):\n",
    "    obj.to_csv(f'pm/csv/{fpath}.csv')\n",
    "\n",
    "for key in primap:\n",
    "    primap[key].to_csv(f'pm/csv/primap/{key}.csv')\n",
    "\n",
    "!ls -lah pm/csv\n",
    "!du -sh pm/csv/primap"
   ]
  },
  {
   "cell_type": "markdown",
   "metadata": {
    "execution": {
     "iopub.execute_input": "2020-09-15T14:05:43.592507Z",
     "iopub.status.busy": "2020-09-15T14:05:43.591793Z",
     "iopub.status.idle": "2020-09-15T14:05:43.811157Z",
     "shell.execute_reply": "2020-09-15T14:05:43.808076Z",
     "shell.execute_reply.started": "2020-09-15T14:05:43.592441Z"
    }
   },
   "source": [
    "### reimport from CSV"
   ]
  },
  {
   "cell_type": "code",
   "execution_count": 124,
   "metadata": {
    "execution": {
     "iopub.execute_input": "2020-09-15T14:07:57.965476Z",
     "iopub.status.busy": "2020-09-15T14:07:57.964359Z",
     "iopub.status.idle": "2020-09-15T14:08:08.410084Z",
     "shell.execute_reply": "2020-09-15T14:08:08.409498Z",
     "shell.execute_reply.started": "2020-09-15T14:07:57.965392Z"
    }
   },
   "outputs": [
    {
     "name": "stderr",
     "output_type": "stream",
     "text": [
      "pyam.core - INFO: Reading file `pm/csv/fao_emi_total.csv`\n",
      "pyam.core - INFO: Reading file `pm/csv/lak_emi_energy.csv`\n",
      "pyam.core - INFO: Reading file `pm/csv/prm_emi.csv`\n",
      "pyam.core - INFO: Reading file `pm/csv/primap_crf2020.csv`\n"
     ]
    }
   ],
   "source": [
    "fao_emi_total_r = pyam.IamDataFrame('pm/csv/fao_emi_total.csv')\n",
    "lak_emi_energy_r = pyam.IamDataFrame('pm/csv/lak_emi_energy.csv')\n",
    "prm_emi_r = pyam.IamDataFrame('pm/csv/prm_emi.csv')\n",
    "primap_crf2020_r = pyam.IamDataFrame('pm/csv/primap_crf2020.csv')"
   ]
  },
  {
   "cell_type": "code",
   "execution_count": 130,
   "metadata": {
    "execution": {
     "iopub.execute_input": "2020-09-15T14:10:24.629112Z",
     "iopub.status.busy": "2020-09-15T14:10:24.628093Z",
     "iopub.status.idle": "2020-09-15T14:10:47.908220Z",
     "shell.execute_reply": "2020-09-15T14:10:47.907297Z",
     "shell.execute_reply.started": "2020-09-15T14:10:24.629039Z"
    }
   },
   "outputs": [
    {
     "data": {
      "application/vnd.jupyter.widget-view+json": {
       "model_id": "37a86072d72a4a379b860796c3deb371",
       "version_major": 2,
       "version_minor": 0
      },
      "text/plain": [
       "HBox(children=(IntProgress(value=0, max=16), HTML(value='')))"
      ]
     },
     "metadata": {},
     "output_type": "display_data"
    },
    {
     "name": "stderr",
     "output_type": "stream",
     "text": [
      "pyam.core - INFO: Reading file `pm/csv/primap/ANDREW2018V4I.csv`\n",
      "pyam.core - INFO: Reading file `pm/csv/primap/BUR1IPCC2006I.csv`\n",
      "pyam.core - INFO: Reading file `pm/csv/primap/BUR2IPCC2006I.csv`\n",
      "pyam.core - INFO: Reading file `pm/csv/primap/BUR3IPCC2006I.csv`\n",
      "pyam.core - INFO: Reading file `pm/csv/primap/CDIAC2017I.csv`\n",
      "pyam.core - INFO: Reading file `pm/csv/primap/CRF2019.csv`\n",
      "pyam.core - INFO: Reading file `pm/csv/primap/CRF2020.csv`\n",
      "pyam.core - INFO: Reading file `pm/csv/primap/EDGAR42COMPI.csv`\n",
      "pyam.core - INFO: Reading file `pm/csv/primap/EDGAR432I.csv`\n",
      "pyam.core - INFO: Reading file `pm/csv/primap/EDGAR50I.csv`\n",
      "pyam.core - INFO: Reading file `pm/csv/primap/PMHSOCIOECO12.csv`\n",
      "pyam.core - INFO: Reading file `pm/csv/primap/PRIMAPHIST20.csv`\n",
      "pyam.core - INFO: Reading file `pm/csv/primap/UN2017P.csv`\n",
      "pyam.core - INFO: Reading file `pm/csv/primap/UN2019P.csv`\n",
      "pyam.core - INFO: Reading file `pm/csv/primap/UNFCCC2019BI.csv`\n",
      "pyam.core - INFO: Reading file `pm/csv/primap/UNFCCC2020AI.csv`\n"
     ]
    }
   ],
   "source": [
    "primap_r = {}\n",
    "fps = !ls pm/csv/primap/\n",
    "for fp in tqdm.tqdm_notebook(fps):\n",
    "    if not fp.endswith('csv'):\n",
    "        continue\n",
    "    key = fp[:-4]\n",
    "    primap_r[key] = pyam.IamDataFrame(f'pm/csv/primap/{key}.csv')"
   ]
  },
  {
   "cell_type": "markdown",
   "metadata": {},
   "source": [
    "### export to native storage format\n",
    "* csv is native"
   ]
  },
  {
   "cell_type": "markdown",
   "metadata": {},
   "source": [
    "# interactive analysis and plotting\n",
    "* add / subtract / divide / multiply compatible, overlapping data sets\n",
    "* timeit\n",
    "* plot a historical time series, and something akin to gapminder (countries on a gdp vs emissions plot)\n",
    "* select datasets which contain data on the N2O emissions of Finland\n",
    "* in a selected dataset, select years in which the N2O emissions of Finland were above the 1950-2000 average\n",
    "* resample non-yearly dataset to yearly dataset\n",
    "* convert a dataset to tidy format"
   ]
  },
  {
   "cell_type": "markdown",
   "metadata": {
    "execution": {
     "iopub.execute_input": "2020-09-15T14:35:07.178651Z",
     "iopub.status.busy": "2020-09-15T14:35:07.176761Z",
     "iopub.status.idle": "2020-09-15T14:35:07.190065Z",
     "shell.execute_reply": "2020-09-15T14:35:07.186874Z",
     "shell.execute_reply.started": "2020-09-15T14:35:07.178525Z"
    }
   },
   "source": [
    "## aligned arithmetic"
   ]
  },
  {
   "cell_type": "code",
   "execution_count": 149,
   "metadata": {
    "execution": {
     "iopub.execute_input": "2020-09-15T14:49:04.706243Z",
     "iopub.status.busy": "2020-09-15T14:49:04.704708Z",
     "iopub.status.idle": "2020-09-15T14:49:04.717069Z",
     "shell.execute_reply": "2020-09-15T14:49:04.713853Z",
     "shell.execute_reply.started": "2020-09-15T14:49:04.706157Z"
    }
   },
   "outputs": [],
   "source": [
    "# extract two comptaible, partly overlapping data sets from primap-hist"
   ]
  },
  {
   "cell_type": "code",
   "execution_count": 150,
   "metadata": {
    "execution": {
     "iopub.execute_input": "2020-09-15T14:49:04.997252Z",
     "iopub.status.busy": "2020-09-15T14:49:04.996662Z",
     "iopub.status.idle": "2020-09-15T14:49:28.467338Z",
     "shell.execute_reply": "2020-09-15T14:49:28.466755Z",
     "shell.execute_reply.started": "2020-09-15T14:49:04.997196Z"
    }
   },
   "outputs": [],
   "source": [
    "a = prm_emi.filter(year=range(1900, 1991), scenario='HISTCR', variable='CO2|IPC1')"
   ]
  },
  {
   "cell_type": "code",
   "execution_count": 151,
   "metadata": {
    "execution": {
     "iopub.execute_input": "2020-09-15T14:49:28.468415Z",
     "iopub.status.busy": "2020-09-15T14:49:28.468248Z",
     "iopub.status.idle": "2020-09-15T14:49:35.887240Z",
     "shell.execute_reply": "2020-09-15T14:49:35.886513Z",
     "shell.execute_reply.started": "2020-09-15T14:49:28.468397Z"
    }
   },
   "outputs": [],
   "source": [
    "b = prm_emi.filter(region=['FIN', 'DEU', 'ZWE'])"
   ]
  },
  {
   "cell_type": "code",
   "execution_count": 152,
   "metadata": {
    "execution": {
     "iopub.execute_input": "2020-09-15T15:18:46.463202Z",
     "iopub.status.busy": "2020-09-15T15:18:46.462862Z",
     "iopub.status.idle": "2020-09-15T15:18:46.473865Z",
     "shell.execute_reply": "2020-09-15T15:18:46.473088Z",
     "shell.execute_reply.started": "2020-09-15T15:18:46.463163Z"
    }
   },
   "outputs": [
    {
     "ename": "TypeError",
     "evalue": "unsupported operand type(s) for +: 'IamDataFrame' and 'IamDataFrame'",
     "output_type": "error",
     "traceback": [
      "\u001b[0;31m---------------------------------------------------------------------------\u001b[0m",
      "\u001b[0;31mTypeError\u001b[0m                                 Traceback (most recent call last)",
      "\u001b[0;32m<ipython-input-152-1674f6151070>\u001b[0m in \u001b[0;36m<module>\u001b[0;34m\u001b[0m\n\u001b[0;32m----> 1\u001b[0;31m \u001b[0mc\u001b[0m \u001b[0;34m=\u001b[0m \u001b[0ma\u001b[0m \u001b[0;34m+\u001b[0m \u001b[0mb\u001b[0m\u001b[0;34m\u001b[0m\u001b[0;34m\u001b[0m\u001b[0m\n\u001b[0m",
      "\u001b[0;31mTypeError\u001b[0m: unsupported operand type(s) for +: 'IamDataFrame' and 'IamDataFrame'"
     ]
    }
   ],
   "source": [
    "c = a + b"
   ]
  },
  {
   "cell_type": "code",
   "execution_count": 153,
   "metadata": {
    "execution": {
     "iopub.execute_input": "2020-09-15T15:20:53.432277Z",
     "iopub.status.busy": "2020-09-15T15:20:53.432021Z",
     "iopub.status.idle": "2020-09-15T15:20:53.434653Z",
     "shell.execute_reply": "2020-09-15T15:20:53.434142Z",
     "shell.execute_reply.started": "2020-09-15T15:20:53.432253Z"
    }
   },
   "outputs": [],
   "source": [
    "# only via pandas"
   ]
  },
  {
   "cell_type": "markdown",
   "metadata": {},
   "source": [
    "## plotting"
   ]
  },
  {
   "cell_type": "code",
   "execution_count": null,
   "metadata": {},
   "outputs": [],
   "source": [
    "plt.figure()\n",
    "sel = prm_emi.xs(('DEU', 'IPCM0EL', 'KYOTOGHG (CO2eq)', 'HISTCR'), level=('Area', 'Category', 'Entity', 'Scenario'))\n",
    "#sel = prm_emi.loc['DEU', 'IPCM0EL', :, 'KYOTOGHG (CO2eq)', 'HISTCR']\n",
    "sel.pint.magnitude.plot()"
   ]
  },
  {
   "cell_type": "code",
   "execution_count": 158,
   "metadata": {
    "execution": {
     "iopub.execute_input": "2020-09-15T15:23:38.623201Z",
     "iopub.status.busy": "2020-09-15T15:23:38.623007Z",
     "iopub.status.idle": "2020-09-15T15:23:49.107779Z",
     "shell.execute_reply": "2020-09-15T15:23:49.107446Z",
     "shell.execute_reply.started": "2020-09-15T15:23:38.623184Z"
    }
   },
   "outputs": [
    {
     "data": {
      "application/vnd.jupyter.widget-view+json": {
       "model_id": "5afdcecb15e84e34b8c56c2b9ea81f36",
       "version_major": 2,
       "version_minor": 0
      },
      "text/plain": [
       "Canvas(toolbar=Toolbar(toolitems=[('Home', 'Reset original view', 'home', 'home'), ('Back', 'Back to previous …"
      ]
     },
     "metadata": {},
     "output_type": "display_data"
    },
    {
     "data": {
      "text/plain": [
       "<matplotlib.axes._subplots.AxesSubplot at 0x7f6972c281c0>"
      ]
     },
     "execution_count": 158,
     "metadata": {},
     "output_type": "execute_result"
    }
   ],
   "source": [
    "prm_emi.filter(scenario='HISTCR', region='DEU', variable='KYOTOGHG (CO2eq)|IPCM0EL').line_plot(x='time')"
   ]
  },
  {
   "cell_type": "code",
   "execution_count": 165,
   "metadata": {
    "execution": {
     "iopub.execute_input": "2020-09-15T15:27:23.002976Z",
     "iopub.status.busy": "2020-09-15T15:27:23.002689Z",
     "iopub.status.idle": "2020-09-15T15:27:23.621564Z",
     "shell.execute_reply": "2020-09-15T15:27:23.621059Z",
     "shell.execute_reply.started": "2020-09-15T15:27:23.002950Z"
    }
   },
   "outputs": [
    {
     "data": {
      "text/plain": [
       "['UN2017P', 'UN2019P', 'PMHSOCIOECO12']"
      ]
     },
     "execution_count": 165,
     "metadata": {},
     "output_type": "execute_result"
    }
   ],
   "source": [
    "[key for key, df in primap.items() if df.variables()[0].endswith('POP')]"
   ]
  },
  {
   "cell_type": "code",
   "execution_count": 166,
   "metadata": {
    "execution": {
     "iopub.execute_input": "2020-09-15T15:28:36.894112Z",
     "iopub.status.busy": "2020-09-15T15:28:36.893036Z",
     "iopub.status.idle": "2020-09-15T15:28:59.947937Z",
     "shell.execute_reply": "2020-09-15T15:28:59.947381Z",
     "shell.execute_reply.started": "2020-09-15T15:28:36.894002Z"
    }
   },
   "outputs": [],
   "source": [
    "pop = primap['UN2019P']\n",
    "\n",
    "pop_2000 = pop.filter(year=2000)\n",
    "\n",
    "emi_2000 = prm_emi.filter(scenario='HISTCR', year=2000, variable='KYOTOGHG (CO2eq)|IPCM0EL')"
   ]
  },
  {
   "cell_type": "code",
   "execution_count": 176,
   "metadata": {
    "execution": {
     "iopub.execute_input": "2020-09-15T15:34:06.687081Z",
     "iopub.status.busy": "2020-09-15T15:34:06.686865Z",
     "iopub.status.idle": "2020-09-15T15:34:06.689605Z",
     "shell.execute_reply": "2020-09-15T15:34:06.688924Z",
     "shell.execute_reply.started": "2020-09-15T15:34:06.687064Z"
    }
   },
   "outputs": [],
   "source": [
    "# gapminder-like plot needs alignment via pandas multiindex again, no native way to do it"
   ]
  },
  {
   "cell_type": "markdown",
   "metadata": {},
   "source": [
    "## Selecting datasets and data\n",
    "* select datasets which contain data on the N2O emissions of Finland\n",
    "* in a selected dataset, select years in which the N2O emissions of Finland were above the 1950-2000 average"
   ]
  },
  {
   "cell_type": "code",
   "execution_count": 195,
   "metadata": {
    "execution": {
     "iopub.execute_input": "2020-09-15T15:41:58.446289Z",
     "iopub.status.busy": "2020-09-15T15:41:58.445889Z",
     "iopub.status.idle": "2020-09-15T15:41:59.324073Z",
     "shell.execute_reply": "2020-09-15T15:41:59.323688Z",
     "shell.execute_reply.started": "2020-09-15T15:41:58.446244Z"
    }
   },
   "outputs": [
    {
     "data": {
      "text/plain": [
       "['CRF2020', 'EDGAR42COMPI', 'EDGAR50I', 'CRF2019', 'PRIMAPHIST20', 'EDGAR432I']"
      ]
     },
     "execution_count": 195,
     "metadata": {},
     "output_type": "execute_result"
    }
   ],
   "source": [
    "[key for key, df in primap.items() if \n",
    "           'FIN' in df.regions().values\n",
    "           and df.variables().str.endswith('IPC0|N2O').any()]"
   ]
  },
  {
   "cell_type": "code",
   "execution_count": 200,
   "metadata": {
    "execution": {
     "iopub.execute_input": "2020-09-15T15:45:54.486804Z",
     "iopub.status.busy": "2020-09-15T15:45:54.486366Z",
     "iopub.status.idle": "2020-09-15T15:46:05.832938Z",
     "shell.execute_reply": "2020-09-15T15:46:05.832348Z",
     "shell.execute_reply.started": "2020-09-15T15:45:54.486763Z"
    }
   },
   "outputs": [],
   "source": [
    "df = primap['PRIMAPHIST20'].filter(scenario='HISTTP', region='FIN', variable='NET|TOTAL|IPC0|N2O')"
   ]
  },
  {
   "cell_type": "code",
   "execution_count": 204,
   "metadata": {
    "execution": {
     "iopub.execute_input": "2020-09-15T15:48:25.438110Z",
     "iopub.status.busy": "2020-09-15T15:48:25.437576Z",
     "iopub.status.idle": "2020-09-15T15:48:25.461411Z",
     "shell.execute_reply": "2020-09-15T15:48:25.460638Z",
     "shell.execute_reply.started": "2020-09-15T15:48:25.438059Z"
    }
   },
   "outputs": [
    {
     "data": {
      "text/plain": [
       "22.8155464621459"
      ]
     },
     "execution_count": 204,
     "metadata": {},
     "output_type": "execute_result"
    }
   ],
   "source": [
    "avg2hXX = df.filter(year=range(1950, 2001)).data['value'].mean()\n",
    "avg2hXX"
   ]
  },
  {
   "cell_type": "code",
   "execution_count": 205,
   "metadata": {
    "execution": {
     "iopub.execute_input": "2020-09-15T15:48:57.869291Z",
     "iopub.status.busy": "2020-09-15T15:48:57.868865Z",
     "iopub.status.idle": "2020-09-15T15:48:57.894827Z",
     "shell.execute_reply": "2020-09-15T15:48:57.894365Z",
     "shell.execute_reply.started": "2020-09-15T15:48:57.869252Z"
    }
   },
   "outputs": [
    {
     "data": {
      "text/html": [
       "<div>\n",
       "<style scoped>\n",
       "    .dataframe tbody tr th:only-of-type {\n",
       "        vertical-align: middle;\n",
       "    }\n",
       "\n",
       "    .dataframe tbody tr th {\n",
       "        vertical-align: top;\n",
       "    }\n",
       "\n",
       "    .dataframe thead th {\n",
       "        text-align: right;\n",
       "    }\n",
       "</style>\n",
       "<table border=\"1\" class=\"dataframe\">\n",
       "  <thead>\n",
       "    <tr style=\"text-align: right;\">\n",
       "      <th></th>\n",
       "      <th>model</th>\n",
       "      <th>scenario</th>\n",
       "      <th>region</th>\n",
       "      <th>variable</th>\n",
       "      <th>unit</th>\n",
       "      <th>time</th>\n",
       "      <th>value</th>\n",
       "    </tr>\n",
       "  </thead>\n",
       "  <tbody>\n",
       "    <tr>\n",
       "      <th>4018814</th>\n",
       "      <td>PRIMAPHIST20</td>\n",
       "      <td>HISTTP</td>\n",
       "      <td>FIN</td>\n",
       "      <td>NET|TOTAL|IPC0|N2O</td>\n",
       "      <td>gigagram</td>\n",
       "      <td>1967-01-01</td>\n",
       "      <td>22.936280</td>\n",
       "    </tr>\n",
       "    <tr>\n",
       "      <th>4018815</th>\n",
       "      <td>PRIMAPHIST20</td>\n",
       "      <td>HISTTP</td>\n",
       "      <td>FIN</td>\n",
       "      <td>NET|TOTAL|IPC0|N2O</td>\n",
       "      <td>gigagram</td>\n",
       "      <td>1968-01-01</td>\n",
       "      <td>23.505047</td>\n",
       "    </tr>\n",
       "    <tr>\n",
       "      <th>4018816</th>\n",
       "      <td>PRIMAPHIST20</td>\n",
       "      <td>HISTTP</td>\n",
       "      <td>FIN</td>\n",
       "      <td>NET|TOTAL|IPC0|N2O</td>\n",
       "      <td>gigagram</td>\n",
       "      <td>1969-01-01</td>\n",
       "      <td>23.722403</td>\n",
       "    </tr>\n",
       "    <tr>\n",
       "      <th>4018817</th>\n",
       "      <td>PRIMAPHIST20</td>\n",
       "      <td>HISTTP</td>\n",
       "      <td>FIN</td>\n",
       "      <td>NET|TOTAL|IPC0|N2O</td>\n",
       "      <td>gigagram</td>\n",
       "      <td>1970-01-01</td>\n",
       "      <td>23.886290</td>\n",
       "    </tr>\n",
       "    <tr>\n",
       "      <th>4018818</th>\n",
       "      <td>PRIMAPHIST20</td>\n",
       "      <td>HISTTP</td>\n",
       "      <td>FIN</td>\n",
       "      <td>NET|TOTAL|IPC0|N2O</td>\n",
       "      <td>gigagram</td>\n",
       "      <td>1971-01-01</td>\n",
       "      <td>24.266094</td>\n",
       "    </tr>\n",
       "    <tr>\n",
       "      <th>4018819</th>\n",
       "      <td>PRIMAPHIST20</td>\n",
       "      <td>HISTTP</td>\n",
       "      <td>FIN</td>\n",
       "      <td>NET|TOTAL|IPC0|N2O</td>\n",
       "      <td>gigagram</td>\n",
       "      <td>1972-01-01</td>\n",
       "      <td>25.070313</td>\n",
       "    </tr>\n",
       "    <tr>\n",
       "      <th>4018820</th>\n",
       "      <td>PRIMAPHIST20</td>\n",
       "      <td>HISTTP</td>\n",
       "      <td>FIN</td>\n",
       "      <td>NET|TOTAL|IPC0|N2O</td>\n",
       "      <td>gigagram</td>\n",
       "      <td>1973-01-01</td>\n",
       "      <td>26.521749</td>\n",
       "    </tr>\n",
       "    <tr>\n",
       "      <th>4018821</th>\n",
       "      <td>PRIMAPHIST20</td>\n",
       "      <td>HISTTP</td>\n",
       "      <td>FIN</td>\n",
       "      <td>NET|TOTAL|IPC0|N2O</td>\n",
       "      <td>gigagram</td>\n",
       "      <td>1974-01-01</td>\n",
       "      <td>27.165970</td>\n",
       "    </tr>\n",
       "    <tr>\n",
       "      <th>4018822</th>\n",
       "      <td>PRIMAPHIST20</td>\n",
       "      <td>HISTTP</td>\n",
       "      <td>FIN</td>\n",
       "      <td>NET|TOTAL|IPC0|N2O</td>\n",
       "      <td>gigagram</td>\n",
       "      <td>1975-01-01</td>\n",
       "      <td>26.874863</td>\n",
       "    </tr>\n",
       "    <tr>\n",
       "      <th>4018823</th>\n",
       "      <td>PRIMAPHIST20</td>\n",
       "      <td>HISTTP</td>\n",
       "      <td>FIN</td>\n",
       "      <td>NET|TOTAL|IPC0|N2O</td>\n",
       "      <td>gigagram</td>\n",
       "      <td>1976-01-01</td>\n",
       "      <td>24.481267</td>\n",
       "    </tr>\n",
       "    <tr>\n",
       "      <th>4018824</th>\n",
       "      <td>PRIMAPHIST20</td>\n",
       "      <td>HISTTP</td>\n",
       "      <td>FIN</td>\n",
       "      <td>NET|TOTAL|IPC0|N2O</td>\n",
       "      <td>gigagram</td>\n",
       "      <td>1977-01-01</td>\n",
       "      <td>23.781692</td>\n",
       "    </tr>\n",
       "    <tr>\n",
       "      <th>4018825</th>\n",
       "      <td>PRIMAPHIST20</td>\n",
       "      <td>HISTTP</td>\n",
       "      <td>FIN</td>\n",
       "      <td>NET|TOTAL|IPC0|N2O</td>\n",
       "      <td>gigagram</td>\n",
       "      <td>1978-01-01</td>\n",
       "      <td>25.340659</td>\n",
       "    </tr>\n",
       "    <tr>\n",
       "      <th>4018826</th>\n",
       "      <td>PRIMAPHIST20</td>\n",
       "      <td>HISTTP</td>\n",
       "      <td>FIN</td>\n",
       "      <td>NET|TOTAL|IPC0|N2O</td>\n",
       "      <td>gigagram</td>\n",
       "      <td>1979-01-01</td>\n",
       "      <td>26.242610</td>\n",
       "    </tr>\n",
       "    <tr>\n",
       "      <th>4018827</th>\n",
       "      <td>PRIMAPHIST20</td>\n",
       "      <td>HISTTP</td>\n",
       "      <td>FIN</td>\n",
       "      <td>NET|TOTAL|IPC0|N2O</td>\n",
       "      <td>gigagram</td>\n",
       "      <td>1980-01-01</td>\n",
       "      <td>26.636445</td>\n",
       "    </tr>\n",
       "    <tr>\n",
       "      <th>4018828</th>\n",
       "      <td>PRIMAPHIST20</td>\n",
       "      <td>HISTTP</td>\n",
       "      <td>FIN</td>\n",
       "      <td>NET|TOTAL|IPC0|N2O</td>\n",
       "      <td>gigagram</td>\n",
       "      <td>1981-01-01</td>\n",
       "      <td>25.215840</td>\n",
       "    </tr>\n",
       "    <tr>\n",
       "      <th>4018829</th>\n",
       "      <td>PRIMAPHIST20</td>\n",
       "      <td>HISTTP</td>\n",
       "      <td>FIN</td>\n",
       "      <td>NET|TOTAL|IPC0|N2O</td>\n",
       "      <td>gigagram</td>\n",
       "      <td>1982-01-01</td>\n",
       "      <td>25.507800</td>\n",
       "    </tr>\n",
       "    <tr>\n",
       "      <th>4018830</th>\n",
       "      <td>PRIMAPHIST20</td>\n",
       "      <td>HISTTP</td>\n",
       "      <td>FIN</td>\n",
       "      <td>NET|TOTAL|IPC0|N2O</td>\n",
       "      <td>gigagram</td>\n",
       "      <td>1983-01-01</td>\n",
       "      <td>26.811532</td>\n",
       "    </tr>\n",
       "    <tr>\n",
       "      <th>4018831</th>\n",
       "      <td>PRIMAPHIST20</td>\n",
       "      <td>HISTTP</td>\n",
       "      <td>FIN</td>\n",
       "      <td>NET|TOTAL|IPC0|N2O</td>\n",
       "      <td>gigagram</td>\n",
       "      <td>1984-01-01</td>\n",
       "      <td>26.363238</td>\n",
       "    </tr>\n",
       "    <tr>\n",
       "      <th>4018832</th>\n",
       "      <td>PRIMAPHIST20</td>\n",
       "      <td>HISTTP</td>\n",
       "      <td>FIN</td>\n",
       "      <td>NET|TOTAL|IPC0|N2O</td>\n",
       "      <td>gigagram</td>\n",
       "      <td>1985-01-01</td>\n",
       "      <td>25.435556</td>\n",
       "    </tr>\n",
       "    <tr>\n",
       "      <th>4018833</th>\n",
       "      <td>PRIMAPHIST20</td>\n",
       "      <td>HISTTP</td>\n",
       "      <td>FIN</td>\n",
       "      <td>NET|TOTAL|IPC0|N2O</td>\n",
       "      <td>gigagram</td>\n",
       "      <td>1986-01-01</td>\n",
       "      <td>25.649390</td>\n",
       "    </tr>\n",
       "    <tr>\n",
       "      <th>4018834</th>\n",
       "      <td>PRIMAPHIST20</td>\n",
       "      <td>HISTTP</td>\n",
       "      <td>FIN</td>\n",
       "      <td>NET|TOTAL|IPC0|N2O</td>\n",
       "      <td>gigagram</td>\n",
       "      <td>1987-01-01</td>\n",
       "      <td>25.231176</td>\n",
       "    </tr>\n",
       "    <tr>\n",
       "      <th>4018835</th>\n",
       "      <td>PRIMAPHIST20</td>\n",
       "      <td>HISTTP</td>\n",
       "      <td>FIN</td>\n",
       "      <td>NET|TOTAL|IPC0|N2O</td>\n",
       "      <td>gigagram</td>\n",
       "      <td>1988-01-01</td>\n",
       "      <td>24.966333</td>\n",
       "    </tr>\n",
       "    <tr>\n",
       "      <th>4018836</th>\n",
       "      <td>PRIMAPHIST20</td>\n",
       "      <td>HISTTP</td>\n",
       "      <td>FIN</td>\n",
       "      <td>NET|TOTAL|IPC0|N2O</td>\n",
       "      <td>gigagram</td>\n",
       "      <td>1989-01-01</td>\n",
       "      <td>26.255160</td>\n",
       "    </tr>\n",
       "    <tr>\n",
       "      <th>4018837</th>\n",
       "      <td>PRIMAPHIST20</td>\n",
       "      <td>HISTTP</td>\n",
       "      <td>FIN</td>\n",
       "      <td>NET|TOTAL|IPC0|N2O</td>\n",
       "      <td>gigagram</td>\n",
       "      <td>1990-01-01</td>\n",
       "      <td>26.641649</td>\n",
       "    </tr>\n",
       "    <tr>\n",
       "      <th>4018838</th>\n",
       "      <td>PRIMAPHIST20</td>\n",
       "      <td>HISTTP</td>\n",
       "      <td>FIN</td>\n",
       "      <td>NET|TOTAL|IPC0|N2O</td>\n",
       "      <td>gigagram</td>\n",
       "      <td>1991-01-01</td>\n",
       "      <td>25.522204</td>\n",
       "    </tr>\n",
       "    <tr>\n",
       "      <th>4018839</th>\n",
       "      <td>PRIMAPHIST20</td>\n",
       "      <td>HISTTP</td>\n",
       "      <td>FIN</td>\n",
       "      <td>NET|TOTAL|IPC0|N2O</td>\n",
       "      <td>gigagram</td>\n",
       "      <td>1992-01-01</td>\n",
       "      <td>22.925234</td>\n",
       "    </tr>\n",
       "    <tr>\n",
       "      <th>4018840</th>\n",
       "      <td>PRIMAPHIST20</td>\n",
       "      <td>HISTTP</td>\n",
       "      <td>FIN</td>\n",
       "      <td>NET|TOTAL|IPC0|N2O</td>\n",
       "      <td>gigagram</td>\n",
       "      <td>1993-01-01</td>\n",
       "      <td>23.488315</td>\n",
       "    </tr>\n",
       "    <tr>\n",
       "      <th>4018841</th>\n",
       "      <td>PRIMAPHIST20</td>\n",
       "      <td>HISTTP</td>\n",
       "      <td>FIN</td>\n",
       "      <td>NET|TOTAL|IPC0|N2O</td>\n",
       "      <td>gigagram</td>\n",
       "      <td>1994-01-01</td>\n",
       "      <td>24.240635</td>\n",
       "    </tr>\n",
       "    <tr>\n",
       "      <th>4018842</th>\n",
       "      <td>PRIMAPHIST20</td>\n",
       "      <td>HISTTP</td>\n",
       "      <td>FIN</td>\n",
       "      <td>NET|TOTAL|IPC0|N2O</td>\n",
       "      <td>gigagram</td>\n",
       "      <td>1995-01-01</td>\n",
       "      <td>24.602356</td>\n",
       "    </tr>\n",
       "    <tr>\n",
       "      <th>4018843</th>\n",
       "      <td>PRIMAPHIST20</td>\n",
       "      <td>HISTTP</td>\n",
       "      <td>FIN</td>\n",
       "      <td>NET|TOTAL|IPC0|N2O</td>\n",
       "      <td>gigagram</td>\n",
       "      <td>1996-01-01</td>\n",
       "      <td>24.829969</td>\n",
       "    </tr>\n",
       "    <tr>\n",
       "      <th>4018844</th>\n",
       "      <td>PRIMAPHIST20</td>\n",
       "      <td>HISTTP</td>\n",
       "      <td>FIN</td>\n",
       "      <td>NET|TOTAL|IPC0|N2O</td>\n",
       "      <td>gigagram</td>\n",
       "      <td>1997-01-01</td>\n",
       "      <td>25.083729</td>\n",
       "    </tr>\n",
       "    <tr>\n",
       "      <th>4018845</th>\n",
       "      <td>PRIMAPHIST20</td>\n",
       "      <td>HISTTP</td>\n",
       "      <td>FIN</td>\n",
       "      <td>NET|TOTAL|IPC0|N2O</td>\n",
       "      <td>gigagram</td>\n",
       "      <td>1998-01-01</td>\n",
       "      <td>23.941817</td>\n",
       "    </tr>\n",
       "    <tr>\n",
       "      <th>4018846</th>\n",
       "      <td>PRIMAPHIST20</td>\n",
       "      <td>HISTTP</td>\n",
       "      <td>FIN</td>\n",
       "      <td>NET|TOTAL|IPC0|N2O</td>\n",
       "      <td>gigagram</td>\n",
       "      <td>1999-01-01</td>\n",
       "      <td>23.687438</td>\n",
       "    </tr>\n",
       "    <tr>\n",
       "      <th>4018847</th>\n",
       "      <td>PRIMAPHIST20</td>\n",
       "      <td>HISTTP</td>\n",
       "      <td>FIN</td>\n",
       "      <td>NET|TOTAL|IPC0|N2O</td>\n",
       "      <td>gigagram</td>\n",
       "      <td>2000-01-01</td>\n",
       "      <td>24.308151</td>\n",
       "    </tr>\n",
       "    <tr>\n",
       "      <th>4018848</th>\n",
       "      <td>PRIMAPHIST20</td>\n",
       "      <td>HISTTP</td>\n",
       "      <td>FIN</td>\n",
       "      <td>NET|TOTAL|IPC0|N2O</td>\n",
       "      <td>gigagram</td>\n",
       "      <td>2001-01-01</td>\n",
       "      <td>25.426886</td>\n",
       "    </tr>\n",
       "    <tr>\n",
       "      <th>4018849</th>\n",
       "      <td>PRIMAPHIST20</td>\n",
       "      <td>HISTTP</td>\n",
       "      <td>FIN</td>\n",
       "      <td>NET|TOTAL|IPC0|N2O</td>\n",
       "      <td>gigagram</td>\n",
       "      <td>2002-01-01</td>\n",
       "      <td>26.437402</td>\n",
       "    </tr>\n",
       "    <tr>\n",
       "      <th>4018850</th>\n",
       "      <td>PRIMAPHIST20</td>\n",
       "      <td>HISTTP</td>\n",
       "      <td>FIN</td>\n",
       "      <td>NET|TOTAL|IPC0|N2O</td>\n",
       "      <td>gigagram</td>\n",
       "      <td>2003-01-01</td>\n",
       "      <td>27.025178</td>\n",
       "    </tr>\n",
       "    <tr>\n",
       "      <th>4018851</th>\n",
       "      <td>PRIMAPHIST20</td>\n",
       "      <td>HISTTP</td>\n",
       "      <td>FIN</td>\n",
       "      <td>NET|TOTAL|IPC0|N2O</td>\n",
       "      <td>gigagram</td>\n",
       "      <td>2004-01-01</td>\n",
       "      <td>26.816781</td>\n",
       "    </tr>\n",
       "    <tr>\n",
       "      <th>4018852</th>\n",
       "      <td>PRIMAPHIST20</td>\n",
       "      <td>HISTTP</td>\n",
       "      <td>FIN</td>\n",
       "      <td>NET|TOTAL|IPC0|N2O</td>\n",
       "      <td>gigagram</td>\n",
       "      <td>2005-01-01</td>\n",
       "      <td>26.369284</td>\n",
       "    </tr>\n",
       "    <tr>\n",
       "      <th>4018853</th>\n",
       "      <td>PRIMAPHIST20</td>\n",
       "      <td>HISTTP</td>\n",
       "      <td>FIN</td>\n",
       "      <td>NET|TOTAL|IPC0|N2O</td>\n",
       "      <td>gigagram</td>\n",
       "      <td>2006-01-01</td>\n",
       "      <td>26.585846</td>\n",
       "    </tr>\n",
       "    <tr>\n",
       "      <th>4018854</th>\n",
       "      <td>PRIMAPHIST20</td>\n",
       "      <td>HISTTP</td>\n",
       "      <td>FIN</td>\n",
       "      <td>NET|TOTAL|IPC0|N2O</td>\n",
       "      <td>gigagram</td>\n",
       "      <td>2007-01-01</td>\n",
       "      <td>27.629536</td>\n",
       "    </tr>\n",
       "    <tr>\n",
       "      <th>4018855</th>\n",
       "      <td>PRIMAPHIST20</td>\n",
       "      <td>HISTTP</td>\n",
       "      <td>FIN</td>\n",
       "      <td>NET|TOTAL|IPC0|N2O</td>\n",
       "      <td>gigagram</td>\n",
       "      <td>2008-01-01</td>\n",
       "      <td>27.207363</td>\n",
       "    </tr>\n",
       "    <tr>\n",
       "      <th>4018856</th>\n",
       "      <td>PRIMAPHIST20</td>\n",
       "      <td>HISTTP</td>\n",
       "      <td>FIN</td>\n",
       "      <td>NET|TOTAL|IPC0|N2O</td>\n",
       "      <td>gigagram</td>\n",
       "      <td>2009-01-01</td>\n",
       "      <td>24.211946</td>\n",
       "    </tr>\n",
       "    <tr>\n",
       "      <th>4018857</th>\n",
       "      <td>PRIMAPHIST20</td>\n",
       "      <td>HISTTP</td>\n",
       "      <td>FIN</td>\n",
       "      <td>NET|TOTAL|IPC0|N2O</td>\n",
       "      <td>gigagram</td>\n",
       "      <td>2010-01-01</td>\n",
       "      <td>27.022941</td>\n",
       "    </tr>\n",
       "    <tr>\n",
       "      <th>4018858</th>\n",
       "      <td>PRIMAPHIST20</td>\n",
       "      <td>HISTTP</td>\n",
       "      <td>FIN</td>\n",
       "      <td>NET|TOTAL|IPC0|N2O</td>\n",
       "      <td>gigagram</td>\n",
       "      <td>2011-01-01</td>\n",
       "      <td>24.711519</td>\n",
       "    </tr>\n",
       "    <tr>\n",
       "      <th>4018859</th>\n",
       "      <td>PRIMAPHIST20</td>\n",
       "      <td>HISTTP</td>\n",
       "      <td>FIN</td>\n",
       "      <td>NET|TOTAL|IPC0|N2O</td>\n",
       "      <td>gigagram</td>\n",
       "      <td>2012-01-01</td>\n",
       "      <td>25.191643</td>\n",
       "    </tr>\n",
       "    <tr>\n",
       "      <th>4018860</th>\n",
       "      <td>PRIMAPHIST20</td>\n",
       "      <td>HISTTP</td>\n",
       "      <td>FIN</td>\n",
       "      <td>NET|TOTAL|IPC0|N2O</td>\n",
       "      <td>gigagram</td>\n",
       "      <td>2013-01-01</td>\n",
       "      <td>26.698377</td>\n",
       "    </tr>\n",
       "    <tr>\n",
       "      <th>4018861</th>\n",
       "      <td>PRIMAPHIST20</td>\n",
       "      <td>HISTTP</td>\n",
       "      <td>FIN</td>\n",
       "      <td>NET|TOTAL|IPC0|N2O</td>\n",
       "      <td>gigagram</td>\n",
       "      <td>2014-01-01</td>\n",
       "      <td>26.450066</td>\n",
       "    </tr>\n",
       "    <tr>\n",
       "      <th>4018862</th>\n",
       "      <td>PRIMAPHIST20</td>\n",
       "      <td>HISTTP</td>\n",
       "      <td>FIN</td>\n",
       "      <td>NET|TOTAL|IPC0|N2O</td>\n",
       "      <td>gigagram</td>\n",
       "      <td>2015-01-01</td>\n",
       "      <td>27.569375</td>\n",
       "    </tr>\n",
       "    <tr>\n",
       "      <th>4018863</th>\n",
       "      <td>PRIMAPHIST20</td>\n",
       "      <td>HISTTP</td>\n",
       "      <td>FIN</td>\n",
       "      <td>NET|TOTAL|IPC0|N2O</td>\n",
       "      <td>gigagram</td>\n",
       "      <td>2016-01-01</td>\n",
       "      <td>26.675050</td>\n",
       "    </tr>\n",
       "  </tbody>\n",
       "</table>\n",
       "</div>"
      ],
      "text/plain": [
       "                model scenario region            variable      unit  \\\n",
       "4018814  PRIMAPHIST20   HISTTP    FIN  NET|TOTAL|IPC0|N2O  gigagram   \n",
       "4018815  PRIMAPHIST20   HISTTP    FIN  NET|TOTAL|IPC0|N2O  gigagram   \n",
       "4018816  PRIMAPHIST20   HISTTP    FIN  NET|TOTAL|IPC0|N2O  gigagram   \n",
       "4018817  PRIMAPHIST20   HISTTP    FIN  NET|TOTAL|IPC0|N2O  gigagram   \n",
       "4018818  PRIMAPHIST20   HISTTP    FIN  NET|TOTAL|IPC0|N2O  gigagram   \n",
       "4018819  PRIMAPHIST20   HISTTP    FIN  NET|TOTAL|IPC0|N2O  gigagram   \n",
       "4018820  PRIMAPHIST20   HISTTP    FIN  NET|TOTAL|IPC0|N2O  gigagram   \n",
       "4018821  PRIMAPHIST20   HISTTP    FIN  NET|TOTAL|IPC0|N2O  gigagram   \n",
       "4018822  PRIMAPHIST20   HISTTP    FIN  NET|TOTAL|IPC0|N2O  gigagram   \n",
       "4018823  PRIMAPHIST20   HISTTP    FIN  NET|TOTAL|IPC0|N2O  gigagram   \n",
       "4018824  PRIMAPHIST20   HISTTP    FIN  NET|TOTAL|IPC0|N2O  gigagram   \n",
       "4018825  PRIMAPHIST20   HISTTP    FIN  NET|TOTAL|IPC0|N2O  gigagram   \n",
       "4018826  PRIMAPHIST20   HISTTP    FIN  NET|TOTAL|IPC0|N2O  gigagram   \n",
       "4018827  PRIMAPHIST20   HISTTP    FIN  NET|TOTAL|IPC0|N2O  gigagram   \n",
       "4018828  PRIMAPHIST20   HISTTP    FIN  NET|TOTAL|IPC0|N2O  gigagram   \n",
       "4018829  PRIMAPHIST20   HISTTP    FIN  NET|TOTAL|IPC0|N2O  gigagram   \n",
       "4018830  PRIMAPHIST20   HISTTP    FIN  NET|TOTAL|IPC0|N2O  gigagram   \n",
       "4018831  PRIMAPHIST20   HISTTP    FIN  NET|TOTAL|IPC0|N2O  gigagram   \n",
       "4018832  PRIMAPHIST20   HISTTP    FIN  NET|TOTAL|IPC0|N2O  gigagram   \n",
       "4018833  PRIMAPHIST20   HISTTP    FIN  NET|TOTAL|IPC0|N2O  gigagram   \n",
       "4018834  PRIMAPHIST20   HISTTP    FIN  NET|TOTAL|IPC0|N2O  gigagram   \n",
       "4018835  PRIMAPHIST20   HISTTP    FIN  NET|TOTAL|IPC0|N2O  gigagram   \n",
       "4018836  PRIMAPHIST20   HISTTP    FIN  NET|TOTAL|IPC0|N2O  gigagram   \n",
       "4018837  PRIMAPHIST20   HISTTP    FIN  NET|TOTAL|IPC0|N2O  gigagram   \n",
       "4018838  PRIMAPHIST20   HISTTP    FIN  NET|TOTAL|IPC0|N2O  gigagram   \n",
       "4018839  PRIMAPHIST20   HISTTP    FIN  NET|TOTAL|IPC0|N2O  gigagram   \n",
       "4018840  PRIMAPHIST20   HISTTP    FIN  NET|TOTAL|IPC0|N2O  gigagram   \n",
       "4018841  PRIMAPHIST20   HISTTP    FIN  NET|TOTAL|IPC0|N2O  gigagram   \n",
       "4018842  PRIMAPHIST20   HISTTP    FIN  NET|TOTAL|IPC0|N2O  gigagram   \n",
       "4018843  PRIMAPHIST20   HISTTP    FIN  NET|TOTAL|IPC0|N2O  gigagram   \n",
       "4018844  PRIMAPHIST20   HISTTP    FIN  NET|TOTAL|IPC0|N2O  gigagram   \n",
       "4018845  PRIMAPHIST20   HISTTP    FIN  NET|TOTAL|IPC0|N2O  gigagram   \n",
       "4018846  PRIMAPHIST20   HISTTP    FIN  NET|TOTAL|IPC0|N2O  gigagram   \n",
       "4018847  PRIMAPHIST20   HISTTP    FIN  NET|TOTAL|IPC0|N2O  gigagram   \n",
       "4018848  PRIMAPHIST20   HISTTP    FIN  NET|TOTAL|IPC0|N2O  gigagram   \n",
       "4018849  PRIMAPHIST20   HISTTP    FIN  NET|TOTAL|IPC0|N2O  gigagram   \n",
       "4018850  PRIMAPHIST20   HISTTP    FIN  NET|TOTAL|IPC0|N2O  gigagram   \n",
       "4018851  PRIMAPHIST20   HISTTP    FIN  NET|TOTAL|IPC0|N2O  gigagram   \n",
       "4018852  PRIMAPHIST20   HISTTP    FIN  NET|TOTAL|IPC0|N2O  gigagram   \n",
       "4018853  PRIMAPHIST20   HISTTP    FIN  NET|TOTAL|IPC0|N2O  gigagram   \n",
       "4018854  PRIMAPHIST20   HISTTP    FIN  NET|TOTAL|IPC0|N2O  gigagram   \n",
       "4018855  PRIMAPHIST20   HISTTP    FIN  NET|TOTAL|IPC0|N2O  gigagram   \n",
       "4018856  PRIMAPHIST20   HISTTP    FIN  NET|TOTAL|IPC0|N2O  gigagram   \n",
       "4018857  PRIMAPHIST20   HISTTP    FIN  NET|TOTAL|IPC0|N2O  gigagram   \n",
       "4018858  PRIMAPHIST20   HISTTP    FIN  NET|TOTAL|IPC0|N2O  gigagram   \n",
       "4018859  PRIMAPHIST20   HISTTP    FIN  NET|TOTAL|IPC0|N2O  gigagram   \n",
       "4018860  PRIMAPHIST20   HISTTP    FIN  NET|TOTAL|IPC0|N2O  gigagram   \n",
       "4018861  PRIMAPHIST20   HISTTP    FIN  NET|TOTAL|IPC0|N2O  gigagram   \n",
       "4018862  PRIMAPHIST20   HISTTP    FIN  NET|TOTAL|IPC0|N2O  gigagram   \n",
       "4018863  PRIMAPHIST20   HISTTP    FIN  NET|TOTAL|IPC0|N2O  gigagram   \n",
       "\n",
       "              time      value  \n",
       "4018814 1967-01-01  22.936280  \n",
       "4018815 1968-01-01  23.505047  \n",
       "4018816 1969-01-01  23.722403  \n",
       "4018817 1970-01-01  23.886290  \n",
       "4018818 1971-01-01  24.266094  \n",
       "4018819 1972-01-01  25.070313  \n",
       "4018820 1973-01-01  26.521749  \n",
       "4018821 1974-01-01  27.165970  \n",
       "4018822 1975-01-01  26.874863  \n",
       "4018823 1976-01-01  24.481267  \n",
       "4018824 1977-01-01  23.781692  \n",
       "4018825 1978-01-01  25.340659  \n",
       "4018826 1979-01-01  26.242610  \n",
       "4018827 1980-01-01  26.636445  \n",
       "4018828 1981-01-01  25.215840  \n",
       "4018829 1982-01-01  25.507800  \n",
       "4018830 1983-01-01  26.811532  \n",
       "4018831 1984-01-01  26.363238  \n",
       "4018832 1985-01-01  25.435556  \n",
       "4018833 1986-01-01  25.649390  \n",
       "4018834 1987-01-01  25.231176  \n",
       "4018835 1988-01-01  24.966333  \n",
       "4018836 1989-01-01  26.255160  \n",
       "4018837 1990-01-01  26.641649  \n",
       "4018838 1991-01-01  25.522204  \n",
       "4018839 1992-01-01  22.925234  \n",
       "4018840 1993-01-01  23.488315  \n",
       "4018841 1994-01-01  24.240635  \n",
       "4018842 1995-01-01  24.602356  \n",
       "4018843 1996-01-01  24.829969  \n",
       "4018844 1997-01-01  25.083729  \n",
       "4018845 1998-01-01  23.941817  \n",
       "4018846 1999-01-01  23.687438  \n",
       "4018847 2000-01-01  24.308151  \n",
       "4018848 2001-01-01  25.426886  \n",
       "4018849 2002-01-01  26.437402  \n",
       "4018850 2003-01-01  27.025178  \n",
       "4018851 2004-01-01  26.816781  \n",
       "4018852 2005-01-01  26.369284  \n",
       "4018853 2006-01-01  26.585846  \n",
       "4018854 2007-01-01  27.629536  \n",
       "4018855 2008-01-01  27.207363  \n",
       "4018856 2009-01-01  24.211946  \n",
       "4018857 2010-01-01  27.022941  \n",
       "4018858 2011-01-01  24.711519  \n",
       "4018859 2012-01-01  25.191643  \n",
       "4018860 2013-01-01  26.698377  \n",
       "4018861 2014-01-01  26.450066  \n",
       "4018862 2015-01-01  27.569375  \n",
       "4018863 2016-01-01  26.675050  "
      ]
     },
     "execution_count": 205,
     "metadata": {},
     "output_type": "execute_result"
    }
   ],
   "source": [
    "df.data.loc[df.data['value'] > avg2hXX]"
   ]
  },
  {
   "cell_type": "markdown",
   "metadata": {},
   "source": [
    "## Resampling\n",
    "* resample non-yearly dataset to yearly dataset"
   ]
  },
  {
   "cell_type": "code",
   "execution_count": 206,
   "metadata": {
    "execution": {
     "iopub.execute_input": "2020-09-15T15:54:35.074379Z",
     "iopub.status.busy": "2020-09-15T15:54:35.074098Z",
     "iopub.status.idle": "2020-09-15T15:54:35.077379Z",
     "shell.execute_reply": "2020-09-15T15:54:35.076813Z",
     "shell.execute_reply.started": "2020-09-15T15:54:35.074354Z"
    }
   },
   "outputs": [],
   "source": [
    "# do not have non-yearly dataset, because it was not supported to load it."
   ]
  },
  {
   "cell_type": "markdown",
   "metadata": {},
   "source": [
    "# Interpolate\n",
    "* delete some data points from a data set and fill them in using linear interpolation"
   ]
  },
  {
   "cell_type": "code",
   "execution_count": 231,
   "metadata": {
    "execution": {
     "iopub.execute_input": "2020-09-15T16:01:30.954148Z",
     "iopub.status.busy": "2020-09-15T16:01:30.953835Z",
     "iopub.status.idle": "2020-09-15T16:01:43.362437Z",
     "shell.execute_reply": "2020-09-15T16:01:43.361938Z",
     "shell.execute_reply.started": "2020-09-15T16:01:30.954122Z"
    }
   },
   "outputs": [],
   "source": [
    "df = primap['PRIMAPHIST20'].filter(scenario='HISTTP', region='FIN', variable='NET|TOTAL|IPC0|N2O')"
   ]
  },
  {
   "cell_type": "code",
   "execution_count": 232,
   "metadata": {
    "execution": {
     "iopub.execute_input": "2020-09-15T16:01:43.364083Z",
     "iopub.status.busy": "2020-09-15T16:01:43.363810Z",
     "iopub.status.idle": "2020-09-15T16:01:43.372062Z",
     "shell.execute_reply": "2020-09-15T16:01:43.371453Z",
     "shell.execute_reply.started": "2020-09-15T16:01:43.364058Z"
    }
   },
   "outputs": [],
   "source": [
    "df.data[('1990' < df.data.time) & ('1994' >= df.data.time)] = np.nan"
   ]
  },
  {
   "cell_type": "code",
   "execution_count": 233,
   "metadata": {
    "execution": {
     "iopub.execute_input": "2020-09-15T16:01:43.373383Z",
     "iopub.status.busy": "2020-09-15T16:01:43.373061Z",
     "iopub.status.idle": "2020-09-15T16:01:43.479674Z",
     "shell.execute_reply": "2020-09-15T16:01:43.479243Z",
     "shell.execute_reply.started": "2020-09-15T16:01:43.373354Z"
    }
   },
   "outputs": [
    {
     "data": {
      "application/vnd.jupyter.widget-view+json": {
       "model_id": "82ecca9fbe46478ba4b1de25e516c158",
       "version_major": 2,
       "version_minor": 0
      },
      "text/plain": [
       "Canvas(toolbar=Toolbar(toolitems=[('Home', 'Reset original view', 'home', 'home'), ('Back', 'Back to previous …"
      ]
     },
     "metadata": {},
     "output_type": "display_data"
    },
    {
     "data": {
      "text/plain": [
       "<matplotlib.axes._subplots.AxesSubplot at 0x7f697575bf10>"
      ]
     },
     "execution_count": 233,
     "metadata": {},
     "output_type": "execute_result"
    }
   ],
   "source": [
    "df.line_plot(x='time', marker='x')"
   ]
  },
  {
   "cell_type": "code",
   "execution_count": 234,
   "metadata": {
    "execution": {
     "iopub.execute_input": "2020-09-15T16:01:43.480686Z",
     "iopub.status.busy": "2020-09-15T16:01:43.480510Z",
     "iopub.status.idle": "2020-09-15T16:01:43.574811Z",
     "shell.execute_reply": "2020-09-15T16:01:43.573876Z",
     "shell.execute_reply.started": "2020-09-15T16:01:43.480668Z"
    }
   },
   "outputs": [],
   "source": [
    "import datetime\n",
    "for year in range(1990, 1995):\n",
    "    df.interpolate(datetime.datetime(year=year, month=1, day=1))"
   ]
  },
  {
   "cell_type": "code",
   "execution_count": 235,
   "metadata": {
    "execution": {
     "iopub.execute_input": "2020-09-15T16:01:57.784989Z",
     "iopub.status.busy": "2020-09-15T16:01:57.784625Z",
     "iopub.status.idle": "2020-09-15T16:01:57.871855Z",
     "shell.execute_reply": "2020-09-15T16:01:57.871386Z",
     "shell.execute_reply.started": "2020-09-15T16:01:57.784957Z"
    }
   },
   "outputs": [
    {
     "data": {
      "application/vnd.jupyter.widget-view+json": {
       "model_id": "624ef20e6a7a4867ac36f290da61024a",
       "version_major": 2,
       "version_minor": 0
      },
      "text/plain": [
       "Canvas(toolbar=Toolbar(toolitems=[('Home', 'Reset original view', 'home', 'home'), ('Back', 'Back to previous …"
      ]
     },
     "metadata": {},
     "output_type": "display_data"
    },
    {
     "data": {
      "text/plain": [
       "<matplotlib.axes._subplots.AxesSubplot at 0x7f697675f220>"
      ]
     },
     "execution_count": 235,
     "metadata": {},
     "output_type": "execute_result"
    }
   ],
   "source": [
    "df.line_plot(x='time', marker='x')"
   ]
  },
  {
   "cell_type": "code",
   "execution_count": null,
   "metadata": {},
   "outputs": [],
   "source": []
  }
 ],
 "metadata": {
  "kernelspec": {
   "display_name": "Python 3",
   "language": "python",
   "name": "python3"
  },
  "language_info": {
   "codemirror_mode": {
    "name": "ipython",
    "version": 3
   },
   "file_extension": ".py",
   "mimetype": "text/x-python",
   "name": "python",
   "nbconvert_exporter": "python",
   "pygments_lexer": "ipython3",
   "version": "3.8.2"
  }
 },
 "nbformat": 4,
 "nbformat_minor": 4
}
