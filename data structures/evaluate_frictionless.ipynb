{
 "cells": [
  {
   "cell_type": "code",
   "execution_count": 5,
   "metadata": {
    "execution": {
     "iopub.execute_input": "2020-09-29T09:48:06.578618Z",
     "iopub.status.busy": "2020-09-29T09:48:06.577676Z",
     "iopub.status.idle": "2020-09-29T09:48:06.595460Z",
     "shell.execute_reply": "2020-09-29T09:48:06.594228Z",
     "shell.execute_reply.started": "2020-09-29T09:48:06.578529Z"
    }
   },
   "outputs": [],
   "source": [
    "import matplotlib\n",
    "%matplotlib widget\n",
    "from matplotlib import pyplot as plt\n",
    "import numpy as np\n",
    "import pandas as pd\n",
    "import pathlib\n",
    "import frictionless as fl"
   ]
  },
  {
   "cell_type": "markdown",
   "metadata": {},
   "source": [
    "frictionless workflow, with tidy tabular data packages"
   ]
  },
  {
   "cell_type": "markdown",
   "metadata": {},
   "source": [
    "# representation\n",
    "* load all example data sets into the data structure at once\n",
    "* measure memory use\n",
    "* export the data sets to CSV\n",
    "* reimport from CSV\n",
    "* export the data sets to some kind of native storage format\n",
    "* reimport from the native storage format"
   ]
  },
  {
   "cell_type": "markdown",
   "metadata": {},
   "source": [
    "## Read in the data"
   ]
  },
  {
   "cell_type": "code",
   "execution_count": 3,
   "metadata": {
    "execution": {
     "iopub.execute_input": "2020-09-29T09:47:47.440228Z",
     "iopub.status.busy": "2020-09-29T09:47:47.439824Z",
     "iopub.status.idle": "2020-09-29T09:47:47.560404Z",
     "shell.execute_reply": "2020-09-29T09:47:47.558250Z",
     "shell.execute_reply.started": "2020-09-29T09:47:47.440192Z"
    }
   },
   "outputs": [
    {
     "name": "stdout",
     "output_type": "stream",
     "text": [
      "Emissions_Agriculture_Agriculture_total_E_All_Data.csv\n",
      "lak-download.csv\n",
      "mole_fraction_of_carbon_dioxide_in_air_input4MIPs_GHGConcentrations_CMIP_UoM-CMIP-1-1-0_gr3-GMNHSH_000001-201412.csv\n",
      "PRIMAPDB.mat\n",
      "PRIMAP-hist_v2.1_09-Nov-2019.csv\n"
     ]
    }
   ],
   "source": [
    "!ls ../../primap-requirements/example_data_sets/"
   ]
  },
  {
   "cell_type": "code",
   "execution_count": 6,
   "metadata": {
    "execution": {
     "iopub.execute_input": "2020-09-29T09:48:08.628109Z",
     "iopub.status.busy": "2020-09-29T09:48:08.627024Z",
     "iopub.status.idle": "2020-09-29T09:48:08.634899Z",
     "shell.execute_reply": "2020-09-29T09:48:08.633510Z",
     "shell.execute_reply.started": "2020-09-29T09:48:08.627998Z"
    }
   },
   "outputs": [],
   "source": [
    "p = pathlib.Path('../../primap-requirements/example_data_sets/')"
   ]
  },
  {
   "cell_type": "markdown",
   "metadata": {},
   "source": [
    "### read in FAO emissions agriculture total fao_emi_total"
   ]
  },
  {
   "cell_type": "code",
   "execution_count": 21,
   "metadata": {
    "execution": {
     "iopub.execute_input": "2020-09-29T10:01:09.473677Z",
     "iopub.status.busy": "2020-09-29T10:01:09.473489Z",
     "iopub.status.idle": "2020-09-29T10:01:09.758293Z",
     "shell.execute_reply": "2020-09-29T10:01:09.755074Z",
     "shell.execute_reply.started": "2020-09-29T10:01:09.473662Z"
    }
   },
   "outputs": [],
   "source": [
    "!mkdir -p fl/fao_emi_total/source\n",
    "!cp $p/Emissions_Agriculture_Agriculture_total_E_All_Data.csv fl/fao_emi_total/source/"
   ]
  },
  {
   "cell_type": "code",
   "execution_count": 28,
   "metadata": {
    "execution": {
     "iopub.execute_input": "2020-09-29T10:06:28.730238Z",
     "iopub.status.busy": "2020-09-29T10:06:28.729430Z",
     "iopub.status.idle": "2020-09-29T10:06:28.744438Z",
     "shell.execute_reply": "2020-09-29T10:06:28.741807Z",
     "shell.execute_reply.started": "2020-09-29T10:06:28.730161Z"
    }
   },
   "outputs": [],
   "source": [
    "import os\n",
    "import contextlib\n",
    "from pathlib import Path\n",
    "\n",
    "@contextlib.contextmanager\n",
    "def cd(path):\n",
    "    \"\"\"Changes working directory and returns to previous on exit.\"\"\"\n",
    "    prev_cwd = Path.cwd()\n",
    "    os.chdir(path)\n",
    "    try:\n",
    "        yield\n",
    "    finally:\n",
    "        os.chdir(prev_cwd)\n"
   ]
  },
  {
   "cell_type": "code",
   "execution_count": 33,
   "metadata": {
    "execution": {
     "iopub.execute_input": "2020-09-29T10:08:09.306200Z",
     "iopub.status.busy": "2020-09-29T10:08:09.305885Z",
     "iopub.status.idle": "2020-09-29T10:08:09.884914Z",
     "shell.execute_reply": "2020-09-29T10:08:09.884471Z",
     "shell.execute_reply.started": "2020-09-29T10:08:09.306172Z"
    }
   },
   "outputs": [],
   "source": [
    "with cd('fl/fao_emi_total/source/'):\n",
    "    resource = fl.describe('Emissions_Agriculture_Agriculture_total_E_All_Data.csv', encoding='latin_1')\n",
    "    resource['name'] = 'fao_emi_total'\n",
    "    resource.to_yaml('fao_emi_total.resource.yaml')"
   ]
  },
  {
   "cell_type": "code",
   "execution_count": 35,
   "metadata": {
    "execution": {
     "iopub.execute_input": "2020-09-29T10:08:57.518208Z",
     "iopub.status.busy": "2020-09-29T10:08:57.517935Z",
     "iopub.status.idle": "2020-09-29T10:08:58.996882Z",
     "shell.execute_reply": "2020-09-29T10:08:58.996353Z",
     "shell.execute_reply.started": "2020-09-29T10:08:57.518183Z"
    }
   },
   "outputs": [
    {
     "data": {
      "text/plain": [
       "True"
      ]
     },
     "execution_count": 35,
     "metadata": {},
     "output_type": "execute_result"
    }
   ],
   "source": [
    "fl.validate('fl/fao_emi_total/source/fao_emi_total.resource.yaml')['valid']"
   ]
  },
  {
   "cell_type": "code",
   "execution_count": 40,
   "metadata": {
    "execution": {
     "iopub.execute_input": "2020-09-29T12:46:59.575761Z",
     "iopub.status.busy": "2020-09-29T12:46:59.574761Z",
     "iopub.status.idle": "2020-09-29T12:47:03.972156Z",
     "shell.execute_reply": "2020-09-29T12:47:03.971588Z",
     "shell.execute_reply.started": "2020-09-29T12:46:59.575672Z"
    }
   },
   "outputs": [],
   "source": [
    "fl.transform(\n",
    "    {\n",
    "        'type': 'package',\n",
    "        \"steps\": [\n",
    "          {\"type\": \"load\", \"spec\": {\"loadSource\": \"fl/fao_emi_total/source/Emissions_Agriculture_Agriculture_total_E_All_Data.csv\",\n",
    "                                    \"encoding\": 'latin_1'}},\n",
    "          {\"type\": \"delete_fields\", \"spec\": {\"fields\": ['Y\\d{4}[FN]', ]}},\n",
    "          {\"type\": \"dump_to_path\", \"spec\": {\"outPath\": 'fl/fao_emi_total/cleaned/'}},\n",
    "        ],\n",
    "    }\n",
    ")"
   ]
  },
  {
   "cell_type": "code",
   "execution_count": 41,
   "metadata": {
    "execution": {
     "iopub.execute_input": "2020-09-29T12:47:16.523792Z",
     "iopub.status.busy": "2020-09-29T12:47:16.522893Z",
     "iopub.status.idle": "2020-09-29T12:47:16.659480Z",
     "shell.execute_reply": "2020-09-29T12:47:16.657002Z",
     "shell.execute_reply.started": "2020-09-29T12:47:16.523707Z"
    }
   },
   "outputs": [
    {
     "name": "stdout",
     "output_type": "stream",
     "text": [
      "datapackage.json  Emissions_Agriculture_Agriculture_total_E_All_Data.csv\n"
     ]
    }
   ],
   "source": [
    "ls fl/fao_emi_total/cleaned/"
   ]
  },
  {
   "cell_type": "markdown",
   "metadata": {},
   "source": [
    "**all of this feels incredibly awkward and is poorly documented, and according to the docs is still in development.**\n",
    "\n",
    "**let's instead look at the usage of data packages for I/O**"
   ]
  },
  {
   "cell_type": "code",
   "execution_count": 43,
   "metadata": {
    "execution": {
     "iopub.execute_input": "2020-09-29T13:56:30.786862Z",
     "iopub.status.busy": "2020-09-29T13:56:30.786024Z",
     "iopub.status.idle": "2020-09-29T13:56:30.795441Z",
     "shell.execute_reply": "2020-09-29T13:56:30.794360Z",
     "shell.execute_reply.started": "2020-09-29T13:56:30.786785Z"
    }
   },
   "outputs": [],
   "source": [
    "from tableschema_pandas import Storage"
   ]
  },
  {
   "cell_type": "code",
   "execution_count": 44,
   "metadata": {
    "execution": {
     "iopub.execute_input": "2020-09-29T13:56:35.842367Z",
     "iopub.status.busy": "2020-09-29T13:56:35.841322Z",
     "iopub.status.idle": "2020-09-29T13:56:35.852426Z",
     "shell.execute_reply": "2020-09-29T13:56:35.848809Z",
     "shell.execute_reply.started": "2020-09-29T13:56:35.842270Z"
    }
   },
   "outputs": [],
   "source": [
    "s = Storage()"
   ]
  },
  {
   "cell_type": "code",
   "execution_count": 46,
   "metadata": {
    "execution": {
     "iopub.execute_input": "2020-09-29T13:56:44.387412Z",
     "iopub.status.busy": "2020-09-29T13:56:44.386418Z",
     "iopub.status.idle": "2020-09-29T13:56:44.397303Z",
     "shell.execute_reply": "2020-09-29T13:56:44.395827Z",
     "shell.execute_reply.started": "2020-09-29T13:56:44.387270Z"
    }
   },
   "outputs": [
    {
     "data": {
      "text/plain": [
       "\u001b[0;31mSignature:\u001b[0m \u001b[0ms\u001b[0m\u001b[0;34m.\u001b[0m\u001b[0mcreate\u001b[0m\u001b[0;34m(\u001b[0m\u001b[0mbucket\u001b[0m\u001b[0;34m,\u001b[0m \u001b[0mdescriptor\u001b[0m\u001b[0;34m,\u001b[0m \u001b[0mforce\u001b[0m\u001b[0;34m=\u001b[0m\u001b[0;32mFalse\u001b[0m\u001b[0;34m)\u001b[0m\u001b[0;34m\u001b[0m\u001b[0;34m\u001b[0m\u001b[0m\n",
       "\u001b[0;31mDocstring:\u001b[0m\n",
       "https://github.com/frictionlessdata/tableschema-pandas-py#storage\n",
       "        \n",
       "\u001b[0;31mFile:\u001b[0m      ~/.local/lib/python3.8/site-packages/tableschema_pandas/storage.py\n",
       "\u001b[0;31mType:\u001b[0m      method\n"
      ]
     },
     "metadata": {},
     "output_type": "display_data"
    }
   ],
   "source": [
    "s.create?"
   ]
  },
  {
   "cell_type": "code",
   "execution_count": 47,
   "metadata": {
    "execution": {
     "iopub.execute_input": "2020-09-29T13:57:52.102804Z",
     "iopub.status.busy": "2020-09-29T13:57:52.101898Z",
     "iopub.status.idle": "2020-09-29T13:57:52.110552Z",
     "shell.execute_reply": "2020-09-29T13:57:52.108684Z",
     "shell.execute_reply.started": "2020-09-29T13:57:52.102705Z"
    }
   },
   "outputs": [],
   "source": [
    "# okay, I give up for this usecase as well. The documentation is byzantine."
   ]
  },
  {
   "cell_type": "code",
   "execution_count": null,
   "metadata": {},
   "outputs": [],
   "source": []
  }
 ],
 "metadata": {
  "kernelspec": {
   "display_name": "Python 3",
   "language": "python",
   "name": "python3"
  },
  "language_info": {
   "codemirror_mode": {
    "name": "ipython",
    "version": 3
   },
   "file_extension": ".py",
   "mimetype": "text/x-python",
   "name": "python",
   "nbconvert_exporter": "python",
   "pygments_lexer": "ipython3",
   "version": "3.8.2"
  }
 },
 "nbformat": 4,
 "nbformat_minor": 4
}
