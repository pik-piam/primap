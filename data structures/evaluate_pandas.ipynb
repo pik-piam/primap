{
 "cells": [
  {
   "cell_type": "code",
   "execution_count": 1,
   "metadata": {
    "execution": {
     "iopub.execute_input": "2020-08-21T07:45:29.197741Z",
     "iopub.status.busy": "2020-08-21T07:45:29.196746Z",
     "iopub.status.idle": "2020-08-21T07:45:29.992742Z",
     "shell.execute_reply": "2020-08-21T07:45:29.992255Z",
     "shell.execute_reply.started": "2020-08-21T07:45:29.197653Z"
    }
   },
   "outputs": [],
   "source": [
    "import numpy as np\n",
    "import pandas as pd\n",
    "import pint\n",
    "import pint_pandas\n",
    "import pathlib\n",
    "u = pint.UnitRegistry()"
   ]
  },
  {
   "cell_type": "markdown",
   "metadata": {},
   "source": [
    "pandas DataFrame in traditional tidy format:\n",
    "\n",
    "* the index is meaningless (row numbers)\n",
    "* each column contains one variable\n",
    "* each observation forms a row\n",
    "* each type of observational unit forms a DataFrame\n",
    "* columns ordered from fixed variables (left) to measured variables; within each group, alphabetical order\n",
    "* rows ordered using the leftmost variable, breaking ties with variables further right\n",
    "\n",
    "Even given these constraints, there are still some variables in the data representation:\n",
    "\n",
    "* duplicate information (like countrycode and full countryname) in a single DataFrame vs. multiple DataFrames (only countrycode in the DataFrame, second DataFrame maps countrycodes to countrynames)\n",
    "* units as composite types (e.g. pint) vs. units as a variable\n",
    "\n",
    "Because the data structure relies on multiple, possibly joinable DataFrames, there is a need for a container, which is not yet defined."
   ]
  },
  {
   "cell_type": "markdown",
   "metadata": {},
   "source": [
    "## representation\n",
    "* load all example data sets into the data structure at once\n",
    "* measure memory use\n",
    "* export the data sets to CSV\n",
    "* reimport from CSV\n",
    "* export the data sets to some kind of native storage format\n",
    "* reimport from the native storage format"
   ]
  },
  {
   "cell_type": "code",
   "execution_count": 19,
   "metadata": {
    "execution": {
     "iopub.execute_input": "2020-08-21T13:43:07.956376Z",
     "iopub.status.busy": "2020-08-21T13:43:07.956194Z",
     "iopub.status.idle": "2020-08-21T13:43:08.070868Z",
     "shell.execute_reply": "2020-08-21T13:43:08.068605Z",
     "shell.execute_reply.started": "2020-08-21T13:43:07.956361Z"
    }
   },
   "outputs": [
    {
     "name": "stdout",
     "output_type": "stream",
     "text": [
      "Emissions_Agriculture_Agriculture_total_E_All_Data.csv\n",
      "lak-download.csv\n",
      "mole_fraction_of_carbon_dioxide_in_air_input4MIPs_GHGConcentrations_CMIP_UoM-CMIP-1-1-0_gr3-GMNHSH_000001-201412.csv\n",
      "PRIMAPDB.mat\n",
      "PRIMAP-hist_v2.1_09-Nov-2019.csv\n"
     ]
    }
   ],
   "source": [
    "!ls ../../primap-requirements/example_data_sets/"
   ]
  },
  {
   "cell_type": "code",
   "execution_count": 3,
   "metadata": {
    "execution": {
     "iopub.execute_input": "2020-08-21T07:45:30.118919Z",
     "iopub.status.busy": "2020-08-21T07:45:30.117358Z",
     "iopub.status.idle": "2020-08-21T07:45:30.130340Z",
     "shell.execute_reply": "2020-08-21T07:45:30.127983Z",
     "shell.execute_reply.started": "2020-08-21T07:45:30.118783Z"
    }
   },
   "outputs": [],
   "source": [
    "p = pathlib.Path('../../primap-requirements/example_data_sets/')"
   ]
  },
  {
   "cell_type": "markdown",
   "metadata": {
    "execution": {
     "iopub.execute_input": "2020-08-20T16:19:01.889848Z",
     "iopub.status.busy": "2020-08-20T16:19:01.888634Z",
     "iopub.status.idle": "2020-08-20T16:19:02.061860Z",
     "shell.execute_reply": "2020-08-20T16:19:02.061226Z",
     "shell.execute_reply.started": "2020-08-20T16:19:01.889730Z"
    }
   },
   "source": [
    "### read in FAO emissions agriculture total fao_emi_total"
   ]
  },
  {
   "cell_type": "code",
   "execution_count": 103,
   "metadata": {
    "execution": {
     "iopub.execute_input": "2020-08-21T15:01:36.910241Z",
     "iopub.status.busy": "2020-08-21T15:01:36.909544Z",
     "iopub.status.idle": "2020-08-21T15:01:37.261428Z",
     "shell.execute_reply": "2020-08-21T15:01:37.260891Z",
     "shell.execute_reply.started": "2020-08-21T15:01:36.910184Z"
    }
   },
   "outputs": [],
   "source": [
    "years = list(range(1961, 2017)) + [2030, 2050]\n",
    "dtypes = {}\n",
    "for year in years:\n",
    "    dtypes[f'Y{year}'] = np.float\n",
    "\n",
    "dtypes['Area'] = pd.CategoricalDtype(ordered=True)\n",
    "dtypes['Item'] = pd.CategoricalDtype(ordered=True)\n",
    "dtypes['Element'] = pd.CategoricalDtype(ordered=True)\n",
    "\n",
    "fao_emi_total = pd.read_csv(\n",
    "    p / 'Emissions_Agriculture_Agriculture_total_E_All_Data.csv',\n",
    "    encoding='latin_1',\n",
    "    dtype=dtypes,\n",
    "    usecols=dtypes.keys(),\n",
    "    index_col=[0, 1, 2])\n",
    "\n",
    "fao_emi_total = fao_emi_total.stack()\n",
    "\n",
    "fao_emi_total.index = (fao_emi_total.index\n",
    "                       .set_names('Date', level=3)\n",
    "                       .set_levels(pd.to_datetime(fao_emi_total.index.levels[3], format='Y%Y'), level=3)\n",
    "                       .set_levels(fao_emi_total.index.levels[2].str[len('Emissions ('):-1], level=2)\n",
    "                      )\n",
    "\n",
    "fao_emi_total = fao_emi_total.reorder_levels(['Area', 'Date', 'Element', 'Item'])\n",
    "fao_emi_total.sort_index(inplace=True)\n",
    "\n",
    "fao_emi_total.name = 'Emissions'\n",
    "\n",
    "fao_emi_total = fao_emi_total.astype('pint[Gg]')"
   ]
  },
  {
   "cell_type": "code",
   "execution_count": 104,
   "metadata": {
    "execution": {
     "iopub.execute_input": "2020-08-21T15:01:39.535358Z",
     "iopub.status.busy": "2020-08-21T15:01:39.535054Z",
     "iopub.status.idle": "2020-08-21T15:01:39.550530Z",
     "shell.execute_reply": "2020-08-21T15:01:39.549980Z",
     "shell.execute_reply.started": "2020-08-21T15:01:39.535332Z"
    }
   },
   "outputs": [
    {
     "data": {
      "text/plain": [
       "Area         Date        Element  Item                   \n",
       "Afghanistan  1961-01-01  CH4      Agriculture total          285.7793\n",
       "                                  Burning - Crop residues      4.0734\n",
       "                                  Enteric Fermentation       240.6831\n",
       "                                  Manure Management           11.6228\n",
       "                                  Rice Cultivation               29.4\n",
       "                                                               ...   \n",
       "Zimbabwe     2050-01-01  N2O      Crop Residues                1.1978\n",
       "                                  Manure Management            0.3871\n",
       "                                  Manure applied to Soils      0.6348\n",
       "                                  Manure left on Pasture      20.8824\n",
       "                                  Synthetic Fertilizers        3.7159\n",
       "Name: Emissions, Length: 507542, dtype: pint[gigagram]"
      ]
     },
     "execution_count": 104,
     "metadata": {},
     "output_type": "execute_result"
    }
   ],
   "source": [
    "fao_emi_total"
   ]
  },
  {
   "cell_type": "markdown",
   "metadata": {},
   "source": [
    "### read in emission data for German bundesländer lak_emi_energy"
   ]
  },
  {
   "cell_type": "code",
   "execution_count": 100,
   "metadata": {
    "execution": {
     "iopub.execute_input": "2020-08-21T14:59:14.582314Z",
     "iopub.status.busy": "2020-08-21T14:59:14.580596Z",
     "iopub.status.idle": "2020-08-21T14:59:14.610187Z",
     "shell.execute_reply": "2020-08-21T14:59:14.609514Z",
     "shell.execute_reply.started": "2020-08-21T14:59:14.582194Z"
    }
   },
   "outputs": [],
   "source": [
    "dtypes = {}\n",
    "for i in ['Insgesamt', 'Steinkohle', 'Braunkohle', 'Mineralöle und Mineralöl produkte', 'Gase', 'Abfälle (nicht biogen)', 'Andere Energieträger']:\n",
    "    dtypes[i] = np.float\n",
    "dtypes['Land'] = pd.CategoricalDtype(ordered=True)\n",
    "dtypes['Jahr'] = str\n",
    "\n",
    "lak_emi_energy = pd.read_csv(\n",
    "    p / 'lak-download.csv',\n",
    "    encoding='latin_1',\n",
    "    dtype=dtypes,\n",
    "    usecols=dtypes.keys(),\n",
    "    index_col=[0, 1],\n",
    "    sep=';',\n",
    "    skiprows=4,\n",
    "    nrows=464)\n",
    "\n",
    "lak_emi_energy = lak_emi_energy.stack()\n",
    "\n",
    "lak_emi_energy.index = (lak_emi_energy.index\n",
    "                        .set_levels(pd.to_datetime(lak_emi_energy.index.levels[1], format='%Y'), level=1)\n",
    "                        .set_levels(lak_emi_energy.index.levels[2].astype(pd.CategoricalDtype()), level=2)\n",
    "                        .set_names(['Area', 'Date', 'Category'])\n",
    "                       )\n",
    "lak_emi_energy = lak_emi_energy.reorder_levels(['Area', 'Category', 'Date', ])\n",
    "lak_emi_energy.sort_index(inplace=True)\n",
    "lak_emi_energy.name = 'Emissions'\n",
    "lak_emi_energy = lak_emi_energy.astype('pint[kilometric_ton]')"
   ]
  },
  {
   "cell_type": "code",
   "execution_count": 101,
   "metadata": {
    "execution": {
     "iopub.execute_input": "2020-08-21T14:59:15.623234Z",
     "iopub.status.busy": "2020-08-21T14:59:15.623041Z",
     "iopub.status.idle": "2020-08-21T14:59:15.631736Z",
     "shell.execute_reply": "2020-08-21T14:59:15.631270Z",
     "shell.execute_reply.started": "2020-08-21T14:59:15.623218Z"
    }
   },
   "outputs": [
    {
     "data": {
      "text/plain": [
       "Area               Category                Date      \n",
       "Baden-Württemberg  Abfälle (nicht biogen)  1990-01-01     595.6759999999999\n",
       "                                           1991-01-01               533.609\n",
       "                                           1992-01-01              582.9358\n",
       "                                           1993-01-01              582.8823\n",
       "                                           1994-01-01                513.03\n",
       "                                                                ...        \n",
       "Thüringen          Steinkohle              2013-01-01    60.221564691110004\n",
       "                                           2014-01-01      60.3047505431081\n",
       "                                           2015-01-01     55.85147852397861\n",
       "                                           2016-01-01    51.744334669214496\n",
       "                                           2017-01-01    55.785371808505296\n",
       "Name: Emissions, Length: 2713, dtype: pint[kilometric_ton]"
      ]
     },
     "execution_count": 101,
     "metadata": {},
     "output_type": "execute_result"
    }
   ],
   "source": [
    "lak_emi_energy"
   ]
  },
  {
   "cell_type": "markdown",
   "metadata": {},
   "source": [
    "## Read in CO2 mole fraction time series cmip_conc_co2"
   ]
  },
  {
   "cell_type": "code",
   "execution_count": 58,
   "metadata": {
    "execution": {
     "iopub.execute_input": "2020-08-21T14:37:03.410703Z",
     "iopub.status.busy": "2020-08-21T14:37:03.409873Z",
     "iopub.status.idle": "2020-08-21T14:37:03.538437Z",
     "shell.execute_reply": "2020-08-21T14:37:03.535965Z",
     "shell.execute_reply.started": "2020-08-21T14:37:03.410625Z"
    }
   },
   "outputs": [
    {
     "name": "stdout",
     "output_type": "stream",
     "text": [
      "735857,2014,9,15,15-Sep-2014 00:00:00,395.026810069061,394.318660838738,395.734959299383\n",
      "735887,2014,10,15,15-Oct-2014 00:00:00,396.668759675911,397.456652804706,395.880866547116\n",
      "735918,2014,11,15,15-Nov-2014 00:00:00,398.189074185698,400.321219754153,396.056928617242\n",
      "735948,2014,12,15,15-Dec-2014 00:00:00,399.179691756507,402.195087926915,396.164295586098\n"
     ]
    }
   ],
   "source": [
    "!tail -n4 $p/mole_fraction_of_carbon_dioxide_in_air_input4MIPs_GHGConcentrations_CMIP_UoM-CMIP-1-1-0_gr3-GMNHSH_000001-201412.csv"
   ]
  },
  {
   "cell_type": "code",
   "execution_count": 108,
   "metadata": {
    "execution": {
     "iopub.execute_input": "2020-08-21T15:04:03.103618Z",
     "iopub.status.busy": "2020-08-21T15:04:03.103419Z",
     "iopub.status.idle": "2020-08-21T15:04:03.192938Z",
     "shell.execute_reply": "2020-08-21T15:04:03.192467Z",
     "shell.execute_reply.started": "2020-08-21T15:04:03.103601Z"
    }
   },
   "outputs": [],
   "source": [
    "dtypes = {\n",
    "    'data_mean_global': np.float,\n",
    "    'data_mean_nh': np.float,\n",
    "    'data_mean_sh': np.float,\n",
    "}\n",
    "cmip_conc_co2 = pd.read_csv(\n",
    "    p / 'mole_fraction_of_carbon_dioxide_in_air_input4MIPs_GHGConcentrations_CMIP_UoM-CMIP-1-1-0_gr3-GMNHSH_000001-201412.csv',\n",
    "    usecols=dtypes.keys(),\n",
    "    #index_col=[0, 1],\n",
    ")\n",
    "# cannot use datetime here, because the range of possible values reaches back only into the 17th century\n",
    "cmip_conc_co2.index = pd.period_range(start=pd.Period(year=0, month=1, freq='M'), end=pd.Period(year=2014, month=12, freq='M'), name='Date')\n",
    "\n",
    "cmip_conc_co2 = cmip_conc_co2.stack()\n",
    "\n",
    "cmip_conc_co2.index = (cmip_conc_co2.index\n",
    "                       .set_levels(cmip_conc_co2.index.levels[1].str[len('data_mean_'):].astype(pd.CategoricalDtype(ordered=True)), level=1)\n",
    "                       .set_names('Area', level=1)\n",
    "                      )\n",
    "\n",
    "cmip_conc_co2 = cmip_conc_co2.reorder_levels(['Area', 'Date', ])\n",
    "cmip_conc_co2.sort_index(inplace=True)\n",
    "\n",
    "cmip_conc_co2.name = 'CO2 concentration'\n",
    "\n",
    "cmip_conc_co2 = cmip_conc_co2.astype('pint[dimensionless]')\n",
    "cmip_conc_co2 *= 1e-6"
   ]
  },
  {
   "cell_type": "code",
   "execution_count": 112,
   "metadata": {
    "execution": {
     "iopub.execute_input": "2020-08-21T15:13:22.987374Z",
     "iopub.status.busy": "2020-08-21T15:13:22.987083Z",
     "iopub.status.idle": "2020-08-21T15:13:23.002984Z",
     "shell.execute_reply": "2020-08-21T15:13:23.001983Z",
     "shell.execute_reply.started": "2020-08-21T15:13:22.987348Z"
    }
   },
   "outputs": [
    {
     "data": {
      "text/plain": [
       "Area    Date   \n",
       "global  0-01       0.00027836643883702005\n",
       "        0-02         0.000278713058010423\n",
       "        0-03         0.000279013835279965\n",
       "        0-04       0.00027920961334856496\n",
       "        0-05         0.000279106444207592\n",
       "                            ...          \n",
       "sh      2014-08    0.00039577037859628094\n",
       "        2014-09      0.000395734959299383\n",
       "        2014-10      0.000395880866547116\n",
       "        2014-11    0.00039605692861724196\n",
       "        2014-12    0.00039616429558609803\n",
       "Name: CO2 concentration, Length: 72540, dtype: pint[dimensionless]"
      ]
     },
     "execution_count": 112,
     "metadata": {},
     "output_type": "execute_result"
    }
   ],
   "source": [
    "cmip_conc_co2"
   ]
  },
  {
   "cell_type": "code",
   "execution_count": null,
   "metadata": {},
   "outputs": [],
   "source": []
  }
 ],
 "metadata": {
  "kernelspec": {
   "display_name": "Python 3",
   "language": "python",
   "name": "python3"
  },
  "language_info": {
   "codemirror_mode": {
    "name": "ipython",
    "version": 3
   },
   "file_extension": ".py",
   "mimetype": "text/x-python",
   "name": "python",
   "nbconvert_exporter": "python",
   "pygments_lexer": "ipython3",
   "version": "3.8.2"
  }
 },
 "nbformat": 4,
 "nbformat_minor": 4
}
