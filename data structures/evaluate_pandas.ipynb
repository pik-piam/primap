{
 "cells": [
  {
   "cell_type": "code",
   "execution_count": 86,
   "metadata": {
    "execution": {
     "iopub.execute_input": "2020-08-20T16:42:02.725971Z",
     "iopub.status.busy": "2020-08-20T16:42:02.724615Z",
     "iopub.status.idle": "2020-08-20T16:42:02.860891Z",
     "shell.execute_reply": "2020-08-20T16:42:02.860407Z",
     "shell.execute_reply.started": "2020-08-20T16:42:02.725835Z"
    }
   },
   "outputs": [],
   "source": [
    "import numpy as np\n",
    "import pandas as pd\n",
    "import pint\n",
    "import pint_pandas\n",
    "import pathlib\n",
    "u = pint.UnitRegistry()"
   ]
  },
  {
   "cell_type": "markdown",
   "metadata": {},
   "source": [
    "pandas DataFrame in traditional tidy format:\n",
    "\n",
    "* the index is meaningless (row numbers)\n",
    "* each column contains one variable\n",
    "* each observation forms a row\n",
    "* each type of observational unit forms a DataFrame\n",
    "* columns ordered from fixed variables (left) to measured variables; within each group, alphabetical order\n",
    "* rows ordered using the leftmost variable, breaking ties with variables further right\n",
    "\n",
    "Even given these constraints, there are still some variables in the data representation:\n",
    "\n",
    "* duplicate information (like countrycode and full countryname) in a single DataFrame vs. multiple DataFrames (only countrycode in the DataFrame, second DataFrame maps countrycodes to countrynames)\n",
    "* units as composite types (e.g. pint) vs. units as a variable\n",
    "\n",
    "Because the data structure relies on multiple, possibly joinable DataFrames, there is a need for a container, which is not yet defined."
   ]
  },
  {
   "cell_type": "markdown",
   "metadata": {},
   "source": [
    "## representation\n",
    "* load all example data sets into the data structure at once\n",
    "* measure memory use\n",
    "* export the data sets to CSV\n",
    "* reimport from CSV\n",
    "* export the data sets to some kind of native storage format\n",
    "* reimport from the native storage format"
   ]
  },
  {
   "cell_type": "code",
   "execution_count": 15,
   "metadata": {
    "execution": {
     "iopub.execute_input": "2020-08-20T16:18:43.914138Z",
     "iopub.status.busy": "2020-08-20T16:18:43.912932Z",
     "iopub.status.idle": "2020-08-20T16:18:44.035405Z",
     "shell.execute_reply": "2020-08-20T16:18:44.034523Z",
     "shell.execute_reply.started": "2020-08-20T16:18:43.914027Z"
    }
   },
   "outputs": [
    {
     "name": "stdout",
     "output_type": "stream",
     "text": [
      "Emissions_Agriculture_Agriculture_total_E_All_Data.csv\n",
      "lak-download.csv\n",
      "mole-fraction-of-carbon-dioxide-in-air_input4MIPs_GHGConcentrations_CMIP_UoM-CMIP-1-2-0_gr1-GMNHSH_000001-201412.nc\n",
      "PRIMAPDB.mat\n",
      "PRIMAP-hist_v2.1_09-Nov-2019.csv\n"
     ]
    }
   ],
   "source": [
    "!ls ../../primap-requirements/example_data_sets/"
   ]
  },
  {
   "cell_type": "code",
   "execution_count": 16,
   "metadata": {
    "execution": {
     "iopub.execute_input": "2020-08-20T16:18:44.625817Z",
     "iopub.status.busy": "2020-08-20T16:18:44.624961Z",
     "iopub.status.idle": "2020-08-20T16:18:44.633239Z",
     "shell.execute_reply": "2020-08-20T16:18:44.631046Z",
     "shell.execute_reply.started": "2020-08-20T16:18:44.625737Z"
    }
   },
   "outputs": [],
   "source": [
    "p = pathlib.Path('../../primap-requirements/example_data_sets/')"
   ]
  },
  {
   "cell_type": "markdown",
   "metadata": {
    "execution": {
     "iopub.execute_input": "2020-08-20T16:19:01.889848Z",
     "iopub.status.busy": "2020-08-20T16:19:01.888634Z",
     "iopub.status.idle": "2020-08-20T16:19:02.061860Z",
     "shell.execute_reply": "2020-08-20T16:19:02.061226Z",
     "shell.execute_reply.started": "2020-08-20T16:19:01.889730Z"
    }
   },
   "source": [
    "### read in FAO emissions agriculture total fao_emi_total"
   ]
  },
  {
   "cell_type": "code",
   "execution_count": 21,
   "metadata": {
    "execution": {
     "iopub.execute_input": "2020-08-20T16:19:01.889848Z",
     "iopub.status.busy": "2020-08-20T16:19:01.888634Z",
     "iopub.status.idle": "2020-08-20T16:19:02.061860Z",
     "shell.execute_reply": "2020-08-20T16:19:02.061226Z",
     "shell.execute_reply.started": "2020-08-20T16:19:01.889730Z"
    }
   },
   "outputs": [],
   "source": [
    "years = list(range(1961, 2017)) + [2030, 2050]\n",
    "dtypes = {}\n",
    "for year in years:\n",
    "    dtypes[f'Y{year}'] = np.float\n",
    "\n",
    "dtypes['Area'] = pd.CategoricalDtype(ordered=True)\n",
    "dtypes['Item'] = pd.CategoricalDtype(ordered=True)\n",
    "dtypes['Element'] = pd.CategoricalDtype(ordered=True)\n",
    "\n",
    "fao_emi_total = pd.read_csv(\n",
    "    p / 'Emissions_Agriculture_Agriculture_total_E_All_Data.csv',\n",
    "    encoding='latin_1',\n",
    "    dtype=dtypes,\n",
    "    usecols=dtypes.keys(),\n",
    "    index_col=[0, 1, 2])"
   ]
  },
  {
   "cell_type": "code",
   "execution_count": 22,
   "metadata": {
    "execution": {
     "iopub.execute_input": "2020-08-20T16:19:02.195941Z",
     "iopub.status.busy": "2020-08-20T16:19:02.195370Z",
     "iopub.status.idle": "2020-08-20T16:19:02.509412Z",
     "shell.execute_reply": "2020-08-20T16:19:02.508021Z",
     "shell.execute_reply.started": "2020-08-20T16:19:02.195884Z"
    }
   },
   "outputs": [],
   "source": [
    "fao_emi_total = fao_emi_total.stack()\n",
    "\n",
    "fao_emi_total.index = (fao_emi_total.index\n",
    "                       .set_names('Year', level=3)\n",
    "                       .set_levels(fao_emi_total.index.levels[3].str[1:].astype(int), level=3)\n",
    "                       .set_levels(fao_emi_total.index.levels[2].str[len('Emissions ('):-1], level=2)\n",
    "                      )\n",
    "\n",
    "fao_emi_total.sort_index(inplace=True)\n",
    "\n",
    "fao_emi_total.name = 'Emissions'\n",
    "\n",
    "fao_emi_total = fao_emi_total.astype('pint[Gg]')"
   ]
  },
  {
   "cell_type": "code",
   "execution_count": 23,
   "metadata": {
    "execution": {
     "iopub.execute_input": "2020-08-20T16:19:02.936624Z",
     "iopub.status.busy": "2020-08-20T16:19:02.935697Z",
     "iopub.status.idle": "2020-08-20T16:19:02.959171Z",
     "shell.execute_reply": "2020-08-20T16:19:02.958041Z",
     "shell.execute_reply.started": "2020-08-20T16:19:02.936572Z"
    }
   },
   "outputs": [
    {
     "data": {
      "text/plain": [
       "Area         Item                   Element  Year\n",
       "Afghanistan  Agricultural Soils     CO2eq    1961    3097.8213\n",
       "                                             1962    3063.8992\n",
       "                                             1963    3116.2194\n",
       "                                             1964    3181.7806\n",
       "                                             1965    3257.1703\n",
       "                                                       ...    \n",
       "Zimbabwe     Synthetic Fertilizers  N2O      2014       1.0452\n",
       "                                             2015        0.887\n",
       "                                             2016       1.2097\n",
       "                                             2030       2.1833\n",
       "                                             2050       3.7159\n",
       "Name: Emissions, Length: 507542, dtype: pint[gigagram]"
      ]
     },
     "execution_count": 23,
     "metadata": {},
     "output_type": "execute_result"
    }
   ],
   "source": [
    "fao_emi_total"
   ]
  },
  {
   "cell_type": "markdown",
   "metadata": {},
   "source": [
    "### read in emission data for German bundesländer lak_emi_energy"
   ]
  },
  {
   "cell_type": "code",
   "execution_count": 29,
   "metadata": {
    "execution": {
     "iopub.execute_input": "2020-08-20T16:25:14.993205Z",
     "iopub.status.busy": "2020-08-20T16:25:14.992144Z",
     "iopub.status.idle": "2020-08-20T16:25:15.116649Z",
     "shell.execute_reply": "2020-08-20T16:25:15.114814Z",
     "shell.execute_reply.started": "2020-08-20T16:25:14.993089Z"
    }
   },
   "outputs": [
    {
     "name": "stdout",
     "output_type": "stream",
     "text": [
      "\"L�nderarbeitskreis Energiebilanzen\"\n",
      "\"Quellenbilanz: CO2-Emissionen nach Energietr�gern  *) \"\n",
      "\"Einheit: 1 000 t CO2\"\n",
      "\" \"\n",
      "Land;Jahr;Anm;Insgesamt;Steinkohle;Braunkohle;\"Mineral�le und Mineral�l produkte\";Gase;\"Abf�lle (nicht biogen)\";\"Andere Energietr�ger\";Stand\n",
      "Baden-W�rttemberg;1990;\"LAK1), BW1)\";74883.9160479387;17575.2873793737;527.884916186355;45963.0617038672;10222.0060485114;595.676;0;05.03.2020\n",
      "Baden-W�rttemberg;1991;\"LAK1), BW1)\";79279.0137239207;18138.0175792253;586.054488667663;49044.1685387109;10977.1641173168;533.609;0;05.03.2020\n"
     ]
    }
   ],
   "source": [
    "!head -n7 $p/lak-download.csv"
   ]
  },
  {
   "cell_type": "code",
   "execution_count": 101,
   "metadata": {
    "execution": {
     "iopub.execute_input": "2020-08-20T16:43:39.269202Z",
     "iopub.status.busy": "2020-08-20T16:43:39.267896Z",
     "iopub.status.idle": "2020-08-20T16:43:39.291927Z",
     "shell.execute_reply": "2020-08-20T16:43:39.290927Z",
     "shell.execute_reply.started": "2020-08-20T16:43:39.269079Z"
    }
   },
   "outputs": [],
   "source": [
    "dtypes = {}\n",
    "for i in ['Insgesamt', 'Steinkohle', 'Braunkohle', 'Mineralöle und Mineralöl produkte', 'Gase', 'Abfälle (nicht biogen)', 'Andere Energieträger']:\n",
    "    dtypes[i] = np.float\n",
    "dtypes['Land'] = pd.CategoricalDtype(ordered=True)\n",
    "dtypes['Jahr'] = int\n",
    "\n",
    "lak_emi_energy = pd.read_csv(\n",
    "    p / 'lak-download.csv',\n",
    "    encoding='latin_1',\n",
    "    dtype=dtypes,\n",
    "    usecols=dtypes.keys(),\n",
    "    index_col=[0, 1],\n",
    "    sep=';',\n",
    "    skiprows=4,\n",
    "    nrows=464)"
   ]
  },
  {
   "cell_type": "code",
   "execution_count": 102,
   "metadata": {
    "execution": {
     "iopub.execute_input": "2020-08-20T16:43:39.690939Z",
     "iopub.status.busy": "2020-08-20T16:43:39.690421Z",
     "iopub.status.idle": "2020-08-20T16:43:39.699409Z",
     "shell.execute_reply": "2020-08-20T16:43:39.697903Z",
     "shell.execute_reply.started": "2020-08-20T16:43:39.690873Z"
    }
   },
   "outputs": [],
   "source": [
    "lak_emi_energy = lak_emi_energy.stack()"
   ]
  },
  {
   "cell_type": "code",
   "execution_count": 103,
   "metadata": {
    "execution": {
     "iopub.execute_input": "2020-08-20T16:43:40.170178Z",
     "iopub.status.busy": "2020-08-20T16:43:40.169070Z",
     "iopub.status.idle": "2020-08-20T16:43:40.183764Z",
     "shell.execute_reply": "2020-08-20T16:43:40.182772Z",
     "shell.execute_reply.started": "2020-08-20T16:43:40.170105Z"
    }
   },
   "outputs": [],
   "source": [
    "lak_emi_energy.index = (lak_emi_energy.index\n",
    "                        .set_levels(lak_emi_energy.index.levels[2].astype(pd.CategoricalDtype()), level=2)\n",
    "                        .set_names(['Area', 'Year', 'Category'])\n",
    "                       )\n",
    "lak_emi_energy.name = 'Emissions'\n",
    "lak_emi_energy = lak_emi_energy.astype('pint[kilometric_ton]')"
   ]
  },
  {
   "cell_type": "code",
   "execution_count": 105,
   "metadata": {
    "execution": {
     "iopub.execute_input": "2020-08-20T16:43:48.793513Z",
     "iopub.status.busy": "2020-08-20T16:43:48.792220Z",
     "iopub.status.idle": "2020-08-20T16:43:48.815698Z",
     "shell.execute_reply": "2020-08-20T16:43:48.815002Z",
     "shell.execute_reply.started": "2020-08-20T16:43:48.793392Z"
    }
   },
   "outputs": [
    {
     "data": {
      "text/plain": [
       "Area               Year  Category                         \n",
       "Baden-Württemberg  1990  Insgesamt                             74883.9160479387\n",
       "                         Steinkohle                            17575.2873793737\n",
       "                         Braunkohle                            527.884916186355\n",
       "                         Mineralöle und Mineralöl produkte     45963.0617038672\n",
       "                         Gase                                  10222.0060485114\n",
       "                                                                    ...        \n",
       "Thüringen          2017  Braunkohle                            405.672147888414\n",
       "                         Mineralöle und Mineralöl produkte    5238.425039159621\n",
       "                         Gase                                  4362.57394820377\n",
       "                         Abfälle (nicht biogen)                   322.472471745\n",
       "                         Andere Energieträger                               0.0\n",
       "Name: Emissions, Length: 2713, dtype: pint[kilometric_ton]"
      ]
     },
     "execution_count": 105,
     "metadata": {},
     "output_type": "execute_result"
    }
   ],
   "source": [
    "lak_emi_energy"
   ]
  },
  {
   "cell_type": "code",
   "execution_count": null,
   "metadata": {},
   "outputs": [],
   "source": []
  }
 ],
 "metadata": {
  "kernelspec": {
   "display_name": "Python 3",
   "language": "python",
   "name": "python3"
  },
  "language_info": {
   "codemirror_mode": {
    "name": "ipython",
    "version": 3
   },
   "file_extension": ".py",
   "mimetype": "text/x-python",
   "name": "python",
   "nbconvert_exporter": "python",
   "pygments_lexer": "ipython3",
   "version": "3.8.2"
  }
 },
 "nbformat": 4,
 "nbformat_minor": 4
}
