{
 "cells": [
  {
   "cell_type": "code",
   "execution_count": 144,
   "metadata": {
    "execution": {
     "iopub.execute_input": "2020-08-26T16:06:22.500984Z",
     "iopub.status.busy": "2020-08-26T16:06:22.499998Z",
     "iopub.status.idle": "2020-08-26T16:06:22.686815Z",
     "shell.execute_reply": "2020-08-26T16:06:22.686284Z",
     "shell.execute_reply.started": "2020-08-26T16:06:22.500893Z"
    }
   },
   "outputs": [],
   "source": [
    "%matplotlib widget\n",
    "import matplotlib\n",
    "from matplotlib import pyplot as plt\n",
    "import numpy as np\n",
    "import pandas as pd\n",
    "import pint\n",
    "import pint_pandas\n",
    "import pathlib\n",
    "import tqdm\n",
    "u = pint.UnitRegistry()"
   ]
  },
  {
   "cell_type": "markdown",
   "metadata": {},
   "source": [
    "pandas DataFrame in traditional tidy format:\n",
    "\n",
    "* the index is meaningless (row numbers)\n",
    "* each column contains one variable\n",
    "* each observation forms a row\n",
    "* each type of observational unit forms a DataFrame\n",
    "* columns ordered from fixed variables (left) to measured variables; within each group, alphabetical order\n",
    "* rows ordered using the leftmost variable, breaking ties with variables further right\n",
    "\n",
    "Even given these constraints, there are still some variables in the data representation:\n",
    "\n",
    "* duplicate information (like countrycode and full countryname) in a single DataFrame vs. multiple DataFrames (only countrycode in the DataFrame, second DataFrame maps countrycodes to countrynames)\n",
    "* units as composite types (e.g. pint) vs. units as a variable\n",
    "\n",
    "Because the data structure relies on multiple, possibly joinable DataFrames, there is a need for a container, which is not yet defined."
   ]
  },
  {
   "cell_type": "markdown",
   "metadata": {},
   "source": [
    "# representation\n",
    "* load all example data sets into the data structure at once\n",
    "* measure memory use\n",
    "* export the data sets to CSV\n",
    "* reimport from CSV\n",
    "* export the data sets to some kind of native storage format\n",
    "* reimport from the native storage format"
   ]
  },
  {
   "cell_type": "markdown",
   "metadata": {
    "execution": {
     "iopub.execute_input": "2020-08-24T12:17:29.193806Z",
     "iopub.status.busy": "2020-08-24T12:17:29.193662Z",
     "iopub.status.idle": "2020-08-24T12:17:29.306871Z",
     "shell.execute_reply": "2020-08-24T12:17:29.304070Z",
     "shell.execute_reply.started": "2020-08-24T12:17:29.193790Z"
    }
   },
   "source": [
    "## Read in the data"
   ]
  },
  {
   "cell_type": "code",
   "execution_count": 2,
   "metadata": {
    "execution": {
     "iopub.execute_input": "2020-08-26T10:12:43.091784Z",
     "iopub.status.busy": "2020-08-26T10:12:43.091555Z",
     "iopub.status.idle": "2020-08-26T10:12:43.218637Z",
     "shell.execute_reply": "2020-08-26T10:12:43.216653Z",
     "shell.execute_reply.started": "2020-08-26T10:12:43.091764Z"
    }
   },
   "outputs": [
    {
     "name": "stdout",
     "output_type": "stream",
     "text": [
      "Emissions_Agriculture_Agriculture_total_E_All_Data.csv\n",
      "lak-download.csv\n",
      "mole_fraction_of_carbon_dioxide_in_air_input4MIPs_GHGConcentrations_CMIP_UoM-CMIP-1-1-0_gr3-GMNHSH_000001-201412.csv\n",
      "PRIMAPDB.mat\n",
      "PRIMAP-hist_v2.1_09-Nov-2019.csv\n"
     ]
    }
   ],
   "source": [
    "!ls ../../primap-requirements/example_data_sets/"
   ]
  },
  {
   "cell_type": "code",
   "execution_count": 3,
   "metadata": {
    "execution": {
     "iopub.execute_input": "2020-08-26T10:12:43.221745Z",
     "iopub.status.busy": "2020-08-26T10:12:43.221184Z",
     "iopub.status.idle": "2020-08-26T10:12:43.228170Z",
     "shell.execute_reply": "2020-08-26T10:12:43.226233Z",
     "shell.execute_reply.started": "2020-08-26T10:12:43.221686Z"
    }
   },
   "outputs": [],
   "source": [
    "p = pathlib.Path('../../primap-requirements/example_data_sets/')"
   ]
  },
  {
   "cell_type": "markdown",
   "metadata": {
    "execution": {
     "iopub.execute_input": "2020-08-20T16:19:01.889848Z",
     "iopub.status.busy": "2020-08-20T16:19:01.888634Z",
     "iopub.status.idle": "2020-08-20T16:19:02.061860Z",
     "shell.execute_reply": "2020-08-20T16:19:02.061226Z",
     "shell.execute_reply.started": "2020-08-20T16:19:01.889730Z"
    }
   },
   "source": [
    "### read in FAO emissions agriculture total fao_emi_total"
   ]
  },
  {
   "cell_type": "code",
   "execution_count": 4,
   "metadata": {
    "execution": {
     "iopub.execute_input": "2020-08-26T10:12:43.231018Z",
     "iopub.status.busy": "2020-08-26T10:12:43.230615Z",
     "iopub.status.idle": "2020-08-26T10:12:43.644242Z",
     "shell.execute_reply": "2020-08-26T10:12:43.643645Z",
     "shell.execute_reply.started": "2020-08-26T10:12:43.230985Z"
    }
   },
   "outputs": [],
   "source": [
    "years = list(range(1961, 2017)) + [2030, 2050]\n",
    "dtypes = {}\n",
    "for year in years:\n",
    "    dtypes[f'Y{year}'] = np.float\n",
    "\n",
    "dtypes['Area'] = pd.CategoricalDtype(ordered=True)\n",
    "dtypes['Item'] = pd.CategoricalDtype(ordered=True)\n",
    "dtypes['Element'] = pd.CategoricalDtype(ordered=True)\n",
    "\n",
    "fao_emi_total = pd.read_csv(\n",
    "    p / 'Emissions_Agriculture_Agriculture_total_E_All_Data.csv',\n",
    "    encoding='latin_1',\n",
    "    dtype=dtypes,\n",
    "    usecols=dtypes.keys(),\n",
    "    index_col=[0, 1, 2])\n",
    "\n",
    "fao_emi_total = fao_emi_total.stack()\n",
    "\n",
    "fao_emi_total.index = (fao_emi_total.index\n",
    "                       .set_names('Date', level=3)\n",
    "                       .set_levels(pd.to_datetime(fao_emi_total.index.levels[3], format='Y%Y'), level=3)\n",
    "                       .set_levels(fao_emi_total.index.levels[2].str[len('Emissions ('):-1], level=2)\n",
    "                      )\n",
    "\n",
    "fao_emi_total = fao_emi_total.reorder_levels(['Area', 'Date', 'Element', 'Item'])\n",
    "fao_emi_total.sort_index(inplace=True)\n",
    "\n",
    "fao_emi_total.name = 'Emissions'\n",
    "\n",
    "fao_emi_total = fao_emi_total.astype('pint[Gg]')"
   ]
  },
  {
   "cell_type": "code",
   "execution_count": 5,
   "metadata": {
    "execution": {
     "iopub.execute_input": "2020-08-26T10:12:43.646621Z",
     "iopub.status.busy": "2020-08-26T10:12:43.646282Z",
     "iopub.status.idle": "2020-08-26T10:12:43.663799Z",
     "shell.execute_reply": "2020-08-26T10:12:43.663315Z",
     "shell.execute_reply.started": "2020-08-26T10:12:43.646590Z"
    }
   },
   "outputs": [
    {
     "data": {
      "text/plain": [
       "Area         Date        Element  Item                   \n",
       "Afghanistan  1961-01-01  CH4      Agriculture total          285.7793\n",
       "                                  Burning - Crop residues      4.0734\n",
       "                                  Enteric Fermentation       240.6831\n",
       "                                  Manure Management           11.6228\n",
       "                                  Rice Cultivation               29.4\n",
       "                                                               ...   \n",
       "Zimbabwe     2050-01-01  N2O      Crop Residues                1.1978\n",
       "                                  Manure Management            0.3871\n",
       "                                  Manure applied to Soils      0.6348\n",
       "                                  Manure left on Pasture      20.8824\n",
       "                                  Synthetic Fertilizers        3.7159\n",
       "Name: Emissions, Length: 507542, dtype: pint[gigagram]"
      ]
     },
     "execution_count": 5,
     "metadata": {},
     "output_type": "execute_result"
    }
   ],
   "source": [
    "fao_emi_total"
   ]
  },
  {
   "cell_type": "markdown",
   "metadata": {},
   "source": [
    "### read in emission data for German bundesländer lak_emi_energy"
   ]
  },
  {
   "cell_type": "code",
   "execution_count": 6,
   "metadata": {
    "execution": {
     "iopub.execute_input": "2020-08-26T10:12:43.665656Z",
     "iopub.status.busy": "2020-08-26T10:12:43.665455Z",
     "iopub.status.idle": "2020-08-26T10:12:43.687456Z",
     "shell.execute_reply": "2020-08-26T10:12:43.686746Z",
     "shell.execute_reply.started": "2020-08-26T10:12:43.665638Z"
    }
   },
   "outputs": [],
   "source": [
    "dtypes = {}\n",
    "for i in ['Insgesamt', 'Steinkohle', 'Braunkohle', 'Mineralöle und Mineralöl produkte', 'Gase', 'Abfälle (nicht biogen)', 'Andere Energieträger']:\n",
    "    dtypes[i] = np.float\n",
    "dtypes['Land'] = pd.CategoricalDtype(ordered=True)\n",
    "dtypes['Jahr'] = str\n",
    "\n",
    "lak_emi_energy = pd.read_csv(\n",
    "    p / 'lak-download.csv',\n",
    "    encoding='latin_1',\n",
    "    dtype=dtypes,\n",
    "    usecols=dtypes.keys(),\n",
    "    index_col=[0, 1],\n",
    "    sep=';',\n",
    "    skiprows=4,\n",
    "    nrows=464)\n",
    "\n",
    "lak_emi_energy = lak_emi_energy.stack()\n",
    "\n",
    "lak_emi_energy.index = (lak_emi_energy.index\n",
    "                        .set_levels(pd.to_datetime(lak_emi_energy.index.levels[1], format='%Y'), level=1)\n",
    "                        .set_levels(lak_emi_energy.index.levels[2].astype(pd.CategoricalDtype()), level=2)\n",
    "                        .set_names(['Area', 'Date', 'Category'])\n",
    "                       )\n",
    "lak_emi_energy = lak_emi_energy.reorder_levels(['Area', 'Category', 'Date', ])\n",
    "lak_emi_energy.sort_index(inplace=True)\n",
    "lak_emi_energy.name = 'Emissions'\n",
    "lak_emi_energy = lak_emi_energy.astype('pint[kilometric_ton]')"
   ]
  },
  {
   "cell_type": "code",
   "execution_count": 7,
   "metadata": {
    "execution": {
     "iopub.execute_input": "2020-08-26T10:12:43.688668Z",
     "iopub.status.busy": "2020-08-26T10:12:43.688423Z",
     "iopub.status.idle": "2020-08-26T10:12:43.715204Z",
     "shell.execute_reply": "2020-08-26T10:12:43.713912Z",
     "shell.execute_reply.started": "2020-08-26T10:12:43.688631Z"
    }
   },
   "outputs": [
    {
     "data": {
      "text/plain": [
       "Area               Category                Date      \n",
       "Baden-Württemberg  Abfälle (nicht biogen)  1990-01-01     595.6759999999999\n",
       "                                           1991-01-01               533.609\n",
       "                                           1992-01-01              582.9358\n",
       "                                           1993-01-01              582.8823\n",
       "                                           1994-01-01                513.03\n",
       "                                                                ...        \n",
       "Thüringen          Steinkohle              2013-01-01    60.221564691110004\n",
       "                                           2014-01-01      60.3047505431081\n",
       "                                           2015-01-01     55.85147852397861\n",
       "                                           2016-01-01    51.744334669214496\n",
       "                                           2017-01-01    55.785371808505296\n",
       "Name: Emissions, Length: 2713, dtype: pint[kilometric_ton]"
      ]
     },
     "execution_count": 7,
     "metadata": {},
     "output_type": "execute_result"
    }
   ],
   "source": [
    "lak_emi_energy"
   ]
  },
  {
   "cell_type": "markdown",
   "metadata": {},
   "source": [
    "### Read in CO2 mole fraction time series cmip_conc_co2"
   ]
  },
  {
   "cell_type": "code",
   "execution_count": 8,
   "metadata": {
    "execution": {
     "iopub.execute_input": "2020-08-26T10:12:43.717644Z",
     "iopub.status.busy": "2020-08-26T10:12:43.716777Z",
     "iopub.status.idle": "2020-08-26T10:12:43.838192Z",
     "shell.execute_reply": "2020-08-26T10:12:43.836192Z",
     "shell.execute_reply.started": "2020-08-26T10:12:43.717545Z"
    }
   },
   "outputs": [
    {
     "name": "stdout",
     "output_type": "stream",
     "text": [
      "735857,2014,9,15,15-Sep-2014 00:00:00,395.026810069061,394.318660838738,395.734959299383\n",
      "735887,2014,10,15,15-Oct-2014 00:00:00,396.668759675911,397.456652804706,395.880866547116\n",
      "735918,2014,11,15,15-Nov-2014 00:00:00,398.189074185698,400.321219754153,396.056928617242\n",
      "735948,2014,12,15,15-Dec-2014 00:00:00,399.179691756507,402.195087926915,396.164295586098\n"
     ]
    }
   ],
   "source": [
    "!tail -n4 $p/mole_fraction_of_carbon_dioxide_in_air_input4MIPs_GHGConcentrations_CMIP_UoM-CMIP-1-1-0_gr3-GMNHSH_000001-201412.csv"
   ]
  },
  {
   "cell_type": "code",
   "execution_count": 9,
   "metadata": {
    "execution": {
     "iopub.execute_input": "2020-08-26T10:12:43.841045Z",
     "iopub.status.busy": "2020-08-26T10:12:43.840517Z",
     "iopub.status.idle": "2020-08-26T10:12:44.001329Z",
     "shell.execute_reply": "2020-08-26T10:12:44.000210Z",
     "shell.execute_reply.started": "2020-08-26T10:12:43.840994Z"
    }
   },
   "outputs": [],
   "source": [
    "dtypes = {\n",
    "    'data_mean_global': np.float,\n",
    "    'data_mean_nh': np.float,\n",
    "    'data_mean_sh': np.float,\n",
    "}\n",
    "cmip_conc_co2 = pd.read_csv(\n",
    "    p / 'mole_fraction_of_carbon_dioxide_in_air_input4MIPs_GHGConcentrations_CMIP_UoM-CMIP-1-1-0_gr3-GMNHSH_000001-201412.csv',\n",
    "    usecols=dtypes.keys(),\n",
    "    #index_col=[0, 1],\n",
    ")\n",
    "# cannot use datetime here, because the range of possible values reaches back only into the 17th century\n",
    "cmip_conc_co2.index = pd.period_range(start=pd.Period(year=0, month=1, freq='M'), end=pd.Period(year=2014, month=12, freq='M'), name='Date')\n",
    "\n",
    "cmip_conc_co2 = cmip_conc_co2.stack()\n",
    "\n",
    "cmip_conc_co2.index = (cmip_conc_co2.index\n",
    "                       .set_levels(cmip_conc_co2.index.levels[1].str[len('data_mean_'):].astype(pd.CategoricalDtype(ordered=True)), level=1)\n",
    "                       .set_names('Area', level=1)\n",
    "                      )\n",
    "\n",
    "cmip_conc_co2 = cmip_conc_co2.reorder_levels(['Area', 'Date', ])\n",
    "cmip_conc_co2.sort_index(inplace=True)\n",
    "\n",
    "cmip_conc_co2.name = 'CO2 concentration'\n",
    "\n",
    "cmip_conc_co2 = cmip_conc_co2.astype('pint[dimensionless]')\n",
    "cmip_conc_co2 *= 1e-6"
   ]
  },
  {
   "cell_type": "code",
   "execution_count": 10,
   "metadata": {
    "execution": {
     "iopub.execute_input": "2020-08-26T10:12:44.003744Z",
     "iopub.status.busy": "2020-08-26T10:12:44.003103Z",
     "iopub.status.idle": "2020-08-26T10:12:44.029198Z",
     "shell.execute_reply": "2020-08-26T10:12:44.028393Z",
     "shell.execute_reply.started": "2020-08-26T10:12:44.003700Z"
    }
   },
   "outputs": [
    {
     "data": {
      "text/plain": [
       "Area    Date   \n",
       "global  0-01       0.00027836643883702005\n",
       "        0-02         0.000278713058010423\n",
       "        0-03         0.000279013835279965\n",
       "        0-04       0.00027920961334856496\n",
       "        0-05         0.000279106444207592\n",
       "                            ...          \n",
       "sh      2014-08    0.00039577037859628094\n",
       "        2014-09      0.000395734959299383\n",
       "        2014-10      0.000395880866547116\n",
       "        2014-11    0.00039605692861724196\n",
       "        2014-12    0.00039616429558609803\n",
       "Name: CO2 concentration, Length: 72540, dtype: pint[dimensionless]"
      ]
     },
     "execution_count": 10,
     "metadata": {},
     "output_type": "execute_result"
    }
   ],
   "source": [
    "cmip_conc_co2"
   ]
  },
  {
   "cell_type": "markdown",
   "metadata": {},
   "source": [
    "### Read in PRIMAPDB"
   ]
  },
  {
   "cell_type": "code",
   "execution_count": 11,
   "metadata": {
    "execution": {
     "iopub.execute_input": "2020-08-26T10:12:44.030594Z",
     "iopub.status.busy": "2020-08-26T10:12:44.030322Z",
     "iopub.status.idle": "2020-08-26T10:12:44.635397Z",
     "shell.execute_reply": "2020-08-26T10:12:44.634596Z",
     "shell.execute_reply.started": "2020-08-26T10:12:44.030568Z"
    }
   },
   "outputs": [],
   "source": [
    "import read_primapdb as rp"
   ]
  },
  {
   "cell_type": "code",
   "execution_count": 12,
   "metadata": {
    "execution": {
     "iopub.execute_input": "2020-08-26T10:12:44.636447Z",
     "iopub.status.busy": "2020-08-26T10:12:44.636250Z",
     "iopub.status.idle": "2020-08-26T10:12:44.639831Z",
     "shell.execute_reply": "2020-08-26T10:12:44.639200Z",
     "shell.execute_reply.started": "2020-08-26T10:12:44.636425Z"
    }
   },
   "outputs": [],
   "source": [
    "mfh = rp.MatFileHandle.from_matfile(p / 'PRIMAPDB.mat')"
   ]
  },
  {
   "cell_type": "code",
   "execution_count": 13,
   "metadata": {
    "execution": {
     "iopub.execute_input": "2020-08-26T10:12:44.641442Z",
     "iopub.status.busy": "2020-08-26T10:12:44.641057Z",
     "iopub.status.idle": "2020-08-26T10:12:44.653753Z",
     "shell.execute_reply": "2020-08-26T10:12:44.653249Z",
     "shell.execute_reply.started": "2020-08-26T10:12:44.641413Z"
    }
   },
   "outputs": [],
   "source": [
    "def extract_df(sheet):\n",
    "    a, df = rp.primap_sheet_to_pandas(sheet)\n",
    "\n",
    "    df = df.stack()\n",
    "    \n",
    "    index = df.index.to_frame()\n",
    "    index.columns = ['Date', 'Area']\n",
    "    index['Area'] = index['Area'].astype(pd.CategoricalDtype(ordered=True))\n",
    "    \n",
    "    try:\n",
    "        index['Date'] = pd.to_datetime(index['Date'], format='%Y')\n",
    "    except ValueError:  # outside the range of datetime64\n",
    "        index['Date'] = [pd.Period(year=x, freq='Y') for x in index['Date']]\n",
    "    \n",
    "    df.index = pd.MultiIndex.from_frame(index)\n",
    "    \n",
    "    df = df.reorder_levels(['Area', 'Date', ])\n",
    "    df.sort_index(inplace=True)\n",
    "    \n",
    "    df.name = a.pop('entity')\n",
    "\n",
    "    unit = a.pop('unit')    \n",
    "    if unit == 'ThousandPers':\n",
    "        df = df.astype('pint[dimensionless]')\n",
    "        df *= 1000\n",
    "    elif unit == 'Gg':\n",
    "        df = df.astype('pint[gigagram]')\n",
    "    elif unit == 't':\n",
    "        df = df.astype('pint[metric_ton]')\n",
    "    elif unit == 'kt':\n",
    "        df = df.astype('pint[kilometric_ton]')\n",
    "    elif unit == 'GgCO2eq':\n",
    "        df = df.astype('pint[Gg]')\n",
    "        df.name = f'{df.name} (CO2eq)'\n",
    "    elif unit == 'ktC':\n",
    "        df = df.astype('pint[kilometric_ton]')\n",
    "        df.name = f'{df.name} (C)'\n",
    "    elif unit in ('2011GKD/Pers', '2011GKD'):  # give up\n",
    "        df = df.astype('pint[dimensionless]')\n",
    "        df.name = f'{df.name} ({unit})'\n",
    "    elif unit == 'MtCO2eq':\n",
    "        df = df.astype('pint[megametric_ton]')\n",
    "        df.name = f'{df.name} (CO2eq)'\n",
    "    else:\n",
    "        raise ValueError(f'unit={unit}')\n",
    "        \n",
    "    return a, df"
   ]
  },
  {
   "cell_type": "code",
   "execution_count": 14,
   "metadata": {
    "execution": {
     "iopub.execute_input": "2020-08-26T10:12:44.654868Z",
     "iopub.status.busy": "2020-08-26T10:12:44.654650Z",
     "iopub.status.idle": "2020-08-26T10:28:53.081365Z",
     "shell.execute_reply": "2020-08-26T10:28:53.080057Z",
     "shell.execute_reply.started": "2020-08-26T10:12:44.654844Z"
    }
   },
   "outputs": [
    {
     "data": {
      "application/vnd.jupyter.widget-view+json": {
       "model_id": "ab20a9d7e18745bb9739e9a3f83e55a6",
       "version_major": 2,
       "version_minor": 0
      },
      "text/plain": [
       "HBox(children=(IntProgress(value=0, max=4118), HTML(value='')))"
      ]
     },
     "metadata": {},
     "output_type": "display_data"
    },
    {
     "name": "stdout",
     "output_type": "stream",
     "text": [
      "\n"
     ]
    }
   ],
   "source": [
    "primap_tables = {}\n",
    "pmd = mfh[\"PRIMAPDB\"][\"mastertable\"][\"datatables\"]\n",
    "for key in tqdm.tqdm_notebook(pmd.group.keys()):\n",
    "    primap_tables[key] = extract_df(pmd[key])"
   ]
  },
  {
   "cell_type": "markdown",
   "metadata": {},
   "source": [
    "### Read in PRIMAP-hist (published)"
   ]
  },
  {
   "cell_type": "code",
   "execution_count": 15,
   "metadata": {
    "execution": {
     "iopub.execute_input": "2020-08-26T10:28:53.084908Z",
     "iopub.status.busy": "2020-08-26T10:28:53.084351Z",
     "iopub.status.idle": "2020-08-26T10:28:53.264306Z",
     "shell.execute_reply": "2020-08-26T10:28:53.263345Z",
     "shell.execute_reply.started": "2020-08-26T10:28:53.084857Z"
    }
   },
   "outputs": [
    {
     "name": "stdout",
     "output_type": "stream",
     "text": [
      "scenario,country,category,entity,unit,1850,1851,1852,1853,1854,1855,1856,1857,1858,1859,1860,1861,1862,1863,1864,1865,1866,1867,1868,1869,1870,1871,1872,1873,1874,1875,1876,1877,1878,1879,1880,1881,1882,1883,1884,1885,1886,1887,1888,1889,1890,1891,1892,1893,1894,1895,1896,1897,1898,1899,1900,1901,1902,1903,1904,1905,1906,1907,1908,1909,1910,1911,1912,1913,1914,1915,1916,1917,1918,1919,1920,1921,1922,1923,1924,1925,1926,1927,1928,1929,1930,1931,1932,1933,1934,1935,1936,1937,1938,1939,1940,1941,1942,1943,1944,1945,1946,1947,1948,1949,1950,1951,1952,1953,1954,1955,1956,1957,1958,1959,1960,1961,1962,1963,1964,1965,1966,1967,1968,1969,1970,1971,1972,1973,1974,1975,1976,1977,1978,1979,1980,1981,1982,1983,1984,1985,1986,1987,1988,1989,1990,1991,1992,1993,1994,1995,1996,1997,1998,1999,2000,2001,2002,2003,2004,2005,2006,2007,2008,2009,2010,2011,2012,2013,2014,2015,2016,2017\n",
      "HISTCR,ABW,IPC1A,CH4,Gg,3.66e-04,3.78e-04,3.90e-04,4.02e-04,4.15e-04,4.28e-04,4.41e-04,4.54e-04,4.68e-04,4.82e-04,4.96e-04,5.10e-04,5.24e-04,5.38e-04,5.53e-04,5.68e-04,5.83e-04,5.98e-04,6.14e-04,6.29e-04,6.45e-04,6.60e-04,6.76e-04,6.93e-04,7.09e-04,7.25e-04,7.42e-04,7.58e-04,7.75e-04,7.92e-04,8.09e-04,8.26e-04,8.43e-04,8.60e-04,8.78e-04,8.95e-04,9.12e-04,9.30e-04,9.48e-04,9.65e-04,1.07e-03,1.11e-03,1.15e-03,1.20e-03,1.25e-03,1.30e-03,1.36e-03,1.41e-03,1.47e-03,1.53e-03,1.60e-03,1.67e-03,1.75e-03,1.83e-03,1.92e-03,2.02e-03,2.11e-03,2.20e-03,2.28e-03,2.36e-03,2.42e-03,2.48e-03,2.53e-03,2.59e-03,2.64e-03,2.69e-03,2.74e-03,2.78e-03,2.81e-03,2.85e-03,2.87e-03,2.90e-03,2.92e-03,2.93e-03,2.95e-03,2.96e-03,2.98e-03,2.99e-03,3.01e-03,3.02e-03,3.04e-03,3.06e-03,3.09e-03,3.11e-03,3.14e-03,3.17e-03,3.20e-03,3.23e-03,3.26e-03,3.28e-03,3.31e-03,3.34e-03,3.36e-03,3.38e-03,3.39e-03,3.41e-03,3.43e-03,3.46e-03,3.49e-03,3.52e-03,3.56e-03,3.64e-03,3.77e-03,3.94e-03,4.15e-03,4.39e-03,4.64e-03,4.91e-03,5.18e-03,5.45e-03,5.70e-03,5.97e-03,6.29e-03,6.64e-03,7.00e-03,7.36e-03,7.69e-03,7.98e-03,8.21e-03,8.37e-03,8.48e-03,8.48e-03,8.38e-03,8.91e-03,8.79e-03,9.72e-03,2.44e-02,2.43e-02,6.20e-02,8.22e-02,1.14e-01,8.48e-02,9.93e-02,9.54e-02,1.10e-01,1.25e-01,9.54e-02,1.16e-01,1.03e-01,1.01e-01,1.06e-01,1.13e-01,1.32e-01,1.35e-01,1.48e-01,1.51e-01,2.07e-02,2.60e-02,4.94e-02,5.13e-02,1.92e-01,1.99e-01,1.97e-01,2.02e-01,1.84e-01,1.87e-01,1.91e-01,2.23e-01,2.34e-01,2.39e-01,2.46e-01,2.43e-01,2.43e-01,2.80e-01,2.91e-01,3.02e-01,3.14e-01,3.25e-01\n",
      "HISTCR,AFG,IPC1A,CH4,Gg,3.17e-02,3.19e-02,3.21e-02,3.23e-02,3.24e-02,3.26e-02,3.28e-02,3.30e-02,3.32e-02,3.34e-02,3.36e-02,3.38e-02,3.40e-02,3.42e-02,3.44e-02,3.46e-02,3.48e-02,3.50e-02,3.52e-02,3.54e-02,3.57e-02,3.59e-02,3.61e-02,3.63e-02,3.65e-02,3.68e-02,3.70e-02,3.72e-02,3.74e-02,3.77e-02,3.79e-02,3.81e-02,3.84e-02,3.86e-02,3.88e-02,3.91e-02,3.93e-02,3.95e-02,3.98e-02,4.00e-02,4.50e-02,4.66e-02,4.84e-02,5.03e-02,5.24e-02,5.46e-02,5.70e-02,5.95e-02,6.21e-02,6.48e-02,6.76e-02,7.07e-02,7.43e-02,7.82e-02,8.24e-02,8.66e-02,9.09e-02,9.50e-02,9.90e-02,1.03e-01,1.06e-01,1.08e-01,1.11e-01,1.13e-01,1.15e-01,1.17e-01,1.19e-01,1.21e-01,1.23e-01,1.26e-01,1.28e-01,1.31e-01,1.33e-01,1.36e-01,1.38e-01,1.41e-01,1.44e-01,1.47e-01,1.51e-01,1.56e-01,1.62e-01,1.72e-01,1.91e-01,2.16e-01,2.47e-01,2.81e-01,3.17e-01,3.54e-01,3.91e-01,4.25e-01,4.55e-01,4.84e-01,5.13e-01,5.42e-01,5.71e-01,6.00e-01,6.28e-01,6.54e-01,6.79e-01,7.02e-01,7.22e-01,7.40e-01,7.54e-01,7.66e-01,7.78e-01,7.89e-01,8.00e-01,8.13e-01,8.29e-01,8.49e-01,8.72e-01,9.23e-01,1.02e+00,1.14e+00,1.28e+00,1.43e+00,1.58e+00,1.71e+00,1.82e+00,1.89e+00,2.56e+00,2.66e+00,2.43e+00,2.71e+00,3.05e+00,2.43e+00,2.45e+00,2.89e+00,3.11e+00,2.74e+00,5.11e+00,5.20e+00,4.90e+00,4.89e+00,4.75e+00,4.09e+00,3.81e+00,3.96e+00,3.94e+00,3.88e+00,4.05e+00,3.79e+00,3.42e+00,3.59e+00,3.86e+00,5.93e+00,7.00e+00,7.25e+00,7.49e+00,7.57e+00,7.58e+00,7.05e+00,8.02e+00,8.49e+00,8.63e+00,9.05e+00,9.17e+00,9.16e+00,9.98e+00,1.08e+01,1.12e+01,1.18e+01,1.20e+01,1.20e+01,1.23e+01,1.27e+01,1.30e+01,1.34e+01\n"
     ]
    }
   ],
   "source": [
    "!head -n3 $p/PRIMAP-hist_v2.1_09-Nov-2019.csv"
   ]
  },
  {
   "cell_type": "code",
   "execution_count": 16,
   "metadata": {
    "execution": {
     "iopub.execute_input": "2020-08-26T10:28:53.266618Z",
     "iopub.status.busy": "2020-08-26T10:28:53.266148Z",
     "iopub.status.idle": "2020-08-26T10:29:13.755680Z",
     "shell.execute_reply": "2020-08-26T10:29:13.754266Z",
     "shell.execute_reply.started": "2020-08-26T10:28:53.266572Z"
    }
   },
   "outputs": [],
   "source": [
    "dtypes = {\n",
    "    'scenario': str,\n",
    "    'country': str,\n",
    "    'category': str,\n",
    "    'entity': str,\n",
    "    'unit': str,\n",
    "}\n",
    "for year in range(1850, 2018):\n",
    "    dtypes[str(year)] = np.float64\n",
    "    \n",
    "prm_emi = pd.read_csv(\n",
    "    p / 'PRIMAP-hist_v2.1_09-Nov-2019.csv',\n",
    "    usecols=dtypes.keys(),\n",
    "    index_col=[0, 1, 2, 3, 4],\n",
    ")\n",
    "\n",
    "prm_emi = prm_emi.stack()\n",
    "\n",
    "index = prm_emi.index.to_frame()\n",
    "index.columns = ['Scenario', 'Area', 'Category', 'Entity', 'Unit', 'Date']\n",
    "index['Date'] = pd.to_datetime(index['Date'], format='%Y')\n",
    "index.loc[index['Unit'] == 'GgCO2eq', 'Entity'] += ' (CO2eq)'\n",
    "index = index.drop('Unit', axis='columns')\n",
    "\n",
    "prm_emi.index = pd.MultiIndex.from_frame(index)\n",
    "prm_emi = prm_emi.reorder_levels(['Area', 'Category', 'Date', 'Entity', 'Scenario'])\n",
    "prm_emi.sort_index(inplace=True)\n",
    "prm_emi.name = 'Emissions'\n",
    "prm_emi = prm_emi.astype('pint[Gg]')"
   ]
  },
  {
   "cell_type": "code",
   "execution_count": 17,
   "metadata": {
    "execution": {
     "iopub.execute_input": "2020-08-26T10:29:13.758583Z",
     "iopub.status.busy": "2020-08-26T10:29:13.757879Z",
     "iopub.status.idle": "2020-08-26T10:29:13.778208Z",
     "shell.execute_reply": "2020-08-26T10:29:13.777204Z",
     "shell.execute_reply.started": "2020-08-26T10:29:13.758520Z"
    }
   },
   "outputs": [
    {
     "data": {
      "text/plain": [
       "Area  Category   Date        Entity               Scenario\n",
       "ABW   IPC1       1850-01-01  CH4                  HISTCR      0.00038700000000000003\n",
       "                                                  HISTTP      0.00038700000000000003\n",
       "                             CO2                  HISTCR                        40.3\n",
       "                                                  HISTTP                        40.3\n",
       "                             KYOTOGHG (CO2eq)     HISTCR                        40.3\n",
       "                                                                       ...          \n",
       "ZWE   IPCMAGELV  2017-01-01  KYOTOGHG (CO2eq)     HISTTP                      6630.0\n",
       "                             KYOTOGHGAR4 (CO2eq)  HISTCR                      6040.0\n",
       "                                                  HISTTP                      6640.0\n",
       "                             N2O                  HISTCR                        15.6\n",
       "                                                  HISTTP                        17.6\n",
       "Name: Emissions, Length: 4990924, dtype: pint[gigagram]"
      ]
     },
     "execution_count": 17,
     "metadata": {},
     "output_type": "execute_result"
    }
   ],
   "source": [
    "prm_emi"
   ]
  },
  {
   "cell_type": "markdown",
   "metadata": {},
   "source": [
    "## Measure memory use"
   ]
  },
  {
   "cell_type": "code",
   "execution_count": 18,
   "metadata": {
    "execution": {
     "iopub.execute_input": "2020-08-26T10:29:13.780846Z",
     "iopub.status.busy": "2020-08-26T10:29:13.780418Z",
     "iopub.status.idle": "2020-08-26T10:29:13.971321Z",
     "shell.execute_reply": "2020-08-26T10:29:13.969552Z",
     "shell.execute_reply.started": "2020-08-26T10:29:13.780809Z"
    }
   },
   "outputs": [],
   "source": [
    "!mkdir -p mem"
   ]
  },
  {
   "cell_type": "code",
   "execution_count": 19,
   "metadata": {
    "execution": {
     "iopub.execute_input": "2020-08-26T10:29:13.975216Z",
     "iopub.status.busy": "2020-08-26T10:29:13.974335Z",
     "iopub.status.idle": "2020-08-26T10:29:20.228898Z",
     "shell.execute_reply": "2020-08-26T10:29:20.227778Z",
     "shell.execute_reply.started": "2020-08-26T10:29:13.975153Z"
    }
   },
   "outputs": [],
   "source": [
    "import pickle\n",
    "\n",
    "for fpath, obj in (\n",
    "    ('fao_emi_total.pck', fao_emi_total),\n",
    "    ('lak_emi_energy.pck', lak_emi_energy),\n",
    "    ('cmip_conc_co2.pck', cmip_conc_co2),\n",
    "    ('primap_tables.pck', primap_tables),\n",
    "    ('prm_emi.pck', prm_emi), \n",
    "):\n",
    "    with open(f'mem/{fpath}', 'wb') as fd:\n",
    "        pickle.dump(obj, fd, -1)"
   ]
  },
  {
   "cell_type": "code",
   "execution_count": 20,
   "metadata": {
    "execution": {
     "iopub.execute_input": "2020-08-26T10:29:20.230627Z",
     "iopub.status.busy": "2020-08-26T10:29:20.230300Z",
     "iopub.status.idle": "2020-08-26T10:29:20.462853Z",
     "shell.execute_reply": "2020-08-26T10:29:20.458336Z",
     "shell.execute_reply.started": "2020-08-26T10:29:20.230596Z"
    }
   },
   "outputs": [
    {
     "name": "stdout",
     "output_type": "stream",
     "text": [
      "total 320M\n",
      "drwxrwxr-x 2 pflueger pflueger 4,0K Aug 24 20:15 .\n",
      "drwxrwxr-x 7 pflueger pflueger 4,0K Aug 26 12:13 ..\n",
      "-rw-rw-r-- 1 pflueger pflueger 1,2M Aug 26 12:29 cmip_conc_co2.pck\n",
      "-rw-rw-r-- 1 pflueger pflueger 8,8M Aug 26 12:29 fao_emi_total.pck\n",
      "-rw-rw-r-- 1 pflueger pflueger  40K Aug 26 12:29 lak_emi_energy.pck\n",
      "-rw-rw-r-- 1 pflueger pflueger 205M Aug 26 12:29 primap_tables.pck\n",
      "-rw-rw-r-- 1 pflueger pflueger 105M Aug 26 12:29 prm_emi.pck\n"
     ]
    }
   ],
   "source": [
    "!ls -lah mem/"
   ]
  },
  {
   "cell_type": "code",
   "execution_count": 21,
   "metadata": {
    "execution": {
     "iopub.execute_input": "2020-08-26T10:29:20.465304Z",
     "iopub.status.busy": "2020-08-26T10:29:20.464787Z",
     "iopub.status.idle": "2020-08-26T10:29:20.749430Z",
     "shell.execute_reply": "2020-08-26T10:29:20.745433Z",
     "shell.execute_reply.started": "2020-08-26T10:29:20.465235Z"
    }
   },
   "outputs": [
    {
     "name": "stdout",
     "output_type": "stream",
     "text": [
      "total 308M\n",
      "drwxrwxr-x 2 pflueger pflueger 4,0K Aug 21 15:35 .\n",
      "drwxrwxr-x 5 pflueger pflueger 4,0K Aug 21 15:35 ..\n",
      "-rw-rw-r-- 1 pflueger pflueger  10M Aug 28  2019 Emissions_Agriculture_Agriculture_total_E_All_Data.csv\n",
      "-rw-rw---- 1 pflueger pflueger   41 Aug 19 18:34 .gitattributes\n",
      "-rw-rw-r-- 1 pflueger pflueger  52K Aug 19 11:08 lak-download.csv\n",
      "-rw-rw-r-- 1 pflueger pflueger 2,1M Aug 21 09:54 mole_fraction_of_carbon_dioxide_in_air_input4MIPs_GHGConcentrations_CMIP_UoM-CMIP-1-1-0_gr3-GMNHSH_000001-201412.csv\n",
      "-rw-rw-r-- 1 pflueger pflueger 254M Aug 12 08:44 PRIMAPDB.mat\n",
      "-rw-r--r-- 1 pflueger pflueger  44M Nov  9  2019 PRIMAP-hist_v2.1_09-Nov-2019.csv\n"
     ]
    }
   ],
   "source": [
    "!ls -lah $p"
   ]
  },
  {
   "cell_type": "markdown",
   "metadata": {},
   "source": [
    "## I/O"
   ]
  },
  {
   "cell_type": "markdown",
   "metadata": {},
   "source": [
    "* export the data sets to CSV\n",
    "* reimport from CSV\n",
    "* export the data sets to some kind of native storage format\n",
    "* reimport from the native storage format"
   ]
  },
  {
   "cell_type": "markdown",
   "metadata": {},
   "source": [
    "### export to CSV"
   ]
  },
  {
   "cell_type": "markdown",
   "metadata": {
    "execution": {
     "iopub.execute_input": "2020-08-25T16:14:49.830288Z",
     "iopub.status.busy": "2020-08-25T16:14:49.829571Z",
     "iopub.status.idle": "2020-08-25T16:15:04.973469Z",
     "shell.execute_reply": "2020-08-25T16:15:04.972908Z",
     "shell.execute_reply.started": "2020-08-25T16:14:49.830215Z"
    }
   },
   "source": [
    "* df.to_csv does not save pint unit"
   ]
  },
  {
   "cell_type": "code",
   "execution_count": 22,
   "metadata": {
    "execution": {
     "iopub.execute_input": "2020-08-26T10:29:20.756586Z",
     "iopub.status.busy": "2020-08-26T10:29:20.754459Z",
     "iopub.status.idle": "2020-08-26T10:29:50.733597Z",
     "shell.execute_reply": "2020-08-26T10:29:50.732668Z",
     "shell.execute_reply.started": "2020-08-26T10:29:20.756410Z"
    }
   },
   "outputs": [],
   "source": [
    "!mkdir -p csv/\n",
    "\n",
    "for fpath, obj in (\n",
    "    ('fao_emi_total.csv', fao_emi_total),\n",
    "    ('lak_emi_energy.csv', lak_emi_energy),\n",
    "    ('cmip_conc_co2.csv', cmip_conc_co2),\n",
    "    ('prm_emi.csv', prm_emi), \n",
    "):\n",
    "    obj.to_csv(f'csv/{fpath}', header=[f'{obj.name}/{obj.pint.units}'])"
   ]
  },
  {
   "cell_type": "code",
   "execution_count": 23,
   "metadata": {
    "execution": {
     "iopub.execute_input": "2020-08-26T10:29:50.735939Z",
     "iopub.status.busy": "2020-08-26T10:29:50.735501Z",
     "iopub.status.idle": "2020-08-26T10:31:22.133603Z",
     "shell.execute_reply": "2020-08-26T10:31:22.132662Z",
     "shell.execute_reply.started": "2020-08-26T10:29:50.735890Z"
    }
   },
   "outputs": [
    {
     "data": {
      "application/vnd.jupyter.widget-view+json": {
       "model_id": "131fcb9a1388466485381b7f48b8e604",
       "version_major": 2,
       "version_minor": 0
      },
      "text/plain": [
       "HBox(children=(IntProgress(value=0, max=4118), HTML(value='')))"
      ]
     },
     "metadata": {},
     "output_type": "display_data"
    },
    {
     "name": "stdout",
     "output_type": "stream",
     "text": [
      "\n"
     ]
    }
   ],
   "source": [
    "!mkdir -p csv/primap_tables/\n",
    "\n",
    "for key, (meta, df) in tqdm.tqdm_notebook(primap_tables.items()):\n",
    "    df.to_csv(f'csv/primap_tables/{key}.csv', header=[f'{df.name}/{df.pint.units}'])\n",
    "    with open(f'csv/primap_tables/{key}_meta.csv', 'w') as fd:\n",
    "        fd.write('key,value\\n')\n",
    "        for k, v in meta.items():\n",
    "            fd.write(f'{k},{v}\\n')"
   ]
  },
  {
   "cell_type": "code",
   "execution_count": 24,
   "metadata": {
    "execution": {
     "iopub.execute_input": "2020-08-26T10:31:22.135668Z",
     "iopub.status.busy": "2020-08-26T10:31:22.135258Z",
     "iopub.status.idle": "2020-08-26T10:31:22.380712Z",
     "shell.execute_reply": "2020-08-26T10:31:22.378189Z",
     "shell.execute_reply.started": "2020-08-26T10:31:22.135632Z"
    }
   },
   "outputs": [
    {
     "name": "stdout",
     "output_type": "stream",
     "text": [
      "2,4M\tcsv/cmip_conc_co2.csv\n",
      "30M\tcsv/fao_emi_total.csv\n",
      "148K\tcsv/lak_emi_energy.csv\n",
      "402M\tcsv/primap_tables\n",
      "218M\tcsv/prm_emi.csv\n"
     ]
    }
   ],
   "source": [
    "!du -sh csv/*"
   ]
  },
  {
   "cell_type": "markdown",
   "metadata": {},
   "source": [
    "### reimport from CSV"
   ]
  },
  {
   "cell_type": "code",
   "execution_count": 25,
   "metadata": {
    "execution": {
     "iopub.execute_input": "2020-08-26T10:31:22.389495Z",
     "iopub.status.busy": "2020-08-26T10:31:22.386968Z",
     "iopub.status.idle": "2020-08-26T10:31:22.402807Z",
     "shell.execute_reply": "2020-08-26T10:31:22.401042Z",
     "shell.execute_reply.started": "2020-08-26T10:31:22.389215Z"
    }
   },
   "outputs": [],
   "source": [
    "def csv_to_series(fpath):\n",
    "    with open(fpath) as fd:\n",
    "        ncol = len(fd.readline().split(','))\n",
    "    ser = pd.read_csv(fpath, parse_dates=['Date'], index_col=list(range(0, ncol-1)), squeeze=True)\n",
    "    name, unit = ser.name.rsplit('/', 1)\n",
    "    ser.name = name\n",
    "    ser = ser.astype(f'pint[{unit}]')\n",
    "    return ser"
   ]
  },
  {
   "cell_type": "code",
   "execution_count": 26,
   "metadata": {
    "execution": {
     "iopub.execute_input": "2020-08-26T10:31:22.406476Z",
     "iopub.status.busy": "2020-08-26T10:31:22.405909Z",
     "iopub.status.idle": "2020-08-26T10:31:23.513398Z",
     "shell.execute_reply": "2020-08-26T10:31:23.512354Z",
     "shell.execute_reply.started": "2020-08-26T10:31:22.406414Z"
    }
   },
   "outputs": [],
   "source": [
    "fao_emi_total_r = csv_to_series('csv/fao_emi_total.csv')"
   ]
  },
  {
   "cell_type": "code",
   "execution_count": 27,
   "metadata": {
    "execution": {
     "iopub.execute_input": "2020-08-26T10:31:23.515255Z",
     "iopub.status.busy": "2020-08-26T10:31:23.514866Z",
     "iopub.status.idle": "2020-08-26T10:31:23.552991Z",
     "shell.execute_reply": "2020-08-26T10:31:23.551080Z",
     "shell.execute_reply.started": "2020-08-26T10:31:23.515219Z"
    }
   },
   "outputs": [],
   "source": [
    "lak_emi_energy_r = csv_to_series('csv/lak_emi_energy.csv')"
   ]
  },
  {
   "cell_type": "code",
   "execution_count": 28,
   "metadata": {
    "execution": {
     "iopub.execute_input": "2020-08-26T10:31:23.557257Z",
     "iopub.status.busy": "2020-08-26T10:31:23.556294Z",
     "iopub.status.idle": "2020-08-26T10:31:23.809791Z",
     "shell.execute_reply": "2020-08-26T10:31:23.807211Z",
     "shell.execute_reply.started": "2020-08-26T10:31:23.557186Z"
    }
   },
   "outputs": [],
   "source": [
    "cmip_conc_co2_r = csv_to_series('csv/cmip_conc_co2.csv')\n",
    "# Date is column of str objects, not PeriodIndex"
   ]
  },
  {
   "cell_type": "code",
   "execution_count": 29,
   "metadata": {
    "execution": {
     "iopub.execute_input": "2020-08-26T10:31:23.812624Z",
     "iopub.status.busy": "2020-08-26T10:31:23.812089Z",
     "iopub.status.idle": "2020-08-26T10:31:33.438326Z",
     "shell.execute_reply": "2020-08-26T10:31:33.437382Z",
     "shell.execute_reply.started": "2020-08-26T10:31:23.812577Z"
    }
   },
   "outputs": [],
   "source": [
    "prm_emi_r = csv_to_series('csv/prm_emi.csv')"
   ]
  },
  {
   "cell_type": "code",
   "execution_count": 30,
   "metadata": {
    "execution": {
     "iopub.execute_input": "2020-08-26T10:31:33.439984Z",
     "iopub.status.busy": "2020-08-26T10:31:33.439703Z",
     "iopub.status.idle": "2020-08-26T10:32:27.562310Z",
     "shell.execute_reply": "2020-08-26T10:32:27.561537Z",
     "shell.execute_reply.started": "2020-08-26T10:31:33.439955Z"
    }
   },
   "outputs": [
    {
     "data": {
      "application/vnd.jupyter.widget-view+json": {
       "model_id": "21bc607e8bf44caf9dd1dbbfd4811482",
       "version_major": 2,
       "version_minor": 0
      },
      "text/plain": [
       "HBox(children=(IntProgress(value=0, max=4118), HTML(value='')))"
      ]
     },
     "metadata": {},
     "output_type": "display_data"
    },
    {
     "name": "stdout",
     "output_type": "stream",
     "text": [
      "\n"
     ]
    }
   ],
   "source": [
    "primap_tables_r = {}\n",
    "import glob\n",
    "import pathlib\n",
    "\n",
    "for meta_path in tqdm.tqdm_notebook(glob.glob('csv/primap_tables/*_meta.csv')):\n",
    "    mp = pathlib.Path(meta_path)\n",
    "    key = mp.name[:-9]\n",
    "    ser = csv_to_series(mp.with_name(f'{key}.csv'))\n",
    "    meta = {}\n",
    "    with mp.open() as fd:\n",
    "        fd.readline()\n",
    "        for l in fd.readlines():\n",
    "            k, v = l.split(',', 1)\n",
    "            meta[k] = v[:-1]\n",
    "    primap_tables_r[key] = (meta, ser)"
   ]
  },
  {
   "cell_type": "markdown",
   "metadata": {
    "execution": {
     "iopub.execute_input": "2020-08-26T08:00:02.016751Z",
     "iopub.status.busy": "2020-08-26T08:00:02.016239Z",
     "iopub.status.idle": "2020-08-26T08:00:02.213656Z",
     "shell.execute_reply": "2020-08-26T08:00:02.210034Z",
     "shell.execute_reply.started": "2020-08-26T08:00:02.016711Z"
    }
   },
   "source": [
    "### export to native storage format"
   ]
  },
  {
   "cell_type": "markdown",
   "metadata": {
    "execution": {
     "iopub.execute_input": "2020-08-26T08:56:27.643761Z",
     "iopub.status.busy": "2020-08-26T08:56:27.643324Z",
     "iopub.status.idle": "2020-08-26T08:56:27.980284Z",
     "shell.execute_reply": "2020-08-26T08:56:27.979531Z",
     "shell.execute_reply.started": "2020-08-26T08:56:27.643721Z"
    }
   },
   "source": [
    "* with pint, all of the advanced storage formats hdf/feather/parquet do not work\n",
    "* would need upstream fixes I guess\n",
    "* pickle is native, works"
   ]
  },
  {
   "cell_type": "code",
   "execution_count": 31,
   "metadata": {
    "execution": {
     "iopub.execute_input": "2020-08-26T10:32:27.563996Z",
     "iopub.status.busy": "2020-08-26T10:32:27.563593Z",
     "iopub.status.idle": "2020-08-26T10:33:18.206382Z",
     "shell.execute_reply": "2020-08-26T10:33:18.205438Z",
     "shell.execute_reply.started": "2020-08-26T10:32:27.563965Z"
    }
   },
   "outputs": [],
   "source": [
    "!mkdir -p pickle/\n",
    "\n",
    "for fpath, obj in (\n",
    "    ('fao_emi_total', fao_emi_total),\n",
    "    ('lak_emi_energy', lak_emi_energy),\n",
    "    ('cmip_conc_co2', cmip_conc_co2),\n",
    "    ('prm_emi', prm_emi), \n",
    "):\n",
    "    obj.to_pickle(f'pickle/{fpath}.pickle.xz', compression={'method': 'xz', 'preset': 1})"
   ]
  },
  {
   "cell_type": "code",
   "execution_count": 32,
   "metadata": {
    "execution": {
     "iopub.execute_input": "2020-08-26T10:33:18.211074Z",
     "iopub.status.busy": "2020-08-26T10:33:18.210746Z",
     "iopub.status.idle": "2020-08-26T10:33:18.538996Z",
     "shell.execute_reply": "2020-08-26T10:33:18.537751Z",
     "shell.execute_reply.started": "2020-08-26T10:33:18.211032Z"
    }
   },
   "outputs": [],
   "source": [
    "for fpath, obj in (\n",
    "    ('fao_emi_total', fao_emi_total),\n",
    "    ('lak_emi_energy', lak_emi_energy),\n",
    "    ('cmip_conc_co2', cmip_conc_co2),\n",
    "    ('prm_emi', prm_emi), \n",
    "):\n",
    "    obj.to_pickle(f'pickle/{fpath}.pickle')"
   ]
  },
  {
   "cell_type": "code",
   "execution_count": 33,
   "metadata": {
    "execution": {
     "iopub.execute_input": "2020-08-26T10:33:18.541306Z",
     "iopub.status.busy": "2020-08-26T10:33:18.540516Z",
     "iopub.status.idle": "2020-08-26T10:33:21.763430Z",
     "shell.execute_reply": "2020-08-26T10:33:21.762179Z",
     "shell.execute_reply.started": "2020-08-26T10:33:18.541253Z"
    }
   },
   "outputs": [],
   "source": [
    "import zstandard\n",
    "for fpath, obj in (\n",
    "    ('fao_emi_total', fao_emi_total),\n",
    "    ('lak_emi_energy', lak_emi_energy),\n",
    "    ('cmip_conc_co2', cmip_conc_co2),\n",
    "    ('prm_emi', prm_emi), \n",
    "):\n",
    "    with open(f'pickle/{fpath}.pickle.zstd', 'wb') as fd:\n",
    "        zstc = zstandard.ZstdCompressor(level=6, write_checksum=True)\n",
    "        fd.write(zstc.compress(pickle.dumps(obj)))"
   ]
  },
  {
   "cell_type": "code",
   "execution_count": 34,
   "metadata": {
    "execution": {
     "iopub.execute_input": "2020-08-26T10:33:21.765318Z",
     "iopub.status.busy": "2020-08-26T10:33:21.764901Z",
     "iopub.status.idle": "2020-08-26T10:34:07.632340Z",
     "shell.execute_reply": "2020-08-26T10:34:07.629034Z",
     "shell.execute_reply.started": "2020-08-26T10:33:21.765277Z"
    }
   },
   "outputs": [],
   "source": [
    "import lzma\n",
    "with lzma.open('pickle/primap_tables.pickle.xz', 'wb', preset=1) as fd:\n",
    "    pickle.dump(primap_tables, fd)"
   ]
  },
  {
   "cell_type": "code",
   "execution_count": 35,
   "metadata": {
    "execution": {
     "iopub.execute_input": "2020-08-26T10:34:07.637005Z",
     "iopub.status.busy": "2020-08-26T10:34:07.635876Z",
     "iopub.status.idle": "2020-08-26T10:34:14.208632Z",
     "shell.execute_reply": "2020-08-26T10:34:14.202445Z",
     "shell.execute_reply.started": "2020-08-26T10:34:07.636869Z"
    }
   },
   "outputs": [],
   "source": [
    "with open('pickle/primap_tables.pickle', 'wb') as fd:\n",
    "    pickle.dump(primap_tables, fd)"
   ]
  },
  {
   "cell_type": "code",
   "execution_count": 36,
   "metadata": {
    "execution": {
     "iopub.execute_input": "2020-08-26T10:34:14.213393Z",
     "iopub.status.busy": "2020-08-26T10:34:14.212843Z",
     "iopub.status.idle": "2020-08-26T10:34:27.352802Z",
     "shell.execute_reply": "2020-08-26T10:34:27.351535Z",
     "shell.execute_reply.started": "2020-08-26T10:34:14.213337Z"
    }
   },
   "outputs": [],
   "source": [
    "with open('pickle/primap_tables.pickle.zstd', 'wb') as fd:\n",
    "    zstc = zstandard.ZstdCompressor(level=6, write_checksum=True)\n",
    "    fd.write(zstc.compress(pickle.dumps(primap_tables)))"
   ]
  },
  {
   "cell_type": "code",
   "execution_count": 37,
   "metadata": {
    "execution": {
     "iopub.execute_input": "2020-08-26T10:34:27.359026Z",
     "iopub.status.busy": "2020-08-26T10:34:27.357283Z",
     "iopub.status.idle": "2020-08-26T10:34:27.643405Z",
     "shell.execute_reply": "2020-08-26T10:34:27.640800Z",
     "shell.execute_reply.started": "2020-08-26T10:34:27.358853Z"
    }
   },
   "outputs": [
    {
     "name": "stdout",
     "output_type": "stream",
     "text": [
      "total 456M\n",
      "drwxrwxr-x 2 pflueger pflueger 4,0K Aug 26 11:59 .\n",
      "drwxrwxr-x 7 pflueger pflueger 4,0K Aug 26 12:33 ..\n",
      "-rw-rw-r-- 1 pflueger pflueger 1,2M Aug 26 12:33 cmip_conc_co2.pickle\n",
      "-rw-rw-r-- 1 pflueger pflueger 433K Aug 26 12:32 cmip_conc_co2.pickle.xz\n",
      "-rw-rw-r-- 1 pflueger pflueger 577K Aug 26 12:33 cmip_conc_co2.pickle.zstd\n",
      "-rw-rw-r-- 1 pflueger pflueger 8,8M Aug 26 12:33 fao_emi_total.pickle\n",
      "-rw-rw-r-- 1 pflueger pflueger 1,4M Aug 26 12:32 fao_emi_total.pickle.xz\n",
      "-rw-rw-r-- 1 pflueger pflueger 2,0M Aug 26 12:33 fao_emi_total.pickle.zstd\n",
      "-rw-rw-r-- 1 pflueger pflueger  40K Aug 26 12:33 lak_emi_energy.pickle\n",
      "-rw-rw-r-- 1 pflueger pflueger  18K Aug 26 12:32 lak_emi_energy.pickle.xz\n",
      "-rw-rw-r-- 1 pflueger pflueger  19K Aug 26 12:33 lak_emi_energy.pickle.zstd\n",
      "-rw-rw-r-- 1 pflueger pflueger 205M Aug 26 12:34 primap_tables.pickle\n",
      "-rw-rw-r-- 1 pflueger pflueger  58M Aug 26 12:34 primap_tables.pickle.xz\n",
      "-rw-rw-r-- 1 pflueger pflueger  59M Aug 26 12:34 primap_tables.pickle.zstd\n",
      "-rw-rw-r-- 1 pflueger pflueger 105M Aug 26 12:33 prm_emi.pickle\n",
      "-rw-rw-r-- 1 pflueger pflueger 5,4M Aug 26 12:33 prm_emi.pickle.xz\n",
      "-rw-rw-r-- 1 pflueger pflueger  11M Aug 26 12:33 prm_emi.pickle.zstd\n"
     ]
    }
   ],
   "source": [
    "!ls -lah pickle/"
   ]
  },
  {
   "cell_type": "markdown",
   "metadata": {},
   "source": [
    "### Reimport from native storage format"
   ]
  },
  {
   "cell_type": "code",
   "execution_count": 38,
   "metadata": {
    "execution": {
     "iopub.execute_input": "2020-08-26T10:34:27.646008Z",
     "iopub.status.busy": "2020-08-26T10:34:27.645632Z",
     "iopub.status.idle": "2020-08-26T10:34:28.332818Z",
     "shell.execute_reply": "2020-08-26T10:34:28.331532Z",
     "shell.execute_reply.started": "2020-08-26T10:34:27.645971Z"
    }
   },
   "outputs": [],
   "source": [
    "fao_emi_total_n = pd.read_pickle('pickle/fao_emi_total.pickle')\n",
    "lak_emi_energy_n = pd.read_pickle('pickle/lak_emi_energy.pickle')\n",
    "cmip_conc_co2_n = pd.read_pickle('pickle/cmip_conc_co2.pickle')\n",
    "prm_emi_n = pd.read_pickle('pickle/prm_emi.pickle')"
   ]
  },
  {
   "cell_type": "code",
   "execution_count": 39,
   "metadata": {
    "execution": {
     "iopub.execute_input": "2020-08-26T10:34:28.334934Z",
     "iopub.status.busy": "2020-08-26T10:34:28.334429Z",
     "iopub.status.idle": "2020-08-26T10:34:28.961402Z",
     "shell.execute_reply": "2020-08-26T10:34:28.960235Z",
     "shell.execute_reply.started": "2020-08-26T10:34:28.334880Z"
    }
   },
   "outputs": [],
   "source": [
    "def read_zstd_pickle(fpath):\n",
    "    with open(fpath, 'rb') as fd:\n",
    "        zstd = zstandard.ZstdDecompressor()\n",
    "        with zstd.stream_reader(fd) as fh:\n",
    "            return pickle.load(fh)\n",
    "        \n",
    "fao_emi_total_n = read_zstd_pickle('pickle/fao_emi_total.pickle.zstd')\n",
    "lak_emi_energy_n = read_zstd_pickle('pickle/lak_emi_energy.pickle.zstd')\n",
    "cmip_conc_co2_n = read_zstd_pickle('pickle/cmip_conc_co2.pickle.zstd')\n",
    "prm_emi_n = read_zstd_pickle('pickle/prm_emi.pickle.zstd')"
   ]
  },
  {
   "cell_type": "code",
   "execution_count": 40,
   "metadata": {
    "execution": {
     "iopub.execute_input": "2020-08-26T10:34:28.963605Z",
     "iopub.status.busy": "2020-08-26T10:34:28.963110Z",
     "iopub.status.idle": "2020-08-26T10:34:48.080602Z",
     "shell.execute_reply": "2020-08-26T10:34:48.079779Z",
     "shell.execute_reply.started": "2020-08-26T10:34:28.963553Z"
    }
   },
   "outputs": [],
   "source": [
    "with lzma.open('pickle/primap_tables.pickle.xz', 'rb') as fd:\n",
    "    primap_tables_n = pickle.load(fd)"
   ]
  },
  {
   "cell_type": "code",
   "execution_count": 41,
   "metadata": {
    "execution": {
     "iopub.execute_input": "2020-08-26T10:34:48.083259Z",
     "iopub.status.busy": "2020-08-26T10:34:48.082805Z",
     "iopub.status.idle": "2020-08-26T10:34:59.306522Z",
     "shell.execute_reply": "2020-08-26T10:34:59.305838Z",
     "shell.execute_reply.started": "2020-08-26T10:34:48.083222Z"
    }
   },
   "outputs": [],
   "source": [
    "primap_tables_n = read_zstd_pickle('pickle/primap_tables.pickle.zstd')"
   ]
  },
  {
   "cell_type": "markdown",
   "metadata": {},
   "source": [
    "# interactive analysis and plotting\n",
    "* add / subtract / divide / multiply compatible, overlapping data sets\n",
    "* timeit\n",
    "* plot a historical time series, and something akin to gapminder (countries on a gdp vs emissions plot)\n",
    "* select datasets which contain data on the N2O emissions of Finland\n",
    "* in a selected dataset, select years in which the N2O emissions of Finland were above the 1950-2000 average\n",
    "* resample non-yearly dataset to yearly dataset\n",
    "* convert a dataset to tidy format"
   ]
  },
  {
   "cell_type": "markdown",
   "metadata": {},
   "source": [
    "## aligned arithmetic"
   ]
  },
  {
   "cell_type": "code",
   "execution_count": 88,
   "metadata": {
    "execution": {
     "iopub.execute_input": "2020-08-26T15:48:51.073830Z",
     "iopub.status.busy": "2020-08-26T15:48:51.073176Z",
     "iopub.status.idle": "2020-08-26T15:48:51.080115Z",
     "shell.execute_reply": "2020-08-26T15:48:51.079254Z",
     "shell.execute_reply.started": "2020-08-26T15:48:51.073769Z"
    }
   },
   "outputs": [],
   "source": [
    "prm_emif = prm_emi.to_frame()"
   ]
  },
  {
   "cell_type": "code",
   "execution_count": 89,
   "metadata": {
    "execution": {
     "iopub.execute_input": "2020-08-26T15:48:57.783331Z",
     "iopub.status.busy": "2020-08-26T15:48:57.782785Z",
     "iopub.status.idle": "2020-08-26T15:48:57.851387Z",
     "shell.execute_reply": "2020-08-26T15:48:57.850524Z",
     "shell.execute_reply.started": "2020-08-26T15:48:57.783277Z"
    }
   },
   "outputs": [],
   "source": [
    "# extract two comptaible, partly overlapping data sets from primap-hist\n",
    "a = (prm_emif.xs('IPC1', level='Category')\n",
    "             .xs(slice('1900', '1990'), level='Date')\n",
    "             .xs('CO2', level='Entity')\n",
    "             .xs('HISTCR', level='Scenario')\n",
    ")"
   ]
  },
  {
   "cell_type": "code",
   "execution_count": 90,
   "metadata": {
    "execution": {
     "iopub.execute_input": "2020-08-26T15:49:00.789741Z",
     "iopub.status.busy": "2020-08-26T15:49:00.788885Z",
     "iopub.status.idle": "2020-08-26T15:49:01.234088Z",
     "shell.execute_reply": "2020-08-26T15:49:01.233693Z",
     "shell.execute_reply.started": "2020-08-26T15:49:00.789621Z"
    }
   },
   "outputs": [],
   "source": [
    "# alternative spelling\n",
    "a = prm_emif.xs(('IPC1', slice('1900', '1990'), 'CO2', 'HISTCR'), level=('Category', 'Date', 'Entity', 'Scenario'))"
   ]
  },
  {
   "cell_type": "code",
   "execution_count": 104,
   "metadata": {
    "execution": {
     "iopub.execute_input": "2020-08-26T15:56:15.589559Z",
     "iopub.status.busy": "2020-08-26T15:56:15.589143Z",
     "iopub.status.idle": "2020-08-26T15:56:16.696126Z",
     "shell.execute_reply": "2020-08-26T15:56:16.695515Z",
     "shell.execute_reply.started": "2020-08-26T15:56:15.589532Z"
    }
   },
   "outputs": [],
   "source": [
    "# alternative spelling\n",
    "a = prm_emif.query(\n",
    "    \"Category == 'IPC1' and \"\n",
    "    \"'1900' < Date < '1990' and \"\n",
    "    \"Entity == 'CO2' and \"\n",
    "    \"Scenario == 'HISTCR'\"\n",
    ")"
   ]
  },
  {
   "cell_type": "code",
   "execution_count": 125,
   "metadata": {
    "execution": {
     "iopub.execute_input": "2020-08-26T16:01:16.990702Z",
     "iopub.status.busy": "2020-08-26T16:01:16.989422Z",
     "iopub.status.idle": "2020-08-26T16:01:17.231838Z",
     "shell.execute_reply": "2020-08-26T16:01:17.231427Z",
     "shell.execute_reply.started": "2020-08-26T16:01:16.990565Z"
    }
   },
   "outputs": [],
   "source": [
    "# alternative spelling\n",
    "a = prm_emi.loc[:, \n",
    "                'IPC1',\n",
    "                '1900':'1990',\n",
    "                'CO2',\n",
    "                'HISTCR'\n",
    "               ]"
   ]
  },
  {
   "cell_type": "code",
   "execution_count": 126,
   "metadata": {
    "execution": {
     "iopub.execute_input": "2020-08-26T16:01:18.007268Z",
     "iopub.status.busy": "2020-08-26T16:01:18.006239Z",
     "iopub.status.idle": "2020-08-26T16:01:18.139627Z",
     "shell.execute_reply": "2020-08-26T16:01:18.138175Z",
     "shell.execute_reply.started": "2020-08-26T16:01:18.007150Z"
    }
   },
   "outputs": [],
   "source": [
    "b = prm_emi.loc[['DEU', 'FIN', 'ZWE']]"
   ]
  },
  {
   "cell_type": "code",
   "execution_count": 127,
   "metadata": {
    "execution": {
     "iopub.execute_input": "2020-08-26T16:01:18.480944Z",
     "iopub.status.busy": "2020-08-26T16:01:18.480547Z",
     "iopub.status.idle": "2020-08-26T16:01:18.500099Z",
     "shell.execute_reply": "2020-08-26T16:01:18.499066Z",
     "shell.execute_reply.started": "2020-08-26T16:01:18.480909Z"
    }
   },
   "outputs": [
    {
     "data": {
      "text/plain": [
       "Area  Category  Date        Entity  Scenario\n",
       "ABW   IPC1      1900-01-01  CO2     HISTCR        446.0\n",
       "                1901-01-01  CO2     HISTCR        467.0\n",
       "                1902-01-01  CO2     HISTCR        491.0\n",
       "                1903-01-01  CO2     HISTCR        517.0\n",
       "                1904-01-01  CO2     HISTCR        544.0\n",
       "                                                 ...   \n",
       "ZWE   IPC1      1986-01-01  CO2     HISTCR      11400.0\n",
       "                1987-01-01  CO2     HISTCR      13000.0\n",
       "                1988-01-01  CO2     HISTCR      13600.0\n",
       "                1989-01-01  CO2     HISTCR      13700.0\n",
       "                1990-01-01  CO2     HISTCR      13200.0\n",
       "Name: Emissions, Length: 19474, dtype: pint[gigagram]"
      ]
     },
     "execution_count": 127,
     "metadata": {},
     "output_type": "execute_result"
    }
   ],
   "source": [
    "a"
   ]
  },
  {
   "cell_type": "code",
   "execution_count": 128,
   "metadata": {
    "execution": {
     "iopub.execute_input": "2020-08-26T16:01:21.253497Z",
     "iopub.status.busy": "2020-08-26T16:01:21.252992Z",
     "iopub.status.idle": "2020-08-26T16:01:21.273334Z",
     "shell.execute_reply": "2020-08-26T16:01:21.272560Z",
     "shell.execute_reply.started": "2020-08-26T16:01:21.253455Z"
    }
   },
   "outputs": [
    {
     "data": {
      "text/plain": [
       "Area  Category   Date        Entity               Scenario\n",
       "DEU   IPC1       1850-01-01  CH4                  HISTCR        420.0\n",
       "                                                  HISTTP        445.0\n",
       "                             CO2                  HISTCR      14800.0\n",
       "                                                  HISTTP      15200.0\n",
       "                             KYOTOGHG (CO2eq)     HISTCR      24100.0\n",
       "                                                               ...   \n",
       "ZWE   IPCMAGELV  2017-01-01  KYOTOGHG (CO2eq)     HISTTP       6630.0\n",
       "                             KYOTOGHGAR4 (CO2eq)  HISTCR       6040.0\n",
       "                                                  HISTTP       6640.0\n",
       "                             N2O                  HISTCR         15.6\n",
       "                                                  HISTTP         17.6\n",
       "Name: Emissions, Length: 78960, dtype: pint[gigagram]"
      ]
     },
     "execution_count": 128,
     "metadata": {},
     "output_type": "execute_result"
    }
   ],
   "source": [
    "b"
   ]
  },
  {
   "cell_type": "code",
   "execution_count": 129,
   "metadata": {
    "execution": {
     "iopub.execute_input": "2020-08-26T16:01:24.171899Z",
     "iopub.status.busy": "2020-08-26T16:01:24.171362Z",
     "iopub.status.idle": "2020-08-26T16:01:31.035415Z",
     "shell.execute_reply": "2020-08-26T16:01:31.034707Z",
     "shell.execute_reply.started": "2020-08-26T16:01:24.171847Z"
    }
   },
   "outputs": [],
   "source": [
    "c = a + b"
   ]
  },
  {
   "cell_type": "code",
   "execution_count": 131,
   "metadata": {
    "execution": {
     "iopub.execute_input": "2020-08-26T16:01:44.733926Z",
     "iopub.status.busy": "2020-08-26T16:01:44.733580Z",
     "iopub.status.idle": "2020-08-26T16:01:48.988766Z",
     "shell.execute_reply": "2020-08-26T16:01:48.988161Z",
     "shell.execute_reply.started": "2020-08-26T16:01:44.733895Z"
    }
   },
   "outputs": [
    {
     "data": {
      "text/plain": [
       "Area  Category  Date        Entity  Scenario\n",
       "DEU   IPC1      1900-01-01  CO2     HISTCR      640000.0\n",
       "                1901-01-01  CO2     HISTCR      638000.0\n",
       "                1902-01-01  CO2     HISTCR      626000.0\n",
       "                1903-01-01  CO2     HISTCR      674000.0\n",
       "                1904-01-01  CO2     HISTCR      698000.0\n",
       "                                                  ...   \n",
       "ZWE   IPC1      1986-01-01  CO2     HISTCR       22800.0\n",
       "                1987-01-01  CO2     HISTCR       26000.0\n",
       "                1988-01-01  CO2     HISTCR       27200.0\n",
       "                1989-01-01  CO2     HISTCR       27400.0\n",
       "                1990-01-01  CO2     HISTCR       26400.0\n",
       "Name: Emissions, Length: 273, dtype: pint[gigagram]"
      ]
     },
     "execution_count": 131,
     "metadata": {},
     "output_type": "execute_result"
    }
   ],
   "source": [
    "c.dropna()"
   ]
  },
  {
   "cell_type": "code",
   "execution_count": 134,
   "metadata": {
    "execution": {
     "iopub.execute_input": "2020-08-26T16:02:30.167483Z",
     "iopub.status.busy": "2020-08-26T16:02:30.166245Z",
     "iopub.status.idle": "2020-08-26T16:02:30.185768Z",
     "shell.execute_reply": "2020-08-26T16:02:30.185029Z",
     "shell.execute_reply.started": "2020-08-26T16:02:30.167390Z"
    }
   },
   "outputs": [
    {
     "data": {
      "text/plain": [
       "Area  Category   Date        Entity               Scenario\n",
       "DEU   IPC1       1850-01-01  CH4                  HISTCR        420000.0\n",
       "                                                  HISTTP        445000.0\n",
       "                             CO2                  HISTCR      14800000.0\n",
       "                                                  HISTTP      15200000.0\n",
       "                             KYOTOGHG (CO2eq)     HISTCR      24100000.0\n",
       "                                                                 ...    \n",
       "ZWE   IPCMAGELV  2017-01-01  KYOTOGHG (CO2eq)     HISTTP       6630000.0\n",
       "                             KYOTOGHGAR4 (CO2eq)  HISTCR       6040000.0\n",
       "                                                  HISTTP       6640000.0\n",
       "                             N2O                  HISTCR         15600.0\n",
       "                                                  HISTTP         17600.0\n",
       "Name: Emissions, Length: 78960, dtype: pint[metric_ton]"
      ]
     },
     "execution_count": 134,
     "metadata": {},
     "output_type": "execute_result"
    }
   ],
   "source": [
    "bt = b.pint.to('metric_ton')\n",
    "bt"
   ]
  },
  {
   "cell_type": "code",
   "execution_count": 135,
   "metadata": {
    "execution": {
     "iopub.execute_input": "2020-08-26T16:02:39.250740Z",
     "iopub.status.busy": "2020-08-26T16:02:39.250141Z",
     "iopub.status.idle": "2020-08-26T16:02:44.677837Z",
     "shell.execute_reply": "2020-08-26T16:02:44.677365Z",
     "shell.execute_reply.started": "2020-08-26T16:02:39.250678Z"
    }
   },
   "outputs": [],
   "source": [
    "c = a + bt"
   ]
  },
  {
   "cell_type": "code",
   "execution_count": 136,
   "metadata": {
    "execution": {
     "iopub.execute_input": "2020-08-26T16:02:49.211424Z",
     "iopub.status.busy": "2020-08-26T16:02:49.210334Z",
     "iopub.status.idle": "2020-08-26T16:02:54.175270Z",
     "shell.execute_reply": "2020-08-26T16:02:54.174694Z",
     "shell.execute_reply.started": "2020-08-26T16:02:49.211298Z"
    }
   },
   "outputs": [
    {
     "data": {
      "text/plain": [
       "Area  Category  Date        Entity  Scenario\n",
       "DEU   IPC1      1900-01-01  CO2     HISTCR      640000.0\n",
       "                1901-01-01  CO2     HISTCR      638000.0\n",
       "                1902-01-01  CO2     HISTCR      626000.0\n",
       "                1903-01-01  CO2     HISTCR      674000.0\n",
       "                1904-01-01  CO2     HISTCR      698000.0\n",
       "                                                  ...   \n",
       "ZWE   IPC1      1986-01-01  CO2     HISTCR       22800.0\n",
       "                1987-01-01  CO2     HISTCR       26000.0\n",
       "                1988-01-01  CO2     HISTCR       27200.0\n",
       "                1989-01-01  CO2     HISTCR       27400.0\n",
       "                1990-01-01  CO2     HISTCR       26400.0\n",
       "Name: Emissions, Length: 273, dtype: pint[gigagram]"
      ]
     },
     "execution_count": 136,
     "metadata": {},
     "output_type": "execute_result"
    }
   ],
   "source": [
    "c.dropna()"
   ]
  },
  {
   "cell_type": "code",
   "execution_count": 137,
   "metadata": {
    "execution": {
     "iopub.execute_input": "2020-08-26T16:03:22.507665Z",
     "iopub.status.busy": "2020-08-26T16:03:22.506807Z",
     "iopub.status.idle": "2020-08-26T16:03:33.735216Z",
     "shell.execute_reply": "2020-08-26T16:03:33.734541Z",
     "shell.execute_reply.started": "2020-08-26T16:03:22.507572Z"
    }
   },
   "outputs": [
    {
     "data": {
      "text/plain": [
       "Area  Category  Date        Entity  Scenario\n",
       "DEU   IPC1      1900-01-01  CO2     HISTCR      1.0\n",
       "                1901-01-01  CO2     HISTCR      1.0\n",
       "                1902-01-01  CO2     HISTCR      1.0\n",
       "                1903-01-01  CO2     HISTCR      1.0\n",
       "                1904-01-01  CO2     HISTCR      1.0\n",
       "                                               ... \n",
       "ZWE   IPC1      1986-01-01  CO2     HISTCR      1.0\n",
       "                1987-01-01  CO2     HISTCR      1.0\n",
       "                1988-01-01  CO2     HISTCR      1.0\n",
       "                1989-01-01  CO2     HISTCR      1.0\n",
       "                1990-01-01  CO2     HISTCR      1.0\n",
       "Name: Emissions, Length: 273, dtype: pint[dimensionless]"
      ]
     },
     "execution_count": 137,
     "metadata": {},
     "output_type": "execute_result"
    }
   ],
   "source": [
    "(a / b).dropna()"
   ]
  },
  {
   "cell_type": "code",
   "execution_count": 138,
   "metadata": {
    "execution": {
     "iopub.execute_input": "2020-08-26T16:03:33.736535Z",
     "iopub.status.busy": "2020-08-26T16:03:33.736279Z",
     "iopub.status.idle": "2020-08-26T16:03:45.701823Z",
     "shell.execute_reply": "2020-08-26T16:03:45.700981Z",
     "shell.execute_reply.started": "2020-08-26T16:03:33.736510Z"
    }
   },
   "outputs": [
    {
     "data": {
      "text/plain": [
       "Area  Category  Date        Entity  Scenario\n",
       "DEU   IPC1      1900-01-01  CO2     HISTCR      102400000000.0\n",
       "                1901-01-01  CO2     HISTCR      101761000000.0\n",
       "                1902-01-01  CO2     HISTCR       97969000000.0\n",
       "                1903-01-01  CO2     HISTCR      113569000000.0\n",
       "                1904-01-01  CO2     HISTCR      121801000000.0\n",
       "                                                     ...      \n",
       "ZWE   IPC1      1986-01-01  CO2     HISTCR         129960000.0\n",
       "                1987-01-01  CO2     HISTCR         169000000.0\n",
       "                1988-01-01  CO2     HISTCR         184960000.0\n",
       "                1989-01-01  CO2     HISTCR         187690000.0\n",
       "                1990-01-01  CO2     HISTCR         174240000.0\n",
       "Name: Emissions, Length: 273, dtype: pint[gigagram ** 2]"
      ]
     },
     "execution_count": 138,
     "metadata": {},
     "output_type": "execute_result"
    }
   ],
   "source": [
    "(a * b).dropna()"
   ]
  },
  {
   "cell_type": "code",
   "execution_count": 139,
   "metadata": {
    "execution": {
     "iopub.execute_input": "2020-08-26T16:03:45.703265Z",
     "iopub.status.busy": "2020-08-26T16:03:45.703020Z",
     "iopub.status.idle": "2020-08-26T16:04:02.097657Z",
     "shell.execute_reply": "2020-08-26T16:04:02.097056Z",
     "shell.execute_reply.started": "2020-08-26T16:03:45.703240Z"
    }
   },
   "outputs": [
    {
     "data": {
      "text/plain": [
       "Area  Category  Date        Entity  Scenario\n",
       "DEU   IPC1      1900-01-01  CO2     HISTCR      0.0\n",
       "                1901-01-01  CO2     HISTCR      0.0\n",
       "                1902-01-01  CO2     HISTCR      0.0\n",
       "                1903-01-01  CO2     HISTCR      0.0\n",
       "                1904-01-01  CO2     HISTCR      0.0\n",
       "                                               ... \n",
       "ZWE   IPC1      1986-01-01  CO2     HISTCR      0.0\n",
       "                1987-01-01  CO2     HISTCR      0.0\n",
       "                1988-01-01  CO2     HISTCR      0.0\n",
       "                1989-01-01  CO2     HISTCR      0.0\n",
       "                1990-01-01  CO2     HISTCR      0.0\n",
       "Name: Emissions, Length: 273, dtype: pint[gigagram]"
      ]
     },
     "execution_count": 139,
     "metadata": {},
     "output_type": "execute_result"
    }
   ],
   "source": [
    "(a - b).dropna()"
   ]
  },
  {
   "cell_type": "markdown",
   "metadata": {},
   "source": [
    "## plotting"
   ]
  },
  {
   "cell_type": "code",
   "execution_count": 156,
   "metadata": {
    "execution": {
     "iopub.execute_input": "2020-08-26T16:12:46.390935Z",
     "iopub.status.busy": "2020-08-26T16:12:46.390339Z",
     "iopub.status.idle": "2020-08-26T16:12:46.642412Z",
     "shell.execute_reply": "2020-08-26T16:12:46.641714Z",
     "shell.execute_reply.started": "2020-08-26T16:12:46.390880Z"
    }
   },
   "outputs": [
    {
     "data": {
      "application/vnd.jupyter.widget-view+json": {
       "model_id": "cc09616b292d47d0a090a5d56f775165",
       "version_major": 2,
       "version_minor": 0
      },
      "text/plain": [
       "Canvas(toolbar=Toolbar(toolitems=[('Home', 'Reset original view', 'home', 'home'), ('Back', 'Back to previous …"
      ]
     },
     "metadata": {},
     "output_type": "display_data"
    },
    {
     "data": {
      "text/plain": [
       "<matplotlib.axes._subplots.AxesSubplot at 0x7ffabea064c0>"
      ]
     },
     "execution_count": 156,
     "metadata": {},
     "output_type": "execute_result"
    }
   ],
   "source": [
    "plt.figure()\n",
    "sel = prm_emi.xs(('DEU', 'IPCM0EL', 'KYOTOGHG (CO2eq)', 'HISTCR'), level=('Area', 'Category', 'Entity', 'Scenario'))\n",
    "#sel = prm_emi.loc['DEU', 'IPCM0EL', :, 'KYOTOGHG (CO2eq)', 'HISTCR']\n",
    "sel.pint.magnitude.plot()"
   ]
  },
  {
   "cell_type": "code",
   "execution_count": 161,
   "metadata": {
    "execution": {
     "iopub.execute_input": "2020-08-26T16:20:15.798563Z",
     "iopub.status.busy": "2020-08-26T16:20:15.798113Z",
     "iopub.status.idle": "2020-08-26T16:20:15.809037Z",
     "shell.execute_reply": "2020-08-26T16:20:15.808427Z",
     "shell.execute_reply.started": "2020-08-26T16:20:15.798522Z"
    }
   },
   "outputs": [
    {
     "data": {
      "text/plain": [
       "['POP_DEMOGR_TOTAL_NET_CONSTANT_UN2017P',\n",
       " 'POP_DEMOGR_TOTAL_NET_CONSTANT_UN2019P',\n",
       " 'POP_DEMOGR_TOTAL_NET_CONSTMORTALITY_UN2017P',\n",
       " 'POP_DEMOGR_TOTAL_NET_CONSTMORTALITY_UN2019P',\n",
       " 'POP_DEMOGR_TOTAL_NET_HIGH_UN2017P',\n",
       " 'POP_DEMOGR_TOTAL_NET_HIGH_UN2019P',\n",
       " 'POP_DEMOGR_TOTAL_NET_HISTORY_MPD2018P',\n",
       " 'POP_DEMOGR_TOTAL_NET_HISTORY_PMHSOCIOECO12',\n",
       " 'POP_DEMOGR_TOTAL_NET_HISTORY_UN2017P',\n",
       " 'POP_DEMOGR_TOTAL_NET_HISTORY_UN2019P',\n",
       " 'POP_DEMOGR_TOTAL_NET_LOW_UN2017P',\n",
       " 'POP_DEMOGR_TOTAL_NET_LOW_UN2019P',\n",
       " 'POP_DEMOGR_TOTAL_NET_MEDIUM_UN2017P',\n",
       " 'POP_DEMOGR_TOTAL_NET_MEDIUM_UN2019P',\n",
       " 'POP_DEMOGR_TOTAL_NET_NOCHANGE_UN2017P',\n",
       " 'POP_DEMOGR_TOTAL_NET_NOCHANGE_UN2019P',\n",
       " 'POP_DEMOGR_TOTAL_NET_NOMIGRATION_UN2017P',\n",
       " 'POP_DEMOGR_TOTAL_NET_NOMIGRATION_UN2019P',\n",
       " 'POP_DEMOGR_TOTAL_NET_REPLACEMENT_UN2017P',\n",
       " 'POP_DEMOGR_TOTAL_NET_REPLACEMENT_UN2019P']"
      ]
     },
     "execution_count": 161,
     "metadata": {},
     "output_type": "execute_result"
    }
   ],
   "source": [
    "[key for key, (meta, df) in primap_tables.items() if df.name == 'POP']"
   ]
  },
  {
   "cell_type": "code",
   "execution_count": 164,
   "metadata": {
    "execution": {
     "iopub.execute_input": "2020-08-26T16:21:20.715541Z",
     "iopub.status.busy": "2020-08-26T16:21:20.714680Z",
     "iopub.status.idle": "2020-08-26T16:21:20.723285Z",
     "shell.execute_reply": "2020-08-26T16:21:20.722206Z",
     "shell.execute_reply.started": "2020-08-26T16:21:20.715454Z"
    }
   },
   "outputs": [],
   "source": [
    "pop = primap_tables['POP_DEMOGR_TOTAL_NET_HISTORY_UN2019P'][1]"
   ]
  },
  {
   "cell_type": "code",
   "execution_count": 168,
   "metadata": {
    "execution": {
     "iopub.execute_input": "2020-08-26T16:22:10.854398Z",
     "iopub.status.busy": "2020-08-26T16:22:10.854144Z",
     "iopub.status.idle": "2020-08-26T16:22:10.859416Z",
     "shell.execute_reply": "2020-08-26T16:22:10.858923Z",
     "shell.execute_reply.started": "2020-08-26T16:22:10.854375Z"
    }
   },
   "outputs": [],
   "source": [
    "pop_2000 = pop.loc[:, '2000-01-01']"
   ]
  },
  {
   "cell_type": "code",
   "execution_count": 174,
   "metadata": {
    "execution": {
     "iopub.execute_input": "2020-08-26T16:24:36.144083Z",
     "iopub.status.busy": "2020-08-26T16:24:36.143264Z",
     "iopub.status.idle": "2020-08-26T16:24:36.346328Z",
     "shell.execute_reply": "2020-08-26T16:24:36.345814Z",
     "shell.execute_reply.started": "2020-08-26T16:24:36.144006Z"
    }
   },
   "outputs": [],
   "source": [
    "emi_2000 = prm_emi.xs(('IPCM0EL', 'KYOTOGHG (CO2eq)', 'HISTCR', '2000-01-01'), level=('Category', 'Entity', 'Scenario', 'Date'))"
   ]
  },
  {
   "cell_type": "code",
   "execution_count": 183,
   "metadata": {
    "execution": {
     "iopub.execute_input": "2020-08-26T16:29:13.442152Z",
     "iopub.status.busy": "2020-08-26T16:29:13.441615Z",
     "iopub.status.idle": "2020-08-26T16:29:13.499508Z",
     "shell.execute_reply": "2020-08-26T16:29:13.498898Z",
     "shell.execute_reply.started": "2020-08-26T16:29:13.442105Z"
    }
   },
   "outputs": [
    {
     "data": {
      "application/vnd.jupyter.widget-view+json": {
       "model_id": "674c11d2a187496485eab4cca0b43b88",
       "version_major": 2,
       "version_minor": 0
      },
      "text/plain": [
       "Canvas(toolbar=Toolbar(toolitems=[('Home', 'Reset original view', 'home', 'home'), ('Back', 'Back to previous …"
      ]
     },
     "metadata": {},
     "output_type": "display_data"
    },
    {
     "data": {
      "text/plain": [
       "Text(0, 0.5, 'Emissions in 2000 (CO2eq) / Tg')"
      ]
     },
     "execution_count": 183,
     "metadata": {},
     "output_type": "execute_result"
    }
   ],
   "source": [
    "fig, ax = plt.subplots()\n",
    "ax.plot(pop_2000.pint.magnitude[emi_2000.index], emi_2000.pint.to('Tg').pint.magnitude, 'o')\n",
    "ax.set_xlabel('Population in 2000')\n",
    "ax.set_ylabel('Emissions in 2000 (CO2eq) / Tg')"
   ]
  },
  {
   "cell_type": "markdown",
   "metadata": {
    "execution": {
     "iopub.execute_input": "2020-08-26T16:34:23.242644Z",
     "iopub.status.busy": "2020-08-26T16:34:23.242095Z",
     "iopub.status.idle": "2020-08-26T16:34:23.926748Z",
     "shell.execute_reply": "2020-08-26T16:34:23.926386Z",
     "shell.execute_reply.started": "2020-08-26T16:34:23.242601Z"
    }
   },
   "source": [
    "## Selecting datasets and data\n",
    "* select datasets which contain data on the N2O emissions of Finland\n",
    "* in a selected dataset, select years in which the N2O emissions of Finland were above the 1950-2000 average"
   ]
  },
  {
   "cell_type": "code",
   "execution_count": 199,
   "metadata": {
    "execution": {
     "iopub.execute_input": "2020-08-26T16:38:18.705963Z",
     "iopub.status.busy": "2020-08-26T16:38:18.705521Z",
     "iopub.status.idle": "2020-08-26T16:38:19.356929Z",
     "shell.execute_reply": "2020-08-26T16:38:19.356323Z",
     "shell.execute_reply.started": "2020-08-26T16:38:18.705921Z"
    }
   },
   "outputs": [
    {
     "data": {
      "text/plain": [
       "['N2O_IPC0_TOTAL_NET_HISTCR_PRIMAPHIST20',\n",
       " 'N2O_IPC0_TOTAL_NET_HISTORY_CRF2019',\n",
       " 'N2O_IPC0_TOTAL_NET_HISTORY_CRF2020',\n",
       " 'N2O_IPC0_TOTAL_NET_HISTORY_EDGAR42COMPI',\n",
       " 'N2O_IPC0_TOTAL_NET_HISTORY_EDGAR432I',\n",
       " 'N2O_IPC0_TOTAL_NET_HISTORY_EDGAR50I',\n",
       " 'N2O_IPC0_TOTAL_NET_HISTTP_PRIMAPHIST20']"
      ]
     },
     "execution_count": 199,
     "metadata": {},
     "output_type": "execute_result"
    }
   ],
   "source": [
    "[key for key, (meta, df) in primap_tables.items() if \n",
    " 'FIN' in df.index.levels[0] and\n",
    " not all(df.loc['FIN'].isna()) and\n",
    " df.name == 'N2O' and\n",
    " meta['category'] == 'IPC0']"
   ]
  },
  {
   "cell_type": "code",
   "execution_count": 202,
   "metadata": {
    "execution": {
     "iopub.execute_input": "2020-08-26T16:41:29.990842Z",
     "iopub.status.busy": "2020-08-26T16:41:29.990315Z",
     "iopub.status.idle": "2020-08-26T16:41:29.997922Z",
     "shell.execute_reply": "2020-08-26T16:41:29.997085Z",
     "shell.execute_reply.started": "2020-08-26T16:41:29.990791Z"
    }
   },
   "outputs": [],
   "source": [
    "df = primap_tables['N2O_IPC0_TOTAL_NET_HISTTP_PRIMAPHIST20'][1].loc['FIN']"
   ]
  },
  {
   "cell_type": "code",
   "execution_count": 210,
   "metadata": {
    "execution": {
     "iopub.execute_input": "2020-08-26T16:44:02.684034Z",
     "iopub.status.busy": "2020-08-26T16:44:02.683178Z",
     "iopub.status.idle": "2020-08-26T16:44:02.695147Z",
     "shell.execute_reply": "2020-08-26T16:44:02.694445Z",
     "shell.execute_reply.started": "2020-08-26T16:44:02.683948Z"
    }
   },
   "outputs": [
    {
     "data": {
      "text/plain": [
       "22.8155464621459"
      ]
     },
     "execution_count": 210,
     "metadata": {},
     "output_type": "execute_result"
    }
   ],
   "source": [
    "avg2hXX = df.loc['1950':'2000'].pint.to('Gg').pint.magnitude.mean()\n",
    "avg2hXX"
   ]
  },
  {
   "cell_type": "code",
   "execution_count": 209,
   "metadata": {
    "execution": {
     "iopub.execute_input": "2020-08-26T16:43:43.303275Z",
     "iopub.status.busy": "2020-08-26T16:43:43.302751Z",
     "iopub.status.idle": "2020-08-26T16:43:43.319735Z",
     "shell.execute_reply": "2020-08-26T16:43:43.319098Z",
     "shell.execute_reply.started": "2020-08-26T16:43:43.303229Z"
    }
   },
   "outputs": [
    {
     "data": {
      "text/plain": [
       "Date\n",
       "1967-01-01    22.936279858300836\n",
       "1968-01-01     23.50504739128506\n",
       "1969-01-01     23.72240281268353\n",
       "1970-01-01     23.88628989928003\n",
       "1971-01-01    24.266094377860284\n",
       "1972-01-01    25.070312519579783\n",
       "1973-01-01    26.521749211204348\n",
       "1974-01-01    27.165969898448687\n",
       "1975-01-01     26.87486301821685\n",
       "1976-01-01     24.48126745278573\n",
       "1977-01-01    23.781691508675376\n",
       "1978-01-01    25.340659362756316\n",
       "1979-01-01    26.242610125606912\n",
       "1980-01-01    26.636444589094506\n",
       "1981-01-01    25.215840130525102\n",
       "1982-01-01    25.507799872631583\n",
       "1983-01-01     26.81153158481475\n",
       "1984-01-01    26.363238482483016\n",
       "1985-01-01    25.435555867104213\n",
       "1986-01-01    25.649390322608294\n",
       "1987-01-01     25.23117604934743\n",
       "1988-01-01    24.966332612143507\n",
       "1989-01-01     26.25516033249774\n",
       "1990-01-01        26.64164902418\n",
       "1991-01-01    25.522203928520003\n",
       "1992-01-01    22.925233612280003\n",
       "1993-01-01        23.48831523982\n",
       "1994-01-01    24.240635375940002\n",
       "1995-01-01        24.60235596766\n",
       "1996-01-01        24.82996873796\n",
       "1997-01-01        25.08372864044\n",
       "1998-01-01    23.941817111920003\n",
       "1999-01-01    23.687438262119997\n",
       "2000-01-01        24.30815136462\n",
       "2001-01-01        25.42688587632\n",
       "2002-01-01    26.437402049400006\n",
       "2003-01-01    27.025178482599998\n",
       "2004-01-01    26.816781026599998\n",
       "2005-01-01          26.369284407\n",
       "2006-01-01    26.585846417000003\n",
       "2007-01-01    27.629536033420003\n",
       "2008-01-01        27.20736253164\n",
       "2009-01-01        24.21194635862\n",
       "2010-01-01    27.022940592499996\n",
       "2011-01-01    24.711518917243495\n",
       "2012-01-01    25.191642915027565\n",
       "2013-01-01    26.698376997200338\n",
       "2014-01-01    26.450066375862985\n",
       "2015-01-01      27.5693745975041\n",
       "2016-01-01     26.67504966254338\n",
       "Name: N2O, dtype: pint[gigagram]"
      ]
     },
     "execution_count": 209,
     "metadata": {},
     "output_type": "execute_result"
    }
   ],
   "source": [
    "df.loc[df.pint.to('Gg').pint.magnitude > avg2hXX]"
   ]
  },
  {
   "cell_type": "markdown",
   "metadata": {
    "execution": {
     "iopub.execute_input": "2020-08-26T16:46:19.517903Z",
     "iopub.status.busy": "2020-08-26T16:46:19.517076Z",
     "iopub.status.idle": "2020-08-26T16:46:19.596520Z",
     "shell.execute_reply": "2020-08-26T16:46:19.595803Z",
     "shell.execute_reply.started": "2020-08-26T16:46:19.517822Z"
    }
   },
   "source": [
    "## Resampling\n",
    "* resample non-yearly dataset to yearly dataset"
   ]
  },
  {
   "cell_type": "code",
   "execution_count": 219,
   "metadata": {
    "execution": {
     "iopub.execute_input": "2020-08-26T16:51:28.085241Z",
     "iopub.status.busy": "2020-08-26T16:51:28.084837Z",
     "iopub.status.idle": "2020-08-26T16:51:28.101398Z",
     "shell.execute_reply": "2020-08-26T16:51:28.100636Z",
     "shell.execute_reply.started": "2020-08-26T16:51:28.085202Z"
    }
   },
   "outputs": [
    {
     "data": {
      "text/plain": [
       "Area    Date   \n",
       "global  0-01       0.00027836643883702005\n",
       "        0-02         0.000278713058010423\n",
       "        0-03         0.000279013835279965\n",
       "        0-04       0.00027920961334856496\n",
       "        0-05         0.000279106444207592\n",
       "                            ...          \n",
       "sh      2014-08    0.00039577037859628094\n",
       "        2014-09      0.000395734959299383\n",
       "        2014-10      0.000395880866547116\n",
       "        2014-11    0.00039605692861724196\n",
       "        2014-12    0.00039616429558609803\n",
       "Name: CO2 concentration, Length: 72540, dtype: pint[dimensionless]"
      ]
     },
     "execution_count": 219,
     "metadata": {},
     "output_type": "execute_result"
    }
   ],
   "source": [
    "cmip_conc_co2"
   ]
  },
  {
   "cell_type": "code",
   "execution_count": 220,
   "metadata": {
    "collapsed": true,
    "execution": {
     "iopub.execute_input": "2020-08-26T16:51:55.805778Z",
     "iopub.status.busy": "2020-08-26T16:51:55.804447Z",
     "iopub.status.idle": "2020-08-26T16:51:55.856347Z",
     "shell.execute_reply": "2020-08-26T16:51:55.854924Z",
     "shell.execute_reply.started": "2020-08-26T16:51:55.805655Z"
    },
    "jupyter": {
     "outputs_hidden": true
    }
   },
   "outputs": [
    {
     "ename": "NotImplementedError",
     "evalue": "Resampling from level= or on= selection with a PeriodIndex is not currently supported, use .set_index(...) to explicitly set index",
     "output_type": "error",
     "traceback": [
      "\u001b[0;31m---------------------------------------------------------------------------\u001b[0m",
      "\u001b[0;31mNotImplementedError\u001b[0m                       Traceback (most recent call last)",
      "\u001b[0;32m<ipython-input-220-9cad0bc6efc5>\u001b[0m in \u001b[0;36m<module>\u001b[0;34m\u001b[0m\n\u001b[0;32m----> 1\u001b[0;31m cmip_conc_co2.groupby(\n\u001b[0m\u001b[1;32m      2\u001b[0m     [pd.Grouper(level='Area'),\n\u001b[1;32m      3\u001b[0m      pd.Grouper(level='Date', freq='1Y')]\n\u001b[1;32m      4\u001b[0m ).sum()\n",
      "\u001b[0;32m~/.local/lib/python3.8/site-packages/pandas/core/series.py\u001b[0m in \u001b[0;36mgroupby\u001b[0;34m(self, by, axis, level, as_index, sort, group_keys, squeeze, observed)\u001b[0m\n\u001b[1;32m   1676\u001b[0m         \u001b[0maxis\u001b[0m \u001b[0;34m=\u001b[0m \u001b[0mself\u001b[0m\u001b[0;34m.\u001b[0m\u001b[0m_get_axis_number\u001b[0m\u001b[0;34m(\u001b[0m\u001b[0maxis\u001b[0m\u001b[0;34m)\u001b[0m\u001b[0;34m\u001b[0m\u001b[0;34m\u001b[0m\u001b[0m\n\u001b[1;32m   1677\u001b[0m \u001b[0;34m\u001b[0m\u001b[0m\n\u001b[0;32m-> 1678\u001b[0;31m         return groupby_generic.SeriesGroupBy(\n\u001b[0m\u001b[1;32m   1679\u001b[0m             \u001b[0mobj\u001b[0m\u001b[0;34m=\u001b[0m\u001b[0mself\u001b[0m\u001b[0;34m,\u001b[0m\u001b[0;34m\u001b[0m\u001b[0;34m\u001b[0m\u001b[0m\n\u001b[1;32m   1680\u001b[0m             \u001b[0mkeys\u001b[0m\u001b[0;34m=\u001b[0m\u001b[0mby\u001b[0m\u001b[0;34m,\u001b[0m\u001b[0;34m\u001b[0m\u001b[0;34m\u001b[0m\u001b[0m\n",
      "\u001b[0;32m~/.local/lib/python3.8/site-packages/pandas/core/groupby/groupby.py\u001b[0m in \u001b[0;36m__init__\u001b[0;34m(self, obj, keys, axis, level, grouper, exclusions, selection, as_index, sort, group_keys, squeeze, observed, mutated)\u001b[0m\n\u001b[1;32m    401\u001b[0m             \u001b[0;32mfrom\u001b[0m \u001b[0mpandas\u001b[0m\u001b[0;34m.\u001b[0m\u001b[0mcore\u001b[0m\u001b[0;34m.\u001b[0m\u001b[0mgroupby\u001b[0m\u001b[0;34m.\u001b[0m\u001b[0mgrouper\u001b[0m \u001b[0;32mimport\u001b[0m \u001b[0mget_grouper\u001b[0m\u001b[0;34m\u001b[0m\u001b[0;34m\u001b[0m\u001b[0m\n\u001b[1;32m    402\u001b[0m \u001b[0;34m\u001b[0m\u001b[0m\n\u001b[0;32m--> 403\u001b[0;31m             grouper, exclusions, obj = get_grouper(\n\u001b[0m\u001b[1;32m    404\u001b[0m                 \u001b[0mobj\u001b[0m\u001b[0;34m,\u001b[0m\u001b[0;34m\u001b[0m\u001b[0;34m\u001b[0m\u001b[0m\n\u001b[1;32m    405\u001b[0m                 \u001b[0mkeys\u001b[0m\u001b[0;34m,\u001b[0m\u001b[0;34m\u001b[0m\u001b[0;34m\u001b[0m\u001b[0m\n",
      "\u001b[0;32m~/.local/lib/python3.8/site-packages/pandas/core/groupby/grouper.py\u001b[0m in \u001b[0;36mget_grouper\u001b[0;34m(obj, key, axis, level, sort, observed, mutated, validate)\u001b[0m\n\u001b[1;32m    615\u001b[0m         \u001b[0;31m# allow us to passing the actual Grouping as the gpr\u001b[0m\u001b[0;34m\u001b[0m\u001b[0;34m\u001b[0m\u001b[0;34m\u001b[0m\u001b[0m\n\u001b[1;32m    616\u001b[0m         ping = (\n\u001b[0;32m--> 617\u001b[0;31m             Grouping(\n\u001b[0m\u001b[1;32m    618\u001b[0m                 \u001b[0mgroup_axis\u001b[0m\u001b[0;34m,\u001b[0m\u001b[0;34m\u001b[0m\u001b[0;34m\u001b[0m\u001b[0m\n\u001b[1;32m    619\u001b[0m                 \u001b[0mgpr\u001b[0m\u001b[0;34m,\u001b[0m\u001b[0;34m\u001b[0m\u001b[0;34m\u001b[0m\u001b[0m\n",
      "\u001b[0;32m~/.local/lib/python3.8/site-packages/pandas/core/groupby/grouper.py\u001b[0m in \u001b[0;36m__init__\u001b[0;34m(self, index, grouper, obj, name, level, sort, observed, in_axis)\u001b[0m\n\u001b[1;32m    294\u001b[0m             \u001b[0;31m# check again as we have by this point converted these\u001b[0m\u001b[0;34m\u001b[0m\u001b[0;34m\u001b[0m\u001b[0;34m\u001b[0m\u001b[0m\n\u001b[1;32m    295\u001b[0m             \u001b[0;31m# to an actual value (rather than a pd.Grouper)\u001b[0m\u001b[0;34m\u001b[0m\u001b[0;34m\u001b[0m\u001b[0;34m\u001b[0m\u001b[0m\n\u001b[0;32m--> 296\u001b[0;31m             \u001b[0m_\u001b[0m\u001b[0;34m,\u001b[0m \u001b[0mgrouper\u001b[0m\u001b[0;34m,\u001b[0m \u001b[0m_\u001b[0m \u001b[0;34m=\u001b[0m \u001b[0mself\u001b[0m\u001b[0;34m.\u001b[0m\u001b[0mgrouper\u001b[0m\u001b[0;34m.\u001b[0m\u001b[0m_get_grouper\u001b[0m\u001b[0;34m(\u001b[0m\u001b[0mself\u001b[0m\u001b[0;34m.\u001b[0m\u001b[0mobj\u001b[0m\u001b[0;34m,\u001b[0m \u001b[0mvalidate\u001b[0m\u001b[0;34m=\u001b[0m\u001b[0;32mFalse\u001b[0m\u001b[0;34m)\u001b[0m\u001b[0;34m\u001b[0m\u001b[0;34m\u001b[0m\u001b[0m\n\u001b[0m\u001b[1;32m    297\u001b[0m             \u001b[0;32mif\u001b[0m \u001b[0mself\u001b[0m\u001b[0;34m.\u001b[0m\u001b[0mname\u001b[0m \u001b[0;32mis\u001b[0m \u001b[0;32mNone\u001b[0m\u001b[0;34m:\u001b[0m\u001b[0;34m\u001b[0m\u001b[0;34m\u001b[0m\u001b[0m\n\u001b[1;32m    298\u001b[0m                 \u001b[0mself\u001b[0m\u001b[0;34m.\u001b[0m\u001b[0mname\u001b[0m \u001b[0;34m=\u001b[0m \u001b[0mgrouper\u001b[0m\u001b[0;34m.\u001b[0m\u001b[0mresult_index\u001b[0m\u001b[0;34m.\u001b[0m\u001b[0mname\u001b[0m\u001b[0;34m\u001b[0m\u001b[0;34m\u001b[0m\u001b[0m\n",
      "\u001b[0;32m~/.local/lib/python3.8/site-packages/pandas/core/resample.py\u001b[0m in \u001b[0;36m_get_grouper\u001b[0;34m(self, obj, validate)\u001b[0m\n\u001b[1;32m   1409\u001b[0m     \u001b[0;32mdef\u001b[0m \u001b[0m_get_grouper\u001b[0m\u001b[0;34m(\u001b[0m\u001b[0mself\u001b[0m\u001b[0;34m,\u001b[0m \u001b[0mobj\u001b[0m\u001b[0;34m,\u001b[0m \u001b[0mvalidate\u001b[0m\u001b[0;34m:\u001b[0m \u001b[0mbool\u001b[0m \u001b[0;34m=\u001b[0m \u001b[0;32mTrue\u001b[0m\u001b[0;34m)\u001b[0m\u001b[0;34m:\u001b[0m\u001b[0;34m\u001b[0m\u001b[0;34m\u001b[0m\u001b[0m\n\u001b[1;32m   1410\u001b[0m         \u001b[0;31m# create the resampler and return our binner\u001b[0m\u001b[0;34m\u001b[0m\u001b[0;34m\u001b[0m\u001b[0;34m\u001b[0m\u001b[0m\n\u001b[0;32m-> 1411\u001b[0;31m         \u001b[0mr\u001b[0m \u001b[0;34m=\u001b[0m \u001b[0mself\u001b[0m\u001b[0;34m.\u001b[0m\u001b[0m_get_resampler\u001b[0m\u001b[0;34m(\u001b[0m\u001b[0mobj\u001b[0m\u001b[0;34m)\u001b[0m\u001b[0;34m\u001b[0m\u001b[0;34m\u001b[0m\u001b[0m\n\u001b[0m\u001b[1;32m   1412\u001b[0m         \u001b[0mr\u001b[0m\u001b[0;34m.\u001b[0m\u001b[0m_set_binner\u001b[0m\u001b[0;34m(\u001b[0m\u001b[0;34m)\u001b[0m\u001b[0;34m\u001b[0m\u001b[0;34m\u001b[0m\u001b[0m\n\u001b[1;32m   1413\u001b[0m         \u001b[0;32mreturn\u001b[0m \u001b[0mr\u001b[0m\u001b[0;34m.\u001b[0m\u001b[0mbinner\u001b[0m\u001b[0;34m,\u001b[0m \u001b[0mr\u001b[0m\u001b[0;34m.\u001b[0m\u001b[0mgrouper\u001b[0m\u001b[0;34m,\u001b[0m \u001b[0mr\u001b[0m\u001b[0;34m.\u001b[0m\u001b[0mobj\u001b[0m\u001b[0;34m\u001b[0m\u001b[0;34m\u001b[0m\u001b[0m\n",
      "\u001b[0;32m~/.local/lib/python3.8/site-packages/pandas/core/resample.py\u001b[0m in \u001b[0;36m_get_resampler\u001b[0;34m(self, obj, kind)\u001b[0m\n\u001b[1;32m   1397\u001b[0m             \u001b[0;32mreturn\u001b[0m \u001b[0mDatetimeIndexResampler\u001b[0m\u001b[0;34m(\u001b[0m\u001b[0mobj\u001b[0m\u001b[0;34m,\u001b[0m \u001b[0mgroupby\u001b[0m\u001b[0;34m=\u001b[0m\u001b[0mself\u001b[0m\u001b[0;34m,\u001b[0m \u001b[0mkind\u001b[0m\u001b[0;34m=\u001b[0m\u001b[0mkind\u001b[0m\u001b[0;34m,\u001b[0m \u001b[0maxis\u001b[0m\u001b[0;34m=\u001b[0m\u001b[0mself\u001b[0m\u001b[0;34m.\u001b[0m\u001b[0maxis\u001b[0m\u001b[0;34m)\u001b[0m\u001b[0;34m\u001b[0m\u001b[0;34m\u001b[0m\u001b[0m\n\u001b[1;32m   1398\u001b[0m         \u001b[0;32melif\u001b[0m \u001b[0misinstance\u001b[0m\u001b[0;34m(\u001b[0m\u001b[0max\u001b[0m\u001b[0;34m,\u001b[0m \u001b[0mPeriodIndex\u001b[0m\u001b[0;34m)\u001b[0m \u001b[0;32mor\u001b[0m \u001b[0mkind\u001b[0m \u001b[0;34m==\u001b[0m \u001b[0;34m\"period\"\u001b[0m\u001b[0;34m:\u001b[0m\u001b[0;34m\u001b[0m\u001b[0;34m\u001b[0m\u001b[0m\n\u001b[0;32m-> 1399\u001b[0;31m             \u001b[0;32mreturn\u001b[0m \u001b[0mPeriodIndexResampler\u001b[0m\u001b[0;34m(\u001b[0m\u001b[0mobj\u001b[0m\u001b[0;34m,\u001b[0m \u001b[0mgroupby\u001b[0m\u001b[0;34m=\u001b[0m\u001b[0mself\u001b[0m\u001b[0;34m,\u001b[0m \u001b[0mkind\u001b[0m\u001b[0;34m=\u001b[0m\u001b[0mkind\u001b[0m\u001b[0;34m,\u001b[0m \u001b[0maxis\u001b[0m\u001b[0;34m=\u001b[0m\u001b[0mself\u001b[0m\u001b[0;34m.\u001b[0m\u001b[0maxis\u001b[0m\u001b[0;34m)\u001b[0m\u001b[0;34m\u001b[0m\u001b[0;34m\u001b[0m\u001b[0m\n\u001b[0m\u001b[1;32m   1400\u001b[0m         \u001b[0;32melif\u001b[0m \u001b[0misinstance\u001b[0m\u001b[0;34m(\u001b[0m\u001b[0max\u001b[0m\u001b[0;34m,\u001b[0m \u001b[0mTimedeltaIndex\u001b[0m\u001b[0;34m)\u001b[0m\u001b[0;34m:\u001b[0m\u001b[0;34m\u001b[0m\u001b[0;34m\u001b[0m\u001b[0m\n\u001b[1;32m   1401\u001b[0m             \u001b[0;32mreturn\u001b[0m \u001b[0mTimedeltaIndexResampler\u001b[0m\u001b[0;34m(\u001b[0m\u001b[0mobj\u001b[0m\u001b[0;34m,\u001b[0m \u001b[0mgroupby\u001b[0m\u001b[0;34m=\u001b[0m\u001b[0mself\u001b[0m\u001b[0;34m,\u001b[0m \u001b[0maxis\u001b[0m\u001b[0;34m=\u001b[0m\u001b[0mself\u001b[0m\u001b[0;34m.\u001b[0m\u001b[0maxis\u001b[0m\u001b[0;34m)\u001b[0m\u001b[0;34m\u001b[0m\u001b[0;34m\u001b[0m\u001b[0m\n",
      "\u001b[0;32m~/.local/lib/python3.8/site-packages/pandas/core/resample.py\u001b[0m in \u001b[0;36m__init__\u001b[0;34m(self, obj, groupby, axis, kind, **kwargs)\u001b[0m\n\u001b[1;32m     84\u001b[0m \u001b[0;34m\u001b[0m\u001b[0m\n\u001b[1;32m     85\u001b[0m         \u001b[0;32mif\u001b[0m \u001b[0mself\u001b[0m\u001b[0;34m.\u001b[0m\u001b[0mgroupby\u001b[0m \u001b[0;32mis\u001b[0m \u001b[0;32mnot\u001b[0m \u001b[0;32mNone\u001b[0m\u001b[0;34m:\u001b[0m\u001b[0;34m\u001b[0m\u001b[0;34m\u001b[0m\u001b[0m\n\u001b[0;32m---> 86\u001b[0;31m             \u001b[0mself\u001b[0m\u001b[0;34m.\u001b[0m\u001b[0mgroupby\u001b[0m\u001b[0;34m.\u001b[0m\u001b[0m_set_grouper\u001b[0m\u001b[0;34m(\u001b[0m\u001b[0mself\u001b[0m\u001b[0;34m.\u001b[0m\u001b[0m_convert_obj\u001b[0m\u001b[0;34m(\u001b[0m\u001b[0mobj\u001b[0m\u001b[0;34m)\u001b[0m\u001b[0;34m,\u001b[0m \u001b[0msort\u001b[0m\u001b[0;34m=\u001b[0m\u001b[0;32mTrue\u001b[0m\u001b[0;34m)\u001b[0m\u001b[0;34m\u001b[0m\u001b[0;34m\u001b[0m\u001b[0m\n\u001b[0m\u001b[1;32m     87\u001b[0m \u001b[0;34m\u001b[0m\u001b[0m\n\u001b[1;32m     88\u001b[0m     \u001b[0;32mdef\u001b[0m \u001b[0m__str__\u001b[0m\u001b[0;34m(\u001b[0m\u001b[0mself\u001b[0m\u001b[0;34m)\u001b[0m \u001b[0;34m->\u001b[0m \u001b[0mstr\u001b[0m\u001b[0;34m:\u001b[0m\u001b[0;34m\u001b[0m\u001b[0;34m\u001b[0m\u001b[0m\n",
      "\u001b[0;32m~/.local/lib/python3.8/site-packages/pandas/core/resample.py\u001b[0m in \u001b[0;36m_convert_obj\u001b[0;34m(self, obj)\u001b[0m\n\u001b[1;32m   1139\u001b[0m                 \u001b[0;34m\"use .set_index(...) to explicitly set index\"\u001b[0m\u001b[0;34m\u001b[0m\u001b[0;34m\u001b[0m\u001b[0m\n\u001b[1;32m   1140\u001b[0m             )\n\u001b[0;32m-> 1141\u001b[0;31m             \u001b[0;32mraise\u001b[0m \u001b[0mNotImplementedError\u001b[0m\u001b[0;34m(\u001b[0m\u001b[0mmsg\u001b[0m\u001b[0;34m)\u001b[0m\u001b[0;34m\u001b[0m\u001b[0;34m\u001b[0m\u001b[0m\n\u001b[0m\u001b[1;32m   1142\u001b[0m \u001b[0;34m\u001b[0m\u001b[0m\n\u001b[1;32m   1143\u001b[0m         \u001b[0;32mif\u001b[0m \u001b[0mself\u001b[0m\u001b[0;34m.\u001b[0m\u001b[0mloffset\u001b[0m \u001b[0;32mis\u001b[0m \u001b[0;32mnot\u001b[0m \u001b[0;32mNone\u001b[0m\u001b[0;34m:\u001b[0m\u001b[0;34m\u001b[0m\u001b[0;34m\u001b[0m\u001b[0m\n",
      "\u001b[0;31mNotImplementedError\u001b[0m: Resampling from level= or on= selection with a PeriodIndex is not currently supported, use .set_index(...) to explicitly set index"
     ]
    }
   ],
   "source": [
    "# This spelling would work if Dates were in the timespan covered by datetime64...\n",
    "cmip_conc_co2.groupby(\n",
    "    [pd.Grouper(level='Area'),\n",
    "     pd.Grouper(level='Date', freq='1Y')]\n",
    ").mean()"
   ]
  },
  {
   "cell_type": "code",
   "execution_count": 233,
   "metadata": {
    "execution": {
     "iopub.execute_input": "2020-08-26T16:58:18.822690Z",
     "iopub.status.busy": "2020-08-26T16:58:18.822267Z",
     "iopub.status.idle": "2020-08-26T16:58:18.860729Z",
     "shell.execute_reply": "2020-08-26T16:58:18.860024Z",
     "shell.execute_reply.started": "2020-08-26T16:58:18.822655Z"
    }
   },
   "outputs": [
    {
     "data": {
      "text/plain": [
       "Area    Date\n",
       "global  0       0.000277\n",
       "        1       0.000277\n",
       "        2       0.000277\n",
       "        3       0.000277\n",
       "        4       0.000277\n",
       "                  ...   \n",
       "sh      2010    0.000387\n",
       "        2011    0.000389\n",
       "        2012    0.000391\n",
       "        2013    0.000394\n",
       "        2014    0.000396\n",
       "Name: CO2 concentration, Length: 6045, dtype: float64"
      ]
     },
     "execution_count": 233,
     "metadata": {},
     "output_type": "execute_result"
    }
   ],
   "source": [
    "cmip_conc_co2.pint.magnitude.groupby([\n",
    "    pd.Grouper(level='Area'),\n",
    "    cmip_conc_co2.index.get_level_values('Date').year\n",
    "]).mean()"
   ]
  },
  {
   "cell_type": "markdown",
   "metadata": {},
   "source": [
    "# Interpolate\n",
    "* delete some data points from a data set and fill them in using linear interpolation"
   ]
  },
  {
   "cell_type": "code",
   "execution_count": 247,
   "metadata": {
    "execution": {
     "iopub.execute_input": "2020-08-26T17:02:08.751292Z",
     "iopub.status.busy": "2020-08-26T17:02:08.750763Z",
     "iopub.status.idle": "2020-08-26T17:02:08.757622Z",
     "shell.execute_reply": "2020-08-26T17:02:08.756940Z",
     "shell.execute_reply.started": "2020-08-26T17:02:08.751249Z"
    }
   },
   "outputs": [],
   "source": [
    "df = primap_tables['N2O_IPC0_TOTAL_NET_HISTTP_PRIMAPHIST20'][1].loc['FIN']"
   ]
  },
  {
   "cell_type": "code",
   "execution_count": 251,
   "metadata": {
    "execution": {
     "iopub.execute_input": "2020-08-26T17:02:28.752386Z",
     "iopub.status.busy": "2020-08-26T17:02:28.751780Z",
     "iopub.status.idle": "2020-08-26T17:02:28.760585Z",
     "shell.execute_reply": "2020-08-26T17:02:28.758623Z",
     "shell.execute_reply.started": "2020-08-26T17:02:28.752331Z"
    }
   },
   "outputs": [
    {
     "name": "stderr",
     "output_type": "stream",
     "text": [
      "<ipython-input-251-6c9ed728920e>:1: SettingWithCopyWarning: \n",
      "A value is trying to be set on a copy of a slice from a DataFrame\n",
      "\n",
      "See the caveats in the documentation: https://pandas.pydata.org/pandas-docs/stable/user_guide/indexing.html#returning-a-view-versus-a-copy\n",
      "  df['1990':'1994'] = np.nan\n"
     ]
    }
   ],
   "source": [
    "df['1990':'1994'] = np.nan"
   ]
  },
  {
   "cell_type": "code",
   "execution_count": 252,
   "metadata": {
    "execution": {
     "iopub.execute_input": "2020-08-26T17:02:36.247490Z",
     "iopub.status.busy": "2020-08-26T17:02:36.247167Z",
     "iopub.status.idle": "2020-08-26T17:02:36.317867Z",
     "shell.execute_reply": "2020-08-26T17:02:36.316987Z",
     "shell.execute_reply.started": "2020-08-26T17:02:36.247462Z"
    }
   },
   "outputs": [
    {
     "data": {
      "application/vnd.jupyter.widget-view+json": {
       "model_id": "c264d8f8d77447cb9d77a80c3e1220a1",
       "version_major": 2,
       "version_minor": 0
      },
      "text/plain": [
       "Canvas(toolbar=Toolbar(toolitems=[('Home', 'Reset original view', 'home', 'home'), ('Back', 'Back to previous …"
      ]
     },
     "metadata": {},
     "output_type": "display_data"
    },
    {
     "data": {
      "text/plain": [
       "<matplotlib.axes._subplots.AxesSubplot at 0x7ffabaf8a280>"
      ]
     },
     "execution_count": 252,
     "metadata": {},
     "output_type": "execute_result"
    }
   ],
   "source": [
    "plt.figure()\n",
    "df.pint.magnitude.plot()"
   ]
  },
  {
   "cell_type": "code",
   "execution_count": 259,
   "metadata": {
    "execution": {
     "iopub.execute_input": "2020-08-26T17:05:15.093224Z",
     "iopub.status.busy": "2020-08-26T17:05:15.092800Z",
     "iopub.status.idle": "2020-08-26T17:05:15.195242Z",
     "shell.execute_reply": "2020-08-26T17:05:15.194439Z",
     "shell.execute_reply.started": "2020-08-26T17:05:15.093183Z"
    }
   },
   "outputs": [
    {
     "data": {
      "application/vnd.jupyter.widget-view+json": {
       "model_id": "0db98671e28e40dfb4b509fb77384e24",
       "version_major": 2,
       "version_minor": 0
      },
      "text/plain": [
       "Canvas(toolbar=Toolbar(toolitems=[('Home', 'Reset original view', 'home', 'home'), ('Back', 'Back to previous …"
      ]
     },
     "metadata": {},
     "output_type": "display_data"
    },
    {
     "data": {
      "text/plain": [
       "<matplotlib.axes._subplots.AxesSubplot at 0x7ffaba163250>"
      ]
     },
     "execution_count": 259,
     "metadata": {},
     "output_type": "execute_result"
    }
   ],
   "source": [
    "plt.figure()\n",
    "df.pint.magnitude.interpolate().plot()"
   ]
  },
  {
   "cell_type": "code",
   "execution_count": null,
   "metadata": {},
   "outputs": [],
   "source": []
  }
 ],
 "metadata": {
  "kernelspec": {
   "display_name": "Python 3",
   "language": "python",
   "name": "python3"
  },
  "language_info": {
   "codemirror_mode": {
    "name": "ipython",
    "version": 3
   },
   "file_extension": ".py",
   "mimetype": "text/x-python",
   "name": "python",
   "nbconvert_exporter": "python",
   "pygments_lexer": "ipython3",
   "version": "3.8.2"
  },
  "toc-autonumbering": true
 },
 "nbformat": 4,
 "nbformat_minor": 4
}
