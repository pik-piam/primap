{
 "cells": [
  {
   "cell_type": "code",
   "execution_count": 1,
   "metadata": {
    "execution": {
     "iopub.execute_input": "2020-08-27T07:01:24.043434Z",
     "iopub.status.busy": "2020-08-27T07:01:24.043217Z",
     "iopub.status.idle": "2020-08-27T07:01:25.344701Z",
     "shell.execute_reply": "2020-08-27T07:01:25.344213Z",
     "shell.execute_reply.started": "2020-08-27T07:01:24.043414Z"
    }
   },
   "outputs": [],
   "source": [
    "%matplotlib widget\n",
    "import matplotlib\n",
    "from matplotlib import pyplot as plt\n",
    "import numpy as np\n",
    "import pandas as pd\n",
    "import pint\n",
    "import pint_pandas\n",
    "import pathlib\n",
    "import tqdm\n",
    "u = pint.UnitRegistry()"
   ]
  },
  {
   "cell_type": "markdown",
   "metadata": {},
   "source": [
    "pandas DataFrame in traditional tidy format:\n",
    "\n",
    "* the index is meaningless (row numbers)\n",
    "* each column contains one variable\n",
    "* each observation forms a row\n",
    "* each type of observational unit forms a DataFrame\n",
    "* columns ordered from fixed variables (left) to measured variables; within each group, alphabetical order\n",
    "* rows ordered using the leftmost variable, breaking ties with variables further right\n",
    "\n",
    "Even given these constraints, there are still some variables in the data representation:\n",
    "\n",
    "* duplicate information (like countrycode and full countryname) in a single DataFrame vs. multiple DataFrames (only countrycode in the DataFrame, second DataFrame maps countrycodes to countrynames)\n",
    "* units as composite types (e.g. pint) vs. units as a variable\n",
    "\n",
    "Because the data structure relies on multiple, possibly joinable DataFrames, there is a need for a container, which is not yet defined."
   ]
  },
  {
   "cell_type": "markdown",
   "metadata": {},
   "source": [
    "# representation\n",
    "* load all example data sets into the data structure at once\n",
    "* measure memory use\n",
    "* export the data sets to CSV\n",
    "* reimport from CSV\n",
    "* export the data sets to some kind of native storage format\n",
    "* reimport from the native storage format"
   ]
  },
  {
   "cell_type": "markdown",
   "metadata": {
    "execution": {
     "iopub.execute_input": "2020-08-24T12:17:29.193806Z",
     "iopub.status.busy": "2020-08-24T12:17:29.193662Z",
     "iopub.status.idle": "2020-08-24T12:17:29.306871Z",
     "shell.execute_reply": "2020-08-24T12:17:29.304070Z",
     "shell.execute_reply.started": "2020-08-24T12:17:29.193790Z"
    }
   },
   "source": [
    "## Read in the data"
   ]
  },
  {
   "cell_type": "code",
   "execution_count": 2,
   "metadata": {
    "execution": {
     "iopub.execute_input": "2020-08-27T07:01:25.346099Z",
     "iopub.status.busy": "2020-08-27T07:01:25.345874Z",
     "iopub.status.idle": "2020-08-27T07:01:25.461745Z",
     "shell.execute_reply": "2020-08-27T07:01:25.460889Z",
     "shell.execute_reply.started": "2020-08-27T07:01:25.346077Z"
    }
   },
   "outputs": [
    {
     "name": "stdout",
     "output_type": "stream",
     "text": [
      "Emissions_Agriculture_Agriculture_total_E_All_Data.csv\n",
      "lak-download.csv\n",
      "mole_fraction_of_carbon_dioxide_in_air_input4MIPs_GHGConcentrations_CMIP_UoM-CMIP-1-1-0_gr3-GMNHSH_000001-201412.csv\n",
      "PRIMAPDB.mat\n",
      "PRIMAP-hist_v2.1_09-Nov-2019.csv\n"
     ]
    }
   ],
   "source": [
    "!ls ../../primap-requirements/example_data_sets/"
   ]
  },
  {
   "cell_type": "code",
   "execution_count": 3,
   "metadata": {
    "execution": {
     "iopub.execute_input": "2020-08-27T07:01:25.463474Z",
     "iopub.status.busy": "2020-08-27T07:01:25.463201Z",
     "iopub.status.idle": "2020-08-27T07:01:25.469361Z",
     "shell.execute_reply": "2020-08-27T07:01:25.467916Z",
     "shell.execute_reply.started": "2020-08-27T07:01:25.463443Z"
    }
   },
   "outputs": [],
   "source": [
    "p = pathlib.Path('../../primap-requirements/example_data_sets/')"
   ]
  },
  {
   "cell_type": "markdown",
   "metadata": {
    "execution": {
     "iopub.execute_input": "2020-08-20T16:19:01.889848Z",
     "iopub.status.busy": "2020-08-20T16:19:01.888634Z",
     "iopub.status.idle": "2020-08-20T16:19:02.061860Z",
     "shell.execute_reply": "2020-08-20T16:19:02.061226Z",
     "shell.execute_reply.started": "2020-08-20T16:19:01.889730Z"
    }
   },
   "source": [
    "### read in FAO emissions agriculture total fao_emi_total"
   ]
  },
  {
   "cell_type": "code",
   "execution_count": 4,
   "metadata": {
    "execution": {
     "iopub.execute_input": "2020-08-27T07:01:25.471916Z",
     "iopub.status.busy": "2020-08-27T07:01:25.471444Z",
     "iopub.status.idle": "2020-08-27T07:01:26.189303Z",
     "shell.execute_reply": "2020-08-27T07:01:26.188070Z",
     "shell.execute_reply.started": "2020-08-27T07:01:25.471864Z"
    }
   },
   "outputs": [],
   "source": [
    "years = list(range(1961, 2017)) + [2030, 2050]\n",
    "dtypes = {}\n",
    "for year in years:\n",
    "    dtypes[f'Y{year}'] = np.float\n",
    "\n",
    "dtypes['Area'] = pd.CategoricalDtype(ordered=True)\n",
    "dtypes['Item'] = pd.CategoricalDtype(ordered=True)\n",
    "dtypes['Element'] = pd.CategoricalDtype(ordered=True)\n",
    "\n",
    "fao_emi_total = pd.read_csv(\n",
    "    p / 'Emissions_Agriculture_Agriculture_total_E_All_Data.csv',\n",
    "    encoding='latin_1',\n",
    "    dtype=dtypes,\n",
    "    usecols=dtypes.keys(),\n",
    "    index_col=[0, 1, 2])\n",
    "\n",
    "fao_emi_total = fao_emi_total.stack()\n",
    "\n",
    "fao_emi_total.index = (fao_emi_total.index\n",
    "                       .set_names('Date', level=3)\n",
    "                       .set_levels(pd.to_datetime(fao_emi_total.index.levels[3], format='Y%Y'), level=3)\n",
    "                       .set_levels(fao_emi_total.index.levels[2].str[len('Emissions ('):-1], level=2)\n",
    "                      )\n",
    "\n",
    "fao_emi_total = fao_emi_total.reorder_levels(['Area', 'Date', 'Element', 'Item'])\n",
    "fao_emi_total.sort_index(inplace=True)\n",
    "\n",
    "fao_emi_total.name = 'Emissions'\n",
    "\n",
    "fao_emi_total = fao_emi_total.astype('pint[Gg]')"
   ]
  },
  {
   "cell_type": "code",
   "execution_count": 5,
   "metadata": {
    "execution": {
     "iopub.execute_input": "2020-08-27T07:01:26.195573Z",
     "iopub.status.busy": "2020-08-27T07:01:26.194158Z",
     "iopub.status.idle": "2020-08-27T07:01:26.232285Z",
     "shell.execute_reply": "2020-08-27T07:01:26.231153Z",
     "shell.execute_reply.started": "2020-08-27T07:01:26.195410Z"
    }
   },
   "outputs": [
    {
     "data": {
      "text/plain": [
       "Area         Date        Element  Item                   \n",
       "Afghanistan  1961-01-01  CH4      Agriculture total          285.7793\n",
       "                                  Burning - Crop residues      4.0734\n",
       "                                  Enteric Fermentation       240.6831\n",
       "                                  Manure Management           11.6228\n",
       "                                  Rice Cultivation               29.4\n",
       "                                                               ...   \n",
       "Zimbabwe     2050-01-01  N2O      Crop Residues                1.1978\n",
       "                                  Manure Management            0.3871\n",
       "                                  Manure applied to Soils      0.6348\n",
       "                                  Manure left on Pasture      20.8824\n",
       "                                  Synthetic Fertilizers        3.7159\n",
       "Name: Emissions, Length: 507542, dtype: pint[gigagram]"
      ]
     },
     "execution_count": 5,
     "metadata": {},
     "output_type": "execute_result"
    }
   ],
   "source": [
    "fao_emi_total"
   ]
  },
  {
   "cell_type": "markdown",
   "metadata": {},
   "source": [
    "### read in emission data for German bundesländer lak_emi_energy"
   ]
  },
  {
   "cell_type": "code",
   "execution_count": 6,
   "metadata": {
    "execution": {
     "iopub.execute_input": "2020-08-27T07:01:26.235701Z",
     "iopub.status.busy": "2020-08-27T07:01:26.235028Z",
     "iopub.status.idle": "2020-08-27T07:01:26.267885Z",
     "shell.execute_reply": "2020-08-27T07:01:26.267188Z",
     "shell.execute_reply.started": "2020-08-27T07:01:26.235609Z"
    }
   },
   "outputs": [],
   "source": [
    "dtypes = {}\n",
    "for i in ['Insgesamt', 'Steinkohle', 'Braunkohle', 'Mineralöle und Mineralöl produkte', 'Gase', 'Abfälle (nicht biogen)', 'Andere Energieträger']:\n",
    "    dtypes[i] = np.float\n",
    "dtypes['Land'] = pd.CategoricalDtype(ordered=True)\n",
    "dtypes['Jahr'] = str\n",
    "\n",
    "lak_emi_energy = pd.read_csv(\n",
    "    p / 'lak-download.csv',\n",
    "    encoding='latin_1',\n",
    "    dtype=dtypes,\n",
    "    usecols=dtypes.keys(),\n",
    "    index_col=[0, 1],\n",
    "    sep=';',\n",
    "    skiprows=4,\n",
    "    nrows=464)\n",
    "\n",
    "lak_emi_energy = lak_emi_energy.stack()\n",
    "\n",
    "lak_emi_energy.index = (lak_emi_energy.index\n",
    "                        .set_levels(pd.to_datetime(lak_emi_energy.index.levels[1], format='%Y'), level=1)\n",
    "                        .set_levels(lak_emi_energy.index.levels[2].astype(pd.CategoricalDtype()), level=2)\n",
    "                        .set_names(['Area', 'Date', 'Category'])\n",
    "                       )\n",
    "lak_emi_energy = lak_emi_energy.reorder_levels(['Area', 'Category', 'Date', ])\n",
    "lak_emi_energy.sort_index(inplace=True)\n",
    "lak_emi_energy.name = 'Emissions'\n",
    "lak_emi_energy = lak_emi_energy.astype('pint[kilometric_ton]')"
   ]
  },
  {
   "cell_type": "code",
   "execution_count": 7,
   "metadata": {
    "execution": {
     "iopub.execute_input": "2020-08-27T07:01:26.270017Z",
     "iopub.status.busy": "2020-08-27T07:01:26.269547Z",
     "iopub.status.idle": "2020-08-27T07:01:26.296342Z",
     "shell.execute_reply": "2020-08-27T07:01:26.295249Z",
     "shell.execute_reply.started": "2020-08-27T07:01:26.269965Z"
    }
   },
   "outputs": [
    {
     "data": {
      "text/plain": [
       "Area               Category                Date      \n",
       "Baden-Württemberg  Abfälle (nicht biogen)  1990-01-01     595.6759999999999\n",
       "                                           1991-01-01               533.609\n",
       "                                           1992-01-01              582.9358\n",
       "                                           1993-01-01              582.8823\n",
       "                                           1994-01-01                513.03\n",
       "                                                                ...        \n",
       "Thüringen          Steinkohle              2013-01-01    60.221564691110004\n",
       "                                           2014-01-01      60.3047505431081\n",
       "                                           2015-01-01     55.85147852397861\n",
       "                                           2016-01-01    51.744334669214496\n",
       "                                           2017-01-01    55.785371808505296\n",
       "Name: Emissions, Length: 2713, dtype: pint[kilometric_ton]"
      ]
     },
     "execution_count": 7,
     "metadata": {},
     "output_type": "execute_result"
    }
   ],
   "source": [
    "lak_emi_energy"
   ]
  },
  {
   "cell_type": "markdown",
   "metadata": {},
   "source": [
    "### Read in CO2 mole fraction time series cmip_conc_co2"
   ]
  },
  {
   "cell_type": "code",
   "execution_count": 8,
   "metadata": {
    "execution": {
     "iopub.execute_input": "2020-08-27T07:01:26.298283Z",
     "iopub.status.busy": "2020-08-27T07:01:26.297921Z",
     "iopub.status.idle": "2020-08-27T07:01:26.424700Z",
     "shell.execute_reply": "2020-08-27T07:01:26.422679Z",
     "shell.execute_reply.started": "2020-08-27T07:01:26.298252Z"
    }
   },
   "outputs": [
    {
     "name": "stdout",
     "output_type": "stream",
     "text": [
      "735857,2014,9,15,15-Sep-2014 00:00:00,395.026810069061,394.318660838738,395.734959299383\n",
      "735887,2014,10,15,15-Oct-2014 00:00:00,396.668759675911,397.456652804706,395.880866547116\n",
      "735918,2014,11,15,15-Nov-2014 00:00:00,398.189074185698,400.321219754153,396.056928617242\n",
      "735948,2014,12,15,15-Dec-2014 00:00:00,399.179691756507,402.195087926915,396.164295586098\n"
     ]
    }
   ],
   "source": [
    "!tail -n4 $p/mole_fraction_of_carbon_dioxide_in_air_input4MIPs_GHGConcentrations_CMIP_UoM-CMIP-1-1-0_gr3-GMNHSH_000001-201412.csv"
   ]
  },
  {
   "cell_type": "code",
   "execution_count": 9,
   "metadata": {
    "execution": {
     "iopub.execute_input": "2020-08-27T07:01:26.427957Z",
     "iopub.status.busy": "2020-08-27T07:01:26.427517Z",
     "iopub.status.idle": "2020-08-27T07:01:26.592909Z",
     "shell.execute_reply": "2020-08-27T07:01:26.591894Z",
     "shell.execute_reply.started": "2020-08-27T07:01:26.427918Z"
    }
   },
   "outputs": [],
   "source": [
    "dtypes = {\n",
    "    'data_mean_global': np.float,\n",
    "    'data_mean_nh': np.float,\n",
    "    'data_mean_sh': np.float,\n",
    "}\n",
    "cmip_conc_co2 = pd.read_csv(\n",
    "    p / 'mole_fraction_of_carbon_dioxide_in_air_input4MIPs_GHGConcentrations_CMIP_UoM-CMIP-1-1-0_gr3-GMNHSH_000001-201412.csv',\n",
    "    usecols=dtypes.keys(),\n",
    "    #index_col=[0, 1],\n",
    ")\n",
    "# cannot use datetime here, because the range of possible values reaches back only into the 17th century\n",
    "cmip_conc_co2.index = pd.period_range(start=pd.Period(year=0, month=1, freq='M'), end=pd.Period(year=2014, month=12, freq='M'), name='Date')\n",
    "\n",
    "cmip_conc_co2 = cmip_conc_co2.stack()\n",
    "\n",
    "cmip_conc_co2.index = (cmip_conc_co2.index\n",
    "                       .set_levels(cmip_conc_co2.index.levels[1].str[len('data_mean_'):].astype(pd.CategoricalDtype(ordered=True)), level=1)\n",
    "                       .set_names('Area', level=1)\n",
    "                      )\n",
    "\n",
    "cmip_conc_co2 = cmip_conc_co2.reorder_levels(['Area', 'Date', ])\n",
    "cmip_conc_co2.sort_index(inplace=True)\n",
    "\n",
    "cmip_conc_co2.name = 'CO2 concentration'\n",
    "\n",
    "cmip_conc_co2 = cmip_conc_co2.astype('pint[dimensionless]')\n",
    "cmip_conc_co2 *= 1e-6"
   ]
  },
  {
   "cell_type": "code",
   "execution_count": 10,
   "metadata": {
    "execution": {
     "iopub.execute_input": "2020-08-27T07:01:26.594588Z",
     "iopub.status.busy": "2020-08-27T07:01:26.594220Z",
     "iopub.status.idle": "2020-08-27T07:01:26.612763Z",
     "shell.execute_reply": "2020-08-27T07:01:26.611966Z",
     "shell.execute_reply.started": "2020-08-27T07:01:26.594558Z"
    }
   },
   "outputs": [
    {
     "data": {
      "text/plain": [
       "Area    Date   \n",
       "global  0-01       0.00027836643883702005\n",
       "        0-02         0.000278713058010423\n",
       "        0-03         0.000279013835279965\n",
       "        0-04       0.00027920961334856496\n",
       "        0-05         0.000279106444207592\n",
       "                            ...          \n",
       "sh      2014-08    0.00039577037859628094\n",
       "        2014-09      0.000395734959299383\n",
       "        2014-10      0.000395880866547116\n",
       "        2014-11    0.00039605692861724196\n",
       "        2014-12    0.00039616429558609803\n",
       "Name: CO2 concentration, Length: 72540, dtype: pint[dimensionless]"
      ]
     },
     "execution_count": 10,
     "metadata": {},
     "output_type": "execute_result"
    }
   ],
   "source": [
    "cmip_conc_co2"
   ]
  },
  {
   "cell_type": "markdown",
   "metadata": {},
   "source": [
    "### Read in PRIMAPDB"
   ]
  },
  {
   "cell_type": "code",
   "execution_count": 11,
   "metadata": {
    "execution": {
     "iopub.execute_input": "2020-08-27T07:01:26.614271Z",
     "iopub.status.busy": "2020-08-27T07:01:26.613870Z",
     "iopub.status.idle": "2020-08-27T07:01:27.387250Z",
     "shell.execute_reply": "2020-08-27T07:01:27.386178Z",
     "shell.execute_reply.started": "2020-08-27T07:01:26.614240Z"
    }
   },
   "outputs": [],
   "source": [
    "import read_primapdb as rp"
   ]
  },
  {
   "cell_type": "code",
   "execution_count": 12,
   "metadata": {
    "execution": {
     "iopub.execute_input": "2020-08-27T07:01:27.389995Z",
     "iopub.status.busy": "2020-08-27T07:01:27.389756Z",
     "iopub.status.idle": "2020-08-27T07:01:27.394571Z",
     "shell.execute_reply": "2020-08-27T07:01:27.393907Z",
     "shell.execute_reply.started": "2020-08-27T07:01:27.389972Z"
    }
   },
   "outputs": [],
   "source": [
    "mfh = rp.MatFileHandle.from_matfile(p / 'PRIMAPDB.mat')"
   ]
  },
  {
   "cell_type": "code",
   "execution_count": 13,
   "metadata": {
    "execution": {
     "iopub.execute_input": "2020-08-27T07:01:27.396200Z",
     "iopub.status.busy": "2020-08-27T07:01:27.395933Z",
     "iopub.status.idle": "2020-08-27T07:01:27.407283Z",
     "shell.execute_reply": "2020-08-27T07:01:27.406434Z",
     "shell.execute_reply.started": "2020-08-27T07:01:27.396175Z"
    }
   },
   "outputs": [],
   "source": [
    "def extract_df(sheet):\n",
    "    a, df = rp.primap_sheet_to_pandas(sheet)\n",
    "\n",
    "    df = df.stack()\n",
    "    \n",
    "    index = df.index.to_frame()\n",
    "    index.columns = ['Date', 'Area']\n",
    "    index['Area'] = index['Area'].astype(pd.CategoricalDtype(ordered=True))\n",
    "    \n",
    "    try:\n",
    "        index['Date'] = pd.to_datetime(index['Date'], format='%Y')\n",
    "    except ValueError:  # outside the range of datetime64\n",
    "        index['Date'] = [pd.Period(year=x, freq='Y') for x in index['Date']]\n",
    "    \n",
    "    df.index = pd.MultiIndex.from_frame(index)\n",
    "    \n",
    "    df = df.reorder_levels(['Area', 'Date', ])\n",
    "    df.sort_index(inplace=True)\n",
    "    \n",
    "    df.name = a.pop('entity')\n",
    "\n",
    "    unit = a.pop('unit')    \n",
    "    if unit == 'ThousandPers':\n",
    "        df = df.astype('pint[dimensionless]')\n",
    "        df *= 1000\n",
    "    elif unit == 'Gg':\n",
    "        df = df.astype('pint[gigagram]')\n",
    "    elif unit == 't':\n",
    "        df = df.astype('pint[metric_ton]')\n",
    "    elif unit == 'kt':\n",
    "        df = df.astype('pint[kilometric_ton]')\n",
    "    elif unit == 'GgCO2eq':\n",
    "        df = df.astype('pint[Gg]')\n",
    "        df.name = f'{df.name} (CO2eq)'\n",
    "    elif unit == 'ktC':\n",
    "        df = df.astype('pint[kilometric_ton]')\n",
    "        df.name = f'{df.name} (C)'\n",
    "    elif unit in ('2011GKD/Pers', '2011GKD'):  # give up\n",
    "        df = df.astype('pint[dimensionless]')\n",
    "        df.name = f'{df.name} ({unit})'\n",
    "    elif unit == 'MtCO2eq':\n",
    "        df = df.astype('pint[megametric_ton]')\n",
    "        df.name = f'{df.name} (CO2eq)'\n",
    "    else:\n",
    "        raise ValueError(f'unit={unit}')\n",
    "        \n",
    "    return a, df"
   ]
  },
  {
   "cell_type": "code",
   "execution_count": 14,
   "metadata": {
    "execution": {
     "iopub.execute_input": "2020-08-27T07:01:27.408834Z",
     "iopub.status.busy": "2020-08-27T07:01:27.408510Z",
     "iopub.status.idle": "2020-08-27T07:12:24.246279Z",
     "shell.execute_reply": "2020-08-27T07:12:24.245591Z",
     "shell.execute_reply.started": "2020-08-27T07:01:27.408802Z"
    }
   },
   "outputs": [
    {
     "data": {
      "application/vnd.jupyter.widget-view+json": {
       "model_id": "530047af622544d68eb72344f48e0b48",
       "version_major": 2,
       "version_minor": 0
      },
      "text/plain": [
       "HBox(children=(IntProgress(value=0, max=4118), HTML(value='')))"
      ]
     },
     "metadata": {},
     "output_type": "display_data"
    },
    {
     "name": "stdout",
     "output_type": "stream",
     "text": [
      "\n"
     ]
    }
   ],
   "source": [
    "primap_tables = {}\n",
    "pmd = mfh[\"PRIMAPDB\"][\"mastertable\"][\"datatables\"]\n",
    "for key in tqdm.tqdm_notebook(pmd.group.keys()):\n",
    "    primap_tables[key] = extract_df(pmd[key])"
   ]
  },
  {
   "cell_type": "markdown",
   "metadata": {},
   "source": [
    "### Read in PRIMAP-hist (published)"
   ]
  },
  {
   "cell_type": "code",
   "execution_count": 15,
   "metadata": {
    "execution": {
     "iopub.execute_input": "2020-08-27T07:12:24.248368Z",
     "iopub.status.busy": "2020-08-27T07:12:24.248017Z",
     "iopub.status.idle": "2020-08-27T07:12:24.385205Z",
     "shell.execute_reply": "2020-08-27T07:12:24.384183Z",
     "shell.execute_reply.started": "2020-08-27T07:12:24.248338Z"
    }
   },
   "outputs": [
    {
     "name": "stdout",
     "output_type": "stream",
     "text": [
      "scenario,country,category,entity,unit,1850,1851,1852,1853,1854,1855,1856,1857,1858,1859,1860,1861,1862,1863,1864,1865,1866,1867,1868,1869,1870,1871,1872,1873,1874,1875,1876,1877,1878,1879,1880,1881,1882,1883,1884,1885,1886,1887,1888,1889,1890,1891,1892,1893,1894,1895,1896,1897,1898,1899,1900,1901,1902,1903,1904,1905,1906,1907,1908,1909,1910,1911,1912,1913,1914,1915,1916,1917,1918,1919,1920,1921,1922,1923,1924,1925,1926,1927,1928,1929,1930,1931,1932,1933,1934,1935,1936,1937,1938,1939,1940,1941,1942,1943,1944,1945,1946,1947,1948,1949,1950,1951,1952,1953,1954,1955,1956,1957,1958,1959,1960,1961,1962,1963,1964,1965,1966,1967,1968,1969,1970,1971,1972,1973,1974,1975,1976,1977,1978,1979,1980,1981,1982,1983,1984,1985,1986,1987,1988,1989,1990,1991,1992,1993,1994,1995,1996,1997,1998,1999,2000,2001,2002,2003,2004,2005,2006,2007,2008,2009,2010,2011,2012,2013,2014,2015,2016,2017\n",
      "HISTCR,ABW,IPC1A,CH4,Gg,3.66e-04,3.78e-04,3.90e-04,4.02e-04,4.15e-04,4.28e-04,4.41e-04,4.54e-04,4.68e-04,4.82e-04,4.96e-04,5.10e-04,5.24e-04,5.38e-04,5.53e-04,5.68e-04,5.83e-04,5.98e-04,6.14e-04,6.29e-04,6.45e-04,6.60e-04,6.76e-04,6.93e-04,7.09e-04,7.25e-04,7.42e-04,7.58e-04,7.75e-04,7.92e-04,8.09e-04,8.26e-04,8.43e-04,8.60e-04,8.78e-04,8.95e-04,9.12e-04,9.30e-04,9.48e-04,9.65e-04,1.07e-03,1.11e-03,1.15e-03,1.20e-03,1.25e-03,1.30e-03,1.36e-03,1.41e-03,1.47e-03,1.53e-03,1.60e-03,1.67e-03,1.75e-03,1.83e-03,1.92e-03,2.02e-03,2.11e-03,2.20e-03,2.28e-03,2.36e-03,2.42e-03,2.48e-03,2.53e-03,2.59e-03,2.64e-03,2.69e-03,2.74e-03,2.78e-03,2.81e-03,2.85e-03,2.87e-03,2.90e-03,2.92e-03,2.93e-03,2.95e-03,2.96e-03,2.98e-03,2.99e-03,3.01e-03,3.02e-03,3.04e-03,3.06e-03,3.09e-03,3.11e-03,3.14e-03,3.17e-03,3.20e-03,3.23e-03,3.26e-03,3.28e-03,3.31e-03,3.34e-03,3.36e-03,3.38e-03,3.39e-03,3.41e-03,3.43e-03,3.46e-03,3.49e-03,3.52e-03,3.56e-03,3.64e-03,3.77e-03,3.94e-03,4.15e-03,4.39e-03,4.64e-03,4.91e-03,5.18e-03,5.45e-03,5.70e-03,5.97e-03,6.29e-03,6.64e-03,7.00e-03,7.36e-03,7.69e-03,7.98e-03,8.21e-03,8.37e-03,8.48e-03,8.48e-03,8.38e-03,8.91e-03,8.79e-03,9.72e-03,2.44e-02,2.43e-02,6.20e-02,8.22e-02,1.14e-01,8.48e-02,9.93e-02,9.54e-02,1.10e-01,1.25e-01,9.54e-02,1.16e-01,1.03e-01,1.01e-01,1.06e-01,1.13e-01,1.32e-01,1.35e-01,1.48e-01,1.51e-01,2.07e-02,2.60e-02,4.94e-02,5.13e-02,1.92e-01,1.99e-01,1.97e-01,2.02e-01,1.84e-01,1.87e-01,1.91e-01,2.23e-01,2.34e-01,2.39e-01,2.46e-01,2.43e-01,2.43e-01,2.80e-01,2.91e-01,3.02e-01,3.14e-01,3.25e-01\n",
      "HISTCR,AFG,IPC1A,CH4,Gg,3.17e-02,3.19e-02,3.21e-02,3.23e-02,3.24e-02,3.26e-02,3.28e-02,3.30e-02,3.32e-02,3.34e-02,3.36e-02,3.38e-02,3.40e-02,3.42e-02,3.44e-02,3.46e-02,3.48e-02,3.50e-02,3.52e-02,3.54e-02,3.57e-02,3.59e-02,3.61e-02,3.63e-02,3.65e-02,3.68e-02,3.70e-02,3.72e-02,3.74e-02,3.77e-02,3.79e-02,3.81e-02,3.84e-02,3.86e-02,3.88e-02,3.91e-02,3.93e-02,3.95e-02,3.98e-02,4.00e-02,4.50e-02,4.66e-02,4.84e-02,5.03e-02,5.24e-02,5.46e-02,5.70e-02,5.95e-02,6.21e-02,6.48e-02,6.76e-02,7.07e-02,7.43e-02,7.82e-02,8.24e-02,8.66e-02,9.09e-02,9.50e-02,9.90e-02,1.03e-01,1.06e-01,1.08e-01,1.11e-01,1.13e-01,1.15e-01,1.17e-01,1.19e-01,1.21e-01,1.23e-01,1.26e-01,1.28e-01,1.31e-01,1.33e-01,1.36e-01,1.38e-01,1.41e-01,1.44e-01,1.47e-01,1.51e-01,1.56e-01,1.62e-01,1.72e-01,1.91e-01,2.16e-01,2.47e-01,2.81e-01,3.17e-01,3.54e-01,3.91e-01,4.25e-01,4.55e-01,4.84e-01,5.13e-01,5.42e-01,5.71e-01,6.00e-01,6.28e-01,6.54e-01,6.79e-01,7.02e-01,7.22e-01,7.40e-01,7.54e-01,7.66e-01,7.78e-01,7.89e-01,8.00e-01,8.13e-01,8.29e-01,8.49e-01,8.72e-01,9.23e-01,1.02e+00,1.14e+00,1.28e+00,1.43e+00,1.58e+00,1.71e+00,1.82e+00,1.89e+00,2.56e+00,2.66e+00,2.43e+00,2.71e+00,3.05e+00,2.43e+00,2.45e+00,2.89e+00,3.11e+00,2.74e+00,5.11e+00,5.20e+00,4.90e+00,4.89e+00,4.75e+00,4.09e+00,3.81e+00,3.96e+00,3.94e+00,3.88e+00,4.05e+00,3.79e+00,3.42e+00,3.59e+00,3.86e+00,5.93e+00,7.00e+00,7.25e+00,7.49e+00,7.57e+00,7.58e+00,7.05e+00,8.02e+00,8.49e+00,8.63e+00,9.05e+00,9.17e+00,9.16e+00,9.98e+00,1.08e+01,1.12e+01,1.18e+01,1.20e+01,1.20e+01,1.23e+01,1.27e+01,1.30e+01,1.34e+01\n"
     ]
    }
   ],
   "source": [
    "!head -n3 $p/PRIMAP-hist_v2.1_09-Nov-2019.csv"
   ]
  },
  {
   "cell_type": "code",
   "execution_count": 16,
   "metadata": {
    "execution": {
     "iopub.execute_input": "2020-08-27T07:12:24.386669Z",
     "iopub.status.busy": "2020-08-27T07:12:24.386393Z",
     "iopub.status.idle": "2020-08-27T07:12:37.241801Z",
     "shell.execute_reply": "2020-08-27T07:12:37.240962Z",
     "shell.execute_reply.started": "2020-08-27T07:12:24.386642Z"
    }
   },
   "outputs": [],
   "source": [
    "dtypes = {\n",
    "    'scenario': str,\n",
    "    'country': str,\n",
    "    'category': str,\n",
    "    'entity': str,\n",
    "    'unit': str,\n",
    "}\n",
    "for year in range(1850, 2018):\n",
    "    dtypes[str(year)] = np.float64\n",
    "    \n",
    "prm_emi = pd.read_csv(\n",
    "    p / 'PRIMAP-hist_v2.1_09-Nov-2019.csv',\n",
    "    usecols=dtypes.keys(),\n",
    "    index_col=[0, 1, 2, 3, 4],\n",
    ")\n",
    "\n",
    "prm_emi = prm_emi.stack()\n",
    "\n",
    "index = prm_emi.index.to_frame()\n",
    "index.columns = ['Scenario', 'Area', 'Category', 'Entity', 'Unit', 'Date']\n",
    "index['Date'] = pd.to_datetime(index['Date'], format='%Y')\n",
    "index.loc[index['Unit'] == 'GgCO2eq', 'Entity'] += ' (CO2eq)'\n",
    "index = index.drop('Unit', axis='columns')\n",
    "\n",
    "prm_emi.index = pd.MultiIndex.from_frame(index)\n",
    "prm_emi = prm_emi.reorder_levels(['Area', 'Category', 'Date', 'Entity', 'Scenario'])\n",
    "prm_emi.sort_index(inplace=True)\n",
    "prm_emi.name = 'Emissions'\n",
    "prm_emi = prm_emi.astype('pint[Gg]')"
   ]
  },
  {
   "cell_type": "code",
   "execution_count": 17,
   "metadata": {
    "execution": {
     "iopub.execute_input": "2020-08-27T07:12:37.243009Z",
     "iopub.status.busy": "2020-08-27T07:12:37.242774Z",
     "iopub.status.idle": "2020-08-27T07:12:37.259407Z",
     "shell.execute_reply": "2020-08-27T07:12:37.258167Z",
     "shell.execute_reply.started": "2020-08-27T07:12:37.242986Z"
    }
   },
   "outputs": [
    {
     "data": {
      "text/plain": [
       "Area  Category   Date        Entity               Scenario\n",
       "ABW   IPC1       1850-01-01  CH4                  HISTCR      0.00038700000000000003\n",
       "                                                  HISTTP      0.00038700000000000003\n",
       "                             CO2                  HISTCR                        40.3\n",
       "                                                  HISTTP                        40.3\n",
       "                             KYOTOGHG (CO2eq)     HISTCR                        40.3\n",
       "                                                                       ...          \n",
       "ZWE   IPCMAGELV  2017-01-01  KYOTOGHG (CO2eq)     HISTTP                      6630.0\n",
       "                             KYOTOGHGAR4 (CO2eq)  HISTCR                      6040.0\n",
       "                                                  HISTTP                      6640.0\n",
       "                             N2O                  HISTCR                        15.6\n",
       "                                                  HISTTP                        17.6\n",
       "Name: Emissions, Length: 4990924, dtype: pint[gigagram]"
      ]
     },
     "execution_count": 17,
     "metadata": {},
     "output_type": "execute_result"
    }
   ],
   "source": [
    "prm_emi"
   ]
  },
  {
   "cell_type": "markdown",
   "metadata": {},
   "source": [
    "## Measure memory use"
   ]
  },
  {
   "cell_type": "code",
   "execution_count": 18,
   "metadata": {
    "execution": {
     "iopub.execute_input": "2020-08-27T07:12:37.262982Z",
     "iopub.status.busy": "2020-08-27T07:12:37.262036Z",
     "iopub.status.idle": "2020-08-27T07:12:37.424291Z",
     "shell.execute_reply": "2020-08-27T07:12:37.421830Z",
     "shell.execute_reply.started": "2020-08-27T07:12:37.262947Z"
    }
   },
   "outputs": [],
   "source": [
    "!mkdir -p mem"
   ]
  },
  {
   "cell_type": "code",
   "execution_count": 19,
   "metadata": {
    "execution": {
     "iopub.execute_input": "2020-08-27T07:12:37.429953Z",
     "iopub.status.busy": "2020-08-27T07:12:37.428890Z",
     "iopub.status.idle": "2020-08-27T07:12:40.767096Z",
     "shell.execute_reply": "2020-08-27T07:12:40.766126Z",
     "shell.execute_reply.started": "2020-08-27T07:12:37.429841Z"
    }
   },
   "outputs": [],
   "source": [
    "import pickle\n",
    "\n",
    "for fpath, obj in (\n",
    "    ('fao_emi_total.pck', fao_emi_total),\n",
    "    ('lak_emi_energy.pck', lak_emi_energy),\n",
    "    ('cmip_conc_co2.pck', cmip_conc_co2),\n",
    "    ('primap_tables.pck', primap_tables),\n",
    "    ('prm_emi.pck', prm_emi), \n",
    "):\n",
    "    with open(f'mem/{fpath}', 'wb') as fd:\n",
    "        pickle.dump(obj, fd, -1)"
   ]
  },
  {
   "cell_type": "code",
   "execution_count": 20,
   "metadata": {
    "execution": {
     "iopub.execute_input": "2020-08-27T07:12:40.768298Z",
     "iopub.status.busy": "2020-08-27T07:12:40.768064Z",
     "iopub.status.idle": "2020-08-27T07:12:40.921714Z",
     "shell.execute_reply": "2020-08-27T07:12:40.920329Z",
     "shell.execute_reply.started": "2020-08-27T07:12:40.768277Z"
    }
   },
   "outputs": [
    {
     "name": "stdout",
     "output_type": "stream",
     "text": [
      "total 320M\n",
      "drwxrwxr-x 2 pflueger pflueger 4,0K Aug 24 20:15 .\n",
      "drwxrwxr-x 7 pflueger pflueger 4,0K Aug 27 09:03 ..\n",
      "-rw-rw-r-- 1 pflueger pflueger 1,2M Aug 27 09:12 cmip_conc_co2.pck\n",
      "-rw-rw-r-- 1 pflueger pflueger 8,8M Aug 27 09:12 fao_emi_total.pck\n",
      "-rw-rw-r-- 1 pflueger pflueger  40K Aug 27 09:12 lak_emi_energy.pck\n",
      "-rw-rw-r-- 1 pflueger pflueger 205M Aug 27 09:12 primap_tables.pck\n",
      "-rw-rw-r-- 1 pflueger pflueger 105M Aug 27 09:12 prm_emi.pck\n"
     ]
    }
   ],
   "source": [
    "!ls -lah mem/"
   ]
  },
  {
   "cell_type": "code",
   "execution_count": 21,
   "metadata": {
    "execution": {
     "iopub.execute_input": "2020-08-27T07:12:40.924101Z",
     "iopub.status.busy": "2020-08-27T07:12:40.923738Z",
     "iopub.status.idle": "2020-08-27T07:12:41.081092Z",
     "shell.execute_reply": "2020-08-27T07:12:41.080003Z",
     "shell.execute_reply.started": "2020-08-27T07:12:40.924063Z"
    }
   },
   "outputs": [
    {
     "name": "stdout",
     "output_type": "stream",
     "text": [
      "total 308M\n",
      "drwxrwxr-x 2 pflueger pflueger 4,0K Aug 21 15:35 .\n",
      "drwxrwxr-x 5 pflueger pflueger 4,0K Aug 21 15:35 ..\n",
      "-rw-rw-r-- 1 pflueger pflueger  10M Aug 28  2019 Emissions_Agriculture_Agriculture_total_E_All_Data.csv\n",
      "-rw-rw---- 1 pflueger pflueger   41 Aug 19 18:34 .gitattributes\n",
      "-rw-rw-r-- 1 pflueger pflueger  52K Aug 19 11:08 lak-download.csv\n",
      "-rw-rw-r-- 1 pflueger pflueger 2,1M Aug 21 09:54 mole_fraction_of_carbon_dioxide_in_air_input4MIPs_GHGConcentrations_CMIP_UoM-CMIP-1-1-0_gr3-GMNHSH_000001-201412.csv\n",
      "-rw-rw-r-- 1 pflueger pflueger 254M Aug 12 08:44 PRIMAPDB.mat\n",
      "-rw-r--r-- 1 pflueger pflueger  44M Nov  9  2019 PRIMAP-hist_v2.1_09-Nov-2019.csv\n"
     ]
    }
   ],
   "source": [
    "!ls -lah $p"
   ]
  },
  {
   "cell_type": "markdown",
   "metadata": {},
   "source": [
    "## I/O"
   ]
  },
  {
   "cell_type": "markdown",
   "metadata": {},
   "source": [
    "* export the data sets to CSV\n",
    "* reimport from CSV\n",
    "* export the data sets to some kind of native storage format\n",
    "* reimport from the native storage format"
   ]
  },
  {
   "cell_type": "markdown",
   "metadata": {},
   "source": [
    "### export to CSV"
   ]
  },
  {
   "cell_type": "markdown",
   "metadata": {
    "execution": {
     "iopub.execute_input": "2020-08-25T16:14:49.830288Z",
     "iopub.status.busy": "2020-08-25T16:14:49.829571Z",
     "iopub.status.idle": "2020-08-25T16:15:04.973469Z",
     "shell.execute_reply": "2020-08-25T16:15:04.972908Z",
     "shell.execute_reply.started": "2020-08-25T16:14:49.830215Z"
    }
   },
   "source": [
    "* df.to_csv does not save pint unit"
   ]
  },
  {
   "cell_type": "code",
   "execution_count": 22,
   "metadata": {
    "execution": {
     "iopub.execute_input": "2020-08-27T07:12:41.082833Z",
     "iopub.status.busy": "2020-08-27T07:12:41.082480Z",
     "iopub.status.idle": "2020-08-27T07:12:56.850574Z",
     "shell.execute_reply": "2020-08-27T07:12:56.849252Z",
     "shell.execute_reply.started": "2020-08-27T07:12:41.082790Z"
    }
   },
   "outputs": [],
   "source": [
    "!mkdir -p csv/\n",
    "\n",
    "for fpath, obj in (\n",
    "    ('fao_emi_total.csv', fao_emi_total),\n",
    "    ('lak_emi_energy.csv', lak_emi_energy),\n",
    "    ('cmip_conc_co2.csv', cmip_conc_co2),\n",
    "    ('prm_emi.csv', prm_emi), \n",
    "):\n",
    "    obj.to_csv(f'csv/{fpath}', header=[f'{obj.name}/{obj.pint.units}'])"
   ]
  },
  {
   "cell_type": "code",
   "execution_count": 23,
   "metadata": {
    "execution": {
     "iopub.execute_input": "2020-08-27T07:12:56.854368Z",
     "iopub.status.busy": "2020-08-27T07:12:56.853621Z",
     "iopub.status.idle": "2020-08-27T07:14:04.727091Z",
     "shell.execute_reply": "2020-08-27T07:14:04.726227Z",
     "shell.execute_reply.started": "2020-08-27T07:12:56.854276Z"
    }
   },
   "outputs": [
    {
     "data": {
      "application/vnd.jupyter.widget-view+json": {
       "model_id": "2a2cfc0eceab49e482a02e0b770d745c",
       "version_major": 2,
       "version_minor": 0
      },
      "text/plain": [
       "HBox(children=(IntProgress(value=0, max=4118), HTML(value='')))"
      ]
     },
     "metadata": {},
     "output_type": "display_data"
    },
    {
     "name": "stdout",
     "output_type": "stream",
     "text": [
      "\n"
     ]
    }
   ],
   "source": [
    "!mkdir -p csv/primap_tables/\n",
    "\n",
    "for key, (meta, df) in tqdm.tqdm_notebook(primap_tables.items()):\n",
    "    df.to_csv(f'csv/primap_tables/{key}.csv', header=[f'{df.name}/{df.pint.units}'])\n",
    "    with open(f'csv/primap_tables/{key}_meta.csv', 'w') as fd:\n",
    "        fd.write('key,value\\n')\n",
    "        for k, v in meta.items():\n",
    "            fd.write(f'{k},{v}\\n')"
   ]
  },
  {
   "cell_type": "code",
   "execution_count": 24,
   "metadata": {
    "execution": {
     "iopub.execute_input": "2020-08-27T07:14:04.728944Z",
     "iopub.status.busy": "2020-08-27T07:14:04.728562Z",
     "iopub.status.idle": "2020-08-27T07:14:04.935945Z",
     "shell.execute_reply": "2020-08-27T07:14:04.934861Z",
     "shell.execute_reply.started": "2020-08-27T07:14:04.728903Z"
    }
   },
   "outputs": [
    {
     "name": "stdout",
     "output_type": "stream",
     "text": [
      "2,4M\tcsv/cmip_conc_co2.csv\n",
      "30M\tcsv/fao_emi_total.csv\n",
      "148K\tcsv/lak_emi_energy.csv\n",
      "402M\tcsv/primap_tables\n",
      "218M\tcsv/prm_emi.csv\n"
     ]
    }
   ],
   "source": [
    "!du -sh csv/*"
   ]
  },
  {
   "cell_type": "markdown",
   "metadata": {},
   "source": [
    "### reimport from CSV"
   ]
  },
  {
   "cell_type": "code",
   "execution_count": 25,
   "metadata": {
    "execution": {
     "iopub.execute_input": "2020-08-27T07:14:04.938953Z",
     "iopub.status.busy": "2020-08-27T07:14:04.938410Z",
     "iopub.status.idle": "2020-08-27T07:14:04.948605Z",
     "shell.execute_reply": "2020-08-27T07:14:04.945945Z",
     "shell.execute_reply.started": "2020-08-27T07:14:04.938913Z"
    }
   },
   "outputs": [],
   "source": [
    "def csv_to_series(fpath):\n",
    "    with open(fpath) as fd:\n",
    "        ncol = len(fd.readline().split(','))\n",
    "    ser = pd.read_csv(fpath, parse_dates=['Date'], index_col=list(range(0, ncol-1)), squeeze=True)\n",
    "    name, unit = ser.name.rsplit('/', 1)\n",
    "    ser.name = name\n",
    "    ser = ser.astype(f'pint[{unit}]')\n",
    "    return ser"
   ]
  },
  {
   "cell_type": "code",
   "execution_count": 26,
   "metadata": {
    "execution": {
     "iopub.execute_input": "2020-08-27T07:14:04.952584Z",
     "iopub.status.busy": "2020-08-27T07:14:04.951561Z",
     "iopub.status.idle": "2020-08-27T07:14:05.905244Z",
     "shell.execute_reply": "2020-08-27T07:14:05.902429Z",
     "shell.execute_reply.started": "2020-08-27T07:14:04.952428Z"
    }
   },
   "outputs": [],
   "source": [
    "fao_emi_total_r = csv_to_series('csv/fao_emi_total.csv')"
   ]
  },
  {
   "cell_type": "code",
   "execution_count": 27,
   "metadata": {
    "execution": {
     "iopub.execute_input": "2020-08-27T07:14:05.908129Z",
     "iopub.status.busy": "2020-08-27T07:14:05.907615Z",
     "iopub.status.idle": "2020-08-27T07:14:05.944699Z",
     "shell.execute_reply": "2020-08-27T07:14:05.942029Z",
     "shell.execute_reply.started": "2020-08-27T07:14:05.908090Z"
    }
   },
   "outputs": [],
   "source": [
    "lak_emi_energy_r = csv_to_series('csv/lak_emi_energy.csv')"
   ]
  },
  {
   "cell_type": "code",
   "execution_count": 28,
   "metadata": {
    "execution": {
     "iopub.execute_input": "2020-08-27T07:14:05.948362Z",
     "iopub.status.busy": "2020-08-27T07:14:05.946989Z",
     "iopub.status.idle": "2020-08-27T07:14:06.205439Z",
     "shell.execute_reply": "2020-08-27T07:14:06.204132Z",
     "shell.execute_reply.started": "2020-08-27T07:14:05.948176Z"
    }
   },
   "outputs": [],
   "source": [
    "cmip_conc_co2_r = csv_to_series('csv/cmip_conc_co2.csv')\n",
    "# Date is column of str objects, not PeriodIndex"
   ]
  },
  {
   "cell_type": "code",
   "execution_count": 29,
   "metadata": {
    "execution": {
     "iopub.execute_input": "2020-08-27T07:14:06.208578Z",
     "iopub.status.busy": "2020-08-27T07:14:06.207899Z",
     "iopub.status.idle": "2020-08-27T07:14:14.980789Z",
     "shell.execute_reply": "2020-08-27T07:14:14.978596Z",
     "shell.execute_reply.started": "2020-08-27T07:14:06.208503Z"
    }
   },
   "outputs": [],
   "source": [
    "prm_emi_r = csv_to_series('csv/prm_emi.csv')"
   ]
  },
  {
   "cell_type": "code",
   "execution_count": 30,
   "metadata": {
    "execution": {
     "iopub.execute_input": "2020-08-27T07:14:14.984929Z",
     "iopub.status.busy": "2020-08-27T07:14:14.983722Z",
     "iopub.status.idle": "2020-08-27T07:15:18.625080Z",
     "shell.execute_reply": "2020-08-27T07:15:18.623895Z",
     "shell.execute_reply.started": "2020-08-27T07:14:14.984794Z"
    }
   },
   "outputs": [
    {
     "data": {
      "application/vnd.jupyter.widget-view+json": {
       "model_id": "5cb8171125984a15847b9db12b6ccfef",
       "version_major": 2,
       "version_minor": 0
      },
      "text/plain": [
       "HBox(children=(IntProgress(value=0, max=4118), HTML(value='')))"
      ]
     },
     "metadata": {},
     "output_type": "display_data"
    },
    {
     "name": "stdout",
     "output_type": "stream",
     "text": [
      "\n"
     ]
    }
   ],
   "source": [
    "primap_tables_r = {}\n",
    "import glob\n",
    "import pathlib\n",
    "\n",
    "for meta_path in tqdm.tqdm_notebook(glob.glob('csv/primap_tables/*_meta.csv')):\n",
    "    mp = pathlib.Path(meta_path)\n",
    "    key = mp.name[:-9]\n",
    "    ser = csv_to_series(mp.with_name(f'{key}.csv'))\n",
    "    meta = {}\n",
    "    with mp.open() as fd:\n",
    "        fd.readline()\n",
    "        for l in fd.readlines():\n",
    "            k, v = l.split(',', 1)\n",
    "            meta[k] = v[:-1]\n",
    "    primap_tables_r[key] = (meta, ser)"
   ]
  },
  {
   "cell_type": "markdown",
   "metadata": {
    "execution": {
     "iopub.execute_input": "2020-08-26T08:00:02.016751Z",
     "iopub.status.busy": "2020-08-26T08:00:02.016239Z",
     "iopub.status.idle": "2020-08-26T08:00:02.213656Z",
     "shell.execute_reply": "2020-08-26T08:00:02.210034Z",
     "shell.execute_reply.started": "2020-08-26T08:00:02.016711Z"
    }
   },
   "source": [
    "### export to native storage format"
   ]
  },
  {
   "cell_type": "markdown",
   "metadata": {
    "execution": {
     "iopub.execute_input": "2020-08-26T08:56:27.643761Z",
     "iopub.status.busy": "2020-08-26T08:56:27.643324Z",
     "iopub.status.idle": "2020-08-26T08:56:27.980284Z",
     "shell.execute_reply": "2020-08-26T08:56:27.979531Z",
     "shell.execute_reply.started": "2020-08-26T08:56:27.643721Z"
    }
   },
   "source": [
    "* with pint, all of the advanced storage formats hdf/feather/parquet do not work\n",
    "* would need upstream fixes I guess\n",
    "* pickle is native, works"
   ]
  },
  {
   "cell_type": "code",
   "execution_count": 31,
   "metadata": {
    "execution": {
     "iopub.execute_input": "2020-08-27T07:15:18.627034Z",
     "iopub.status.busy": "2020-08-27T07:15:18.626674Z",
     "iopub.status.idle": "2020-08-27T07:16:34.023321Z",
     "shell.execute_reply": "2020-08-27T07:16:34.022324Z",
     "shell.execute_reply.started": "2020-08-27T07:15:18.626989Z"
    }
   },
   "outputs": [],
   "source": [
    "!mkdir -p pickle/\n",
    "\n",
    "for fpath, obj in (\n",
    "    ('fao_emi_total', fao_emi_total),\n",
    "    ('lak_emi_energy', lak_emi_energy),\n",
    "    ('cmip_conc_co2', cmip_conc_co2),\n",
    "    ('prm_emi', prm_emi), \n",
    "):\n",
    "    obj.to_pickle(f'pickle/{fpath}.pickle.xz', compression={'method': 'xz', 'preset': 1})"
   ]
  },
  {
   "cell_type": "code",
   "execution_count": 32,
   "metadata": {
    "execution": {
     "iopub.execute_input": "2020-08-27T07:16:34.040018Z",
     "iopub.status.busy": "2020-08-27T07:16:34.038471Z",
     "iopub.status.idle": "2020-08-27T07:16:34.536585Z",
     "shell.execute_reply": "2020-08-27T07:16:34.534937Z",
     "shell.execute_reply.started": "2020-08-27T07:16:34.039620Z"
    }
   },
   "outputs": [],
   "source": [
    "for fpath, obj in (\n",
    "    ('fao_emi_total', fao_emi_total),\n",
    "    ('lak_emi_energy', lak_emi_energy),\n",
    "    ('cmip_conc_co2', cmip_conc_co2),\n",
    "    ('prm_emi', prm_emi), \n",
    "):\n",
    "    obj.to_pickle(f'pickle/{fpath}.pickle')"
   ]
  },
  {
   "cell_type": "code",
   "execution_count": 33,
   "metadata": {
    "execution": {
     "iopub.execute_input": "2020-08-27T07:16:34.540474Z",
     "iopub.status.busy": "2020-08-27T07:16:34.539120Z",
     "iopub.status.idle": "2020-08-27T07:16:38.577625Z",
     "shell.execute_reply": "2020-08-27T07:16:38.576890Z",
     "shell.execute_reply.started": "2020-08-27T07:16:34.540365Z"
    }
   },
   "outputs": [],
   "source": [
    "import zstandard\n",
    "for fpath, obj in (\n",
    "    ('fao_emi_total', fao_emi_total),\n",
    "    ('lak_emi_energy', lak_emi_energy),\n",
    "    ('cmip_conc_co2', cmip_conc_co2),\n",
    "    ('prm_emi', prm_emi), \n",
    "):\n",
    "    with open(f'pickle/{fpath}.pickle.zstd', 'wb') as fd:\n",
    "        zstc = zstandard.ZstdCompressor(level=6, write_checksum=True)\n",
    "        fd.write(zstc.compress(pickle.dumps(obj)))"
   ]
  },
  {
   "cell_type": "code",
   "execution_count": 34,
   "metadata": {
    "execution": {
     "iopub.execute_input": "2020-08-27T07:16:38.579001Z",
     "iopub.status.busy": "2020-08-27T07:16:38.578666Z",
     "iopub.status.idle": "2020-08-27T07:17:40.262644Z",
     "shell.execute_reply": "2020-08-27T07:17:40.261374Z",
     "shell.execute_reply.started": "2020-08-27T07:16:38.578965Z"
    }
   },
   "outputs": [],
   "source": [
    "import lzma\n",
    "with lzma.open('pickle/primap_tables.pickle.xz', 'wb', preset=1) as fd:\n",
    "    pickle.dump(primap_tables, fd)"
   ]
  },
  {
   "cell_type": "code",
   "execution_count": 35,
   "metadata": {
    "execution": {
     "iopub.execute_input": "2020-08-27T07:17:40.267098Z",
     "iopub.status.busy": "2020-08-27T07:17:40.265578Z",
     "iopub.status.idle": "2020-08-27T07:17:47.962084Z",
     "shell.execute_reply": "2020-08-27T07:17:47.960525Z",
     "shell.execute_reply.started": "2020-08-27T07:17:40.266961Z"
    }
   },
   "outputs": [],
   "source": [
    "with open('pickle/primap_tables.pickle', 'wb') as fd:\n",
    "    pickle.dump(primap_tables, fd)"
   ]
  },
  {
   "cell_type": "code",
   "execution_count": 36,
   "metadata": {
    "execution": {
     "iopub.execute_input": "2020-08-27T07:17:47.971753Z",
     "iopub.status.busy": "2020-08-27T07:17:47.968920Z",
     "iopub.status.idle": "2020-08-27T07:18:10.284904Z",
     "shell.execute_reply": "2020-08-27T07:18:10.281737Z",
     "shell.execute_reply.started": "2020-08-27T07:17:47.971454Z"
    }
   },
   "outputs": [],
   "source": [
    "with open('pickle/primap_tables.pickle.zstd', 'wb') as fd:\n",
    "    zstc = zstandard.ZstdCompressor(level=6, write_checksum=True)\n",
    "    fd.write(zstc.compress(pickle.dumps(primap_tables)))"
   ]
  },
  {
   "cell_type": "code",
   "execution_count": 37,
   "metadata": {
    "execution": {
     "iopub.execute_input": "2020-08-27T07:18:10.290561Z",
     "iopub.status.busy": "2020-08-27T07:18:10.288804Z",
     "iopub.status.idle": "2020-08-27T07:18:10.621976Z",
     "shell.execute_reply": "2020-08-27T07:18:10.619761Z",
     "shell.execute_reply.started": "2020-08-27T07:18:10.290462Z"
    }
   },
   "outputs": [
    {
     "name": "stdout",
     "output_type": "stream",
     "text": [
      "total 456M\n",
      "drwxrwxr-x 2 pflueger pflueger 4,0K Aug 26 11:59 .\n",
      "drwxrwxr-x 7 pflueger pflueger 4,0K Aug 27 09:17 ..\n",
      "-rw-rw-r-- 1 pflueger pflueger 1,2M Aug 27 09:16 cmip_conc_co2.pickle\n",
      "-rw-rw-r-- 1 pflueger pflueger 433K Aug 27 09:15 cmip_conc_co2.pickle.xz\n",
      "-rw-rw-r-- 1 pflueger pflueger 577K Aug 27 09:16 cmip_conc_co2.pickle.zstd\n",
      "-rw-rw-r-- 1 pflueger pflueger 8,8M Aug 27 09:16 fao_emi_total.pickle\n",
      "-rw-rw-r-- 1 pflueger pflueger 1,4M Aug 27 09:15 fao_emi_total.pickle.xz\n",
      "-rw-rw-r-- 1 pflueger pflueger 2,0M Aug 27 09:16 fao_emi_total.pickle.zstd\n",
      "-rw-rw-r-- 1 pflueger pflueger  40K Aug 27 09:16 lak_emi_energy.pickle\n",
      "-rw-rw-r-- 1 pflueger pflueger  18K Aug 27 09:15 lak_emi_energy.pickle.xz\n",
      "-rw-rw-r-- 1 pflueger pflueger  19K Aug 27 09:16 lak_emi_energy.pickle.zstd\n",
      "-rw-rw-r-- 1 pflueger pflueger 205M Aug 27 09:17 primap_tables.pickle\n",
      "-rw-rw-r-- 1 pflueger pflueger  58M Aug 27 09:17 primap_tables.pickle.xz\n",
      "-rw-rw-r-- 1 pflueger pflueger  59M Aug 27 09:18 primap_tables.pickle.zstd\n",
      "-rw-rw-r-- 1 pflueger pflueger 105M Aug 27 09:16 prm_emi.pickle\n",
      "-rw-rw-r-- 1 pflueger pflueger 5,4M Aug 27 09:16 prm_emi.pickle.xz\n",
      "-rw-rw-r-- 1 pflueger pflueger  11M Aug 27 09:16 prm_emi.pickle.zstd\n"
     ]
    }
   ],
   "source": [
    "!ls -lah pickle/"
   ]
  },
  {
   "cell_type": "markdown",
   "metadata": {},
   "source": [
    "### Reimport from native storage format"
   ]
  },
  {
   "cell_type": "code",
   "execution_count": 38,
   "metadata": {
    "execution": {
     "iopub.execute_input": "2020-08-27T07:18:10.632430Z",
     "iopub.status.busy": "2020-08-27T07:18:10.631947Z",
     "iopub.status.idle": "2020-08-27T07:18:11.586296Z",
     "shell.execute_reply": "2020-08-27T07:18:11.583717Z",
     "shell.execute_reply.started": "2020-08-27T07:18:10.632384Z"
    }
   },
   "outputs": [],
   "source": [
    "fao_emi_total_n = pd.read_pickle('pickle/fao_emi_total.pickle')\n",
    "lak_emi_energy_n = pd.read_pickle('pickle/lak_emi_energy.pickle')\n",
    "cmip_conc_co2_n = pd.read_pickle('pickle/cmip_conc_co2.pickle')\n",
    "prm_emi_n = pd.read_pickle('pickle/prm_emi.pickle')"
   ]
  },
  {
   "cell_type": "code",
   "execution_count": 39,
   "metadata": {
    "execution": {
     "iopub.execute_input": "2020-08-27T07:18:11.589667Z",
     "iopub.status.busy": "2020-08-27T07:18:11.588785Z",
     "iopub.status.idle": "2020-08-27T07:18:12.394296Z",
     "shell.execute_reply": "2020-08-27T07:18:12.391447Z",
     "shell.execute_reply.started": "2020-08-27T07:18:11.589523Z"
    }
   },
   "outputs": [],
   "source": [
    "def read_zstd_pickle(fpath):\n",
    "    with open(fpath, 'rb') as fd:\n",
    "        zstd = zstandard.ZstdDecompressor()\n",
    "        with zstd.stream_reader(fd) as fh:\n",
    "            return pickle.load(fh)\n",
    "        \n",
    "fao_emi_total_n = read_zstd_pickle('pickle/fao_emi_total.pickle.zstd')\n",
    "lak_emi_energy_n = read_zstd_pickle('pickle/lak_emi_energy.pickle.zstd')\n",
    "cmip_conc_co2_n = read_zstd_pickle('pickle/cmip_conc_co2.pickle.zstd')\n",
    "prm_emi_n = read_zstd_pickle('pickle/prm_emi.pickle.zstd')"
   ]
  },
  {
   "cell_type": "code",
   "execution_count": 40,
   "metadata": {
    "execution": {
     "iopub.execute_input": "2020-08-27T07:18:12.400160Z",
     "iopub.status.busy": "2020-08-27T07:18:12.399678Z",
     "iopub.status.idle": "2020-08-27T07:18:35.546907Z",
     "shell.execute_reply": "2020-08-27T07:18:35.545925Z",
     "shell.execute_reply.started": "2020-08-27T07:18:12.400123Z"
    }
   },
   "outputs": [],
   "source": [
    "with lzma.open('pickle/primap_tables.pickle.xz', 'rb') as fd:\n",
    "    primap_tables_n = pickle.load(fd)"
   ]
  },
  {
   "cell_type": "code",
   "execution_count": 41,
   "metadata": {
    "execution": {
     "iopub.execute_input": "2020-08-27T07:18:35.556562Z",
     "iopub.status.busy": "2020-08-27T07:18:35.555652Z",
     "iopub.status.idle": "2020-08-27T07:18:49.252050Z",
     "shell.execute_reply": "2020-08-27T07:18:49.250014Z",
     "shell.execute_reply.started": "2020-08-27T07:18:35.556458Z"
    }
   },
   "outputs": [],
   "source": [
    "primap_tables_n = read_zstd_pickle('pickle/primap_tables.pickle.zstd')"
   ]
  },
  {
   "cell_type": "markdown",
   "metadata": {},
   "source": [
    "# interactive analysis and plotting\n",
    "* add / subtract / divide / multiply compatible, overlapping data sets\n",
    "* timeit\n",
    "* plot a historical time series, and something akin to gapminder (countries on a gdp vs emissions plot)\n",
    "* select datasets which contain data on the N2O emissions of Finland\n",
    "* in a selected dataset, select years in which the N2O emissions of Finland were above the 1950-2000 average\n",
    "* resample non-yearly dataset to yearly dataset\n",
    "* convert a dataset to tidy format"
   ]
  },
  {
   "cell_type": "markdown",
   "metadata": {},
   "source": [
    "## aligned arithmetic"
   ]
  },
  {
   "cell_type": "code",
   "execution_count": 42,
   "metadata": {
    "execution": {
     "iopub.execute_input": "2020-08-27T07:18:49.257563Z",
     "iopub.status.busy": "2020-08-27T07:18:49.257043Z",
     "iopub.status.idle": "2020-08-27T07:18:49.315648Z",
     "shell.execute_reply": "2020-08-27T07:18:49.314198Z",
     "shell.execute_reply.started": "2020-08-27T07:18:49.257519Z"
    }
   },
   "outputs": [],
   "source": [
    "prm_emif = prm_emi.to_frame()"
   ]
  },
  {
   "cell_type": "code",
   "execution_count": 43,
   "metadata": {
    "execution": {
     "iopub.execute_input": "2020-08-27T07:18:49.317962Z",
     "iopub.status.busy": "2020-08-27T07:18:49.317420Z",
     "iopub.status.idle": "2020-08-27T07:18:49.496868Z",
     "shell.execute_reply": "2020-08-27T07:18:49.483272Z",
     "shell.execute_reply.started": "2020-08-27T07:18:49.317912Z"
    }
   },
   "outputs": [],
   "source": [
    "# extract two comptaible, partly overlapping data sets from primap-hist\n",
    "a = (prm_emif.xs('IPC1', level='Category')\n",
    "             .xs(slice('1900', '1990'), level='Date')\n",
    "             .xs('CO2', level='Entity')\n",
    "             .xs('HISTCR', level='Scenario')\n",
    ")"
   ]
  },
  {
   "cell_type": "code",
   "execution_count": 44,
   "metadata": {
    "execution": {
     "iopub.execute_input": "2020-08-27T07:18:49.506498Z",
     "iopub.status.busy": "2020-08-27T07:18:49.503189Z",
     "iopub.status.idle": "2020-08-27T07:18:50.926166Z",
     "shell.execute_reply": "2020-08-27T07:18:50.924967Z",
     "shell.execute_reply.started": "2020-08-27T07:18:49.505995Z"
    }
   },
   "outputs": [],
   "source": [
    "# alternative spelling\n",
    "a = prm_emif.xs(('IPC1', slice('1900', '1990'), 'CO2', 'HISTCR'), level=('Category', 'Date', 'Entity', 'Scenario'))"
   ]
  },
  {
   "cell_type": "code",
   "execution_count": 45,
   "metadata": {
    "execution": {
     "iopub.execute_input": "2020-08-27T07:18:50.928739Z",
     "iopub.status.busy": "2020-08-27T07:18:50.928076Z",
     "iopub.status.idle": "2020-08-27T07:18:52.705263Z",
     "shell.execute_reply": "2020-08-27T07:18:52.702414Z",
     "shell.execute_reply.started": "2020-08-27T07:18:50.928658Z"
    }
   },
   "outputs": [],
   "source": [
    "# alternative spelling\n",
    "a = prm_emif.query(\n",
    "    \"Category == 'IPC1' and \"\n",
    "    \"'1900' < Date < '1990' and \"\n",
    "    \"Entity == 'CO2' and \"\n",
    "    \"Scenario == 'HISTCR'\"\n",
    ")"
   ]
  },
  {
   "cell_type": "code",
   "execution_count": 46,
   "metadata": {
    "execution": {
     "iopub.execute_input": "2020-08-27T07:18:52.711409Z",
     "iopub.status.busy": "2020-08-27T07:18:52.709879Z",
     "iopub.status.idle": "2020-08-27T07:18:53.233639Z",
     "shell.execute_reply": "2020-08-27T07:18:53.231401Z",
     "shell.execute_reply.started": "2020-08-27T07:18:52.711238Z"
    }
   },
   "outputs": [],
   "source": [
    "# alternative spelling\n",
    "a = prm_emi.loc[:, \n",
    "                'IPC1',\n",
    "                '1900':'1990',\n",
    "                'CO2',\n",
    "                'HISTCR'\n",
    "               ]"
   ]
  },
  {
   "cell_type": "code",
   "execution_count": 47,
   "metadata": {
    "execution": {
     "iopub.execute_input": "2020-08-27T07:18:53.239072Z",
     "iopub.status.busy": "2020-08-27T07:18:53.238090Z",
     "iopub.status.idle": "2020-08-27T07:18:53.617335Z",
     "shell.execute_reply": "2020-08-27T07:18:53.615679Z",
     "shell.execute_reply.started": "2020-08-27T07:18:53.238976Z"
    }
   },
   "outputs": [],
   "source": [
    "b = prm_emi.loc[['DEU', 'FIN', 'ZWE']]"
   ]
  },
  {
   "cell_type": "code",
   "execution_count": 48,
   "metadata": {
    "execution": {
     "iopub.execute_input": "2020-08-27T07:18:53.618984Z",
     "iopub.status.busy": "2020-08-27T07:18:53.618652Z",
     "iopub.status.idle": "2020-08-27T07:18:53.645880Z",
     "shell.execute_reply": "2020-08-27T07:18:53.642928Z",
     "shell.execute_reply.started": "2020-08-27T07:18:53.618951Z"
    }
   },
   "outputs": [
    {
     "data": {
      "text/plain": [
       "Area  Category  Date        Entity  Scenario\n",
       "ABW   IPC1      1900-01-01  CO2     HISTCR        446.0\n",
       "                1901-01-01  CO2     HISTCR        467.0\n",
       "                1902-01-01  CO2     HISTCR        491.0\n",
       "                1903-01-01  CO2     HISTCR        517.0\n",
       "                1904-01-01  CO2     HISTCR        544.0\n",
       "                                                 ...   \n",
       "ZWE   IPC1      1986-01-01  CO2     HISTCR      11400.0\n",
       "                1987-01-01  CO2     HISTCR      13000.0\n",
       "                1988-01-01  CO2     HISTCR      13600.0\n",
       "                1989-01-01  CO2     HISTCR      13700.0\n",
       "                1990-01-01  CO2     HISTCR      13200.0\n",
       "Name: Emissions, Length: 19474, dtype: pint[gigagram]"
      ]
     },
     "execution_count": 48,
     "metadata": {},
     "output_type": "execute_result"
    }
   ],
   "source": [
    "a"
   ]
  },
  {
   "cell_type": "code",
   "execution_count": 49,
   "metadata": {
    "execution": {
     "iopub.execute_input": "2020-08-27T07:18:53.657457Z",
     "iopub.status.busy": "2020-08-27T07:18:53.656136Z",
     "iopub.status.idle": "2020-08-27T07:18:53.687291Z",
     "shell.execute_reply": "2020-08-27T07:18:53.685596Z",
     "shell.execute_reply.started": "2020-08-27T07:18:53.657380Z"
    }
   },
   "outputs": [
    {
     "data": {
      "text/plain": [
       "Area  Category   Date        Entity               Scenario\n",
       "DEU   IPC1       1850-01-01  CH4                  HISTCR        420.0\n",
       "                                                  HISTTP        445.0\n",
       "                             CO2                  HISTCR      14800.0\n",
       "                                                  HISTTP      15200.0\n",
       "                             KYOTOGHG (CO2eq)     HISTCR      24100.0\n",
       "                                                               ...   \n",
       "ZWE   IPCMAGELV  2017-01-01  KYOTOGHG (CO2eq)     HISTTP       6630.0\n",
       "                             KYOTOGHGAR4 (CO2eq)  HISTCR       6040.0\n",
       "                                                  HISTTP       6640.0\n",
       "                             N2O                  HISTCR         15.6\n",
       "                                                  HISTTP         17.6\n",
       "Name: Emissions, Length: 78960, dtype: pint[gigagram]"
      ]
     },
     "execution_count": 49,
     "metadata": {},
     "output_type": "execute_result"
    }
   ],
   "source": [
    "b"
   ]
  },
  {
   "cell_type": "code",
   "execution_count": 50,
   "metadata": {
    "execution": {
     "iopub.execute_input": "2020-08-27T07:18:53.691487Z",
     "iopub.status.busy": "2020-08-27T07:18:53.689697Z",
     "iopub.status.idle": "2020-08-27T07:19:19.047119Z",
     "shell.execute_reply": "2020-08-27T07:19:19.046473Z",
     "shell.execute_reply.started": "2020-08-27T07:18:53.691239Z"
    }
   },
   "outputs": [],
   "source": [
    "c = a + b"
   ]
  },
  {
   "cell_type": "code",
   "execution_count": 51,
   "metadata": {
    "execution": {
     "iopub.execute_input": "2020-08-27T07:19:19.048390Z",
     "iopub.status.busy": "2020-08-27T07:19:19.048164Z",
     "iopub.status.idle": "2020-08-27T07:19:25.899931Z",
     "shell.execute_reply": "2020-08-27T07:19:25.898623Z",
     "shell.execute_reply.started": "2020-08-27T07:19:19.048366Z"
    }
   },
   "outputs": [
    {
     "data": {
      "text/plain": [
       "Area  Category  Date        Entity  Scenario\n",
       "DEU   IPC1      1900-01-01  CO2     HISTCR      640000.0\n",
       "                1901-01-01  CO2     HISTCR      638000.0\n",
       "                1902-01-01  CO2     HISTCR      626000.0\n",
       "                1903-01-01  CO2     HISTCR      674000.0\n",
       "                1904-01-01  CO2     HISTCR      698000.0\n",
       "                                                  ...   \n",
       "ZWE   IPC1      1986-01-01  CO2     HISTCR       22800.0\n",
       "                1987-01-01  CO2     HISTCR       26000.0\n",
       "                1988-01-01  CO2     HISTCR       27200.0\n",
       "                1989-01-01  CO2     HISTCR       27400.0\n",
       "                1990-01-01  CO2     HISTCR       26400.0\n",
       "Name: Emissions, Length: 273, dtype: pint[gigagram]"
      ]
     },
     "execution_count": 51,
     "metadata": {},
     "output_type": "execute_result"
    }
   ],
   "source": [
    "c.dropna()"
   ]
  },
  {
   "cell_type": "code",
   "execution_count": 52,
   "metadata": {
    "execution": {
     "iopub.execute_input": "2020-08-27T07:19:25.903683Z",
     "iopub.status.busy": "2020-08-27T07:19:25.902194Z",
     "iopub.status.idle": "2020-08-27T07:19:25.981114Z",
     "shell.execute_reply": "2020-08-27T07:19:25.979804Z",
     "shell.execute_reply.started": "2020-08-27T07:19:25.903502Z"
    }
   },
   "outputs": [
    {
     "data": {
      "text/plain": [
       "Area  Category   Date        Entity               Scenario\n",
       "DEU   IPC1       1850-01-01  CH4                  HISTCR        420000.0\n",
       "                                                  HISTTP        445000.0\n",
       "                             CO2                  HISTCR      14800000.0\n",
       "                                                  HISTTP      15200000.0\n",
       "                             KYOTOGHG (CO2eq)     HISTCR      24100000.0\n",
       "                                                                 ...    \n",
       "ZWE   IPCMAGELV  2017-01-01  KYOTOGHG (CO2eq)     HISTTP       6630000.0\n",
       "                             KYOTOGHGAR4 (CO2eq)  HISTCR       6040000.0\n",
       "                                                  HISTTP       6640000.0\n",
       "                             N2O                  HISTCR         15600.0\n",
       "                                                  HISTTP         17600.0\n",
       "Name: Emissions, Length: 78960, dtype: pint[metric_ton]"
      ]
     },
     "execution_count": 52,
     "metadata": {},
     "output_type": "execute_result"
    }
   ],
   "source": [
    "bt = b.pint.to('metric_ton')\n",
    "bt"
   ]
  },
  {
   "cell_type": "code",
   "execution_count": 53,
   "metadata": {
    "execution": {
     "iopub.execute_input": "2020-08-27T07:19:25.983885Z",
     "iopub.status.busy": "2020-08-27T07:19:25.983146Z",
     "iopub.status.idle": "2020-08-27T07:19:40.810597Z",
     "shell.execute_reply": "2020-08-27T07:19:40.810016Z",
     "shell.execute_reply.started": "2020-08-27T07:19:25.983819Z"
    }
   },
   "outputs": [],
   "source": [
    "c = a + bt"
   ]
  },
  {
   "cell_type": "code",
   "execution_count": 54,
   "metadata": {
    "execution": {
     "iopub.execute_input": "2020-08-27T07:19:40.811590Z",
     "iopub.status.busy": "2020-08-27T07:19:40.811391Z",
     "iopub.status.idle": "2020-08-27T07:19:49.914258Z",
     "shell.execute_reply": "2020-08-27T07:19:49.912394Z",
     "shell.execute_reply.started": "2020-08-27T07:19:40.811570Z"
    }
   },
   "outputs": [
    {
     "data": {
      "text/plain": [
       "Area  Category  Date        Entity  Scenario\n",
       "DEU   IPC1      1900-01-01  CO2     HISTCR      640000.0\n",
       "                1901-01-01  CO2     HISTCR      638000.0\n",
       "                1902-01-01  CO2     HISTCR      626000.0\n",
       "                1903-01-01  CO2     HISTCR      674000.0\n",
       "                1904-01-01  CO2     HISTCR      698000.0\n",
       "                                                  ...   \n",
       "ZWE   IPC1      1986-01-01  CO2     HISTCR       22800.0\n",
       "                1987-01-01  CO2     HISTCR       26000.0\n",
       "                1988-01-01  CO2     HISTCR       27200.0\n",
       "                1989-01-01  CO2     HISTCR       27400.0\n",
       "                1990-01-01  CO2     HISTCR       26400.0\n",
       "Name: Emissions, Length: 273, dtype: pint[gigagram]"
      ]
     },
     "execution_count": 54,
     "metadata": {},
     "output_type": "execute_result"
    }
   ],
   "source": [
    "c.dropna()"
   ]
  },
  {
   "cell_type": "code",
   "execution_count": 55,
   "metadata": {
    "execution": {
     "iopub.execute_input": "2020-08-27T07:19:49.920778Z",
     "iopub.status.busy": "2020-08-27T07:19:49.919156Z",
     "iopub.status.idle": "2020-08-27T07:20:14.550634Z",
     "shell.execute_reply": "2020-08-27T07:20:14.549814Z",
     "shell.execute_reply.started": "2020-08-27T07:19:49.920590Z"
    }
   },
   "outputs": [
    {
     "data": {
      "text/plain": [
       "Area  Category  Date        Entity  Scenario\n",
       "DEU   IPC1      1900-01-01  CO2     HISTCR      1.0\n",
       "                1901-01-01  CO2     HISTCR      1.0\n",
       "                1902-01-01  CO2     HISTCR      1.0\n",
       "                1903-01-01  CO2     HISTCR      1.0\n",
       "                1904-01-01  CO2     HISTCR      1.0\n",
       "                                               ... \n",
       "ZWE   IPC1      1986-01-01  CO2     HISTCR      1.0\n",
       "                1987-01-01  CO2     HISTCR      1.0\n",
       "                1988-01-01  CO2     HISTCR      1.0\n",
       "                1989-01-01  CO2     HISTCR      1.0\n",
       "                1990-01-01  CO2     HISTCR      1.0\n",
       "Name: Emissions, Length: 273, dtype: pint[dimensionless]"
      ]
     },
     "execution_count": 55,
     "metadata": {},
     "output_type": "execute_result"
    }
   ],
   "source": [
    "(a / b).dropna()"
   ]
  },
  {
   "cell_type": "code",
   "execution_count": 56,
   "metadata": {
    "execution": {
     "iopub.execute_input": "2020-08-27T07:20:14.552089Z",
     "iopub.status.busy": "2020-08-27T07:20:14.551793Z",
     "iopub.status.idle": "2020-08-27T07:20:35.468040Z",
     "shell.execute_reply": "2020-08-27T07:20:35.467464Z",
     "shell.execute_reply.started": "2020-08-27T07:20:14.552062Z"
    }
   },
   "outputs": [
    {
     "data": {
      "text/plain": [
       "Area  Category  Date        Entity  Scenario\n",
       "DEU   IPC1      1900-01-01  CO2     HISTCR      102400000000.0\n",
       "                1901-01-01  CO2     HISTCR      101761000000.0\n",
       "                1902-01-01  CO2     HISTCR       97969000000.0\n",
       "                1903-01-01  CO2     HISTCR      113569000000.0\n",
       "                1904-01-01  CO2     HISTCR      121801000000.0\n",
       "                                                     ...      \n",
       "ZWE   IPC1      1986-01-01  CO2     HISTCR         129960000.0\n",
       "                1987-01-01  CO2     HISTCR         169000000.0\n",
       "                1988-01-01  CO2     HISTCR         184960000.0\n",
       "                1989-01-01  CO2     HISTCR         187690000.0\n",
       "                1990-01-01  CO2     HISTCR         174240000.0\n",
       "Name: Emissions, Length: 273, dtype: pint[gigagram ** 2]"
      ]
     },
     "execution_count": 56,
     "metadata": {},
     "output_type": "execute_result"
    }
   ],
   "source": [
    "(a * b).dropna()"
   ]
  },
  {
   "cell_type": "code",
   "execution_count": 57,
   "metadata": {
    "execution": {
     "iopub.execute_input": "2020-08-27T07:20:35.469337Z",
     "iopub.status.busy": "2020-08-27T07:20:35.469074Z",
     "iopub.status.idle": "2020-08-27T07:21:01.593413Z",
     "shell.execute_reply": "2020-08-27T07:21:01.590081Z",
     "shell.execute_reply.started": "2020-08-27T07:20:35.469312Z"
    }
   },
   "outputs": [
    {
     "data": {
      "text/plain": [
       "Area  Category  Date        Entity  Scenario\n",
       "DEU   IPC1      1900-01-01  CO2     HISTCR      0.0\n",
       "                1901-01-01  CO2     HISTCR      0.0\n",
       "                1902-01-01  CO2     HISTCR      0.0\n",
       "                1903-01-01  CO2     HISTCR      0.0\n",
       "                1904-01-01  CO2     HISTCR      0.0\n",
       "                                               ... \n",
       "ZWE   IPC1      1986-01-01  CO2     HISTCR      0.0\n",
       "                1987-01-01  CO2     HISTCR      0.0\n",
       "                1988-01-01  CO2     HISTCR      0.0\n",
       "                1989-01-01  CO2     HISTCR      0.0\n",
       "                1990-01-01  CO2     HISTCR      0.0\n",
       "Name: Emissions, Length: 273, dtype: pint[gigagram]"
      ]
     },
     "execution_count": 57,
     "metadata": {},
     "output_type": "execute_result"
    }
   ],
   "source": [
    "(a - b).dropna()"
   ]
  },
  {
   "cell_type": "markdown",
   "metadata": {},
   "source": [
    "## plotting"
   ]
  },
  {
   "cell_type": "code",
   "execution_count": 76,
   "metadata": {
    "execution": {
     "iopub.execute_input": "2020-08-27T08:19:23.370755Z",
     "iopub.status.busy": "2020-08-27T08:19:23.370440Z",
     "iopub.status.idle": "2020-08-27T08:19:23.940679Z",
     "shell.execute_reply": "2020-08-27T08:19:23.937548Z",
     "shell.execute_reply.started": "2020-08-27T08:19:23.370729Z"
    }
   },
   "outputs": [
    {
     "data": {
      "application/vnd.jupyter.widget-view+json": {
       "model_id": "1e97d03136ed4927bad7d8c8c24f2065",
       "version_major": 2,
       "version_minor": 0
      },
      "text/plain": [
       "Canvas(toolbar=Toolbar(toolitems=[('Home', 'Reset original view', 'home', 'home'), ('Back', 'Back to previous …"
      ]
     },
     "metadata": {},
     "output_type": "display_data"
    },
    {
     "data": {
      "text/plain": [
       "<matplotlib.axes._subplots.AxesSubplot at 0x7f0f167c9640>"
      ]
     },
     "execution_count": 76,
     "metadata": {},
     "output_type": "execute_result"
    }
   ],
   "source": [
    "plt.figure()\n",
    "sel = prm_emi.xs(('DEU', 'IPCM0EL', 'KYOTOGHG (CO2eq)', 'HISTCR'), level=('Area', 'Category', 'Entity', 'Scenario'))\n",
    "#sel = prm_emi.loc['DEU', 'IPCM0EL', :, 'KYOTOGHG (CO2eq)', 'HISTCR']\n",
    "sel.pint.magnitude.plot()"
   ]
  },
  {
   "cell_type": "code",
   "execution_count": 59,
   "metadata": {
    "execution": {
     "iopub.execute_input": "2020-08-27T07:21:02.094252Z",
     "iopub.status.busy": "2020-08-27T07:21:02.093986Z",
     "iopub.status.idle": "2020-08-27T07:21:02.106475Z",
     "shell.execute_reply": "2020-08-27T07:21:02.104642Z",
     "shell.execute_reply.started": "2020-08-27T07:21:02.094228Z"
    }
   },
   "outputs": [
    {
     "data": {
      "text/plain": [
       "['POP_DEMOGR_TOTAL_NET_CONSTANT_UN2017P',\n",
       " 'POP_DEMOGR_TOTAL_NET_CONSTANT_UN2019P',\n",
       " 'POP_DEMOGR_TOTAL_NET_CONSTMORTALITY_UN2017P',\n",
       " 'POP_DEMOGR_TOTAL_NET_CONSTMORTALITY_UN2019P',\n",
       " 'POP_DEMOGR_TOTAL_NET_HIGH_UN2017P',\n",
       " 'POP_DEMOGR_TOTAL_NET_HIGH_UN2019P',\n",
       " 'POP_DEMOGR_TOTAL_NET_HISTORY_MPD2018P',\n",
       " 'POP_DEMOGR_TOTAL_NET_HISTORY_PMHSOCIOECO12',\n",
       " 'POP_DEMOGR_TOTAL_NET_HISTORY_UN2017P',\n",
       " 'POP_DEMOGR_TOTAL_NET_HISTORY_UN2019P',\n",
       " 'POP_DEMOGR_TOTAL_NET_LOW_UN2017P',\n",
       " 'POP_DEMOGR_TOTAL_NET_LOW_UN2019P',\n",
       " 'POP_DEMOGR_TOTAL_NET_MEDIUM_UN2017P',\n",
       " 'POP_DEMOGR_TOTAL_NET_MEDIUM_UN2019P',\n",
       " 'POP_DEMOGR_TOTAL_NET_NOCHANGE_UN2017P',\n",
       " 'POP_DEMOGR_TOTAL_NET_NOCHANGE_UN2019P',\n",
       " 'POP_DEMOGR_TOTAL_NET_NOMIGRATION_UN2017P',\n",
       " 'POP_DEMOGR_TOTAL_NET_NOMIGRATION_UN2019P',\n",
       " 'POP_DEMOGR_TOTAL_NET_REPLACEMENT_UN2017P',\n",
       " 'POP_DEMOGR_TOTAL_NET_REPLACEMENT_UN2019P']"
      ]
     },
     "execution_count": 59,
     "metadata": {},
     "output_type": "execute_result"
    }
   ],
   "source": [
    "[key for key, (meta, df) in primap_tables.items() if df.name == 'POP']"
   ]
  },
  {
   "cell_type": "code",
   "execution_count": 62,
   "metadata": {
    "execution": {
     "iopub.execute_input": "2020-08-27T07:21:02.136810Z",
     "iopub.status.busy": "2020-08-27T07:21:02.136334Z",
     "iopub.status.idle": "2020-08-27T07:21:02.424537Z",
     "shell.execute_reply": "2020-08-27T07:21:02.422870Z",
     "shell.execute_reply.started": "2020-08-27T07:21:02.136768Z"
    }
   },
   "outputs": [],
   "source": [
    "pop = primap_tables['POP_DEMOGR_TOTAL_NET_HISTORY_UN2019P'][1]\n",
    "\n",
    "pop_2000 = pop.loc[:, '2000-01-01']\n",
    "\n",
    "emi_2000 = prm_emi.xs(('IPCM0EL', 'KYOTOGHG (CO2eq)', 'HISTCR', '2000-01-01'), level=('Category', 'Entity', 'Scenario', 'Date'))"
   ]
  },
  {
   "cell_type": "code",
   "execution_count": 75,
   "metadata": {
    "execution": {
     "iopub.execute_input": "2020-08-27T08:19:17.537890Z",
     "iopub.status.busy": "2020-08-27T08:19:17.537551Z",
     "iopub.status.idle": "2020-08-27T08:19:17.662147Z",
     "shell.execute_reply": "2020-08-27T08:19:17.659888Z",
     "shell.execute_reply.started": "2020-08-27T08:19:17.537859Z"
    }
   },
   "outputs": [
    {
     "data": {
      "application/vnd.jupyter.widget-view+json": {
       "model_id": "880fd83c8f624cf49ed668b01e5c2b36",
       "version_major": 2,
       "version_minor": 0
      },
      "text/plain": [
       "Canvas(toolbar=Toolbar(toolitems=[('Home', 'Reset original view', 'home', 'home'), ('Back', 'Back to previous …"
      ]
     },
     "metadata": {},
     "output_type": "display_data"
    },
    {
     "data": {
      "text/plain": [
       "Text(0, 0.5, 'Emissions in 2000 (CO2eq) / Tg')"
      ]
     },
     "execution_count": 75,
     "metadata": {},
     "output_type": "execute_result"
    }
   ],
   "source": [
    "fig, ax = plt.subplots()\n",
    "ax.plot(pop_2000.pint.magnitude[emi_2000.index], emi_2000.pint.to('Tg').pint.magnitude, 'o')\n",
    "ax.set_xlabel('Population in 2000')\n",
    "ax.set_ylabel('Emissions in 2000 (CO2eq) / Tg')"
   ]
  },
  {
   "cell_type": "markdown",
   "metadata": {
    "execution": {
     "iopub.execute_input": "2020-08-26T16:34:23.242644Z",
     "iopub.status.busy": "2020-08-26T16:34:23.242095Z",
     "iopub.status.idle": "2020-08-26T16:34:23.926748Z",
     "shell.execute_reply": "2020-08-26T16:34:23.926386Z",
     "shell.execute_reply.started": "2020-08-26T16:34:23.242601Z"
    }
   },
   "source": [
    "## Selecting datasets and data\n",
    "* select datasets which contain data on the N2O emissions of Finland\n",
    "* in a selected dataset, select years in which the N2O emissions of Finland were above the 1950-2000 average"
   ]
  },
  {
   "cell_type": "code",
   "execution_count": 64,
   "metadata": {
    "execution": {
     "iopub.execute_input": "2020-08-27T07:21:02.518358Z",
     "iopub.status.busy": "2020-08-27T07:21:02.517845Z",
     "iopub.status.idle": "2020-08-27T07:21:04.338861Z",
     "shell.execute_reply": "2020-08-27T07:21:04.337617Z",
     "shell.execute_reply.started": "2020-08-27T07:21:02.518293Z"
    }
   },
   "outputs": [
    {
     "data": {
      "text/plain": [
       "['N2O_IPC0_TOTAL_NET_HISTCR_PRIMAPHIST20',\n",
       " 'N2O_IPC0_TOTAL_NET_HISTORY_CRF2019',\n",
       " 'N2O_IPC0_TOTAL_NET_HISTORY_CRF2020',\n",
       " 'N2O_IPC0_TOTAL_NET_HISTORY_EDGAR42COMPI',\n",
       " 'N2O_IPC0_TOTAL_NET_HISTORY_EDGAR432I',\n",
       " 'N2O_IPC0_TOTAL_NET_HISTORY_EDGAR50I',\n",
       " 'N2O_IPC0_TOTAL_NET_HISTTP_PRIMAPHIST20']"
      ]
     },
     "execution_count": 64,
     "metadata": {},
     "output_type": "execute_result"
    }
   ],
   "source": [
    "[key for key, (meta, df) in primap_tables.items() if \n",
    " 'FIN' in df.index.levels[0] and\n",
    " not all(df.loc['FIN'].isna()) and\n",
    " df.name == 'N2O' and\n",
    " meta['category'] == 'IPC0']"
   ]
  },
  {
   "cell_type": "code",
   "execution_count": 65,
   "metadata": {
    "execution": {
     "iopub.execute_input": "2020-08-27T07:21:04.343106Z",
     "iopub.status.busy": "2020-08-27T07:21:04.341928Z",
     "iopub.status.idle": "2020-08-27T07:21:04.355990Z",
     "shell.execute_reply": "2020-08-27T07:21:04.353600Z",
     "shell.execute_reply.started": "2020-08-27T07:21:04.342995Z"
    }
   },
   "outputs": [],
   "source": [
    "df = primap_tables['N2O_IPC0_TOTAL_NET_HISTTP_PRIMAPHIST20'][1].loc['FIN']"
   ]
  },
  {
   "cell_type": "code",
   "execution_count": 66,
   "metadata": {
    "execution": {
     "iopub.execute_input": "2020-08-27T07:21:04.358775Z",
     "iopub.status.busy": "2020-08-27T07:21:04.358432Z",
     "iopub.status.idle": "2020-08-27T07:21:04.383678Z",
     "shell.execute_reply": "2020-08-27T07:21:04.381970Z",
     "shell.execute_reply.started": "2020-08-27T07:21:04.358743Z"
    }
   },
   "outputs": [
    {
     "data": {
      "text/plain": [
       "22.8155464621459"
      ]
     },
     "execution_count": 66,
     "metadata": {},
     "output_type": "execute_result"
    }
   ],
   "source": [
    "avg2hXX = df.loc['1950':'2000'].pint.to('Gg').pint.magnitude.mean()\n",
    "avg2hXX"
   ]
  },
  {
   "cell_type": "code",
   "execution_count": 67,
   "metadata": {
    "execution": {
     "iopub.execute_input": "2020-08-27T07:21:04.387783Z",
     "iopub.status.busy": "2020-08-27T07:21:04.386729Z",
     "iopub.status.idle": "2020-08-27T07:21:04.413609Z",
     "shell.execute_reply": "2020-08-27T07:21:04.411281Z",
     "shell.execute_reply.started": "2020-08-27T07:21:04.387701Z"
    }
   },
   "outputs": [
    {
     "data": {
      "text/plain": [
       "Date\n",
       "1967-01-01    22.936279858300836\n",
       "1968-01-01     23.50504739128506\n",
       "1969-01-01     23.72240281268353\n",
       "1970-01-01     23.88628989928003\n",
       "1971-01-01    24.266094377860284\n",
       "1972-01-01    25.070312519579783\n",
       "1973-01-01    26.521749211204348\n",
       "1974-01-01    27.165969898448687\n",
       "1975-01-01     26.87486301821685\n",
       "1976-01-01     24.48126745278573\n",
       "1977-01-01    23.781691508675376\n",
       "1978-01-01    25.340659362756316\n",
       "1979-01-01    26.242610125606912\n",
       "1980-01-01    26.636444589094506\n",
       "1981-01-01    25.215840130525102\n",
       "1982-01-01    25.507799872631583\n",
       "1983-01-01     26.81153158481475\n",
       "1984-01-01    26.363238482483016\n",
       "1985-01-01    25.435555867104213\n",
       "1986-01-01    25.649390322608294\n",
       "1987-01-01     25.23117604934743\n",
       "1988-01-01    24.966332612143507\n",
       "1989-01-01     26.25516033249774\n",
       "1990-01-01        26.64164902418\n",
       "1991-01-01    25.522203928520003\n",
       "1992-01-01    22.925233612280003\n",
       "1993-01-01        23.48831523982\n",
       "1994-01-01    24.240635375940002\n",
       "1995-01-01        24.60235596766\n",
       "1996-01-01        24.82996873796\n",
       "1997-01-01        25.08372864044\n",
       "1998-01-01    23.941817111920003\n",
       "1999-01-01    23.687438262119997\n",
       "2000-01-01        24.30815136462\n",
       "2001-01-01        25.42688587632\n",
       "2002-01-01    26.437402049400006\n",
       "2003-01-01    27.025178482599998\n",
       "2004-01-01    26.816781026599998\n",
       "2005-01-01          26.369284407\n",
       "2006-01-01    26.585846417000003\n",
       "2007-01-01    27.629536033420003\n",
       "2008-01-01        27.20736253164\n",
       "2009-01-01        24.21194635862\n",
       "2010-01-01    27.022940592499996\n",
       "2011-01-01    24.711518917243495\n",
       "2012-01-01    25.191642915027565\n",
       "2013-01-01    26.698376997200338\n",
       "2014-01-01    26.450066375862985\n",
       "2015-01-01      27.5693745975041\n",
       "2016-01-01     26.67504966254338\n",
       "Name: N2O, dtype: pint[gigagram]"
      ]
     },
     "execution_count": 67,
     "metadata": {},
     "output_type": "execute_result"
    }
   ],
   "source": [
    "df.loc[df.pint.to('Gg').pint.magnitude > avg2hXX]"
   ]
  },
  {
   "cell_type": "markdown",
   "metadata": {
    "execution": {
     "iopub.execute_input": "2020-08-26T16:46:19.517903Z",
     "iopub.status.busy": "2020-08-26T16:46:19.517076Z",
     "iopub.status.idle": "2020-08-26T16:46:19.596520Z",
     "shell.execute_reply": "2020-08-26T16:46:19.595803Z",
     "shell.execute_reply.started": "2020-08-26T16:46:19.517822Z"
    }
   },
   "source": [
    "## Resampling\n",
    "* resample non-yearly dataset to yearly dataset"
   ]
  },
  {
   "cell_type": "code",
   "execution_count": 68,
   "metadata": {
    "execution": {
     "iopub.execute_input": "2020-08-27T07:21:04.416128Z",
     "iopub.status.busy": "2020-08-27T07:21:04.415678Z",
     "iopub.status.idle": "2020-08-27T07:21:04.439358Z",
     "shell.execute_reply": "2020-08-27T07:21:04.438533Z",
     "shell.execute_reply.started": "2020-08-27T07:21:04.416073Z"
    }
   },
   "outputs": [
    {
     "data": {
      "text/plain": [
       "Area    Date   \n",
       "global  0-01       0.00027836643883702005\n",
       "        0-02         0.000278713058010423\n",
       "        0-03         0.000279013835279965\n",
       "        0-04       0.00027920961334856496\n",
       "        0-05         0.000279106444207592\n",
       "                            ...          \n",
       "sh      2014-08    0.00039577037859628094\n",
       "        2014-09      0.000395734959299383\n",
       "        2014-10      0.000395880866547116\n",
       "        2014-11    0.00039605692861724196\n",
       "        2014-12    0.00039616429558609803\n",
       "Name: CO2 concentration, Length: 72540, dtype: pint[dimensionless]"
      ]
     },
     "execution_count": 68,
     "metadata": {},
     "output_type": "execute_result"
    }
   ],
   "source": [
    "cmip_conc_co2"
   ]
  },
  {
   "cell_type": "code",
   "execution_count": 77,
   "metadata": {
    "execution": {
     "iopub.execute_input": "2020-08-27T08:19:46.387934Z",
     "iopub.status.busy": "2020-08-27T08:19:46.386985Z",
     "iopub.status.idle": "2020-08-27T08:19:46.404670Z",
     "shell.execute_reply": "2020-08-27T08:19:46.401409Z",
     "shell.execute_reply.started": "2020-08-27T08:19:46.387818Z"
    }
   },
   "outputs": [],
   "source": [
    "# This spelling would work if Dates were in the timespan covered by datetime64...\n",
    "if False:\n",
    "    cmip_conc_co2.groupby(\n",
    "        [pd.Grouper(level='Area'),\n",
    "         pd.Grouper(level='Date', freq='1Y')]\n",
    "    ).mean()"
   ]
  },
  {
   "cell_type": "code",
   "execution_count": 70,
   "metadata": {
    "execution": {
     "iopub.execute_input": "2020-08-27T07:41:35.514537Z",
     "iopub.status.busy": "2020-08-27T07:41:35.513701Z",
     "iopub.status.idle": "2020-08-27T07:41:35.614013Z",
     "shell.execute_reply": "2020-08-27T07:41:35.613029Z",
     "shell.execute_reply.started": "2020-08-27T07:41:35.514468Z"
    }
   },
   "outputs": [
    {
     "data": {
      "text/plain": [
       "Area    Date\n",
       "global  0       0.000277\n",
       "        1       0.000277\n",
       "        2       0.000277\n",
       "        3       0.000277\n",
       "        4       0.000277\n",
       "                  ...   \n",
       "sh      2010    0.000387\n",
       "        2011    0.000389\n",
       "        2012    0.000391\n",
       "        2013    0.000394\n",
       "        2014    0.000396\n",
       "Name: CO2 concentration, Length: 6045, dtype: float64"
      ]
     },
     "execution_count": 70,
     "metadata": {},
     "output_type": "execute_result"
    }
   ],
   "source": [
    "cmip_conc_co2.pint.magnitude.groupby([\n",
    "    pd.Grouper(level='Area'),\n",
    "    cmip_conc_co2.index.get_level_values('Date').year\n",
    "]).mean()"
   ]
  },
  {
   "cell_type": "markdown",
   "metadata": {},
   "source": [
    "# Interpolate\n",
    "* delete some data points from a data set and fill them in using linear interpolation"
   ]
  },
  {
   "cell_type": "code",
   "execution_count": 71,
   "metadata": {
    "execution": {
     "iopub.execute_input": "2020-08-27T07:41:37.360025Z",
     "iopub.status.busy": "2020-08-27T07:41:37.359565Z",
     "iopub.status.idle": "2020-08-27T07:41:37.374698Z",
     "shell.execute_reply": "2020-08-27T07:41:37.369288Z",
     "shell.execute_reply.started": "2020-08-27T07:41:37.359977Z"
    }
   },
   "outputs": [],
   "source": [
    "df = primap_tables['N2O_IPC0_TOTAL_NET_HISTTP_PRIMAPHIST20'][1].loc['FIN']"
   ]
  },
  {
   "cell_type": "code",
   "execution_count": 72,
   "metadata": {
    "execution": {
     "iopub.execute_input": "2020-08-27T07:41:45.946319Z",
     "iopub.status.busy": "2020-08-27T07:41:45.945581Z",
     "iopub.status.idle": "2020-08-27T07:41:45.958565Z",
     "shell.execute_reply": "2020-08-27T07:41:45.957161Z",
     "shell.execute_reply.started": "2020-08-27T07:41:45.946181Z"
    }
   },
   "outputs": [
    {
     "name": "stderr",
     "output_type": "stream",
     "text": [
      "<ipython-input-72-6c9ed728920e>:1: SettingWithCopyWarning: \n",
      "A value is trying to be set on a copy of a slice from a DataFrame\n",
      "\n",
      "See the caveats in the documentation: https://pandas.pydata.org/pandas-docs/stable/user_guide/indexing.html#returning-a-view-versus-a-copy\n",
      "  df['1990':'1994'] = np.nan\n",
      "/home/pflueger/.local/lib/python3.8/site-packages/pandas/core/series.py:1042: SettingWithCopyWarning: \n",
      "A value is trying to be set on a copy of a slice from a DataFrame\n",
      "\n",
      "See the caveats in the documentation: https://pandas.pydata.org/pandas-docs/stable/user_guide/indexing.html#returning-a-view-versus-a-copy\n",
      "  self._set_with(key, value)\n"
     ]
    }
   ],
   "source": [
    "df['1990':'1994'] = np.nan"
   ]
  },
  {
   "cell_type": "code",
   "execution_count": 73,
   "metadata": {
    "execution": {
     "iopub.execute_input": "2020-08-27T07:41:50.294637Z",
     "iopub.status.busy": "2020-08-27T07:41:50.294236Z",
     "iopub.status.idle": "2020-08-27T07:41:50.530628Z",
     "shell.execute_reply": "2020-08-27T07:41:50.526452Z",
     "shell.execute_reply.started": "2020-08-27T07:41:50.294599Z"
    }
   },
   "outputs": [
    {
     "data": {
      "application/vnd.jupyter.widget-view+json": {
       "model_id": "d7d01806a5e24519b0f29cb2e198380c",
       "version_major": 2,
       "version_minor": 0
      },
      "text/plain": [
       "Canvas(toolbar=Toolbar(toolitems=[('Home', 'Reset original view', 'home', 'home'), ('Back', 'Back to previous …"
      ]
     },
     "metadata": {},
     "output_type": "display_data"
    },
    {
     "data": {
      "text/plain": [
       "<matplotlib.axes._subplots.AxesSubplot at 0x7f0f101e43d0>"
      ]
     },
     "execution_count": 73,
     "metadata": {},
     "output_type": "execute_result"
    }
   ],
   "source": [
    "plt.figure()\n",
    "df.pint.magnitude.plot()"
   ]
  },
  {
   "cell_type": "code",
   "execution_count": 74,
   "metadata": {
    "execution": {
     "iopub.execute_input": "2020-08-27T07:41:54.239394Z",
     "iopub.status.busy": "2020-08-27T07:41:54.238853Z",
     "iopub.status.idle": "2020-08-27T07:41:54.444931Z",
     "shell.execute_reply": "2020-08-27T07:41:54.443084Z",
     "shell.execute_reply.started": "2020-08-27T07:41:54.239349Z"
    }
   },
   "outputs": [
    {
     "data": {
      "application/vnd.jupyter.widget-view+json": {
       "model_id": "00f615c44f7d476d8b752573bc171f83",
       "version_major": 2,
       "version_minor": 0
      },
      "text/plain": [
       "Canvas(toolbar=Toolbar(toolitems=[('Home', 'Reset original view', 'home', 'home'), ('Back', 'Back to previous …"
      ]
     },
     "metadata": {},
     "output_type": "display_data"
    },
    {
     "data": {
      "text/plain": [
       "<matplotlib.axes._subplots.AxesSubplot at 0x7f0f144384c0>"
      ]
     },
     "execution_count": 74,
     "metadata": {},
     "output_type": "execute_result"
    }
   ],
   "source": [
    "plt.figure()\n",
    "df.pint.magnitude.interpolate().plot()"
   ]
  },
  {
   "cell_type": "markdown",
   "metadata": {},
   "source": [
    "# Alternative without MultiIndex\n",
    "## Convert"
   ]
  },
  {
   "cell_type": "code",
   "execution_count": 95,
   "metadata": {
    "execution": {
     "iopub.execute_input": "2020-08-27T08:25:06.404390Z",
     "iopub.status.busy": "2020-08-27T08:25:06.403710Z",
     "iopub.status.idle": "2020-08-27T08:25:06.516087Z",
     "shell.execute_reply": "2020-08-27T08:25:06.514250Z",
     "shell.execute_reply.started": "2020-08-27T08:25:06.404342Z"
    }
   },
   "outputs": [],
   "source": [
    "fao_emi_total_wo = fao_emi_total.reset_index()\n",
    "fao_emi_total_wo['Element'] = fao_emi_total_wo['Element'].astype(pd.CategoricalDtype(ordered=True))"
   ]
  },
  {
   "cell_type": "code",
   "execution_count": 100,
   "metadata": {
    "execution": {
     "iopub.execute_input": "2020-08-27T08:34:52.969544Z",
     "iopub.status.busy": "2020-08-27T08:34:52.967662Z",
     "iopub.status.idle": "2020-08-27T08:34:52.997747Z",
     "shell.execute_reply": "2020-08-27T08:34:52.992213Z",
     "shell.execute_reply.started": "2020-08-27T08:34:52.969187Z"
    }
   },
   "outputs": [],
   "source": [
    "lak_emi_energy_wo = lak_emi_energy.reset_index()"
   ]
  },
  {
   "cell_type": "code",
   "execution_count": 103,
   "metadata": {
    "execution": {
     "iopub.execute_input": "2020-08-27T08:35:35.022875Z",
     "iopub.status.busy": "2020-08-27T08:35:35.022095Z",
     "iopub.status.idle": "2020-08-27T08:35:35.047450Z",
     "shell.execute_reply": "2020-08-27T08:35:35.045211Z",
     "shell.execute_reply.started": "2020-08-27T08:35:35.022732Z"
    }
   },
   "outputs": [],
   "source": [
    "cmip_conc_co2_wo = cmip_conc_co2.reset_index()"
   ]
  },
  {
   "cell_type": "code",
   "execution_count": 108,
   "metadata": {
    "execution": {
     "iopub.execute_input": "2020-08-27T08:38:29.962713Z",
     "iopub.status.busy": "2020-08-27T08:38:29.962110Z",
     "iopub.status.idle": "2020-08-27T08:38:32.643846Z",
     "shell.execute_reply": "2020-08-27T08:38:32.641310Z",
     "shell.execute_reply.started": "2020-08-27T08:38:29.962667Z"
    }
   },
   "outputs": [],
   "source": [
    "prm_emi_wo = prm_emi.reset_index()\n",
    "prm_emi_wo['Area'] = prm_emi_wo['Area'].astype(pd.CategoricalDtype(ordered=True))\n",
    "prm_emi_wo['Category'] = prm_emi_wo['Category'].astype(pd.CategoricalDtype(ordered=True))\n",
    "prm_emi_wo['Entity'] = prm_emi_wo['Entity'].astype(pd.CategoricalDtype(ordered=True))\n",
    "prm_emi_wo['Scenario'] = prm_emi_wo['Scenario'].astype(pd.CategoricalDtype())"
   ]
  },
  {
   "cell_type": "code",
   "execution_count": 110,
   "metadata": {
    "execution": {
     "iopub.execute_input": "2020-08-27T08:42:02.137896Z",
     "iopub.status.busy": "2020-08-27T08:42:02.136656Z",
     "iopub.status.idle": "2020-08-27T08:42:20.127954Z",
     "shell.execute_reply": "2020-08-27T08:42:20.126622Z",
     "shell.execute_reply.started": "2020-08-27T08:42:02.137780Z"
    }
   },
   "outputs": [],
   "source": [
    "primap_tables_wo = {}\n",
    "for key, (meta, df) in primap_tables.items():\n",
    "    primap_tables_wo[key] = (meta, df.reset_index())"
   ]
  },
  {
   "cell_type": "markdown",
   "metadata": {
    "execution": {
     "iopub.execute_input": "2020-08-27T08:55:50.926367Z",
     "iopub.status.busy": "2020-08-27T08:55:50.925960Z",
     "iopub.status.idle": "2020-08-27T08:55:56.899747Z",
     "shell.execute_reply": "2020-08-27T08:55:56.897163Z",
     "shell.execute_reply.started": "2020-08-27T08:55:50.926312Z"
    }
   },
   "source": [
    "## Measure memory use"
   ]
  },
  {
   "cell_type": "code",
   "execution_count": 116,
   "metadata": {
    "execution": {
     "iopub.execute_input": "2020-08-27T08:55:50.926367Z",
     "iopub.status.busy": "2020-08-27T08:55:50.925960Z",
     "iopub.status.idle": "2020-08-27T08:55:56.899747Z",
     "shell.execute_reply": "2020-08-27T08:55:56.897163Z",
     "shell.execute_reply.started": "2020-08-27T08:55:50.926312Z"
    }
   },
   "outputs": [],
   "source": [
    "for fpath, obj in (\n",
    "    ('fao_emi_total', fao_emi_total_wo),\n",
    "    ('lak_emi_energy', lak_emi_energy_wo),\n",
    "    ('cmip_conc_co2', cmip_conc_co2_wo),\n",
    "    ('primap_tables', primap_tables_wo),\n",
    "    ('prm_emi', prm_emi_wo), \n",
    "):\n",
    "    with open(f'mem/{fpath}_wo.pck', 'wb') as fd:\n",
    "        pickle.dump(obj, fd, -1)"
   ]
  },
  {
   "cell_type": "code",
   "execution_count": 117,
   "metadata": {
    "execution": {
     "iopub.execute_input": "2020-08-27T08:58:04.713662Z",
     "iopub.status.busy": "2020-08-27T08:58:04.713168Z",
     "iopub.status.idle": "2020-08-27T08:58:05.000718Z",
     "shell.execute_reply": "2020-08-27T08:58:04.996381Z",
     "shell.execute_reply.started": "2020-08-27T08:58:04.713589Z"
    }
   },
   "outputs": [
    {
     "name": "stdout",
     "output_type": "stream",
     "text": [
      "total 674M\n",
      "drwxrwxr-x 2 pflueger pflueger 4,0K Aug 27 10:55 .\n",
      "drwxrwxr-x 7 pflueger pflueger 4,0K Aug 27 10:57 ..\n",
      "-rw-rw-r-- 1 pflueger pflueger 1,2M Aug 27 09:12 cmip_conc_co2.pck\n",
      "-rw-rw-r-- 1 pflueger pflueger 1,2M Aug 27 10:55 cmip_conc_co2_wo.pck\n",
      "-rw-rw-r-- 1 pflueger pflueger 8,8M Aug 27 09:12 fao_emi_total.pck\n",
      "-rw-rw-r-- 1 pflueger pflueger 9,7M Aug 27 10:55 fao_emi_total_wo.pck\n",
      "-rw-rw-r-- 1 pflueger pflueger  40K Aug 27 09:12 lak_emi_energy.pck\n",
      "-rw-rw-r-- 1 pflueger pflueger  50K Aug 27 10:55 lak_emi_energy_wo.pck\n",
      "-rw-rw-r-- 1 pflueger pflueger 205M Aug 27 09:12 primap_tables.pck\n",
      "-rw-rw-r-- 1 pflueger pflueger 244M Aug 27 10:55 primap_tables_wo.pck\n",
      "-rw-rw-r-- 1 pflueger pflueger 105M Aug 27 09:12 prm_emi.pck\n",
      "-rw-rw-r-- 1 pflueger pflueger 100M Aug 27 10:55 prm_emi_wo.pck\n"
     ]
    }
   ],
   "source": [
    "!ls -lah mem"
   ]
  },
  {
   "cell_type": "markdown",
   "metadata": {},
   "source": [
    "## Aligned Arithmetic"
   ]
  },
  {
   "cell_type": "code",
   "execution_count": 123,
   "metadata": {
    "execution": {
     "iopub.execute_input": "2020-08-27T12:01:20.781132Z",
     "iopub.status.busy": "2020-08-27T12:01:20.780370Z",
     "iopub.status.idle": "2020-08-27T12:01:20.907527Z",
     "shell.execute_reply": "2020-08-27T12:01:20.906617Z",
     "shell.execute_reply.started": "2020-08-27T12:01:20.781063Z"
    }
   },
   "outputs": [],
   "source": [
    "# extract two comptaible, partly overlapping data sets from primap-hist\n",
    "a = prm_emi_wo.loc[(prm_emi_wo['Category'] == 'IPC1') &\n",
    "                   ('1900' < prm_emi_wo['Date']) &\n",
    "                   ('1990' > prm_emi_wo['Date']) &\n",
    "                   (prm_emi_wo['Entity'] == 'CO2') &\n",
    "                   (prm_emi_wo['Scenario'] == 'HISTCR')]"
   ]
  },
  {
   "cell_type": "code",
   "execution_count": 140,
   "metadata": {
    "execution": {
     "iopub.execute_input": "2020-08-27T12:08:19.958867Z",
     "iopub.status.busy": "2020-08-27T12:08:19.958148Z",
     "iopub.status.idle": "2020-08-27T12:08:20.154481Z",
     "shell.execute_reply": "2020-08-27T12:08:20.151255Z",
     "shell.execute_reply.started": "2020-08-27T12:08:19.958798Z"
    }
   },
   "outputs": [],
   "source": [
    "a = prm_emi_wo.query('Category == \"IPC1\" and '\n",
    "                     '\"1900\" < Date < \"1990\" and '\n",
    "                     'Entity == \"CO2\" and '\n",
    "                     'Scenario == \"HISTCR\"')"
   ]
  },
  {
   "cell_type": "code",
   "execution_count": 142,
   "metadata": {
    "execution": {
     "iopub.execute_input": "2020-08-27T12:08:24.418127Z",
     "iopub.status.busy": "2020-08-27T12:08:24.417527Z",
     "iopub.status.idle": "2020-08-27T12:08:24.437543Z",
     "shell.execute_reply": "2020-08-27T12:08:24.436586Z",
     "shell.execute_reply.started": "2020-08-27T12:08:24.418062Z"
    }
   },
   "outputs": [],
   "source": [
    "a = a.reset_index(drop=True)"
   ]
  },
  {
   "cell_type": "code",
   "execution_count": 147,
   "metadata": {
    "execution": {
     "iopub.execute_input": "2020-08-27T12:13:19.042060Z",
     "iopub.status.busy": "2020-08-27T12:13:19.040717Z",
     "iopub.status.idle": "2020-08-27T12:13:19.121844Z",
     "shell.execute_reply": "2020-08-27T12:13:19.120942Z",
     "shell.execute_reply.started": "2020-08-27T12:13:19.041936Z"
    }
   },
   "outputs": [],
   "source": [
    "b = prm_emi_wo.loc[prm_emi_wo['Area'].isin(['DEU', 'FIN', 'ZWE'])]\n",
    "b = b.reset_index(drop=True)"
   ]
  },
  {
   "cell_type": "code",
   "execution_count": 149,
   "metadata": {
    "execution": {
     "iopub.execute_input": "2020-08-27T12:13:29.333406Z",
     "iopub.status.busy": "2020-08-27T12:13:29.332444Z",
     "iopub.status.idle": "2020-08-27T12:13:29.417879Z",
     "shell.execute_reply": "2020-08-27T12:13:29.417015Z",
     "shell.execute_reply.started": "2020-08-27T12:13:29.333306Z"
    }
   },
   "outputs": [
    {
     "data": {
      "text/html": [
       "<div>\n",
       "<style scoped>\n",
       "    .dataframe tbody tr th:only-of-type {\n",
       "        vertical-align: middle;\n",
       "    }\n",
       "\n",
       "    .dataframe tbody tr th {\n",
       "        vertical-align: top;\n",
       "    }\n",
       "\n",
       "    .dataframe thead th {\n",
       "        text-align: right;\n",
       "    }\n",
       "</style>\n",
       "<table border=\"1\" class=\"dataframe\">\n",
       "  <thead>\n",
       "    <tr style=\"text-align: right;\">\n",
       "      <th></th>\n",
       "      <th>Area</th>\n",
       "      <th>Category</th>\n",
       "      <th>Date</th>\n",
       "      <th>Entity</th>\n",
       "      <th>Scenario</th>\n",
       "      <th>Emissions</th>\n",
       "    </tr>\n",
       "  </thead>\n",
       "  <tbody>\n",
       "    <tr>\n",
       "      <th>0</th>\n",
       "      <td>ABW</td>\n",
       "      <td>IPC1</td>\n",
       "      <td>1901-01-01</td>\n",
       "      <td>CO2</td>\n",
       "      <td>HISTCR</td>\n",
       "      <td>467.0</td>\n",
       "    </tr>\n",
       "    <tr>\n",
       "      <th>1</th>\n",
       "      <td>ABW</td>\n",
       "      <td>IPC1</td>\n",
       "      <td>1902-01-01</td>\n",
       "      <td>CO2</td>\n",
       "      <td>HISTCR</td>\n",
       "      <td>491.0</td>\n",
       "    </tr>\n",
       "    <tr>\n",
       "      <th>2</th>\n",
       "      <td>ABW</td>\n",
       "      <td>IPC1</td>\n",
       "      <td>1903-01-01</td>\n",
       "      <td>CO2</td>\n",
       "      <td>HISTCR</td>\n",
       "      <td>517.0</td>\n",
       "    </tr>\n",
       "    <tr>\n",
       "      <th>3</th>\n",
       "      <td>ABW</td>\n",
       "      <td>IPC1</td>\n",
       "      <td>1904-01-01</td>\n",
       "      <td>CO2</td>\n",
       "      <td>HISTCR</td>\n",
       "      <td>544.0</td>\n",
       "    </tr>\n",
       "    <tr>\n",
       "      <th>4</th>\n",
       "      <td>ABW</td>\n",
       "      <td>IPC1</td>\n",
       "      <td>1905-01-01</td>\n",
       "      <td>CO2</td>\n",
       "      <td>HISTCR</td>\n",
       "      <td>573.0</td>\n",
       "    </tr>\n",
       "    <tr>\n",
       "      <th>...</th>\n",
       "      <td>...</td>\n",
       "      <td>...</td>\n",
       "      <td>...</td>\n",
       "      <td>...</td>\n",
       "      <td>...</td>\n",
       "      <td>...</td>\n",
       "    </tr>\n",
       "    <tr>\n",
       "      <th>19041</th>\n",
       "      <td>ZWE</td>\n",
       "      <td>IPC1</td>\n",
       "      <td>1985-01-01</td>\n",
       "      <td>CO2</td>\n",
       "      <td>HISTCR</td>\n",
       "      <td>8500.0</td>\n",
       "    </tr>\n",
       "    <tr>\n",
       "      <th>19042</th>\n",
       "      <td>ZWE</td>\n",
       "      <td>IPC1</td>\n",
       "      <td>1986-01-01</td>\n",
       "      <td>CO2</td>\n",
       "      <td>HISTCR</td>\n",
       "      <td>11400.0</td>\n",
       "    </tr>\n",
       "    <tr>\n",
       "      <th>19043</th>\n",
       "      <td>ZWE</td>\n",
       "      <td>IPC1</td>\n",
       "      <td>1987-01-01</td>\n",
       "      <td>CO2</td>\n",
       "      <td>HISTCR</td>\n",
       "      <td>13000.0</td>\n",
       "    </tr>\n",
       "    <tr>\n",
       "      <th>19044</th>\n",
       "      <td>ZWE</td>\n",
       "      <td>IPC1</td>\n",
       "      <td>1988-01-01</td>\n",
       "      <td>CO2</td>\n",
       "      <td>HISTCR</td>\n",
       "      <td>13600.0</td>\n",
       "    </tr>\n",
       "    <tr>\n",
       "      <th>19045</th>\n",
       "      <td>ZWE</td>\n",
       "      <td>IPC1</td>\n",
       "      <td>1989-01-01</td>\n",
       "      <td>CO2</td>\n",
       "      <td>HISTCR</td>\n",
       "      <td>13700.0</td>\n",
       "    </tr>\n",
       "  </tbody>\n",
       "</table>\n",
       "<p>19046 rows × 6 columns</p>\n",
       "</div>"
      ],
      "text/plain": [
       "      Area Category       Date Entity Scenario Emissions\n",
       "0      ABW     IPC1 1901-01-01    CO2   HISTCR     467.0\n",
       "1      ABW     IPC1 1902-01-01    CO2   HISTCR     491.0\n",
       "2      ABW     IPC1 1903-01-01    CO2   HISTCR     517.0\n",
       "3      ABW     IPC1 1904-01-01    CO2   HISTCR     544.0\n",
       "4      ABW     IPC1 1905-01-01    CO2   HISTCR     573.0\n",
       "...    ...      ...        ...    ...      ...       ...\n",
       "19041  ZWE     IPC1 1985-01-01    CO2   HISTCR    8500.0\n",
       "19042  ZWE     IPC1 1986-01-01    CO2   HISTCR   11400.0\n",
       "19043  ZWE     IPC1 1987-01-01    CO2   HISTCR   13000.0\n",
       "19044  ZWE     IPC1 1988-01-01    CO2   HISTCR   13600.0\n",
       "19045  ZWE     IPC1 1989-01-01    CO2   HISTCR   13700.0\n",
       "\n",
       "[19046 rows x 6 columns]"
      ]
     },
     "execution_count": 149,
     "metadata": {},
     "output_type": "execute_result"
    }
   ],
   "source": [
    "a"
   ]
  },
  {
   "cell_type": "code",
   "execution_count": 150,
   "metadata": {
    "execution": {
     "iopub.execute_input": "2020-08-27T12:13:31.738249Z",
     "iopub.status.busy": "2020-08-27T12:13:31.737156Z",
     "iopub.status.idle": "2020-08-27T12:13:31.819120Z",
     "shell.execute_reply": "2020-08-27T12:13:31.818206Z",
     "shell.execute_reply.started": "2020-08-27T12:13:31.738144Z"
    }
   },
   "outputs": [
    {
     "data": {
      "text/html": [
       "<div>\n",
       "<style scoped>\n",
       "    .dataframe tbody tr th:only-of-type {\n",
       "        vertical-align: middle;\n",
       "    }\n",
       "\n",
       "    .dataframe tbody tr th {\n",
       "        vertical-align: top;\n",
       "    }\n",
       "\n",
       "    .dataframe thead th {\n",
       "        text-align: right;\n",
       "    }\n",
       "</style>\n",
       "<table border=\"1\" class=\"dataframe\">\n",
       "  <thead>\n",
       "    <tr style=\"text-align: right;\">\n",
       "      <th></th>\n",
       "      <th>Area</th>\n",
       "      <th>Category</th>\n",
       "      <th>Date</th>\n",
       "      <th>Entity</th>\n",
       "      <th>Scenario</th>\n",
       "      <th>Emissions</th>\n",
       "    </tr>\n",
       "  </thead>\n",
       "  <tbody>\n",
       "    <tr>\n",
       "      <th>0</th>\n",
       "      <td>DEU</td>\n",
       "      <td>IPC1</td>\n",
       "      <td>1850-01-01</td>\n",
       "      <td>CH4</td>\n",
       "      <td>HISTCR</td>\n",
       "      <td>420.0</td>\n",
       "    </tr>\n",
       "    <tr>\n",
       "      <th>1</th>\n",
       "      <td>DEU</td>\n",
       "      <td>IPC1</td>\n",
       "      <td>1850-01-01</td>\n",
       "      <td>CH4</td>\n",
       "      <td>HISTTP</td>\n",
       "      <td>445.0</td>\n",
       "    </tr>\n",
       "    <tr>\n",
       "      <th>2</th>\n",
       "      <td>DEU</td>\n",
       "      <td>IPC1</td>\n",
       "      <td>1850-01-01</td>\n",
       "      <td>CO2</td>\n",
       "      <td>HISTCR</td>\n",
       "      <td>14800.0</td>\n",
       "    </tr>\n",
       "    <tr>\n",
       "      <th>3</th>\n",
       "      <td>DEU</td>\n",
       "      <td>IPC1</td>\n",
       "      <td>1850-01-01</td>\n",
       "      <td>CO2</td>\n",
       "      <td>HISTTP</td>\n",
       "      <td>15200.0</td>\n",
       "    </tr>\n",
       "    <tr>\n",
       "      <th>4</th>\n",
       "      <td>DEU</td>\n",
       "      <td>IPC1</td>\n",
       "      <td>1850-01-01</td>\n",
       "      <td>KYOTOGHG (CO2eq)</td>\n",
       "      <td>HISTCR</td>\n",
       "      <td>24100.0</td>\n",
       "    </tr>\n",
       "    <tr>\n",
       "      <th>...</th>\n",
       "      <td>...</td>\n",
       "      <td>...</td>\n",
       "      <td>...</td>\n",
       "      <td>...</td>\n",
       "      <td>...</td>\n",
       "      <td>...</td>\n",
       "    </tr>\n",
       "    <tr>\n",
       "      <th>78955</th>\n",
       "      <td>ZWE</td>\n",
       "      <td>IPCMAGELV</td>\n",
       "      <td>2017-01-01</td>\n",
       "      <td>KYOTOGHG (CO2eq)</td>\n",
       "      <td>HISTTP</td>\n",
       "      <td>6630.0</td>\n",
       "    </tr>\n",
       "    <tr>\n",
       "      <th>78956</th>\n",
       "      <td>ZWE</td>\n",
       "      <td>IPCMAGELV</td>\n",
       "      <td>2017-01-01</td>\n",
       "      <td>KYOTOGHGAR4 (CO2eq)</td>\n",
       "      <td>HISTCR</td>\n",
       "      <td>6040.0</td>\n",
       "    </tr>\n",
       "    <tr>\n",
       "      <th>78957</th>\n",
       "      <td>ZWE</td>\n",
       "      <td>IPCMAGELV</td>\n",
       "      <td>2017-01-01</td>\n",
       "      <td>KYOTOGHGAR4 (CO2eq)</td>\n",
       "      <td>HISTTP</td>\n",
       "      <td>6640.0</td>\n",
       "    </tr>\n",
       "    <tr>\n",
       "      <th>78958</th>\n",
       "      <td>ZWE</td>\n",
       "      <td>IPCMAGELV</td>\n",
       "      <td>2017-01-01</td>\n",
       "      <td>N2O</td>\n",
       "      <td>HISTCR</td>\n",
       "      <td>15.6</td>\n",
       "    </tr>\n",
       "    <tr>\n",
       "      <th>78959</th>\n",
       "      <td>ZWE</td>\n",
       "      <td>IPCMAGELV</td>\n",
       "      <td>2017-01-01</td>\n",
       "      <td>N2O</td>\n",
       "      <td>HISTTP</td>\n",
       "      <td>17.6</td>\n",
       "    </tr>\n",
       "  </tbody>\n",
       "</table>\n",
       "<p>78960 rows × 6 columns</p>\n",
       "</div>"
      ],
      "text/plain": [
       "      Area   Category       Date               Entity Scenario Emissions\n",
       "0      DEU       IPC1 1850-01-01                  CH4   HISTCR     420.0\n",
       "1      DEU       IPC1 1850-01-01                  CH4   HISTTP     445.0\n",
       "2      DEU       IPC1 1850-01-01                  CO2   HISTCR   14800.0\n",
       "3      DEU       IPC1 1850-01-01                  CO2   HISTTP   15200.0\n",
       "4      DEU       IPC1 1850-01-01     KYOTOGHG (CO2eq)   HISTCR   24100.0\n",
       "...    ...        ...        ...                  ...      ...       ...\n",
       "78955  ZWE  IPCMAGELV 2017-01-01     KYOTOGHG (CO2eq)   HISTTP    6630.0\n",
       "78956  ZWE  IPCMAGELV 2017-01-01  KYOTOGHGAR4 (CO2eq)   HISTCR    6040.0\n",
       "78957  ZWE  IPCMAGELV 2017-01-01  KYOTOGHGAR4 (CO2eq)   HISTTP    6640.0\n",
       "78958  ZWE  IPCMAGELV 2017-01-01                  N2O   HISTCR      15.6\n",
       "78959  ZWE  IPCMAGELV 2017-01-01                  N2O   HISTTP      17.6\n",
       "\n",
       "[78960 rows x 6 columns]"
      ]
     },
     "execution_count": 150,
     "metadata": {},
     "output_type": "execute_result"
    }
   ],
   "source": [
    "b"
   ]
  },
  {
   "cell_type": "code",
   "execution_count": 161,
   "metadata": {
    "execution": {
     "iopub.execute_input": "2020-08-27T12:39:21.473424Z",
     "iopub.status.busy": "2020-08-27T12:39:21.473012Z",
     "iopub.status.idle": "2020-08-27T12:39:21.501445Z",
     "shell.execute_reply": "2020-08-27T12:39:21.500854Z",
     "shell.execute_reply.started": "2020-08-27T12:39:21.473386Z"
    }
   },
   "outputs": [
    {
     "data": {
      "text/plain": [
       "(      Area Category       Date Entity Scenario Emissions\n",
       " 0      ABW     IPC1 1901-01-01    CO2   HISTCR     467.0\n",
       " 1      ABW     IPC1 1902-01-01    CO2   HISTCR     491.0\n",
       " 2      ABW     IPC1 1903-01-01    CO2   HISTCR     517.0\n",
       " 3      ABW     IPC1 1904-01-01    CO2   HISTCR     544.0\n",
       " 4      ABW     IPC1 1905-01-01    CO2   HISTCR     573.0\n",
       " ...    ...      ...        ...    ...      ...       ...\n",
       " 19041  ZWE     IPC1 1985-01-01    CO2   HISTCR    8500.0\n",
       " 19042  ZWE     IPC1 1986-01-01    CO2   HISTCR   11400.0\n",
       " 19043  ZWE     IPC1 1987-01-01    CO2   HISTCR   13000.0\n",
       " 19044  ZWE     IPC1 1988-01-01    CO2   HISTCR   13600.0\n",
       " 19045  ZWE     IPC1 1989-01-01    CO2   HISTCR   13700.0\n",
       " \n",
       " [19046 rows x 6 columns],\n",
       "       Area   Category       Date               Entity Scenario Emissions\n",
       " 0      DEU       IPC1 1850-01-01                  CH4   HISTCR     420.0\n",
       " 1      DEU       IPC1 1850-01-01                  CH4   HISTTP     445.0\n",
       " 2      DEU       IPC1 1850-01-01                  CO2   HISTCR   14800.0\n",
       " 3      DEU       IPC1 1850-01-01                  CO2   HISTTP   15200.0\n",
       " 4      DEU       IPC1 1850-01-01     KYOTOGHG (CO2eq)   HISTCR   24100.0\n",
       " ...    ...        ...        ...                  ...      ...       ...\n",
       " 78955  ZWE  IPCMAGELV 2017-01-01     KYOTOGHG (CO2eq)   HISTTP    6630.0\n",
       " 78956  ZWE  IPCMAGELV 2017-01-01  KYOTOGHGAR4 (CO2eq)   HISTCR    6040.0\n",
       " 78957  ZWE  IPCMAGELV 2017-01-01  KYOTOGHGAR4 (CO2eq)   HISTTP    6640.0\n",
       " 78958  ZWE  IPCMAGELV 2017-01-01                  N2O   HISTCR      15.6\n",
       " 78959  ZWE  IPCMAGELV 2017-01-01                  N2O   HISTTP      17.6\n",
       " \n",
       " [78960 rows x 6 columns])"
      ]
     },
     "execution_count": 161,
     "metadata": {},
     "output_type": "execute_result"
    }
   ],
   "source": [
    "a.align(b, axis='columns')"
   ]
  },
  {
   "cell_type": "code",
   "execution_count": 168,
   "metadata": {
    "execution": {
     "iopub.execute_input": "2020-08-27T12:57:40.896998Z",
     "iopub.status.busy": "2020-08-27T12:57:40.896464Z",
     "iopub.status.idle": "2020-08-27T12:57:40.908005Z",
     "shell.execute_reply": "2020-08-27T12:57:40.907132Z",
     "shell.execute_reply.started": "2020-08-27T12:57:40.896955Z"
    }
   },
   "outputs": [],
   "source": [
    "am = a['Emissions']\n",
    "am.index = pd.MultiIndex.from_frame(a.loc[:, ('Area', 'Category', 'Date', 'Entity', 'Scenario')])"
   ]
  },
  {
   "cell_type": "code",
   "execution_count": 170,
   "metadata": {
    "execution": {
     "iopub.execute_input": "2020-08-27T12:58:18.966238Z",
     "iopub.status.busy": "2020-08-27T12:58:18.965948Z",
     "iopub.status.idle": "2020-08-27T12:58:18.978229Z",
     "shell.execute_reply": "2020-08-27T12:58:18.976605Z",
     "shell.execute_reply.started": "2020-08-27T12:58:18.966212Z"
    }
   },
   "outputs": [],
   "source": [
    "bm = b['Emissions']\n",
    "bm.index = pd.MultiIndex.from_frame(b.loc[:, ('Area', 'Category', 'Date', 'Entity', 'Scenario')])"
   ]
  },
  {
   "cell_type": "code",
   "execution_count": 173,
   "metadata": {
    "execution": {
     "iopub.execute_input": "2020-08-27T12:59:14.552599Z",
     "iopub.status.busy": "2020-08-27T12:59:14.552043Z",
     "iopub.status.idle": "2020-08-27T12:59:25.845997Z",
     "shell.execute_reply": "2020-08-27T12:59:25.845396Z",
     "shell.execute_reply.started": "2020-08-27T12:59:14.552547Z"
    }
   },
   "outputs": [
    {
     "data": {
      "text/plain": [
       "Area  Category  Date        Entity  Scenario\n",
       "DEU   IPC1      1901-01-01  CO2     HISTCR      638000.0\n",
       "                1902-01-01  CO2     HISTCR      626000.0\n",
       "                1903-01-01  CO2     HISTCR      674000.0\n",
       "                1904-01-01  CO2     HISTCR      698000.0\n",
       "                1905-01-01  CO2     HISTCR      750000.0\n",
       "                                                  ...   \n",
       "ZWE   IPC1      1985-01-01  CO2     HISTCR       17000.0\n",
       "                1986-01-01  CO2     HISTCR       22800.0\n",
       "                1987-01-01  CO2     HISTCR       26000.0\n",
       "                1988-01-01  CO2     HISTCR       27200.0\n",
       "                1989-01-01  CO2     HISTCR       27400.0\n",
       "Name: Emissions, Length: 267, dtype: pint[gigagram]"
      ]
     },
     "execution_count": 173,
     "metadata": {},
     "output_type": "execute_result"
    }
   ],
   "source": [
    "(am + bm).dropna()"
   ]
  },
  {
   "cell_type": "markdown",
   "metadata": {},
   "source": [
    "## Plotting"
   ]
  },
  {
   "cell_type": "code",
   "execution_count": 184,
   "metadata": {
    "execution": {
     "iopub.execute_input": "2020-08-27T13:07:10.978887Z",
     "iopub.status.busy": "2020-08-27T13:07:10.978280Z",
     "iopub.status.idle": "2020-08-27T13:07:11.164595Z",
     "shell.execute_reply": "2020-08-27T13:07:11.164038Z",
     "shell.execute_reply.started": "2020-08-27T13:07:10.978831Z"
    }
   },
   "outputs": [
    {
     "data": {
      "application/vnd.jupyter.widget-view+json": {
       "model_id": "52e69a96c8e94573bcea08da2b90eb46",
       "version_major": 2,
       "version_minor": 0
      },
      "text/plain": [
       "Canvas(toolbar=Toolbar(toolitems=[('Home', 'Reset original view', 'home', 'home'), ('Back', 'Back to previous …"
      ]
     },
     "metadata": {},
     "output_type": "display_data"
    },
    {
     "data": {
      "text/plain": [
       "[<matplotlib.lines.Line2D at 0x7f0ef2342cd0>]"
      ]
     },
     "execution_count": 184,
     "metadata": {},
     "output_type": "execute_result"
    }
   ],
   "source": [
    "plt.figure()\n",
    "sel = prm_emi_wo.query('Area == \"DEU\" and Category == \"IPCM0EL\" and Entity == \"KYOTOGHG (CO2eq)\" and Scenario == \"HISTCR\"')\n",
    "plt.plot(sel['Date'], sel['Emissions'].pint.to('Tg').pint.magnitude)"
   ]
  },
  {
   "cell_type": "code",
   "execution_count": 185,
   "metadata": {
    "execution": {
     "iopub.execute_input": "2020-08-27T13:08:42.059556Z",
     "iopub.status.busy": "2020-08-27T13:08:42.059314Z",
     "iopub.status.idle": "2020-08-27T13:08:42.098065Z",
     "shell.execute_reply": "2020-08-27T13:08:42.097589Z",
     "shell.execute_reply.started": "2020-08-27T13:08:42.059535Z"
    }
   },
   "outputs": [
    {
     "data": {
      "text/plain": [
       "['POP_DEMOGR_TOTAL_NET_CONSTANT_UN2017P',\n",
       " 'POP_DEMOGR_TOTAL_NET_CONSTANT_UN2019P',\n",
       " 'POP_DEMOGR_TOTAL_NET_CONSTMORTALITY_UN2017P',\n",
       " 'POP_DEMOGR_TOTAL_NET_CONSTMORTALITY_UN2019P',\n",
       " 'POP_DEMOGR_TOTAL_NET_HIGH_UN2017P',\n",
       " 'POP_DEMOGR_TOTAL_NET_HIGH_UN2019P',\n",
       " 'POP_DEMOGR_TOTAL_NET_HISTORY_MPD2018P',\n",
       " 'POP_DEMOGR_TOTAL_NET_HISTORY_PMHSOCIOECO12',\n",
       " 'POP_DEMOGR_TOTAL_NET_HISTORY_UN2017P',\n",
       " 'POP_DEMOGR_TOTAL_NET_HISTORY_UN2019P',\n",
       " 'POP_DEMOGR_TOTAL_NET_LOW_UN2017P',\n",
       " 'POP_DEMOGR_TOTAL_NET_LOW_UN2019P',\n",
       " 'POP_DEMOGR_TOTAL_NET_MEDIUM_UN2017P',\n",
       " 'POP_DEMOGR_TOTAL_NET_MEDIUM_UN2019P',\n",
       " 'POP_DEMOGR_TOTAL_NET_NOCHANGE_UN2017P',\n",
       " 'POP_DEMOGR_TOTAL_NET_NOCHANGE_UN2019P',\n",
       " 'POP_DEMOGR_TOTAL_NET_NOMIGRATION_UN2017P',\n",
       " 'POP_DEMOGR_TOTAL_NET_NOMIGRATION_UN2019P',\n",
       " 'POP_DEMOGR_TOTAL_NET_REPLACEMENT_UN2017P',\n",
       " 'POP_DEMOGR_TOTAL_NET_REPLACEMENT_UN2019P']"
      ]
     },
     "execution_count": 185,
     "metadata": {},
     "output_type": "execute_result"
    }
   ],
   "source": [
    "[key for key, (meta, df) in primap_tables_wo.items() if 'POP' in df.columns]"
   ]
  },
  {
   "cell_type": "code",
   "execution_count": 203,
   "metadata": {
    "execution": {
     "iopub.execute_input": "2020-08-27T13:15:35.422121Z",
     "iopub.status.busy": "2020-08-27T13:15:35.421406Z",
     "iopub.status.idle": "2020-08-27T13:15:35.536907Z",
     "shell.execute_reply": "2020-08-27T13:15:35.536124Z",
     "shell.execute_reply.started": "2020-08-27T13:15:35.422057Z"
    }
   },
   "outputs": [],
   "source": [
    "pop = primap_tables_wo['POP_DEMOGR_TOTAL_NET_HISTORY_UN2019P'][1]\n",
    "\n",
    "pop_2000 = pop.loc[pop['Date'] == '2000-01-01']\n",
    "\n",
    "emi_2000 = prm_emi_wo.query('Category == \"IPCM0EL\" and Entity == \"KYOTOGHG (CO2eq)\" and Scenario == \"HISTCR\" and Date == 20000101')"
   ]
  },
  {
   "cell_type": "code",
   "execution_count": null,
   "metadata": {},
   "outputs": [],
   "source": [
    "# plotting needs alignment via MultiIndex again, I don't see a way without"
   ]
  },
  {
   "cell_type": "markdown",
   "metadata": {},
   "source": [
    "Summary w/o MultiIndex: For anything which is aligned, there is no useful way without converting to a MultiIndexed format.\n",
    "Selecting is somewhat better with a plain DataFrame than with a MultiIndexed one especially for deeply linked ones."
   ]
  },
  {
   "cell_type": "code",
   "execution_count": null,
   "metadata": {},
   "outputs": [],
   "source": []
  }
 ],
 "metadata": {
  "kernelspec": {
   "display_name": "Python 3",
   "language": "python",
   "name": "python3"
  },
  "language_info": {
   "codemirror_mode": {
    "name": "ipython",
    "version": 3
   },
   "file_extension": ".py",
   "mimetype": "text/x-python",
   "name": "python",
   "nbconvert_exporter": "python",
   "pygments_lexer": "ipython3",
   "version": "3.8.2"
  },
  "toc-autonumbering": true
 },
 "nbformat": 4,
 "nbformat_minor": 4
}
