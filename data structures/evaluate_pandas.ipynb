{
 "cells": [
  {
   "cell_type": "code",
   "execution_count": 37,
   "metadata": {
    "execution": {
     "iopub.execute_input": "2020-08-24T13:42:11.065756Z",
     "iopub.status.busy": "2020-08-24T13:42:11.065466Z",
     "iopub.status.idle": "2020-08-24T13:42:11.190953Z",
     "shell.execute_reply": "2020-08-24T13:42:11.190309Z",
     "shell.execute_reply.started": "2020-08-24T13:42:11.065730Z"
    }
   },
   "outputs": [],
   "source": [
    "import numpy as np\n",
    "import pandas as pd\n",
    "import pint\n",
    "import pint_pandas\n",
    "import pathlib\n",
    "import tqdm\n",
    "u = pint.UnitRegistry()"
   ]
  },
  {
   "cell_type": "markdown",
   "metadata": {},
   "source": [
    "pandas DataFrame in traditional tidy format:\n",
    "\n",
    "* the index is meaningless (row numbers)\n",
    "* each column contains one variable\n",
    "* each observation forms a row\n",
    "* each type of observational unit forms a DataFrame\n",
    "* columns ordered from fixed variables (left) to measured variables; within each group, alphabetical order\n",
    "* rows ordered using the leftmost variable, breaking ties with variables further right\n",
    "\n",
    "Even given these constraints, there are still some variables in the data representation:\n",
    "\n",
    "* duplicate information (like countrycode and full countryname) in a single DataFrame vs. multiple DataFrames (only countrycode in the DataFrame, second DataFrame maps countrycodes to countrynames)\n",
    "* units as composite types (e.g. pint) vs. units as a variable\n",
    "\n",
    "Because the data structure relies on multiple, possibly joinable DataFrames, there is a need for a container, which is not yet defined."
   ]
  },
  {
   "cell_type": "markdown",
   "metadata": {},
   "source": [
    "## representation\n",
    "* load all example data sets into the data structure at once\n",
    "* measure memory use\n",
    "* export the data sets to CSV\n",
    "* reimport from CSV\n",
    "* export the data sets to some kind of native storage format\n",
    "* reimport from the native storage format"
   ]
  },
  {
   "cell_type": "code",
   "execution_count": 2,
   "metadata": {
    "execution": {
     "iopub.execute_input": "2020-08-24T12:17:29.193806Z",
     "iopub.status.busy": "2020-08-24T12:17:29.193662Z",
     "iopub.status.idle": "2020-08-24T12:17:29.306871Z",
     "shell.execute_reply": "2020-08-24T12:17:29.304070Z",
     "shell.execute_reply.started": "2020-08-24T12:17:29.193790Z"
    }
   },
   "outputs": [
    {
     "name": "stdout",
     "output_type": "stream",
     "text": [
      "Emissions_Agriculture_Agriculture_total_E_All_Data.csv\n",
      "lak-download.csv\n",
      "mole_fraction_of_carbon_dioxide_in_air_input4MIPs_GHGConcentrations_CMIP_UoM-CMIP-1-1-0_gr3-GMNHSH_000001-201412.csv\n",
      "PRIMAPDB.mat\n",
      "PRIMAP-hist_v2.1_09-Nov-2019.csv\n"
     ]
    }
   ],
   "source": [
    "!ls ../../primap-requirements/example_data_sets/"
   ]
  },
  {
   "cell_type": "code",
   "execution_count": 3,
   "metadata": {
    "execution": {
     "iopub.execute_input": "2020-08-24T12:17:29.315408Z",
     "iopub.status.busy": "2020-08-24T12:17:29.313598Z",
     "iopub.status.idle": "2020-08-24T12:17:29.330324Z",
     "shell.execute_reply": "2020-08-24T12:17:29.327375Z",
     "shell.execute_reply.started": "2020-08-24T12:17:29.315199Z"
    }
   },
   "outputs": [],
   "source": [
    "p = pathlib.Path('../../primap-requirements/example_data_sets/')"
   ]
  },
  {
   "cell_type": "markdown",
   "metadata": {
    "execution": {
     "iopub.execute_input": "2020-08-20T16:19:01.889848Z",
     "iopub.status.busy": "2020-08-20T16:19:01.888634Z",
     "iopub.status.idle": "2020-08-20T16:19:02.061860Z",
     "shell.execute_reply": "2020-08-20T16:19:02.061226Z",
     "shell.execute_reply.started": "2020-08-20T16:19:01.889730Z"
    }
   },
   "source": [
    "## read in FAO emissions agriculture total fao_emi_total"
   ]
  },
  {
   "cell_type": "code",
   "execution_count": 4,
   "metadata": {
    "execution": {
     "iopub.execute_input": "2020-08-24T12:17:29.334819Z",
     "iopub.status.busy": "2020-08-24T12:17:29.333692Z",
     "iopub.status.idle": "2020-08-24T12:17:29.980140Z",
     "shell.execute_reply": "2020-08-24T12:17:29.978466Z",
     "shell.execute_reply.started": "2020-08-24T12:17:29.334712Z"
    }
   },
   "outputs": [],
   "source": [
    "years = list(range(1961, 2017)) + [2030, 2050]\n",
    "dtypes = {}\n",
    "for year in years:\n",
    "    dtypes[f'Y{year}'] = np.float\n",
    "\n",
    "dtypes['Area'] = pd.CategoricalDtype(ordered=True)\n",
    "dtypes['Item'] = pd.CategoricalDtype(ordered=True)\n",
    "dtypes['Element'] = pd.CategoricalDtype(ordered=True)\n",
    "\n",
    "fao_emi_total = pd.read_csv(\n",
    "    p / 'Emissions_Agriculture_Agriculture_total_E_All_Data.csv',\n",
    "    encoding='latin_1',\n",
    "    dtype=dtypes,\n",
    "    usecols=dtypes.keys(),\n",
    "    index_col=[0, 1, 2])\n",
    "\n",
    "fao_emi_total = fao_emi_total.stack()\n",
    "\n",
    "fao_emi_total.index = (fao_emi_total.index\n",
    "                       .set_names('Date', level=3)\n",
    "                       .set_levels(pd.to_datetime(fao_emi_total.index.levels[3], format='Y%Y'), level=3)\n",
    "                       .set_levels(fao_emi_total.index.levels[2].str[len('Emissions ('):-1], level=2)\n",
    "                      )\n",
    "\n",
    "fao_emi_total = fao_emi_total.reorder_levels(['Area', 'Date', 'Element', 'Item'])\n",
    "fao_emi_total.sort_index(inplace=True)\n",
    "\n",
    "fao_emi_total.name = 'Emissions'\n",
    "\n",
    "fao_emi_total = fao_emi_total.astype('pint[Gg]')"
   ]
  },
  {
   "cell_type": "code",
   "execution_count": 5,
   "metadata": {
    "execution": {
     "iopub.execute_input": "2020-08-24T12:17:29.982564Z",
     "iopub.status.busy": "2020-08-24T12:17:29.981846Z",
     "iopub.status.idle": "2020-08-24T12:17:30.014903Z",
     "shell.execute_reply": "2020-08-24T12:17:30.012235Z",
     "shell.execute_reply.started": "2020-08-24T12:17:29.982499Z"
    }
   },
   "outputs": [
    {
     "data": {
      "text/plain": [
       "Area         Date        Element  Item                   \n",
       "Afghanistan  1961-01-01  CH4      Agriculture total          285.7793\n",
       "                                  Burning - Crop residues      4.0734\n",
       "                                  Enteric Fermentation       240.6831\n",
       "                                  Manure Management           11.6228\n",
       "                                  Rice Cultivation               29.4\n",
       "                                                               ...   \n",
       "Zimbabwe     2050-01-01  N2O      Crop Residues                1.1978\n",
       "                                  Manure Management            0.3871\n",
       "                                  Manure applied to Soils      0.6348\n",
       "                                  Manure left on Pasture      20.8824\n",
       "                                  Synthetic Fertilizers        3.7159\n",
       "Name: Emissions, Length: 507542, dtype: pint[gigagram]"
      ]
     },
     "execution_count": 5,
     "metadata": {},
     "output_type": "execute_result"
    }
   ],
   "source": [
    "fao_emi_total"
   ]
  },
  {
   "cell_type": "markdown",
   "metadata": {},
   "source": [
    "## read in emission data for German bundesländer lak_emi_energy"
   ]
  },
  {
   "cell_type": "code",
   "execution_count": 6,
   "metadata": {
    "execution": {
     "iopub.execute_input": "2020-08-24T12:17:30.019493Z",
     "iopub.status.busy": "2020-08-24T12:17:30.018754Z",
     "iopub.status.idle": "2020-08-24T12:17:30.051323Z",
     "shell.execute_reply": "2020-08-24T12:17:30.050359Z",
     "shell.execute_reply.started": "2020-08-24T12:17:30.019415Z"
    }
   },
   "outputs": [],
   "source": [
    "dtypes = {}\n",
    "for i in ['Insgesamt', 'Steinkohle', 'Braunkohle', 'Mineralöle und Mineralöl produkte', 'Gase', 'Abfälle (nicht biogen)', 'Andere Energieträger']:\n",
    "    dtypes[i] = np.float\n",
    "dtypes['Land'] = pd.CategoricalDtype(ordered=True)\n",
    "dtypes['Jahr'] = str\n",
    "\n",
    "lak_emi_energy = pd.read_csv(\n",
    "    p / 'lak-download.csv',\n",
    "    encoding='latin_1',\n",
    "    dtype=dtypes,\n",
    "    usecols=dtypes.keys(),\n",
    "    index_col=[0, 1],\n",
    "    sep=';',\n",
    "    skiprows=4,\n",
    "    nrows=464)\n",
    "\n",
    "lak_emi_energy = lak_emi_energy.stack()\n",
    "\n",
    "lak_emi_energy.index = (lak_emi_energy.index\n",
    "                        .set_levels(pd.to_datetime(lak_emi_energy.index.levels[1], format='%Y'), level=1)\n",
    "                        .set_levels(lak_emi_energy.index.levels[2].astype(pd.CategoricalDtype()), level=2)\n",
    "                        .set_names(['Area', 'Date', 'Category'])\n",
    "                       )\n",
    "lak_emi_energy = lak_emi_energy.reorder_levels(['Area', 'Category', 'Date', ])\n",
    "lak_emi_energy.sort_index(inplace=True)\n",
    "lak_emi_energy.name = 'Emissions'\n",
    "lak_emi_energy = lak_emi_energy.astype('pint[kilometric_ton]')"
   ]
  },
  {
   "cell_type": "code",
   "execution_count": 7,
   "metadata": {
    "execution": {
     "iopub.execute_input": "2020-08-24T12:17:30.053548Z",
     "iopub.status.busy": "2020-08-24T12:17:30.053118Z",
     "iopub.status.idle": "2020-08-24T12:17:30.075055Z",
     "shell.execute_reply": "2020-08-24T12:17:30.073383Z",
     "shell.execute_reply.started": "2020-08-24T12:17:30.053509Z"
    }
   },
   "outputs": [
    {
     "data": {
      "text/plain": [
       "Area               Category                Date      \n",
       "Baden-Württemberg  Abfälle (nicht biogen)  1990-01-01     595.6759999999999\n",
       "                                           1991-01-01               533.609\n",
       "                                           1992-01-01              582.9358\n",
       "                                           1993-01-01              582.8823\n",
       "                                           1994-01-01                513.03\n",
       "                                                                ...        \n",
       "Thüringen          Steinkohle              2013-01-01    60.221564691110004\n",
       "                                           2014-01-01      60.3047505431081\n",
       "                                           2015-01-01     55.85147852397861\n",
       "                                           2016-01-01    51.744334669214496\n",
       "                                           2017-01-01    55.785371808505296\n",
       "Name: Emissions, Length: 2713, dtype: pint[kilometric_ton]"
      ]
     },
     "execution_count": 7,
     "metadata": {},
     "output_type": "execute_result"
    }
   ],
   "source": [
    "lak_emi_energy"
   ]
  },
  {
   "cell_type": "markdown",
   "metadata": {},
   "source": [
    "## Read in CO2 mole fraction time series cmip_conc_co2"
   ]
  },
  {
   "cell_type": "code",
   "execution_count": 8,
   "metadata": {
    "execution": {
     "iopub.execute_input": "2020-08-24T12:17:30.079242Z",
     "iopub.status.busy": "2020-08-24T12:17:30.078526Z",
     "iopub.status.idle": "2020-08-24T12:17:30.202347Z",
     "shell.execute_reply": "2020-08-24T12:17:30.199389Z",
     "shell.execute_reply.started": "2020-08-24T12:17:30.079189Z"
    }
   },
   "outputs": [
    {
     "name": "stdout",
     "output_type": "stream",
     "text": [
      "735857,2014,9,15,15-Sep-2014 00:00:00,395.026810069061,394.318660838738,395.734959299383\n",
      "735887,2014,10,15,15-Oct-2014 00:00:00,396.668759675911,397.456652804706,395.880866547116\n",
      "735918,2014,11,15,15-Nov-2014 00:00:00,398.189074185698,400.321219754153,396.056928617242\n",
      "735948,2014,12,15,15-Dec-2014 00:00:00,399.179691756507,402.195087926915,396.164295586098\n"
     ]
    }
   ],
   "source": [
    "!tail -n4 $p/mole_fraction_of_carbon_dioxide_in_air_input4MIPs_GHGConcentrations_CMIP_UoM-CMIP-1-1-0_gr3-GMNHSH_000001-201412.csv"
   ]
  },
  {
   "cell_type": "code",
   "execution_count": 9,
   "metadata": {
    "execution": {
     "iopub.execute_input": "2020-08-24T12:17:30.207414Z",
     "iopub.status.busy": "2020-08-24T12:17:30.206381Z",
     "iopub.status.idle": "2020-08-24T12:17:30.371970Z",
     "shell.execute_reply": "2020-08-24T12:17:30.371525Z",
     "shell.execute_reply.started": "2020-08-24T12:17:30.207282Z"
    }
   },
   "outputs": [],
   "source": [
    "dtypes = {\n",
    "    'data_mean_global': np.float,\n",
    "    'data_mean_nh': np.float,\n",
    "    'data_mean_sh': np.float,\n",
    "}\n",
    "cmip_conc_co2 = pd.read_csv(\n",
    "    p / 'mole_fraction_of_carbon_dioxide_in_air_input4MIPs_GHGConcentrations_CMIP_UoM-CMIP-1-1-0_gr3-GMNHSH_000001-201412.csv',\n",
    "    usecols=dtypes.keys(),\n",
    "    #index_col=[0, 1],\n",
    ")\n",
    "# cannot use datetime here, because the range of possible values reaches back only into the 17th century\n",
    "cmip_conc_co2.index = pd.period_range(start=pd.Period(year=0, month=1, freq='M'), end=pd.Period(year=2014, month=12, freq='M'), name='Date')\n",
    "\n",
    "cmip_conc_co2 = cmip_conc_co2.stack()\n",
    "\n",
    "cmip_conc_co2.index = (cmip_conc_co2.index\n",
    "                       .set_levels(cmip_conc_co2.index.levels[1].str[len('data_mean_'):].astype(pd.CategoricalDtype(ordered=True)), level=1)\n",
    "                       .set_names('Area', level=1)\n",
    "                      )\n",
    "\n",
    "cmip_conc_co2 = cmip_conc_co2.reorder_levels(['Area', 'Date', ])\n",
    "cmip_conc_co2.sort_index(inplace=True)\n",
    "\n",
    "cmip_conc_co2.name = 'CO2 concentration'\n",
    "\n",
    "cmip_conc_co2 = cmip_conc_co2.astype('pint[dimensionless]')\n",
    "cmip_conc_co2 *= 1e-6"
   ]
  },
  {
   "cell_type": "code",
   "execution_count": 10,
   "metadata": {
    "execution": {
     "iopub.execute_input": "2020-08-24T12:17:30.372934Z",
     "iopub.status.busy": "2020-08-24T12:17:30.372713Z",
     "iopub.status.idle": "2020-08-24T12:17:30.383633Z",
     "shell.execute_reply": "2020-08-24T12:17:30.382786Z",
     "shell.execute_reply.started": "2020-08-24T12:17:30.372909Z"
    }
   },
   "outputs": [
    {
     "data": {
      "text/plain": [
       "Area    Date   \n",
       "global  0-01       0.00027836643883702005\n",
       "        0-02         0.000278713058010423\n",
       "        0-03         0.000279013835279965\n",
       "        0-04       0.00027920961334856496\n",
       "        0-05         0.000279106444207592\n",
       "                            ...          \n",
       "sh      2014-08    0.00039577037859628094\n",
       "        2014-09      0.000395734959299383\n",
       "        2014-10      0.000395880866547116\n",
       "        2014-11    0.00039605692861724196\n",
       "        2014-12    0.00039616429558609803\n",
       "Name: CO2 concentration, Length: 72540, dtype: pint[dimensionless]"
      ]
     },
     "execution_count": 10,
     "metadata": {},
     "output_type": "execute_result"
    }
   ],
   "source": [
    "cmip_conc_co2"
   ]
  },
  {
   "cell_type": "markdown",
   "metadata": {},
   "source": [
    "## Read in PRIMAPDB"
   ]
  },
  {
   "cell_type": "code",
   "execution_count": 11,
   "metadata": {
    "execution": {
     "iopub.execute_input": "2020-08-24T12:44:33.205233Z",
     "iopub.status.busy": "2020-08-24T12:44:33.204860Z",
     "iopub.status.idle": "2020-08-24T12:44:34.037939Z",
     "shell.execute_reply": "2020-08-24T12:44:34.037375Z",
     "shell.execute_reply.started": "2020-08-24T12:44:33.205208Z"
    }
   },
   "outputs": [],
   "source": [
    "import read_primapdb as rp"
   ]
  },
  {
   "cell_type": "code",
   "execution_count": 12,
   "metadata": {
    "execution": {
     "iopub.execute_input": "2020-08-24T12:45:52.706744Z",
     "iopub.status.busy": "2020-08-24T12:45:52.705429Z",
     "iopub.status.idle": "2020-08-24T12:45:52.729010Z",
     "shell.execute_reply": "2020-08-24T12:45:52.728160Z",
     "shell.execute_reply.started": "2020-08-24T12:45:52.706616Z"
    }
   },
   "outputs": [],
   "source": [
    "mfh = rp.MatFileHandle.from_matfile(p / 'PRIMAPDB.mat')"
   ]
  },
  {
   "cell_type": "code",
   "execution_count": 86,
   "metadata": {
    "execution": {
     "iopub.execute_input": "2020-08-24T16:49:44.703710Z",
     "iopub.status.busy": "2020-08-24T16:49:44.702917Z",
     "iopub.status.idle": "2020-08-24T16:49:44.718706Z",
     "shell.execute_reply": "2020-08-24T16:49:44.718027Z",
     "shell.execute_reply.started": "2020-08-24T16:49:44.703631Z"
    }
   },
   "outputs": [],
   "source": [
    "def extract_df(sheet):\n",
    "    a, df = rp.primap_sheet_to_pandas(sheet)\n",
    "\n",
    "    df = df.stack()\n",
    "    \n",
    "    index = df.index.to_frame()\n",
    "    index.columns = ['Date', 'Area']\n",
    "    index['Area'] = index['Area'].astype(pd.CategoricalDtype(ordered=True))\n",
    "    \n",
    "    try:\n",
    "        index['Date'] = pd.to_datetime(index['Date'], format='%Y')\n",
    "    except ValueError:  # outside the range of datetime64\n",
    "        index['Date'] = [pd.Period(year=x, freq='Y') for x in index['Date']]\n",
    "    \n",
    "    df.index = pd.MultiIndex.from_frame(index)\n",
    "    \n",
    "    df = df.reorder_levels(['Area', 'Date', ])\n",
    "    df.sort_index(inplace=True)\n",
    "    \n",
    "    df.name = a.pop('entity')\n",
    "\n",
    "    unit = a.pop('unit')    \n",
    "    if unit == 'ThousandPers':\n",
    "        df = df.astype('pint[dimensionless]')\n",
    "        df *= 1000\n",
    "    elif unit == 'Gg':\n",
    "        df = df.astype('pint[gigagram]')\n",
    "    elif unit == 't':\n",
    "        df = df.astype('pint[metric_ton]')\n",
    "    elif unit == 'kt':\n",
    "        df = df.astype('pint[kilometric_ton]')\n",
    "    elif unit == 'GgCO2eq':\n",
    "        df = df.astype('pint[Gg]')\n",
    "        df.name = f'{df.name} (CO2eq)'\n",
    "    elif unit == 'ktC':\n",
    "        df = df.astype('pint[kilometric_ton]')\n",
    "        df.name = f'{df.name} (C)'\n",
    "    elif unit in ('2011GKD/Pers', '2011GKD'):  # give up\n",
    "        df = df.astype('pint[dimensionless]')\n",
    "        df.name = f'{df.name} ({unit})'\n",
    "    elif unit == 'MtCO2eq':\n",
    "        df = df.astype('pint[megametric_ton]')\n",
    "        df.name = f'{df.name} (CO2eq)'\n",
    "    else:\n",
    "        raise ValueError(f'unit={unit}')\n",
    "        \n",
    "    return a, df"
   ]
  },
  {
   "cell_type": "code",
   "execution_count": 87,
   "metadata": {
    "execution": {
     "iopub.execute_input": "2020-08-24T16:49:45.342639Z",
     "iopub.status.busy": "2020-08-24T16:49:45.342301Z",
     "iopub.status.idle": "2020-08-24T16:59:43.005509Z",
     "shell.execute_reply": "2020-08-24T16:59:43.005107Z",
     "shell.execute_reply.started": "2020-08-24T16:49:45.342612Z"
    }
   },
   "outputs": [
    {
     "data": {
      "application/vnd.jupyter.widget-view+json": {
       "model_id": "852a518f03df49e0ae995882a43c120d",
       "version_major": 2,
       "version_minor": 0
      },
      "text/plain": [
       "HBox(children=(IntProgress(value=0, max=4118), HTML(value='')))"
      ]
     },
     "metadata": {},
     "output_type": "display_data"
    }
   ],
   "source": [
    "primap_tables = {}\n",
    "pmd = mfh[\"PRIMAPDB\"][\"mastertable\"][\"datatables\"]\n",
    "for key in tqdm.tqdm_notebook(pmd.group.keys()):\n",
    "    primap_tables[key] = extract_df(pmd[key])"
   ]
  },
  {
   "cell_type": "markdown",
   "metadata": {},
   "source": [
    "## Read in PRIMAP-hist (published)"
   ]
  },
  {
   "cell_type": "code",
   "execution_count": 89,
   "metadata": {
    "execution": {
     "iopub.execute_input": "2020-08-24T17:32:08.660706Z",
     "iopub.status.busy": "2020-08-24T17:32:08.660511Z",
     "iopub.status.idle": "2020-08-24T17:32:08.801366Z",
     "shell.execute_reply": "2020-08-24T17:32:08.799022Z",
     "shell.execute_reply.started": "2020-08-24T17:32:08.660688Z"
    }
   },
   "outputs": [
    {
     "name": "stdout",
     "output_type": "stream",
     "text": [
      "scenario,country,category,entity,unit,1850,1851,1852,1853,1854,1855,1856,1857,1858,1859,1860,1861,1862,1863,1864,1865,1866,1867,1868,1869,1870,1871,1872,1873,1874,1875,1876,1877,1878,1879,1880,1881,1882,1883,1884,1885,1886,1887,1888,1889,1890,1891,1892,1893,1894,1895,1896,1897,1898,1899,1900,1901,1902,1903,1904,1905,1906,1907,1908,1909,1910,1911,1912,1913,1914,1915,1916,1917,1918,1919,1920,1921,1922,1923,1924,1925,1926,1927,1928,1929,1930,1931,1932,1933,1934,1935,1936,1937,1938,1939,1940,1941,1942,1943,1944,1945,1946,1947,1948,1949,1950,1951,1952,1953,1954,1955,1956,1957,1958,1959,1960,1961,1962,1963,1964,1965,1966,1967,1968,1969,1970,1971,1972,1973,1974,1975,1976,1977,1978,1979,1980,1981,1982,1983,1984,1985,1986,1987,1988,1989,1990,1991,1992,1993,1994,1995,1996,1997,1998,1999,2000,2001,2002,2003,2004,2005,2006,2007,2008,2009,2010,2011,2012,2013,2014,2015,2016,2017\n",
      "HISTCR,ABW,IPC1A,CH4,Gg,3.66e-04,3.78e-04,3.90e-04,4.02e-04,4.15e-04,4.28e-04,4.41e-04,4.54e-04,4.68e-04,4.82e-04,4.96e-04,5.10e-04,5.24e-04,5.38e-04,5.53e-04,5.68e-04,5.83e-04,5.98e-04,6.14e-04,6.29e-04,6.45e-04,6.60e-04,6.76e-04,6.93e-04,7.09e-04,7.25e-04,7.42e-04,7.58e-04,7.75e-04,7.92e-04,8.09e-04,8.26e-04,8.43e-04,8.60e-04,8.78e-04,8.95e-04,9.12e-04,9.30e-04,9.48e-04,9.65e-04,1.07e-03,1.11e-03,1.15e-03,1.20e-03,1.25e-03,1.30e-03,1.36e-03,1.41e-03,1.47e-03,1.53e-03,1.60e-03,1.67e-03,1.75e-03,1.83e-03,1.92e-03,2.02e-03,2.11e-03,2.20e-03,2.28e-03,2.36e-03,2.42e-03,2.48e-03,2.53e-03,2.59e-03,2.64e-03,2.69e-03,2.74e-03,2.78e-03,2.81e-03,2.85e-03,2.87e-03,2.90e-03,2.92e-03,2.93e-03,2.95e-03,2.96e-03,2.98e-03,2.99e-03,3.01e-03,3.02e-03,3.04e-03,3.06e-03,3.09e-03,3.11e-03,3.14e-03,3.17e-03,3.20e-03,3.23e-03,3.26e-03,3.28e-03,3.31e-03,3.34e-03,3.36e-03,3.38e-03,3.39e-03,3.41e-03,3.43e-03,3.46e-03,3.49e-03,3.52e-03,3.56e-03,3.64e-03,3.77e-03,3.94e-03,4.15e-03,4.39e-03,4.64e-03,4.91e-03,5.18e-03,5.45e-03,5.70e-03,5.97e-03,6.29e-03,6.64e-03,7.00e-03,7.36e-03,7.69e-03,7.98e-03,8.21e-03,8.37e-03,8.48e-03,8.48e-03,8.38e-03,8.91e-03,8.79e-03,9.72e-03,2.44e-02,2.43e-02,6.20e-02,8.22e-02,1.14e-01,8.48e-02,9.93e-02,9.54e-02,1.10e-01,1.25e-01,9.54e-02,1.16e-01,1.03e-01,1.01e-01,1.06e-01,1.13e-01,1.32e-01,1.35e-01,1.48e-01,1.51e-01,2.07e-02,2.60e-02,4.94e-02,5.13e-02,1.92e-01,1.99e-01,1.97e-01,2.02e-01,1.84e-01,1.87e-01,1.91e-01,2.23e-01,2.34e-01,2.39e-01,2.46e-01,2.43e-01,2.43e-01,2.80e-01,2.91e-01,3.02e-01,3.14e-01,3.25e-01\n",
      "HISTCR,AFG,IPC1A,CH4,Gg,3.17e-02,3.19e-02,3.21e-02,3.23e-02,3.24e-02,3.26e-02,3.28e-02,3.30e-02,3.32e-02,3.34e-02,3.36e-02,3.38e-02,3.40e-02,3.42e-02,3.44e-02,3.46e-02,3.48e-02,3.50e-02,3.52e-02,3.54e-02,3.57e-02,3.59e-02,3.61e-02,3.63e-02,3.65e-02,3.68e-02,3.70e-02,3.72e-02,3.74e-02,3.77e-02,3.79e-02,3.81e-02,3.84e-02,3.86e-02,3.88e-02,3.91e-02,3.93e-02,3.95e-02,3.98e-02,4.00e-02,4.50e-02,4.66e-02,4.84e-02,5.03e-02,5.24e-02,5.46e-02,5.70e-02,5.95e-02,6.21e-02,6.48e-02,6.76e-02,7.07e-02,7.43e-02,7.82e-02,8.24e-02,8.66e-02,9.09e-02,9.50e-02,9.90e-02,1.03e-01,1.06e-01,1.08e-01,1.11e-01,1.13e-01,1.15e-01,1.17e-01,1.19e-01,1.21e-01,1.23e-01,1.26e-01,1.28e-01,1.31e-01,1.33e-01,1.36e-01,1.38e-01,1.41e-01,1.44e-01,1.47e-01,1.51e-01,1.56e-01,1.62e-01,1.72e-01,1.91e-01,2.16e-01,2.47e-01,2.81e-01,3.17e-01,3.54e-01,3.91e-01,4.25e-01,4.55e-01,4.84e-01,5.13e-01,5.42e-01,5.71e-01,6.00e-01,6.28e-01,6.54e-01,6.79e-01,7.02e-01,7.22e-01,7.40e-01,7.54e-01,7.66e-01,7.78e-01,7.89e-01,8.00e-01,8.13e-01,8.29e-01,8.49e-01,8.72e-01,9.23e-01,1.02e+00,1.14e+00,1.28e+00,1.43e+00,1.58e+00,1.71e+00,1.82e+00,1.89e+00,2.56e+00,2.66e+00,2.43e+00,2.71e+00,3.05e+00,2.43e+00,2.45e+00,2.89e+00,3.11e+00,2.74e+00,5.11e+00,5.20e+00,4.90e+00,4.89e+00,4.75e+00,4.09e+00,3.81e+00,3.96e+00,3.94e+00,3.88e+00,4.05e+00,3.79e+00,3.42e+00,3.59e+00,3.86e+00,5.93e+00,7.00e+00,7.25e+00,7.49e+00,7.57e+00,7.58e+00,7.05e+00,8.02e+00,8.49e+00,8.63e+00,9.05e+00,9.17e+00,9.16e+00,9.98e+00,1.08e+01,1.12e+01,1.18e+01,1.20e+01,1.20e+01,1.23e+01,1.27e+01,1.30e+01,1.34e+01\n"
     ]
    }
   ],
   "source": [
    "!head -n3 $p/PRIMAP-hist_v2.1_09-Nov-2019.csv"
   ]
  },
  {
   "cell_type": "code",
   "execution_count": 182,
   "metadata": {
    "execution": {
     "iopub.execute_input": "2020-08-24T18:07:02.617276Z",
     "iopub.status.busy": "2020-08-24T18:07:02.616448Z",
     "iopub.status.idle": "2020-08-24T18:07:16.273183Z",
     "shell.execute_reply": "2020-08-24T18:07:16.272669Z",
     "shell.execute_reply.started": "2020-08-24T18:07:02.617200Z"
    }
   },
   "outputs": [],
   "source": [
    "dtypes = {\n",
    "    'scenario': str,\n",
    "    'country': str,\n",
    "    'category': str,\n",
    "    'entity': str,\n",
    "    'unit': str,\n",
    "}\n",
    "for year in range(1850, 2018):\n",
    "    dtypes[str(year)] = np.float64\n",
    "    \n",
    "prm_emi = pd.read_csv(\n",
    "    p / 'PRIMAP-hist_v2.1_09-Nov-2019.csv',\n",
    "    usecols=dtypes.keys(),\n",
    "    index_col=[0, 1, 2, 3, 4],\n",
    ")\n",
    "\n",
    "prm_emi = prm_emi.stack()\n",
    "\n",
    "index = prm_emi.index.to_frame()\n",
    "index.columns = ['Scenario', 'Area', 'Category', 'Entity', 'Unit', 'Date']\n",
    "index['Date'] = pd.to_datetime(index['Date'], format='%Y')\n",
    "index.loc[index['Unit'] == 'GgCO2eq', 'Entity'] += ' (CO2eq)'\n",
    "index = index.drop('Unit', axis='columns')\n",
    "\n",
    "prm_emi.index = pd.MultiIndex.from_frame(index)\n",
    "prm_emi = prm_emi.reorder_levels(['Area', 'Category', 'Date', 'Entity', 'Scenario'])\n",
    "prm_emi.sort_index(inplace=True)\n",
    "prm_emi.name = 'Emissions'\n",
    "prm_emi = prm_emi.astype('pint[Gg]')"
   ]
  },
  {
   "cell_type": "code",
   "execution_count": 185,
   "metadata": {
    "execution": {
     "iopub.execute_input": "2020-08-24T18:07:45.970549Z",
     "iopub.status.busy": "2020-08-24T18:07:45.969864Z",
     "iopub.status.idle": "2020-08-24T18:07:45.989730Z",
     "shell.execute_reply": "2020-08-24T18:07:45.989079Z",
     "shell.execute_reply.started": "2020-08-24T18:07:45.970475Z"
    }
   },
   "outputs": [
    {
     "data": {
      "text/plain": [
       "Area  Category   Date        Entity               Scenario\n",
       "ABW   IPC1       1850-01-01  CH4                  HISTCR      0.00038700000000000003\n",
       "                                                  HISTTP      0.00038700000000000003\n",
       "                             CO2                  HISTCR                        40.3\n",
       "                                                  HISTTP                        40.3\n",
       "                             KYOTOGHG (CO2eq)     HISTCR                        40.3\n",
       "                                                                       ...          \n",
       "ZWE   IPCMAGELV  2017-01-01  KYOTOGHG (CO2eq)     HISTTP                      6630.0\n",
       "                             KYOTOGHGAR4 (CO2eq)  HISTCR                      6040.0\n",
       "                                                  HISTTP                      6640.0\n",
       "                             N2O                  HISTCR                        15.6\n",
       "                                                  HISTTP                        17.6\n",
       "Name: Emissions, Length: 4990924, dtype: pint[gigagram]"
      ]
     },
     "execution_count": 185,
     "metadata": {},
     "output_type": "execute_result"
    }
   ],
   "source": [
    "prm_emi"
   ]
  },
  {
   "cell_type": "markdown",
   "metadata": {},
   "source": [
    "# Measure memory use"
   ]
  },
  {
   "cell_type": "code",
   "execution_count": 200,
   "metadata": {
    "execution": {
     "iopub.execute_input": "2020-08-24T18:12:15.010193Z",
     "iopub.status.busy": "2020-08-24T18:12:15.009388Z",
     "iopub.status.idle": "2020-08-24T18:12:15.262957Z",
     "shell.execute_reply": "2020-08-24T18:12:15.259247Z",
     "shell.execute_reply.started": "2020-08-24T18:12:15.010096Z"
    }
   },
   "outputs": [],
   "source": [
    "!mkdir -p mem"
   ]
  },
  {
   "cell_type": "code",
   "execution_count": 203,
   "metadata": {
    "execution": {
     "iopub.execute_input": "2020-08-24T18:15:24.670327Z",
     "iopub.status.busy": "2020-08-24T18:15:24.669264Z",
     "iopub.status.idle": "2020-08-24T18:15:27.776776Z",
     "shell.execute_reply": "2020-08-24T18:15:27.775905Z",
     "shell.execute_reply.started": "2020-08-24T18:15:24.670211Z"
    }
   },
   "outputs": [],
   "source": [
    "import pickle\n",
    "\n",
    "for fpath, obj in (\n",
    "    ('fao_emi_total.pck', fao_emi_total),\n",
    "    ('lak_emi_energy.pck', lak_emi_energy),\n",
    "    ('cmip_conc_co2.pck', cmip_conc_co2),\n",
    "    ('primap_tables.pck', primap_tables),\n",
    "    ('prm_emi.pck', prm_emi), \n",
    "):\n",
    "    with open(f'mem/{fpath}', 'wb') as fd:\n",
    "        pickle.dump(obj, fd, -1)"
   ]
  },
  {
   "cell_type": "code",
   "execution_count": 204,
   "metadata": {
    "execution": {
     "iopub.execute_input": "2020-08-24T18:15:28.837598Z",
     "iopub.status.busy": "2020-08-24T18:15:28.837303Z",
     "iopub.status.idle": "2020-08-24T18:15:29.089372Z",
     "shell.execute_reply": "2020-08-24T18:15:29.086709Z",
     "shell.execute_reply.started": "2020-08-24T18:15:28.837577Z"
    }
   },
   "outputs": [
    {
     "name": "stdout",
     "output_type": "stream",
     "text": [
      "total 320M\n",
      "drwxrwxr-x 2 pflueger pflueger 4,0K Aug 24 20:15 .\n",
      "drwxrwxr-x 5 pflueger pflueger 4,0K Aug 24 20:15 ..\n",
      "-rw-rw-r-- 1 pflueger pflueger 1,2M Aug 24 20:15 cmip_conc_co2.pck\n",
      "-rw-rw-r-- 1 pflueger pflueger 8,8M Aug 24 20:15 fao_emi_total.pck\n",
      "-rw-rw-r-- 1 pflueger pflueger  40K Aug 24 20:15 lak_emi_energy.pck\n",
      "-rw-rw-r-- 1 pflueger pflueger 205M Aug 24 20:15 primap_tables.pck\n",
      "-rw-rw-r-- 1 pflueger pflueger 105M Aug 24 20:15 prm_emi.pck\n"
     ]
    }
   ],
   "source": [
    "!ls -lah mem/"
   ]
  },
  {
   "cell_type": "code",
   "execution_count": 205,
   "metadata": {
    "execution": {
     "iopub.execute_input": "2020-08-24T18:15:59.541962Z",
     "iopub.status.busy": "2020-08-24T18:15:59.541077Z",
     "iopub.status.idle": "2020-08-24T18:15:59.799294Z",
     "shell.execute_reply": "2020-08-24T18:15:59.798738Z",
     "shell.execute_reply.started": "2020-08-24T18:15:59.541872Z"
    }
   },
   "outputs": [
    {
     "name": "stdout",
     "output_type": "stream",
     "text": [
      "total 308M\n",
      "drwxrwxr-x 2 pflueger pflueger 4,0K Aug 21 15:35 \u001b[0m\u001b[01;34m.\u001b[0m/\n",
      "drwxrwxr-x 5 pflueger pflueger 4,0K Aug 21 15:35 \u001b[01;34m..\u001b[0m/\n",
      "-rw-rw-r-- 1 pflueger pflueger  10M Aug 28  2019 Emissions_Agriculture_Agriculture_total_E_All_Data.csv\n",
      "-rw-rw---- 1 pflueger pflueger   41 Aug 19 18:34 .gitattributes\n",
      "-rw-rw-r-- 1 pflueger pflueger  52K Aug 19 11:08 lak-download.csv\n",
      "-rw-rw-r-- 1 pflueger pflueger 2,1M Aug 21 09:54 mole_fraction_of_carbon_dioxide_in_air_input4MIPs_GHGConcentrations_CMIP_UoM-CMIP-1-1-0_gr3-GMNHSH_000001-201412.csv\n",
      "-rw-rw-r-- 1 pflueger pflueger 254M Aug 12 08:44 PRIMAPDB.mat\n",
      "-rw-r--r-- 1 pflueger pflueger  44M Nov  9  2019 PRIMAP-hist_v2.1_09-Nov-2019.csv\n"
     ]
    }
   ],
   "source": [
    "ls -lah $p"
   ]
  },
  {
   "cell_type": "code",
   "execution_count": null,
   "metadata": {},
   "outputs": [],
   "source": []
  }
 ],
 "metadata": {
  "kernelspec": {
   "display_name": "Python 3",
   "language": "python",
   "name": "python3"
  },
  "language_info": {
   "codemirror_mode": {
    "name": "ipython",
    "version": 3
   },
   "file_extension": ".py",
   "mimetype": "text/x-python",
   "name": "python",
   "nbconvert_exporter": "python",
   "pygments_lexer": "ipython3",
   "version": "3.8.2"
  }
 },
 "nbformat": 4,
 "nbformat_minor": 4
}
